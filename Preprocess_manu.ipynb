{
 "cells": [
  {
   "cell_type": "code",
   "execution_count": 3,
   "id": "e378f7c5-dbf2-411b-84f7-808af6aeee45",
   "metadata": {},
   "outputs": [],
   "source": [
    "#Import Libraries\n",
    "\n",
    "\n",
    "import glob\n",
    "import tqdm\n",
    "import os\n",
    "import cv2\n",
    "import numpy as np\n"
   ]
  },
  {
   "cell_type": "code",
   "execution_count": 4,
   "id": "7f47a84e-f0a6-4bbc-9734-9c6bf70ecdbf",
   "metadata": {},
   "outputs": [],
   "source": [
    "#Set data path and define variables \n",
    "\n",
    "# Set the path to your dataset directory\n",
    "DATASET_PATH = r'C:\\Users\\manuv\\Violence-Detection-With-Human-Skeletons\\data'\n",
    "\n",
    "# Use glob to search for all .avi video files in the subdirectories of the dataset\n",
    "videos = glob.glob(os.path.join(DATASET_PATH, '*/*/*.avi'), recursive=True)\n",
    "\n",
    "# Gamma value for gamma correction (set to < 0 for no correction)\n",
    "GAMMA = 0.67  # if GAMMA < 0, no gamma correction will be applied\n",
    "\n",
    "# Precompute a gamma correction table for faster processing\n",
    "gamma_table = np.array([((i / 255.0) ** GAMMA) * 255 for i in np.arange(0, 256)]).astype(\"uint8\")\n"
   ]
  },
  {
   "cell_type": "code",
   "execution_count": 5,
   "id": "d7311810-8b55-4bd7-8715-ffa4ab863ede",
   "metadata": {},
   "outputs": [],
   "source": [
    "#Define process-gamma function\n",
    "\n",
    "def process_gamma(video_name):\n",
    "    \"\"\"\n",
    "    Apply gamma correction to the video and save the output to a new file.\n",
    "    \n",
    "    Args:\n",
    "    video_name (str): Path to the input video file.\n",
    "    \"\"\"\n",
    "    # Open the video file for reading\n",
    "    cap = cv2.VideoCapture(video_name)\n",
    "    \n",
    "    # Get video properties (fps, width, height) to configure the output video\n",
    "    fps = int(cap.get(cv2.CAP_PROP_FPS))\n",
    "    width = int(cap.get(cv2.CAP_PROP_FRAME_WIDTH))\n",
    "    height = int(cap.get(cv2.CAP_PROP_FRAME_HEIGHT))\n",
    "\n",
    "    # Define the codec and create a VideoWriter to save the corrected video\n",
    "    fourcc = cv2.VideoWriter_fourcc(*'XVID')\n",
    "    out = cv2.VideoWriter(f\"{video_name.replace('original_data', 'gamma_data')[:-4]}.avi\", fourcc, fps, (width, height))\n",
    "\n",
    "    # Read and process each frame of the video\n",
    "    while cap.isOpened():\n",
    "        ret, frame = cap.read()\n",
    "        if not ret:\n",
    "            break  # Exit if no more frames are available\n",
    "        \n",
    "        # Apply gamma correction using the precomputed lookup table\n",
    "        frame = cv2.LUT(frame, gamma_table)\n",
    "        \n",
    "        # Write the corrected frame to the output video\n",
    "        out.write(frame)\n",
    "\n",
    "    # Release resources\n",
    "    cap.release()\n",
    "    out.release()\n",
    "    cv2.destroyAllWindows()\n"
   ]
  },
  {
   "cell_type": "code",
   "execution_count": 6,
   "id": "0e946376-7dd3-49d7-addb-ee28f2cf3abd",
   "metadata": {},
   "outputs": [
    {
     "name": "stderr",
     "output_type": "stream",
     "text": [
      "  0%|                                                                                 | 3/1989 [00:00<01:34, 21.05it/s]"
     ]
    },
    {
     "name": "stdout",
     "output_type": "stream",
     "text": [
      "Processing video: C:\\Users\\manuv\\Violence-Detection-With-Human-Skeletons\\data\\train\\Fight\\-1l5631l3fg_0.avi\n",
      "Processing video: C:\\Users\\manuv\\Violence-Detection-With-Human-Skeletons\\data\\train\\Fight\\-1l5631l3fg_1.avi\n",
      "Processing video: C:\\Users\\manuv\\Violence-Detection-With-Human-Skeletons\\data\\train\\Fight\\-1l5631l3fg_2.avi\n",
      "Processing video: C:\\Users\\manuv\\Violence-Detection-With-Human-Skeletons\\data\\train\\Fight\\0H2s9UJcNJ0_0.avi\n",
      "Processing video: C:\\Users\\manuv\\Violence-Detection-With-Human-Skeletons\\data\\train\\Fight\\0H2s9UJcNJ0_2.avi\n",
      "Processing video: C:\\Users\\manuv\\Violence-Detection-With-Human-Skeletons\\data\\train\\Fight\\0H2s9UJcNJ0_3.avi\n"
     ]
    },
    {
     "name": "stderr",
     "output_type": "stream",
     "text": [
      "  0%|▏                                                                                | 6/1989 [00:00<02:49, 11.72it/s]"
     ]
    },
    {
     "name": "stdout",
     "output_type": "stream",
     "text": [
      "Processing video: C:\\Users\\manuv\\Violence-Detection-With-Human-Skeletons\\data\\train\\Fight\\0H2s9UJcNJ0_4.avi\n",
      "Processing video: C:\\Users\\manuv\\Violence-Detection-With-Human-Skeletons\\data\\train\\Fight\\0H2s9UJcNJ0_5.avi\n"
     ]
    },
    {
     "name": "stderr",
     "output_type": "stream",
     "text": [
      "  1%|▍                                                                               | 10/1989 [00:00<02:50, 11.61it/s]"
     ]
    },
    {
     "name": "stdout",
     "output_type": "stream",
     "text": [
      "Processing video: C:\\Users\\manuv\\Violence-Detection-With-Human-Skeletons\\data\\train\\Fight\\0lHQ2f0d_0.avi\n",
      "Processing video: C:\\Users\\manuv\\Violence-Detection-With-Human-Skeletons\\data\\train\\Fight\\0lHQ2f0d_1.avi\n",
      "Processing video: C:\\Users\\manuv\\Violence-Detection-With-Human-Skeletons\\data\\train\\Fight\\0lHQ2f0d_2.avi\n",
      "Processing video: C:\\Users\\manuv\\Violence-Detection-With-Human-Skeletons\\data\\train\\Fight\\0lHQ2f0d_3.avi\n"
     ]
    },
    {
     "name": "stderr",
     "output_type": "stream",
     "text": [
      "  1%|▌                                                                               | 14/1989 [00:01<02:30, 13.12it/s]"
     ]
    },
    {
     "name": "stdout",
     "output_type": "stream",
     "text": [
      "Processing video: C:\\Users\\manuv\\Violence-Detection-With-Human-Skeletons\\data\\train\\Fight\\0NWz-01A2yk_0.avi\n",
      "Processing video: C:\\Users\\manuv\\Violence-Detection-With-Human-Skeletons\\data\\train\\Fight\\0NWz-01A2yk_1.avi\n",
      "Processing video: C:\\Users\\manuv\\Violence-Detection-With-Human-Skeletons\\data\\train\\Fight\\0TFi8D8IBg4_1.avi\n"
     ]
    },
    {
     "name": "stderr",
     "output_type": "stream",
     "text": [
      "  1%|▋                                                                               | 16/1989 [00:01<02:27, 13.38it/s]"
     ]
    },
    {
     "name": "stdout",
     "output_type": "stream",
     "text": [
      "Processing video: C:\\Users\\manuv\\Violence-Detection-With-Human-Skeletons\\data\\train\\Fight\\0vasozvJYvk_0.avi\n",
      "Processing video: C:\\Users\\manuv\\Violence-Detection-With-Human-Skeletons\\data\\train\\Fight\\0_DzLlklZa0_3.avi\n",
      "Processing video: C:\\Users\\manuv\\Violence-Detection-With-Human-Skeletons\\data\\train\\Fight\\0_DzLlklZa0_4.avi\n"
     ]
    },
    {
     "name": "stderr",
     "output_type": "stream",
     "text": [
      "  1%|▋                                                                               | 18/1989 [00:01<02:49, 11.60it/s]"
     ]
    },
    {
     "name": "stdout",
     "output_type": "stream",
     "text": [
      "Processing video: C:\\Users\\manuv\\Violence-Detection-With-Human-Skeletons\\data\\train\\Fight\\0_DzLlklZa0_5.avi\n",
      "Processing video: C:\\Users\\manuv\\Violence-Detection-With-Human-Skeletons\\data\\train\\Fight\\0_DzLlklZa0_6.avi\n"
     ]
    },
    {
     "name": "stderr",
     "output_type": "stream",
     "text": [
      "  1%|▊                                                                               | 20/1989 [00:01<03:10, 10.31it/s]"
     ]
    },
    {
     "name": "stdout",
     "output_type": "stream",
     "text": [
      "Processing video: C:\\Users\\manuv\\Violence-Detection-With-Human-Skeletons\\data\\train\\Fight\\1060314╤äΓòò╨╜╤à╨│╨▓╤à╨┤╨╣╤å╨⌐╨»╤ë╨û╨╗╤ë╨⌐╨▓╤å╨É╨╡╤ê╨╕Γòæ╤à╨╛╨┤╤å╨¬Γöñ╤à╨Ü╨½╤äΓòæ╨¢╤äΓòùΓòó╤ÅΓò¥╨ÿ╤à╨¥╨«╤ë╨ù╨í╤àΓöéΓûæ╤ÅΓò¥╨Ö_17.avi\n",
      "Processing video: C:\\Users\\manuv\\Violence-Detection-With-Human-Skeletons\\data\\train\\Fight\\1dsLuL5Lvbc_0.avi\n"
     ]
    },
    {
     "name": "stderr",
     "output_type": "stream",
     "text": [
      "  1%|▉                                                                               | 23/1989 [00:02<03:41,  8.86it/s]"
     ]
    },
    {
     "name": "stdout",
     "output_type": "stream",
     "text": [
      "Processing video: C:\\Users\\manuv\\Violence-Detection-With-Human-Skeletons\\data\\train\\Fight\\1dsLuL5Lvbc_1.avi\n",
      "Processing video: C:\\Users\\manuv\\Violence-Detection-With-Human-Skeletons\\data\\train\\Fight\\1dsLuL5Lvbc_2.avi\n"
     ]
    },
    {
     "name": "stderr",
     "output_type": "stream",
     "text": [
      "  1%|█                                                                               | 25/1989 [00:02<03:48,  8.60it/s]"
     ]
    },
    {
     "name": "stdout",
     "output_type": "stream",
     "text": [
      "Processing video: C:\\Users\\manuv\\Violence-Detection-With-Human-Skeletons\\data\\train\\Fight\\1dsLuL5Lvbc_3.avi\n",
      "Processing video: C:\\Users\\manuv\\Violence-Detection-With-Human-Skeletons\\data\\train\\Fight\\1DwRGRND_0.avi\n",
      "Processing video: C:\\Users\\manuv\\Violence-Detection-With-Human-Skeletons\\data\\train\\Fight\\1DwRGRND_1.avi\n"
     ]
    },
    {
     "name": "stderr",
     "output_type": "stream",
     "text": [
      "  1%|█                                                                               | 27/1989 [00:02<03:09, 10.37it/s]"
     ]
    },
    {
     "name": "stdout",
     "output_type": "stream",
     "text": [
      "Processing video: C:\\Users\\manuv\\Violence-Detection-With-Human-Skeletons\\data\\train\\Fight\\1O4KGHbRt3M_0.avi\n",
      "Processing video: C:\\Users\\manuv\\Violence-Detection-With-Human-Skeletons\\data\\train\\Fight\\1O4KGHbRt3M_1.avi\n"
     ]
    },
    {
     "name": "stderr",
     "output_type": "stream",
     "text": [
      "  1%|█▏                                                                              | 29/1989 [00:02<03:22,  9.67it/s]"
     ]
    },
    {
     "name": "stdout",
     "output_type": "stream",
     "text": [
      "Processing video: C:\\Users\\manuv\\Violence-Detection-With-Human-Skeletons\\data\\train\\Fight\\1O4KGHbRt3M_2.avi\n",
      "Processing video: C:\\Users\\manuv\\Violence-Detection-With-Human-Skeletons\\data\\train\\Fight\\1O4KGHbRt3M_3.avi\n"
     ]
    },
    {
     "name": "stderr",
     "output_type": "stream",
     "text": [
      "  2%|█▎                                                                              | 32/1989 [00:03<03:36,  9.03it/s]"
     ]
    },
    {
     "name": "stdout",
     "output_type": "stream",
     "text": [
      "Processing video: C:\\Users\\manuv\\Violence-Detection-With-Human-Skeletons\\data\\train\\Fight\\1O4KGHbRt3M_4.avi\n",
      "Processing video: C:\\Users\\manuv\\Violence-Detection-With-Human-Skeletons\\data\\train\\Fight\\1r0Wz04q_0.avi\n"
     ]
    },
    {
     "name": "stderr",
     "output_type": "stream",
     "text": [
      "  2%|█▎                                                                              | 34/1989 [00:03<03:12, 10.17it/s]"
     ]
    },
    {
     "name": "stdout",
     "output_type": "stream",
     "text": [
      "Processing video: C:\\Users\\manuv\\Violence-Detection-With-Human-Skeletons\\data\\train\\Fight\\1tU4kxa51vw_1.avi\n",
      "Processing video: C:\\Users\\manuv\\Violence-Detection-With-Human-Skeletons\\data\\train\\Fight\\1XFiS6Lt_0.avi\n",
      "Processing video: C:\\Users\\manuv\\Violence-Detection-With-Human-Skeletons\\data\\train\\Fight\\1XFiS6Lt_1.avi\n"
     ]
    },
    {
     "name": "stderr",
     "output_type": "stream",
     "text": [
      "  2%|█▌                                                                              | 38/1989 [00:03<03:01, 10.73it/s]"
     ]
    },
    {
     "name": "stdout",
     "output_type": "stream",
     "text": [
      "Processing video: C:\\Users\\manuv\\Violence-Detection-With-Human-Skeletons\\data\\train\\Fight\\20130506 05_58 ╤ê╨º╨¡╤äΓòæΓòæ ╤ëΓòù╨í╤å╨«╨¡_37.avi\n",
      "Processing video: C:\\Users\\manuv\\Violence-Detection-With-Human-Skeletons\\data\\train\\Fight\\24E0xYYUz44_0.avi\n"
     ]
    },
    {
     "name": "stderr",
     "output_type": "stream",
     "text": [
      "  2%|█▌                                                                              | 40/1989 [00:03<02:45, 11.80it/s]"
     ]
    },
    {
     "name": "stdout",
     "output_type": "stream",
     "text": [
      "Processing video: C:\\Users\\manuv\\Violence-Detection-With-Human-Skeletons\\data\\train\\Fight\\24E0xYYUz44_1.avi\n",
      "Processing video: C:\\Users\\manuv\\Violence-Detection-With-Human-Skeletons\\data\\train\\Fight\\24E0xYYUz44_2.avi\n",
      "Processing video: C:\\Users\\manuv\\Violence-Detection-With-Human-Skeletons\\data\\train\\Fight\\24E0xYYUz44_3.avi\n",
      "Processing video: C:\\Users\\manuv\\Violence-Detection-With-Human-Skeletons\\data\\train\\Fight\\24E0xYYUz44_4.avi\n"
     ]
    },
    {
     "name": "stderr",
     "output_type": "stream",
     "text": [
      "  2%|█▊                                                                              | 44/1989 [00:04<02:40, 12.15it/s]"
     ]
    },
    {
     "name": "stdout",
     "output_type": "stream",
     "text": [
      "Processing video: C:\\Users\\manuv\\Violence-Detection-With-Human-Skeletons\\data\\train\\Fight\\24E0xYYUz44_5.avi\n",
      "Processing video: C:\\Users\\manuv\\Violence-Detection-With-Human-Skeletons\\data\\train\\Fight\\24E0xYYUz44_6.avi\n",
      "Processing video: C:\\Users\\manuv\\Violence-Detection-With-Human-Skeletons\\data\\train\\Fight\\24E0xYYUz44_7.avi\n"
     ]
    },
    {
     "name": "stderr",
     "output_type": "stream",
     "text": [
      "  2%|█▊                                                                              | 46/1989 [00:04<02:37, 12.33it/s]"
     ]
    },
    {
     "name": "stdout",
     "output_type": "stream",
     "text": [
      "Processing video: C:\\Users\\manuv\\Violence-Detection-With-Human-Skeletons\\data\\train\\Fight\\2hQMRq06NJs_0.avi\n",
      "Processing video: C:\\Users\\manuv\\Violence-Detection-With-Human-Skeletons\\data\\train\\Fight\\2sy_eLpH-PI_0.avi\n",
      "Processing video: C:\\Users\\manuv\\Violence-Detection-With-Human-Skeletons\\data\\train\\Fight\\2sy_eLpH-PI_1.avi\n"
     ]
    },
    {
     "name": "stderr",
     "output_type": "stream",
     "text": [
      "  3%|██                                                                              | 50/1989 [00:04<02:45, 11.71it/s]"
     ]
    },
    {
     "name": "stdout",
     "output_type": "stream",
     "text": [
      "Processing video: C:\\Users\\manuv\\Violence-Detection-With-Human-Skeletons\\data\\train\\Fight\\3CQi0ZCCHvc_0.avi\n",
      "Processing video: C:\\Users\\manuv\\Violence-Detection-With-Human-Skeletons\\data\\train\\Fight\\3CQi0ZCCHvc_1.avi\n",
      "Processing video: C:\\Users\\manuv\\Violence-Detection-With-Human-Skeletons\\data\\train\\Fight\\3CQi0ZCCHvc_2.avi\n"
     ]
    },
    {
     "name": "stderr",
     "output_type": "stream",
     "text": [
      "  3%|██                                                                              | 52/1989 [00:04<02:34, 12.56it/s]"
     ]
    },
    {
     "name": "stdout",
     "output_type": "stream",
     "text": [
      "Processing video: C:\\Users\\manuv\\Violence-Detection-With-Human-Skeletons\\data\\train\\Fight\\3kpviz7lAMY_0.avi\n",
      "Processing video: C:\\Users\\manuv\\Violence-Detection-With-Human-Skeletons\\data\\train\\Fight\\3kpviz7lAMY_1.avi\n",
      "Processing video: C:\\Users\\manuv\\Violence-Detection-With-Human-Skeletons\\data\\train\\Fight\\3kpviz7lAMY_2.avi\n"
     ]
    },
    {
     "name": "stderr",
     "output_type": "stream",
     "text": [
      "  3%|██▎                                                                             | 56/1989 [00:05<02:31, 12.80it/s]"
     ]
    },
    {
     "name": "stdout",
     "output_type": "stream",
     "text": [
      "Processing video: C:\\Users\\manuv\\Violence-Detection-With-Human-Skeletons\\data\\train\\Fight\\3kpviz7lAMY_3.avi\n",
      "Processing video: C:\\Users\\manuv\\Violence-Detection-With-Human-Skeletons\\data\\train\\Fight\\3kpviz7lAMY_4.avi\n",
      "Processing video: C:\\Users\\manuv\\Violence-Detection-With-Human-Skeletons\\data\\train\\Fight\\3OKArbzg1uc_0.avi\n"
     ]
    },
    {
     "name": "stderr",
     "output_type": "stream",
     "text": [
      "  3%|██▎                                                                             | 58/1989 [00:05<02:50, 11.34it/s]"
     ]
    },
    {
     "name": "stdout",
     "output_type": "stream",
     "text": [
      "Processing video: C:\\Users\\manuv\\Violence-Detection-With-Human-Skeletons\\data\\train\\Fight\\3OKArbzg1uc_1.avi\n",
      "Processing video: C:\\Users\\manuv\\Violence-Detection-With-Human-Skeletons\\data\\train\\Fight\\3OKArbzg1uc_2.avi\n"
     ]
    },
    {
     "name": "stderr",
     "output_type": "stream",
     "text": [
      "  3%|██▍                                                                             | 60/1989 [00:05<03:04, 10.46it/s]"
     ]
    },
    {
     "name": "stdout",
     "output_type": "stream",
     "text": [
      "Processing video: C:\\Users\\manuv\\Violence-Detection-With-Human-Skeletons\\data\\train\\Fight\\3OKArbzg1uc_3.avi\n",
      "Processing video: C:\\Users\\manuv\\Violence-Detection-With-Human-Skeletons\\data\\train\\Fight\\3OKArbzg1uc_4.avi\n",
      "Processing video: C:\\Users\\manuv\\Violence-Detection-With-Human-Skeletons\\data\\train\\Fight\\3SS0E4SmTk8_0.avi\n"
     ]
    },
    {
     "name": "stderr",
     "output_type": "stream",
     "text": [
      "  3%|██▍                                                                             | 62/1989 [00:05<03:11, 10.05it/s]"
     ]
    },
    {
     "name": "stdout",
     "output_type": "stream",
     "text": [
      "Processing video: C:\\Users\\manuv\\Violence-Detection-With-Human-Skeletons\\data\\train\\Fight\\3SS0E4SmTk8_1.avi\n",
      "Processing video: C:\\Users\\manuv\\Violence-Detection-With-Human-Skeletons\\data\\train\\Fight\\3Vw7MoNBgx4_0.avi\n"
     ]
    },
    {
     "name": "stderr",
     "output_type": "stream",
     "text": [
      "  3%|██▋                                                                             | 66/1989 [00:06<03:06, 10.31it/s]"
     ]
    },
    {
     "name": "stdout",
     "output_type": "stream",
     "text": [
      "Processing video: C:\\Users\\manuv\\Violence-Detection-With-Human-Skeletons\\data\\train\\Fight\\4HH7yMU8y9A_0.avi\n",
      "Processing video: C:\\Users\\manuv\\Violence-Detection-With-Human-Skeletons\\data\\train\\Fight\\4HH7yMU8y9A_1.avi\n",
      "Processing video: C:\\Users\\manuv\\Violence-Detection-With-Human-Skeletons\\data\\train\\Fight\\4RqDG4I4iAk_0.avi\n"
     ]
    },
    {
     "name": "stderr",
     "output_type": "stream",
     "text": [
      "  3%|██▋                                                                             | 68/1989 [00:06<03:09, 10.13it/s]"
     ]
    },
    {
     "name": "stdout",
     "output_type": "stream",
     "text": [
      "Processing video: C:\\Users\\manuv\\Violence-Detection-With-Human-Skeletons\\data\\train\\Fight\\4RqDG4I4iAk_1.avi\n",
      "Processing video: C:\\Users\\manuv\\Violence-Detection-With-Human-Skeletons\\data\\train\\Fight\\4RqDG4I4iAk_2.avi\n"
     ]
    },
    {
     "name": "stderr",
     "output_type": "stream",
     "text": [
      "  4%|██▊                                                                             | 70/1989 [00:06<03:16,  9.75it/s]"
     ]
    },
    {
     "name": "stdout",
     "output_type": "stream",
     "text": [
      "Processing video: C:\\Users\\manuv\\Violence-Detection-With-Human-Skeletons\\data\\train\\Fight\\4RqDG4I4iAk_3.avi\n",
      "Processing video: C:\\Users\\manuv\\Violence-Detection-With-Human-Skeletons\\data\\train\\Fight\\4RqDG4I4iAk_4.avi\n"
     ]
    },
    {
     "name": "stderr",
     "output_type": "stream",
     "text": [
      "  4%|██▉                                                                             | 72/1989 [00:06<03:16,  9.73it/s]"
     ]
    },
    {
     "name": "stdout",
     "output_type": "stream",
     "text": [
      "Processing video: C:\\Users\\manuv\\Violence-Detection-With-Human-Skeletons\\data\\train\\Fight\\4RqDG4I4iAk_5.avi\n",
      "Processing video: C:\\Users\\manuv\\Violence-Detection-With-Human-Skeletons\\data\\train\\Fight\\4RqDG4I4iAk_6.avi\n"
     ]
    },
    {
     "name": "stderr",
     "output_type": "stream",
     "text": [
      "  4%|██▉                                                                             | 74/1989 [00:06<03:22,  9.46it/s]"
     ]
    },
    {
     "name": "stdout",
     "output_type": "stream",
     "text": [
      "Processing video: C:\\Users\\manuv\\Violence-Detection-With-Human-Skeletons\\data\\train\\Fight\\4RqDG4I4iAk_7.avi\n",
      "Processing video: C:\\Users\\manuv\\Violence-Detection-With-Human-Skeletons\\data\\train\\Fight\\4RqDG4I4iAk_8.avi\n"
     ]
    },
    {
     "name": "stderr",
     "output_type": "stream",
     "text": [
      "  4%|███                                                                             | 77/1989 [00:07<02:51, 11.12it/s]"
     ]
    },
    {
     "name": "stdout",
     "output_type": "stream",
     "text": [
      "Processing video: C:\\Users\\manuv\\Violence-Detection-With-Human-Skeletons\\data\\train\\Fight\\4yTlGiDoxBo_0.avi\n",
      "Processing video: C:\\Users\\manuv\\Violence-Detection-With-Human-Skeletons\\data\\train\\Fight\\4yTlGiDoxBo_1.avi\n",
      "Processing video: C:\\Users\\manuv\\Violence-Detection-With-Human-Skeletons\\data\\train\\Fight\\4yTlGiDoxBo_2.avi\n"
     ]
    },
    {
     "name": "stderr",
     "output_type": "stream",
     "text": [
      "  4%|███▏                                                                            | 79/1989 [00:07<02:39, 12.01it/s]"
     ]
    },
    {
     "name": "stdout",
     "output_type": "stream",
     "text": [
      "Processing video: C:\\Users\\manuv\\Violence-Detection-With-Human-Skeletons\\data\\train\\Fight\\4yTlGiDoxBo_3.avi\n",
      "Processing video: C:\\Users\\manuv\\Violence-Detection-With-Human-Skeletons\\data\\train\\Fight\\4yTlGiDoxBo_4.avi\n",
      "Processing video: C:\\Users\\manuv\\Violence-Detection-With-Human-Skeletons\\data\\train\\Fight\\4yTlGiDoxBo_5.avi\n"
     ]
    },
    {
     "name": "stderr",
     "output_type": "stream",
     "text": [
      "  4%|███▎                                                                            | 83/1989 [00:07<02:44, 11.57it/s]"
     ]
    },
    {
     "name": "stdout",
     "output_type": "stream",
     "text": [
      "Processing video: C:\\Users\\manuv\\Violence-Detection-With-Human-Skeletons\\data\\train\\Fight\\4yzwSsis_0.avi\n",
      "Processing video: C:\\Users\\manuv\\Violence-Detection-With-Human-Skeletons\\data\\train\\Fight\\5QqDgtwEQsI_0.avi\n",
      "Processing video: C:\\Users\\manuv\\Violence-Detection-With-Human-Skeletons\\data\\train\\Fight\\6Dej3-k3MRE_0.avi\n",
      "Processing video: C:\\Users\\manuv\\Violence-Detection-With-Human-Skeletons\\data\\train\\Fight\\6Dej3-k3MRE_1.avi\n"
     ]
    },
    {
     "name": "stderr",
     "output_type": "stream",
     "text": [
      "  4%|███▍                                                                            | 85/1989 [00:07<03:08, 10.08it/s]"
     ]
    },
    {
     "name": "stdout",
     "output_type": "stream",
     "text": [
      "Processing video: C:\\Users\\manuv\\Violence-Detection-With-Human-Skeletons\\data\\train\\Fight\\6Dej3-k3MRE_2.avi\n",
      "Processing video: C:\\Users\\manuv\\Violence-Detection-With-Human-Skeletons\\data\\train\\Fight\\6Dej3-k3MRE_3.avi\n"
     ]
    },
    {
     "name": "stderr",
     "output_type": "stream",
     "text": [
      "  4%|███▌                                                                            | 88/1989 [00:08<03:43,  8.52it/s]"
     ]
    },
    {
     "name": "stdout",
     "output_type": "stream",
     "text": [
      "Processing video: C:\\Users\\manuv\\Violence-Detection-With-Human-Skeletons\\data\\train\\Fight\\6Dej3-k3MRE_4.avi\n",
      "Processing video: C:\\Users\\manuv\\Violence-Detection-With-Human-Skeletons\\data\\train\\Fight\\6Dej3-k3MRE_5.avi\n"
     ]
    },
    {
     "name": "stderr",
     "output_type": "stream",
     "text": [
      "  5%|███▌                                                                            | 90/1989 [00:08<03:50,  8.25it/s]"
     ]
    },
    {
     "name": "stdout",
     "output_type": "stream",
     "text": [
      "Processing video: C:\\Users\\manuv\\Violence-Detection-With-Human-Skeletons\\data\\train\\Fight\\6mrIIcAQ2fI_0.avi\n",
      "Processing video: C:\\Users\\manuv\\Violence-Detection-With-Human-Skeletons\\data\\train\\Fight\\6mrIIcAQ2fI_2.avi\n"
     ]
    },
    {
     "name": "stderr",
     "output_type": "stream",
     "text": [
      "  5%|███▋                                                                            | 92/1989 [00:08<03:47,  8.34it/s]"
     ]
    },
    {
     "name": "stdout",
     "output_type": "stream",
     "text": [
      "Processing video: C:\\Users\\manuv\\Violence-Detection-With-Human-Skeletons\\data\\train\\Fight\\6mrIIcAQ2fI_3.avi\n",
      "Processing video: C:\\Users\\manuv\\Violence-Detection-With-Human-Skeletons\\data\\train\\Fight\\6TDF_12.avi\n",
      "Processing video: C:\\Users\\manuv\\Violence-Detection-With-Human-Skeletons\\data\\train\\Fight\\6TDF_13.avi\n"
     ]
    },
    {
     "name": "stderr",
     "output_type": "stream",
     "text": [
      "  5%|███▊                                                                            | 96/1989 [00:09<02:44, 11.53it/s]"
     ]
    },
    {
     "name": "stdout",
     "output_type": "stream",
     "text": [
      "Processing video: C:\\Users\\manuv\\Violence-Detection-With-Human-Skeletons\\data\\train\\Fight\\6TDF_14.avi\n",
      "Processing video: C:\\Users\\manuv\\Violence-Detection-With-Human-Skeletons\\data\\train\\Fight\\6TDF_15.avi\n",
      "Processing video: C:\\Users\\manuv\\Violence-Detection-With-Human-Skeletons\\data\\train\\Fight\\6TDF_27.avi\n"
     ]
    },
    {
     "name": "stderr",
     "output_type": "stream",
     "text": [
      "  5%|███▉                                                                            | 98/1989 [00:09<03:05, 10.20it/s]"
     ]
    },
    {
     "name": "stdout",
     "output_type": "stream",
     "text": [
      "Processing video: C:\\Users\\manuv\\Violence-Detection-With-Human-Skeletons\\data\\train\\Fight\\7LnoFKSl2rs_0.avi\n",
      "Processing video: C:\\Users\\manuv\\Violence-Detection-With-Human-Skeletons\\data\\train\\Fight\\7qtRgyFsk3s_0.avi\n"
     ]
    },
    {
     "name": "stderr",
     "output_type": "stream",
     "text": [
      "  5%|███▉                                                                           | 100/1989 [00:09<02:59, 10.55it/s]"
     ]
    },
    {
     "name": "stdout",
     "output_type": "stream",
     "text": [
      "Processing video: C:\\Users\\manuv\\Violence-Detection-With-Human-Skeletons\\data\\train\\Fight\\7qtRgyFsk3s_1.avi\n",
      "Processing video: C:\\Users\\manuv\\Violence-Detection-With-Human-Skeletons\\data\\train\\Fight\\7R1m3V8C30g_0.avi\n",
      "Processing video: C:\\Users\\manuv\\Violence-Detection-With-Human-Skeletons\\data\\train\\Fight\\7R1m3V8C30g_1.avi\n"
     ]
    },
    {
     "name": "stderr",
     "output_type": "stream",
     "text": [
      "  5%|████▏                                                                          | 104/1989 [00:09<02:54, 10.82it/s]"
     ]
    },
    {
     "name": "stdout",
     "output_type": "stream",
     "text": [
      "Processing video: C:\\Users\\manuv\\Violence-Detection-With-Human-Skeletons\\data\\train\\Fight\\7R1m3V8C30g_2.avi\n",
      "Processing video: C:\\Users\\manuv\\Violence-Detection-With-Human-Skeletons\\data\\train\\Fight\\7Xe6eysGKeU_0.avi\n"
     ]
    },
    {
     "name": "stderr",
     "output_type": "stream",
     "text": [
      "  5%|████▏                                                                          | 106/1989 [00:10<02:37, 11.98it/s]"
     ]
    },
    {
     "name": "stdout",
     "output_type": "stream",
     "text": [
      "Processing video: C:\\Users\\manuv\\Violence-Detection-With-Human-Skeletons\\data\\train\\Fight\\88ndrvAZpE8_0.avi\n",
      "Processing video: C:\\Users\\manuv\\Violence-Detection-With-Human-Skeletons\\data\\train\\Fight\\88ndrvAZpE8_1.avi\n",
      "Processing video: C:\\Users\\manuv\\Violence-Detection-With-Human-Skeletons\\data\\train\\Fight\\89UQqPuR4Q4_0.avi\n"
     ]
    },
    {
     "name": "stderr",
     "output_type": "stream",
     "text": [
      "  5%|████▎                                                                          | 108/1989 [00:10<02:30, 12.54it/s]"
     ]
    },
    {
     "name": "stdout",
     "output_type": "stream",
     "text": [
      "Processing video: C:\\Users\\manuv\\Violence-Detection-With-Human-Skeletons\\data\\train\\Fight\\8bEO4LGr_0.avi\n",
      "Processing video: C:\\Users\\manuv\\Violence-Detection-With-Human-Skeletons\\data\\train\\Fight\\8mxsp2RTU6M_0.avi\n",
      "Processing video: C:\\Users\\manuv\\Violence-Detection-With-Human-Skeletons\\data\\train\\Fight\\8pKKdS7rhXo_0.avi\n"
     ]
    },
    {
     "name": "stderr",
     "output_type": "stream",
     "text": [
      "  6%|████▍                                                                          | 112/1989 [00:10<02:49, 11.09it/s]"
     ]
    },
    {
     "name": "stdout",
     "output_type": "stream",
     "text": [
      "Processing video: C:\\Users\\manuv\\Violence-Detection-With-Human-Skeletons\\data\\train\\Fight\\8pKKdS7rhXo_1.avi\n",
      "Processing video: C:\\Users\\manuv\\Violence-Detection-With-Human-Skeletons\\data\\train\\Fight\\8pKKdS7rhXo_2.avi\n",
      "Processing video: C:\\Users\\manuv\\Violence-Detection-With-Human-Skeletons\\data\\train\\Fight\\8SWZq5we_fk_0.avi\n",
      "Processing video: C:\\Users\\manuv\\Violence-Detection-With-Human-Skeletons\\data\\train\\Fight\\8SWZq5we_fk_1.avi\n"
     ]
    },
    {
     "name": "stderr",
     "output_type": "stream",
     "text": [
      "  6%|████▌                                                                          | 116/1989 [00:10<02:43, 11.46it/s]"
     ]
    },
    {
     "name": "stdout",
     "output_type": "stream",
     "text": [
      "Processing video: C:\\Users\\manuv\\Violence-Detection-With-Human-Skeletons\\data\\train\\Fight\\8VqTmuq4HcI_0.avi\n",
      "Processing video: C:\\Users\\manuv\\Violence-Detection-With-Human-Skeletons\\data\\train\\Fight\\91TniI0y_0.avi\n",
      "Processing video: C:\\Users\\manuv\\Violence-Detection-With-Human-Skeletons\\data\\train\\Fight\\9ErNHIovPDI_0.avi\n"
     ]
    },
    {
     "name": "stderr",
     "output_type": "stream",
     "text": [
      "  6%|████▋                                                                          | 118/1989 [00:11<02:54, 10.74it/s]"
     ]
    },
    {
     "name": "stdout",
     "output_type": "stream",
     "text": [
      "Processing video: C:\\Users\\manuv\\Violence-Detection-With-Human-Skeletons\\data\\train\\Fight\\9U8J4abJGDg_0.avi\n",
      "Processing video: C:\\Users\\manuv\\Violence-Detection-With-Human-Skeletons\\data\\train\\Fight\\a2qLzOu_n0s_0.avi\n"
     ]
    },
    {
     "name": "stderr",
     "output_type": "stream",
     "text": [
      "  6%|████▊                                                                          | 120/1989 [00:11<02:46, 11.20it/s]"
     ]
    },
    {
     "name": "stdout",
     "output_type": "stream",
     "text": [
      "Processing video: C:\\Users\\manuv\\Violence-Detection-With-Human-Skeletons\\data\\train\\Fight\\a2qLzOu_n0s_1.avi\n",
      "Processing video: C:\\Users\\manuv\\Violence-Detection-With-Human-Skeletons\\data\\train\\Fight\\a2qLzOu_n0s_2.avi\n",
      "Processing video: C:\\Users\\manuv\\Violence-Detection-With-Human-Skeletons\\data\\train\\Fight\\a2qLzOu_n0s_3.avi\n"
     ]
    },
    {
     "name": "stderr",
     "output_type": "stream",
     "text": [
      "  6%|████▊                                                                          | 122/1989 [00:11<02:45, 11.26it/s]"
     ]
    },
    {
     "name": "stdout",
     "output_type": "stream",
     "text": [
      "Processing video: C:\\Users\\manuv\\Violence-Detection-With-Human-Skeletons\\data\\train\\Fight\\a2qLzOu_n0s_4.avi\n",
      "Processing video: C:\\Users\\manuv\\Violence-Detection-With-Human-Skeletons\\data\\train\\Fight\\a7D2i0HTXGM_0.avi\n"
     ]
    },
    {
     "name": "stderr",
     "output_type": "stream",
     "text": [
      "  6%|████▉                                                                          | 124/1989 [00:11<03:02, 10.22it/s]"
     ]
    },
    {
     "name": "stdout",
     "output_type": "stream",
     "text": [
      "Processing video: C:\\Users\\manuv\\Violence-Detection-With-Human-Skeletons\\data\\train\\Fight\\a7D2i0HTXGM_1.avi\n",
      "Processing video: C:\\Users\\manuv\\Violence-Detection-With-Human-Skeletons\\data\\train\\Fight\\a7D2i0HTXGM_2.avi\n"
     ]
    },
    {
     "name": "stderr",
     "output_type": "stream",
     "text": [
      "  6%|█████                                                                          | 128/1989 [00:12<02:59, 10.38it/s]"
     ]
    },
    {
     "name": "stdout",
     "output_type": "stream",
     "text": [
      "Processing video: C:\\Users\\manuv\\Violence-Detection-With-Human-Skeletons\\data\\train\\Fight\\a7gBQaAFEtw_2.avi\n",
      "Processing video: C:\\Users\\manuv\\Violence-Detection-With-Human-Skeletons\\data\\train\\Fight\\a7gBQaAFEtw_4.avi\n",
      "Processing video: C:\\Users\\manuv\\Violence-Detection-With-Human-Skeletons\\data\\train\\Fight\\adg5WJ6y_1.avi\n"
     ]
    },
    {
     "name": "stderr",
     "output_type": "stream",
     "text": [
      "  7%|█████▏                                                                         | 130/1989 [00:12<02:41, 11.54it/s]"
     ]
    },
    {
     "name": "stdout",
     "output_type": "stream",
     "text": [
      "Processing video: C:\\Users\\manuv\\Violence-Detection-With-Human-Skeletons\\data\\train\\Fight\\aIg9Yb0O7Hg_0.avi\n",
      "Processing video: C:\\Users\\manuv\\Violence-Detection-With-Human-Skeletons\\data\\train\\Fight\\aIg9Yb0O7Hg_1.avi\n",
      "Processing video: C:\\Users\\manuv\\Violence-Detection-With-Human-Skeletons\\data\\train\\Fight\\aIg9Yb0O7Hg_2.avi\n"
     ]
    },
    {
     "name": "stderr",
     "output_type": "stream",
     "text": [
      "  7%|█████▎                                                                         | 134/1989 [00:12<02:37, 11.77it/s]"
     ]
    },
    {
     "name": "stdout",
     "output_type": "stream",
     "text": [
      "Processing video: C:\\Users\\manuv\\Violence-Detection-With-Human-Skeletons\\data\\train\\Fight\\aIg9Yb0O7Hg_3.avi\n",
      "Processing video: C:\\Users\\manuv\\Violence-Detection-With-Human-Skeletons\\data\\train\\Fight\\aIg9Yb0O7Hg_4.avi\n",
      "Processing video: C:\\Users\\manuv\\Violence-Detection-With-Human-Skeletons\\data\\train\\Fight\\aIg9Yb0O7Hg_5.avi\n"
     ]
    },
    {
     "name": "stderr",
     "output_type": "stream",
     "text": [
      "  7%|█████▍                                                                         | 136/1989 [00:12<02:46, 11.16it/s]"
     ]
    },
    {
     "name": "stdout",
     "output_type": "stream",
     "text": [
      "Processing video: C:\\Users\\manuv\\Violence-Detection-With-Human-Skeletons\\data\\train\\Fight\\aKgSasWRJ2s_0.avi\n",
      "Processing video: C:\\Users\\manuv\\Violence-Detection-With-Human-Skeletons\\data\\train\\Fight\\aKgSasWRJ2s_1.avi\n"
     ]
    },
    {
     "name": "stderr",
     "output_type": "stream",
     "text": [
      "  7%|█████▍                                                                         | 138/1989 [00:12<02:58, 10.36it/s]"
     ]
    },
    {
     "name": "stdout",
     "output_type": "stream",
     "text": [
      "Processing video: C:\\Users\\manuv\\Violence-Detection-With-Human-Skeletons\\data\\train\\Fight\\aKgSasWRJ2s_2.avi\n",
      "Processing video: C:\\Users\\manuv\\Violence-Detection-With-Human-Skeletons\\data\\train\\Fight\\aKgSasWRJ2s_3.avi\n"
     ]
    },
    {
     "name": "stderr",
     "output_type": "stream",
     "text": [
      "  7%|█████▌                                                                         | 140/1989 [00:13<03:02, 10.12it/s]"
     ]
    },
    {
     "name": "stdout",
     "output_type": "stream",
     "text": [
      "Processing video: C:\\Users\\manuv\\Violence-Detection-With-Human-Skeletons\\data\\train\\Fight\\aKK0B4kpKZA_0.avi\n",
      "Processing video: C:\\Users\\manuv\\Violence-Detection-With-Human-Skeletons\\data\\train\\Fight\\aKK0B4kpKZA_1.avi\n"
     ]
    },
    {
     "name": "stderr",
     "output_type": "stream",
     "text": [
      "  7%|█████▋                                                                         | 142/1989 [00:13<03:00, 10.26it/s]"
     ]
    },
    {
     "name": "stdout",
     "output_type": "stream",
     "text": [
      "Processing video: C:\\Users\\manuv\\Violence-Detection-With-Human-Skeletons\\data\\train\\Fight\\AkTZX27QhjE_1.avi\n",
      "Processing video: C:\\Users\\manuv\\Violence-Detection-With-Human-Skeletons\\data\\train\\Fight\\AkTZX27QhjE_2.avi\n",
      "Processing video: C:\\Users\\manuv\\Violence-Detection-With-Human-Skeletons\\data\\train\\Fight\\AkTZX27QhjE_3.avi\n"
     ]
    },
    {
     "name": "stderr",
     "output_type": "stream",
     "text": [
      "  7%|█████▊                                                                         | 146/1989 [00:13<02:48, 10.95it/s]"
     ]
    },
    {
     "name": "stdout",
     "output_type": "stream",
     "text": [
      "Processing video: C:\\Users\\manuv\\Violence-Detection-With-Human-Skeletons\\data\\train\\Fight\\AkTZX27QhjE_4.avi\n",
      "Processing video: C:\\Users\\manuv\\Violence-Detection-With-Human-Skeletons\\data\\train\\Fight\\Am9mUxPTvK4_0.avi\n"
     ]
    },
    {
     "name": "stderr",
     "output_type": "stream",
     "text": [
      "  7%|█████▉                                                                         | 148/1989 [00:13<02:50, 10.83it/s]"
     ]
    },
    {
     "name": "stdout",
     "output_type": "stream",
     "text": [
      "Processing video: C:\\Users\\manuv\\Violence-Detection-With-Human-Skeletons\\data\\train\\Fight\\Am9mUxPTvK4_1.avi\n",
      "Processing video: C:\\Users\\manuv\\Violence-Detection-With-Human-Skeletons\\data\\train\\Fight\\API3q8TBGu4_0.avi\n",
      "Processing video: C:\\Users\\manuv\\Violence-Detection-With-Human-Skeletons\\data\\train\\Fight\\ar5ns2zW4lY_0.avi\n",
      "Processing video: C:\\Users\\manuv\\Violence-Detection-With-Human-Skeletons\\data\\train\\Fight\\ar5ns2zW4lY_1.avi\n"
     ]
    },
    {
     "name": "stderr",
     "output_type": "stream",
     "text": [
      "  8%|█████▉                                                                         | 150/1989 [00:14<03:06,  9.86it/s]"
     ]
    },
    {
     "name": "stdout",
     "output_type": "stream",
     "text": [
      "Processing video: C:\\Users\\manuv\\Violence-Detection-With-Human-Skeletons\\data\\train\\Fight\\as4zD6d86q0_0.avi\n",
      "Processing video: C:\\Users\\manuv\\Violence-Detection-With-Human-Skeletons\\data\\train\\Fight\\as4zD6d86q0_1.avi\n"
     ]
    },
    {
     "name": "stderr",
     "output_type": "stream",
     "text": [
      "  8%|██████                                                                         | 154/1989 [00:14<03:01, 10.13it/s]"
     ]
    },
    {
     "name": "stdout",
     "output_type": "stream",
     "text": [
      "Processing video: C:\\Users\\manuv\\Violence-Detection-With-Human-Skeletons\\data\\train\\Fight\\as4zD6d86q0_2.avi\n",
      "Processing video: C:\\Users\\manuv\\Violence-Detection-With-Human-Skeletons\\data\\train\\Fight\\asdasda_107.avi\n",
      "Processing video: C:\\Users\\manuv\\Violence-Detection-With-Human-Skeletons\\data\\train\\Fight\\asdasda_108.avi\n"
     ]
    },
    {
     "name": "stderr",
     "output_type": "stream",
     "text": [
      "  8%|██████▏                                                                        | 156/1989 [00:14<03:12,  9.54it/s]"
     ]
    },
    {
     "name": "stdout",
     "output_type": "stream",
     "text": [
      "Processing video: C:\\Users\\manuv\\Violence-Detection-With-Human-Skeletons\\data\\train\\Fight\\asdasda_109.avi\n",
      "Processing video: C:\\Users\\manuv\\Violence-Detection-With-Human-Skeletons\\data\\train\\Fight\\asdasda_110.avi\n"
     ]
    },
    {
     "name": "stderr",
     "output_type": "stream",
     "text": [
      "  8%|██████▎                                                                        | 158/1989 [00:14<03:16,  9.34it/s]"
     ]
    },
    {
     "name": "stdout",
     "output_type": "stream",
     "text": [
      "Processing video: C:\\Users\\manuv\\Violence-Detection-With-Human-Skeletons\\data\\train\\Fight\\asdasda_111.avi\n",
      "Processing video: C:\\Users\\manuv\\Violence-Detection-With-Human-Skeletons\\data\\train\\Fight\\asdasda_112.avi\n"
     ]
    },
    {
     "name": "stderr",
     "output_type": "stream",
     "text": [
      "  8%|██████▎                                                                        | 160/1989 [00:15<03:20,  9.13it/s]"
     ]
    },
    {
     "name": "stdout",
     "output_type": "stream",
     "text": [
      "Processing video: C:\\Users\\manuv\\Violence-Detection-With-Human-Skeletons\\data\\train\\Fight\\asdasda_113.avi\n",
      "Processing video: C:\\Users\\manuv\\Violence-Detection-With-Human-Skeletons\\data\\train\\Fight\\AsGAgf8U2rk_0.avi\n"
     ]
    },
    {
     "name": "stderr",
     "output_type": "stream",
     "text": [
      "  8%|██████▍                                                                        | 162/1989 [00:15<03:33,  8.55it/s]"
     ]
    },
    {
     "name": "stdout",
     "output_type": "stream",
     "text": [
      "Processing video: C:\\Users\\manuv\\Violence-Detection-With-Human-Skeletons\\data\\train\\Fight\\b6XfVAZC9Zs_0.avi\n",
      "Processing video: C:\\Users\\manuv\\Violence-Detection-With-Human-Skeletons\\data\\train\\Fight\\b6XfVAZC9Zs_1.avi\n"
     ]
    },
    {
     "name": "stderr",
     "output_type": "stream",
     "text": [
      "  8%|██████▌                                                                        | 165/1989 [00:15<03:15,  9.32it/s]"
     ]
    },
    {
     "name": "stdout",
     "output_type": "stream",
     "text": [
      "Processing video: C:\\Users\\manuv\\Violence-Detection-With-Human-Skeletons\\data\\train\\Fight\\b6XfVAZC9Zs_2.avi\n",
      "Processing video: C:\\Users\\manuv\\Violence-Detection-With-Human-Skeletons\\data\\train\\Fight\\b6XfVAZC9Zs_3.avi\n"
     ]
    },
    {
     "name": "stderr",
     "output_type": "stream",
     "text": [
      "  8%|██████▌                                                                        | 166/1989 [00:15<03:16,  9.26it/s]"
     ]
    },
    {
     "name": "stdout",
     "output_type": "stream",
     "text": [
      "Processing video: C:\\Users\\manuv\\Violence-Detection-With-Human-Skeletons\\data\\train\\Fight\\b6XfVAZC9Zs_4.avi\n",
      "Processing video: C:\\Users\\manuv\\Violence-Detection-With-Human-Skeletons\\data\\train\\Fight\\b6XfVAZC9Zs_6.avi\n"
     ]
    },
    {
     "name": "stderr",
     "output_type": "stream",
     "text": [
      "  8%|██████▋                                                                        | 168/1989 [00:16<03:13,  9.42it/s]"
     ]
    },
    {
     "name": "stdout",
     "output_type": "stream",
     "text": [
      "Processing video: C:\\Users\\manuv\\Violence-Detection-With-Human-Skeletons\\data\\train\\Fight\\b6XfVAZC9Zs_7.avi\n",
      "Processing video: C:\\Users\\manuv\\Violence-Detection-With-Human-Skeletons\\data\\train\\Fight\\BCVBVC_263.avi\n"
     ]
    },
    {
     "name": "stderr",
     "output_type": "stream",
     "text": [
      "  9%|██████▊                                                                        | 170/1989 [00:16<03:00, 10.05it/s]"
     ]
    },
    {
     "name": "stdout",
     "output_type": "stream",
     "text": [
      "Processing video: C:\\Users\\manuv\\Violence-Detection-With-Human-Skeletons\\data\\train\\Fight\\BCVBVC_264.avi\n",
      "Processing video: C:\\Users\\manuv\\Violence-Detection-With-Human-Skeletons\\data\\train\\Fight\\bd48s5BpoGY_0.avi\n",
      "Processing video: C:\\Users\\manuv\\Violence-Detection-With-Human-Skeletons\\data\\train\\Fight\\bdZ7ubago6I_0.avi\n"
     ]
    },
    {
     "name": "stderr",
     "output_type": "stream",
     "text": [
      "  9%|██████▉                                                                        | 174/1989 [00:16<02:33, 11.82it/s]"
     ]
    },
    {
     "name": "stdout",
     "output_type": "stream",
     "text": [
      "Processing video: C:\\Users\\manuv\\Violence-Detection-With-Human-Skeletons\\data\\train\\Fight\\bdZ7ubago6I_1.avi\n",
      "Processing video: C:\\Users\\manuv\\Violence-Detection-With-Human-Skeletons\\data\\train\\Fight\\BpargJW29Wo_0.avi\n",
      "Processing video: C:\\Users\\manuv\\Violence-Detection-With-Human-Skeletons\\data\\train\\Fight\\BpargJW29Wo_1.avi\n"
     ]
    },
    {
     "name": "stderr",
     "output_type": "stream",
     "text": [
      "  9%|███████                                                                        | 178/1989 [00:16<02:23, 12.62it/s]"
     ]
    },
    {
     "name": "stdout",
     "output_type": "stream",
     "text": [
      "Processing video: C:\\Users\\manuv\\Violence-Detection-With-Human-Skeletons\\data\\train\\Fight\\BpargJW29Wo_2.avi\n",
      "Processing video: C:\\Users\\manuv\\Violence-Detection-With-Human-Skeletons\\data\\train\\Fight\\BpargJW29Wo_3.avi\n",
      "Processing video: C:\\Users\\manuv\\Violence-Detection-With-Human-Skeletons\\data\\train\\Fight\\BpargJW29Wo_4.avi\n"
     ]
    },
    {
     "name": "stderr",
     "output_type": "stream",
     "text": [
      "  9%|███████▏                                                                       | 180/1989 [00:17<02:30, 12.05it/s]"
     ]
    },
    {
     "name": "stdout",
     "output_type": "stream",
     "text": [
      "Processing video: C:\\Users\\manuv\\Violence-Detection-With-Human-Skeletons\\data\\train\\Fight\\bqZo64e6_0.avi\n",
      "Processing video: C:\\Users\\manuv\\Violence-Detection-With-Human-Skeletons\\data\\train\\Fight\\bqZo64e6_1.avi\n"
     ]
    },
    {
     "name": "stderr",
     "output_type": "stream",
     "text": [
      "  9%|███████▏                                                                       | 182/1989 [00:17<02:33, 11.79it/s]"
     ]
    },
    {
     "name": "stdout",
     "output_type": "stream",
     "text": [
      "Processing video: C:\\Users\\manuv\\Violence-Detection-With-Human-Skeletons\\data\\train\\Fight\\bqZo64e6_2.avi\n",
      "Processing video: C:\\Users\\manuv\\Violence-Detection-With-Human-Skeletons\\data\\train\\Fight\\bzw-HKuuQbg_0.avi\n",
      "Processing video: C:\\Users\\manuv\\Violence-Detection-With-Human-Skeletons\\data\\train\\Fight\\bzw-HKuuQbg_1.avi\n"
     ]
    },
    {
     "name": "stderr",
     "output_type": "stream",
     "text": [
      "  9%|███████▎                                                                       | 184/1989 [00:17<02:35, 11.62it/s]"
     ]
    },
    {
     "name": "stdout",
     "output_type": "stream",
     "text": [
      "Processing video: C:\\Users\\manuv\\Violence-Detection-With-Human-Skeletons\\data\\train\\Fight\\bzw-HKuuQbg_2.avi\n",
      "Processing video: C:\\Users\\manuv\\Violence-Detection-With-Human-Skeletons\\data\\train\\Fight\\bzw-HKuuQbg_3.avi\n"
     ]
    },
    {
     "name": "stderr",
     "output_type": "stream",
     "text": [
      "  9%|███████▍                                                                       | 186/1989 [00:17<02:48, 10.73it/s]"
     ]
    },
    {
     "name": "stdout",
     "output_type": "stream",
     "text": [
      "Processing video: C:\\Users\\manuv\\Violence-Detection-With-Human-Skeletons\\data\\train\\Fight\\bzw-HKuuQbg_4.avi\n",
      "Processing video: C:\\Users\\manuv\\Violence-Detection-With-Human-Skeletons\\data\\train\\Fight\\bzw-HKuuQbg_5.avi\n"
     ]
    },
    {
     "name": "stderr",
     "output_type": "stream",
     "text": [
      "  9%|███████▍                                                                       | 188/1989 [00:17<02:56, 10.21it/s]"
     ]
    },
    {
     "name": "stdout",
     "output_type": "stream",
     "text": [
      "Processing video: C:\\Users\\manuv\\Violence-Detection-With-Human-Skeletons\\data\\train\\Fight\\bzw-HKuuQbg_6.avi\n",
      "Processing video: C:\\Users\\manuv\\Violence-Detection-With-Human-Skeletons\\data\\train\\Fight\\C4SQF-UZzkA_2.avi\n"
     ]
    },
    {
     "name": "stderr",
     "output_type": "stream",
     "text": [
      " 10%|███████▌                                                                       | 190/1989 [00:18<03:11,  9.40it/s]"
     ]
    },
    {
     "name": "stdout",
     "output_type": "stream",
     "text": [
      "Processing video: C:\\Users\\manuv\\Violence-Detection-With-Human-Skeletons\\data\\train\\Fight\\C8wt47cphU8_0.avi\n",
      "Processing video: C:\\Users\\manuv\\Violence-Detection-With-Human-Skeletons\\data\\train\\Fight\\C8wt47cphU8_1.avi\n"
     ]
    },
    {
     "name": "stderr",
     "output_type": "stream",
     "text": [
      " 10%|███████▋                                                                       | 193/1989 [00:18<02:39, 11.23it/s]"
     ]
    },
    {
     "name": "stdout",
     "output_type": "stream",
     "text": [
      "Processing video: C:\\Users\\manuv\\Violence-Detection-With-Human-Skeletons\\data\\train\\Fight\\cAp5A44HRS8_0.avi\n",
      "Processing video: C:\\Users\\manuv\\Violence-Detection-With-Human-Skeletons\\data\\train\\Fight\\cAp5A44HRS8_1.avi\n",
      "Processing video: C:\\Users\\manuv\\Violence-Detection-With-Human-Skeletons\\data\\train\\Fight\\CBfRtxkO1bE_0.avi\n"
     ]
    },
    {
     "name": "stderr",
     "output_type": "stream",
     "text": [
      " 10%|███████▋                                                                       | 195/1989 [00:18<02:34, 11.64it/s]"
     ]
    },
    {
     "name": "stdout",
     "output_type": "stream",
     "text": [
      "Processing video: C:\\Users\\manuv\\Violence-Detection-With-Human-Skeletons\\data\\train\\Fight\\CBfRtxkO1bE_1.avi\n",
      "Processing video: C:\\Users\\manuv\\Violence-Detection-With-Human-Skeletons\\data\\train\\Fight\\CBfRtxkO1bE_2.avi\n",
      "Processing video: C:\\Users\\manuv\\Violence-Detection-With-Human-Skeletons\\data\\train\\Fight\\CBfRtxkO1bE_3.avi\n"
     ]
    },
    {
     "name": "stderr",
     "output_type": "stream",
     "text": [
      " 10%|███████▉                                                                       | 199/1989 [00:18<02:43, 10.93it/s]"
     ]
    },
    {
     "name": "stdout",
     "output_type": "stream",
     "text": [
      "Processing video: C:\\Users\\manuv\\Violence-Detection-With-Human-Skeletons\\data\\train\\Fight\\cBNVcBk3rjg_0.avi\n",
      "Processing video: C:\\Users\\manuv\\Violence-Detection-With-Human-Skeletons\\data\\train\\Fight\\cBNVcBk3rjg_1.avi\n"
     ]
    },
    {
     "name": "stderr",
     "output_type": "stream",
     "text": [
      " 10%|███████▉                                                                       | 201/1989 [00:19<02:45, 10.80it/s]"
     ]
    },
    {
     "name": "stdout",
     "output_type": "stream",
     "text": [
      "Processing video: C:\\Users\\manuv\\Violence-Detection-With-Human-Skeletons\\data\\train\\Fight\\cBNVcBk3rjg_2.avi\n",
      "Processing video: C:\\Users\\manuv\\Violence-Detection-With-Human-Skeletons\\data\\train\\Fight\\cBNVcBk3rjg_3.avi\n"
     ]
    },
    {
     "name": "stderr",
     "output_type": "stream",
     "text": [
      " 10%|████████                                                                       | 203/1989 [00:19<02:42, 10.97it/s]"
     ]
    },
    {
     "name": "stdout",
     "output_type": "stream",
     "text": [
      "Processing video: C:\\Users\\manuv\\Violence-Detection-With-Human-Skeletons\\data\\train\\Fight\\cBNVcBk3rjg_4.avi\n",
      "Processing video: C:\\Users\\manuv\\Violence-Detection-With-Human-Skeletons\\data\\train\\Fight\\Cce4ogHp_0.avi\n",
      "Processing video: C:\\Users\\manuv\\Violence-Detection-With-Human-Skeletons\\data\\train\\Fight\\Cce4ogHp_1.avi\n"
     ]
    },
    {
     "name": "stderr",
     "output_type": "stream",
     "text": [
      " 10%|████████▏                                                                      | 205/1989 [00:19<02:32, 11.74it/s]"
     ]
    },
    {
     "name": "stdout",
     "output_type": "stream",
     "text": [
      "Processing video: C:\\Users\\manuv\\Violence-Detection-With-Human-Skeletons\\data\\train\\Fight\\cJvLTWGs-SE_0.avi\n",
      "Processing video: C:\\Users\\manuv\\Violence-Detection-With-Human-Skeletons\\data\\train\\Fight\\cJvLTWGs-SE_1.avi\n",
      "Processing video: C:\\Users\\manuv\\Violence-Detection-With-Human-Skeletons\\data\\train\\Fight\\CqJB8ZWLZ-o_0.avi\n"
     ]
    },
    {
     "name": "stderr",
     "output_type": "stream",
     "text": [
      " 11%|████████▎                                                                      | 209/1989 [00:19<02:40, 11.08it/s]"
     ]
    },
    {
     "name": "stdout",
     "output_type": "stream",
     "text": [
      "Processing video: C:\\Users\\manuv\\Violence-Detection-With-Human-Skeletons\\data\\train\\Fight\\CqJB8ZWLZ-o_1.avi\n",
      "Processing video: C:\\Users\\manuv\\Violence-Detection-With-Human-Skeletons\\data\\train\\Fight\\cWJ92fkhME4_0.avi\n",
      "Processing video: C:\\Users\\manuv\\Violence-Detection-With-Human-Skeletons\\data\\train\\Fight\\cy1gi3ZJb_c_1.avi\n",
      "Processing video: C:\\Users\\manuv\\Violence-Detection-With-Human-Skeletons\\data\\train\\Fight\\cy1gi3ZJb_c_2.avi\n"
     ]
    },
    {
     "name": "stderr",
     "output_type": "stream",
     "text": [
      " 11%|████████▍                                                                      | 211/1989 [00:19<02:52, 10.28it/s]"
     ]
    },
    {
     "name": "stdout",
     "output_type": "stream",
     "text": [
      "Processing video: C:\\Users\\manuv\\Violence-Detection-With-Human-Skeletons\\data\\train\\Fight\\cy1gi3ZJb_c_3.avi\n",
      "Processing video: C:\\Users\\manuv\\Violence-Detection-With-Human-Skeletons\\data\\train\\Fight\\cy1gi3ZJb_c_4.avi\n"
     ]
    },
    {
     "name": "stderr",
     "output_type": "stream",
     "text": [
      " 11%|████████▍                                                                      | 213/1989 [00:20<03:00,  9.85it/s]"
     ]
    },
    {
     "name": "stdout",
     "output_type": "stream",
     "text": [
      "Processing video: C:\\Users\\manuv\\Violence-Detection-With-Human-Skeletons\\data\\train\\Fight\\cy1gi3ZJb_c_5.avi\n",
      "Processing video: C:\\Users\\manuv\\Violence-Detection-With-Human-Skeletons\\data\\train\\Fight\\cy1gi3ZJb_c_6.avi\n"
     ]
    },
    {
     "name": "stderr",
     "output_type": "stream",
     "text": [
      " 11%|████████▌                                                                      | 217/1989 [00:20<02:45, 10.73it/s]"
     ]
    },
    {
     "name": "stdout",
     "output_type": "stream",
     "text": [
      "Processing video: C:\\Users\\manuv\\Violence-Detection-With-Human-Skeletons\\data\\train\\Fight\\dBkszzm-7mw_0.avi\n",
      "Processing video: C:\\Users\\manuv\\Violence-Detection-With-Human-Skeletons\\data\\train\\Fight\\DC10fyQgNqo_0.avi\n",
      "Processing video: C:\\Users\\manuv\\Violence-Detection-With-Human-Skeletons\\data\\train\\Fight\\DC10fyQgNqo_1.avi\n"
     ]
    },
    {
     "name": "stderr",
     "output_type": "stream",
     "text": [
      " 11%|████████▋                                                                      | 219/1989 [00:20<02:41, 10.97it/s]"
     ]
    },
    {
     "name": "stdout",
     "output_type": "stream",
     "text": [
      "Processing video: C:\\Users\\manuv\\Violence-Detection-With-Human-Skeletons\\data\\train\\Fight\\DC10fyQgNqo_2.avi\n",
      "Processing video: C:\\Users\\manuv\\Violence-Detection-With-Human-Skeletons\\data\\train\\Fight\\DC10fyQgNqo_3.avi\n",
      "Processing video: C:\\Users\\manuv\\Violence-Detection-With-Human-Skeletons\\data\\train\\Fight\\dfsafsghg_325.avi\n"
     ]
    },
    {
     "name": "stderr",
     "output_type": "stream",
     "text": [
      " 11%|████████▊                                                                      | 223/1989 [00:21<02:36, 11.31it/s]"
     ]
    },
    {
     "name": "stdout",
     "output_type": "stream",
     "text": [
      "Processing video: C:\\Users\\manuv\\Violence-Detection-With-Human-Skeletons\\data\\train\\Fight\\dfsafsghg_326.avi\n",
      "Processing video: C:\\Users\\manuv\\Violence-Detection-With-Human-Skeletons\\data\\train\\Fight\\dfsafsghg_327.avi\n",
      "Processing video: C:\\Users\\manuv\\Violence-Detection-With-Human-Skeletons\\data\\train\\Fight\\dHEI4OkhC64_0.avi\n"
     ]
    },
    {
     "name": "stderr",
     "output_type": "stream",
     "text": [
      " 11%|█████████                                                                      | 227/1989 [00:21<02:20, 12.57it/s]"
     ]
    },
    {
     "name": "stdout",
     "output_type": "stream",
     "text": [
      "Processing video: C:\\Users\\manuv\\Violence-Detection-With-Human-Skeletons\\data\\train\\Fight\\DHhyNrXr_0.avi\n",
      "Processing video: C:\\Users\\manuv\\Violence-Detection-With-Human-Skeletons\\data\\train\\Fight\\DHhyNrXr_1.avi\n",
      "Processing video: C:\\Users\\manuv\\Violence-Detection-With-Human-Skeletons\\data\\train\\Fight\\DHhyNrXr_2.avi\n"
     ]
    },
    {
     "name": "stderr",
     "output_type": "stream",
     "text": [
      " 12%|█████████                                                                      | 229/1989 [00:21<02:26, 12.04it/s]"
     ]
    },
    {
     "name": "stdout",
     "output_type": "stream",
     "text": [
      "Processing video: C:\\Users\\manuv\\Violence-Detection-With-Human-Skeletons\\data\\train\\Fight\\DHhyNrXr_5.avi\n",
      "Processing video: C:\\Users\\manuv\\Violence-Detection-With-Human-Skeletons\\data\\train\\Fight\\DIsQwAdR8MI_0.avi\n"
     ]
    },
    {
     "name": "stderr",
     "output_type": "stream",
     "text": [
      " 12%|█████████▏                                                                     | 231/1989 [00:21<02:23, 12.21it/s]"
     ]
    },
    {
     "name": "stdout",
     "output_type": "stream",
     "text": [
      "Processing video: C:\\Users\\manuv\\Violence-Detection-With-Human-Skeletons\\data\\train\\Fight\\dKqbUbuRxB4_0.avi\n",
      "Processing video: C:\\Users\\manuv\\Violence-Detection-With-Human-Skeletons\\data\\train\\Fight\\dOM7frJMFbc_0.avi\n",
      "Processing video: C:\\Users\\manuv\\Violence-Detection-With-Human-Skeletons\\data\\train\\Fight\\dOM7frJMFbc_1.avi\n"
     ]
    },
    {
     "name": "stderr",
     "output_type": "stream",
     "text": [
      " 12%|█████████▎                                                                     | 233/1989 [00:21<02:35, 11.32it/s]"
     ]
    },
    {
     "name": "stdout",
     "output_type": "stream",
     "text": [
      "Processing video: C:\\Users\\manuv\\Violence-Detection-With-Human-Skeletons\\data\\train\\Fight\\dOM7frJMFbc_2.avi\n",
      "Processing video: C:\\Users\\manuv\\Violence-Detection-With-Human-Skeletons\\data\\train\\Fight\\dP20avzQAf8_0.avi\n"
     ]
    },
    {
     "name": "stderr",
     "output_type": "stream",
     "text": [
      " 12%|█████████▎                                                                     | 235/1989 [00:22<02:29, 11.77it/s]"
     ]
    },
    {
     "name": "stdout",
     "output_type": "stream",
     "text": [
      "Processing video: C:\\Users\\manuv\\Violence-Detection-With-Human-Skeletons\\data\\train\\Fight\\dP20avzQAf8_1.avi\n",
      "Processing video: C:\\Users\\manuv\\Violence-Detection-With-Human-Skeletons\\data\\train\\Fight\\dt8YUGoOSgQ_0.avi\n",
      "Processing video: C:\\Users\\manuv\\Violence-Detection-With-Human-Skeletons\\data\\train\\Fight\\dt8YUGoOSgQ_1.avi\n"
     ]
    },
    {
     "name": "stderr",
     "output_type": "stream",
     "text": [
      " 12%|█████████▍                                                                     | 237/1989 [00:22<02:31, 11.57it/s]"
     ]
    },
    {
     "name": "stdout",
     "output_type": "stream",
     "text": [
      "Processing video: C:\\Users\\manuv\\Violence-Detection-With-Human-Skeletons\\data\\train\\Fight\\DTq6Gu30-uA_0.avi\n",
      "Processing video: C:\\Users\\manuv\\Violence-Detection-With-Human-Skeletons\\data\\train\\Fight\\DTq6Gu30-uA_1.avi\n"
     ]
    },
    {
     "name": "stderr",
     "output_type": "stream",
     "text": [
      " 12%|█████████▍                                                                     | 239/1989 [00:22<02:52, 10.14it/s]"
     ]
    },
    {
     "name": "stdout",
     "output_type": "stream",
     "text": [
      "Processing video: C:\\Users\\manuv\\Violence-Detection-With-Human-Skeletons\\data\\train\\Fight\\DTq6Gu30-uA_2.avi\n",
      "Processing video: C:\\Users\\manuv\\Violence-Detection-With-Human-Skeletons\\data\\train\\Fight\\DTq6Gu30-uA_3.avi\n"
     ]
    },
    {
     "name": "stderr",
     "output_type": "stream",
     "text": [
      " 12%|█████████▌                                                                     | 242/1989 [00:22<03:09,  9.24it/s]"
     ]
    },
    {
     "name": "stdout",
     "output_type": "stream",
     "text": [
      "Processing video: C:\\Users\\manuv\\Violence-Detection-With-Human-Skeletons\\data\\train\\Fight\\DTq6Gu30-uA_4.avi\n",
      "Processing video: C:\\Users\\manuv\\Violence-Detection-With-Human-Skeletons\\data\\train\\Fight\\DTq6Gu30-uA_5.avi\n"
     ]
    },
    {
     "name": "stderr",
     "output_type": "stream",
     "text": [
      " 12%|█████████▋                                                                     | 245/1989 [00:23<02:56,  9.91it/s]"
     ]
    },
    {
     "name": "stdout",
     "output_type": "stream",
     "text": [
      "Processing video: C:\\Users\\manuv\\Violence-Detection-With-Human-Skeletons\\data\\train\\Fight\\DTq6Gu30-uA_6.avi\n",
      "Processing video: C:\\Users\\manuv\\Violence-Detection-With-Human-Skeletons\\data\\train\\Fight\\dxzvtJ4gPC0_0.avi\n"
     ]
    },
    {
     "name": "stderr",
     "output_type": "stream",
     "text": [
      " 12%|█████████▊                                                                     | 247/1989 [00:23<02:38, 11.03it/s]"
     ]
    },
    {
     "name": "stdout",
     "output_type": "stream",
     "text": [
      "Processing video: C:\\Users\\manuv\\Violence-Detection-With-Human-Skeletons\\data\\train\\Fight\\dxzvtJ4gPC0_1.avi\n",
      "Processing video: C:\\Users\\manuv\\Violence-Detection-With-Human-Skeletons\\data\\train\\Fight\\E0Huf4Qi0JE_0.avi\n",
      "Processing video: C:\\Users\\manuv\\Violence-Detection-With-Human-Skeletons\\data\\train\\Fight\\E0Huf4Qi0JE_1.avi\n"
     ]
    },
    {
     "name": "stderr",
     "output_type": "stream",
     "text": [
      " 13%|█████████▉                                                                     | 251/1989 [00:23<02:16, 12.76it/s]"
     ]
    },
    {
     "name": "stdout",
     "output_type": "stream",
     "text": [
      "Processing video: C:\\Users\\manuv\\Violence-Detection-With-Human-Skeletons\\data\\train\\Fight\\E2gqgFNyPL8_0.avi\n",
      "Processing video: C:\\Users\\manuv\\Violence-Detection-With-Human-Skeletons\\data\\train\\Fight\\e4U3gEDEB58_0.avi\n",
      "Processing video: C:\\Users\\manuv\\Violence-Detection-With-Human-Skeletons\\data\\train\\Fight\\ECoMcgjR_0.avi\n"
     ]
    },
    {
     "name": "stderr",
     "output_type": "stream",
     "text": [
      " 13%|██████████                                                                     | 253/1989 [00:23<02:20, 12.36it/s]"
     ]
    },
    {
     "name": "stdout",
     "output_type": "stream",
     "text": [
      "Processing video: C:\\Users\\manuv\\Violence-Detection-With-Human-Skeletons\\data\\train\\Fight\\eifiXLWYul8_0.avi\n",
      "Processing video: C:\\Users\\manuv\\Violence-Detection-With-Human-Skeletons\\data\\train\\Fight\\Ek0jcAoCRw8_0.avi\n",
      "Processing video: C:\\Users\\manuv\\Violence-Detection-With-Human-Skeletons\\data\\train\\Fight\\Er-sOPbvRVI_0.avi\n"
     ]
    },
    {
     "name": "stderr",
     "output_type": "stream",
     "text": [
      " 13%|██████████▏                                                                    | 255/1989 [00:23<02:23, 12.12it/s]"
     ]
    },
    {
     "name": "stdout",
     "output_type": "stream",
     "text": [
      "Processing video: C:\\Users\\manuv\\Violence-Detection-With-Human-Skeletons\\data\\train\\Fight\\erwyrhd_337.avi\n",
      "Processing video: C:\\Users\\manuv\\Violence-Detection-With-Human-Skeletons\\data\\train\\Fight\\erwyrhd_338.avi\n",
      "Processing video: C:\\Users\\manuv\\Violence-Detection-With-Human-Skeletons\\data\\train\\Fight\\erwyrhd_339.avi\n"
     ]
    },
    {
     "name": "stderr",
     "output_type": "stream",
     "text": [
      " 13%|██████████▎                                                                    | 259/1989 [00:24<02:06, 13.69it/s]"
     ]
    },
    {
     "name": "stdout",
     "output_type": "stream",
     "text": [
      "Processing video: C:\\Users\\manuv\\Violence-Detection-With-Human-Skeletons\\data\\train\\Fight\\erwyrhd_340.avi\n",
      "Processing video: C:\\Users\\manuv\\Violence-Detection-With-Human-Skeletons\\data\\train\\Fight\\EtRfZ2KP_0.avi\n",
      "Processing video: C:\\Users\\manuv\\Violence-Detection-With-Human-Skeletons\\data\\train\\Fight\\EtRfZ2KP_2.avi\n",
      "Processing video: C:\\Users\\manuv\\Violence-Detection-With-Human-Skeletons\\data\\train\\Fight\\EtRfZ2KP_3.avi\n"
     ]
    },
    {
     "name": "stderr",
     "output_type": "stream",
     "text": [
      " 13%|██████████▍                                                                    | 263/1989 [00:24<01:54, 15.12it/s]"
     ]
    },
    {
     "name": "stdout",
     "output_type": "stream",
     "text": [
      "Processing video: C:\\Users\\manuv\\Violence-Detection-With-Human-Skeletons\\data\\train\\Fight\\EtRfZ2KP_4.avi\n",
      "Processing video: C:\\Users\\manuv\\Violence-Detection-With-Human-Skeletons\\data\\train\\Fight\\EtRfZ2KP_5.avi\n",
      "Processing video: C:\\Users\\manuv\\Violence-Detection-With-Human-Skeletons\\data\\train\\Fight\\f50PQz7mXds_0.avi\n"
     ]
    },
    {
     "name": "stderr",
     "output_type": "stream",
     "text": [
      " 13%|██████████▌                                                                    | 265/1989 [00:24<02:21, 12.19it/s]"
     ]
    },
    {
     "name": "stdout",
     "output_type": "stream",
     "text": [
      "Processing video: C:\\Users\\manuv\\Violence-Detection-With-Human-Skeletons\\data\\train\\Fight\\f50PQz7mXds_1.avi\n",
      "Processing video: C:\\Users\\manuv\\Violence-Detection-With-Human-Skeletons\\data\\train\\Fight\\F7W6PQ3V3y8_0.avi\n",
      "Processing video: C:\\Users\\manuv\\Violence-Detection-With-Human-Skeletons\\data\\train\\Fight\\F7W6PQ3V3y8_1.avi\n"
     ]
    },
    {
     "name": "stderr",
     "output_type": "stream",
     "text": [
      " 14%|██████████▋                                                                    | 269/1989 [00:24<02:12, 13.02it/s]"
     ]
    },
    {
     "name": "stdout",
     "output_type": "stream",
     "text": [
      "Processing video: C:\\Users\\manuv\\Violence-Detection-With-Human-Skeletons\\data\\train\\Fight\\F7W6PQ3V3y8_10.avi\n",
      "Processing video: C:\\Users\\manuv\\Violence-Detection-With-Human-Skeletons\\data\\train\\Fight\\F7W6PQ3V3y8_11.avi\n",
      "Processing video: C:\\Users\\manuv\\Violence-Detection-With-Human-Skeletons\\data\\train\\Fight\\F7W6PQ3V3y8_2.avi\n"
     ]
    },
    {
     "name": "stderr",
     "output_type": "stream",
     "text": [
      " 14%|██████████▊                                                                    | 271/1989 [00:25<02:13, 12.89it/s]"
     ]
    },
    {
     "name": "stdout",
     "output_type": "stream",
     "text": [
      "Processing video: C:\\Users\\manuv\\Violence-Detection-With-Human-Skeletons\\data\\train\\Fight\\F7W6PQ3V3y8_3.avi\n",
      "Processing video: C:\\Users\\manuv\\Violence-Detection-With-Human-Skeletons\\data\\train\\Fight\\F7W6PQ3V3y8_4.avi\n",
      "Processing video: C:\\Users\\manuv\\Violence-Detection-With-Human-Skeletons\\data\\train\\Fight\\F7W6PQ3V3y8_5.avi\n"
     ]
    },
    {
     "name": "stderr",
     "output_type": "stream",
     "text": [
      " 14%|██████████▉                                                                    | 275/1989 [00:25<02:11, 13.03it/s]"
     ]
    },
    {
     "name": "stdout",
     "output_type": "stream",
     "text": [
      "Processing video: C:\\Users\\manuv\\Violence-Detection-With-Human-Skeletons\\data\\train\\Fight\\F7W6PQ3V3y8_6.avi\n",
      "Processing video: C:\\Users\\manuv\\Violence-Detection-With-Human-Skeletons\\data\\train\\Fight\\F7W6PQ3V3y8_7.avi\n",
      "Processing video: C:\\Users\\manuv\\Violence-Detection-With-Human-Skeletons\\data\\train\\Fight\\F7W6PQ3V3y8_8.avi\n"
     ]
    },
    {
     "name": "stderr",
     "output_type": "stream",
     "text": [
      " 14%|███████████                                                                    | 277/1989 [00:25<02:08, 13.31it/s]"
     ]
    },
    {
     "name": "stdout",
     "output_type": "stream",
     "text": [
      "Processing video: C:\\Users\\manuv\\Violence-Detection-With-Human-Skeletons\\data\\train\\Fight\\F7W6PQ3V3y8_9.avi\n",
      "Processing video: C:\\Users\\manuv\\Violence-Detection-With-Human-Skeletons\\data\\train\\Fight\\Fc45rUKM_0.avi\n",
      "Processing video: C:\\Users\\manuv\\Violence-Detection-With-Human-Skeletons\\data\\train\\Fight\\Fc45rUKM_1.avi\n"
     ]
    },
    {
     "name": "stderr",
     "output_type": "stream",
     "text": [
      " 14%|███████████▏                                                                   | 281/1989 [00:25<01:54, 14.86it/s]"
     ]
    },
    {
     "name": "stdout",
     "output_type": "stream",
     "text": [
      "Processing video: C:\\Users\\manuv\\Violence-Detection-With-Human-Skeletons\\data\\train\\Fight\\Fc45rUKM_2.avi\n",
      "Processing video: C:\\Users\\manuv\\Violence-Detection-With-Human-Skeletons\\data\\train\\Fight\\Fc45rUKM_3.avi\n",
      "Processing video: C:\\Users\\manuv\\Violence-Detection-With-Human-Skeletons\\data\\train\\Fight\\Fc45rUKM_4.avi\n",
      "Processing video: C:\\Users\\manuv\\Violence-Detection-With-Human-Skeletons\\data\\train\\Fight\\Fc45rUKM_5.avi\n"
     ]
    },
    {
     "name": "stderr",
     "output_type": "stream",
     "text": [
      " 14%|███████████▎                                                                   | 285/1989 [00:26<01:56, 14.67it/s]"
     ]
    },
    {
     "name": "stdout",
     "output_type": "stream",
     "text": [
      "Processing video: C:\\Users\\manuv\\Violence-Detection-With-Human-Skeletons\\data\\train\\Fight\\Fc45rUKM_6.avi\n",
      "Processing video: C:\\Users\\manuv\\Violence-Detection-With-Human-Skeletons\\data\\train\\Fight\\fK7CSrQ6OpM_1.avi\n",
      "Processing video: C:\\Users\\manuv\\Violence-Detection-With-Human-Skeletons\\data\\train\\Fight\\fK7CSrQ6OpM_2.avi\n"
     ]
    },
    {
     "name": "stderr",
     "output_type": "stream",
     "text": [
      " 14%|███████████▍                                                                   | 287/1989 [00:26<02:01, 14.01it/s]"
     ]
    },
    {
     "name": "stdout",
     "output_type": "stream",
     "text": [
      "Processing video: C:\\Users\\manuv\\Violence-Detection-With-Human-Skeletons\\data\\train\\Fight\\fK7CSrQ6OpM_4.avi\n",
      "Processing video: C:\\Users\\manuv\\Violence-Detection-With-Human-Skeletons\\data\\train\\Fight\\fRYqXRRcqCs_0.avi\n",
      "Processing video: C:\\Users\\manuv\\Violence-Detection-With-Human-Skeletons\\data\\train\\Fight\\FSaZ8wiFw8Q_0.avi\n"
     ]
    },
    {
     "name": "stderr",
     "output_type": "stream",
     "text": [
      " 15%|███████████▌                                                                   | 291/1989 [00:26<02:10, 12.97it/s]"
     ]
    },
    {
     "name": "stdout",
     "output_type": "stream",
     "text": [
      "Processing video: C:\\Users\\manuv\\Violence-Detection-With-Human-Skeletons\\data\\train\\Fight\\fSE4L50n_0.avi\n",
      "Processing video: C:\\Users\\manuv\\Violence-Detection-With-Human-Skeletons\\data\\train\\Fight\\fsVC-FnnklU_0.avi\n",
      "Processing video: C:\\Users\\manuv\\Violence-Detection-With-Human-Skeletons\\data\\train\\Fight\\fsVC-FnnklU_1.avi\n"
     ]
    },
    {
     "name": "stderr",
     "output_type": "stream",
     "text": [
      " 15%|███████████▋                                                                   | 293/1989 [00:26<02:19, 12.12it/s]"
     ]
    },
    {
     "name": "stdout",
     "output_type": "stream",
     "text": [
      "Processing video: C:\\Users\\manuv\\Violence-Detection-With-Human-Skeletons\\data\\train\\Fight\\fwEk96k8g_I_0.avi\n",
      "Processing video: C:\\Users\\manuv\\Violence-Detection-With-Human-Skeletons\\data\\train\\Fight\\fwEk96k8g_I_1.avi\n",
      "Processing video: C:\\Users\\manuv\\Violence-Detection-With-Human-Skeletons\\data\\train\\Fight\\fwEk96k8g_I_2.avi\n"
     ]
    },
    {
     "name": "stderr",
     "output_type": "stream",
     "text": [
      " 15%|███████████▊                                                                   | 297/1989 [00:26<02:07, 13.31it/s]"
     ]
    },
    {
     "name": "stdout",
     "output_type": "stream",
     "text": [
      "Processing video: C:\\Users\\manuv\\Violence-Detection-With-Human-Skeletons\\data\\train\\Fight\\fwEk96k8g_I_3.avi\n",
      "Processing video: C:\\Users\\manuv\\Violence-Detection-With-Human-Skeletons\\data\\train\\Fight\\FZDDNtcaBcw_0.avi\n",
      "Processing video: C:\\Users\\manuv\\Violence-Detection-With-Human-Skeletons\\data\\train\\Fight\\FZDDNtcaBcw_1.avi\n"
     ]
    },
    {
     "name": "stderr",
     "output_type": "stream",
     "text": [
      " 15%|███████████▉                                                                   | 299/1989 [00:27<02:05, 13.51it/s]"
     ]
    },
    {
     "name": "stdout",
     "output_type": "stream",
     "text": [
      "Processing video: C:\\Users\\manuv\\Violence-Detection-With-Human-Skeletons\\data\\train\\Fight\\FZDDNtcaBcw_2.avi\n",
      "Processing video: C:\\Users\\manuv\\Violence-Detection-With-Human-Skeletons\\data\\train\\Fight\\G3E1YP6agWs_0.avi\n",
      "Processing video: C:\\Users\\manuv\\Violence-Detection-With-Human-Skeletons\\data\\train\\Fight\\G3E1YP6agWs_1.avi\n"
     ]
    },
    {
     "name": "stderr",
     "output_type": "stream",
     "text": [
      " 15%|███████████▉                                                                   | 301/1989 [00:27<02:03, 13.65it/s]"
     ]
    },
    {
     "name": "stdout",
     "output_type": "stream",
     "text": [
      "Processing video: C:\\Users\\manuv\\Violence-Detection-With-Human-Skeletons\\data\\train\\Fight\\GafFu4IZtIA_0.avi\n",
      "Processing video: C:\\Users\\manuv\\Violence-Detection-With-Human-Skeletons\\data\\train\\Fight\\GafFu4IZtIA_1.avi\n"
     ]
    },
    {
     "name": "stderr",
     "output_type": "stream",
     "text": [
      " 15%|████████████                                                                   | 303/1989 [00:27<02:26, 11.51it/s]"
     ]
    },
    {
     "name": "stdout",
     "output_type": "stream",
     "text": [
      "Processing video: C:\\Users\\manuv\\Violence-Detection-With-Human-Skeletons\\data\\train\\Fight\\GafFu4IZtIA_2.avi\n",
      "Processing video: C:\\Users\\manuv\\Violence-Detection-With-Human-Skeletons\\data\\train\\Fight\\GafFu4IZtIA_3.avi\n"
     ]
    },
    {
     "name": "stderr",
     "output_type": "stream",
     "text": [
      " 15%|████████████▏                                                                  | 307/1989 [00:27<02:33, 10.95it/s]"
     ]
    },
    {
     "name": "stdout",
     "output_type": "stream",
     "text": [
      "Processing video: C:\\Users\\manuv\\Violence-Detection-With-Human-Skeletons\\data\\train\\Fight\\GafFu4IZtIA_4.avi\n",
      "Processing video: C:\\Users\\manuv\\Violence-Detection-With-Human-Skeletons\\data\\train\\Fight\\GafFu4IZtIA_6.avi\n",
      "Processing video: C:\\Users\\manuv\\Violence-Detection-With-Human-Skeletons\\data\\train\\Fight\\GafFu4IZtIA_7.avi\n"
     ]
    },
    {
     "name": "stderr",
     "output_type": "stream",
     "text": [
      " 16%|████████████▎                                                                  | 311/1989 [00:28<02:11, 12.77it/s]"
     ]
    },
    {
     "name": "stdout",
     "output_type": "stream",
     "text": [
      "Processing video: C:\\Users\\manuv\\Violence-Detection-With-Human-Skeletons\\data\\train\\Fight\\gHcG_c1i4uE_0.avi\n",
      "Processing video: C:\\Users\\manuv\\Violence-Detection-With-Human-Skeletons\\data\\train\\Fight\\GhZRf4GIw0w_0.avi\n",
      "Processing video: C:\\Users\\manuv\\Violence-Detection-With-Human-Skeletons\\data\\train\\Fight\\gJDvtfRrM7k_0.avi\n"
     ]
    },
    {
     "name": "stderr",
     "output_type": "stream",
     "text": [
      " 16%|████████████▍                                                                  | 313/1989 [00:28<02:00, 13.86it/s]"
     ]
    },
    {
     "name": "stdout",
     "output_type": "stream",
     "text": [
      "Processing video: C:\\Users\\manuv\\Violence-Detection-With-Human-Skeletons\\data\\train\\Fight\\gJDvtfRrM7k_1.avi\n",
      "Processing video: C:\\Users\\manuv\\Violence-Detection-With-Human-Skeletons\\data\\train\\Fight\\GKsvH_pVNQU_0.avi\n",
      "Processing video: C:\\Users\\manuv\\Violence-Detection-With-Human-Skeletons\\data\\train\\Fight\\GKsvH_pVNQU_1.avi\n",
      "Processing video: C:\\Users\\manuv\\Violence-Detection-With-Human-Skeletons\\data\\train\\Fight\\gnBmOf7v_0.avi\n"
     ]
    },
    {
     "name": "stderr",
     "output_type": "stream",
     "text": [
      " 16%|████████████▌                                                                  | 317/1989 [00:28<01:57, 14.28it/s]"
     ]
    },
    {
     "name": "stdout",
     "output_type": "stream",
     "text": [
      "Processing video: C:\\Users\\manuv\\Violence-Detection-With-Human-Skeletons\\data\\train\\Fight\\gnBmOf7v_1.avi\n",
      "Processing video: C:\\Users\\manuv\\Violence-Detection-With-Human-Skeletons\\data\\train\\Fight\\gnBmOf7v_2.avi\n",
      "Processing video: C:\\Users\\manuv\\Violence-Detection-With-Human-Skeletons\\data\\train\\Fight\\gNIohJfdvEc_0.avi\n"
     ]
    },
    {
     "name": "stderr",
     "output_type": "stream",
     "text": [
      " 16%|████████████▋                                                                  | 319/1989 [00:28<02:09, 12.88it/s]"
     ]
    },
    {
     "name": "stdout",
     "output_type": "stream",
     "text": [
      "Processing video: C:\\Users\\manuv\\Violence-Detection-With-Human-Skeletons\\data\\train\\Fight\\gNIohJfdvEc_1.avi\n",
      "Processing video: C:\\Users\\manuv\\Violence-Detection-With-Human-Skeletons\\data\\train\\Fight\\gNIohJfdvEc_2.avi\n"
     ]
    },
    {
     "name": "stderr",
     "output_type": "stream",
     "text": [
      " 16%|████████████▋                                                                  | 321/1989 [00:28<02:30, 11.11it/s]"
     ]
    },
    {
     "name": "stdout",
     "output_type": "stream",
     "text": [
      "Processing video: C:\\Users\\manuv\\Violence-Detection-With-Human-Skeletons\\data\\train\\Fight\\Gr3ikl6A2bE_1.avi\n",
      "Processing video: C:\\Users\\manuv\\Violence-Detection-With-Human-Skeletons\\data\\train\\Fight\\Gr3ikl6A2bE_2.avi\n"
     ]
    },
    {
     "name": "stderr",
     "output_type": "stream",
     "text": [
      " 16%|████████████▊                                                                  | 323/1989 [00:29<02:40, 10.39it/s]"
     ]
    },
    {
     "name": "stdout",
     "output_type": "stream",
     "text": [
      "Processing video: C:\\Users\\manuv\\Violence-Detection-With-Human-Skeletons\\data\\train\\Fight\\gR4OsEPl894_0.avi\n",
      "Processing video: C:\\Users\\manuv\\Violence-Detection-With-Human-Skeletons\\data\\train\\Fight\\gR4OsEPl894_2.avi\n"
     ]
    },
    {
     "name": "stderr",
     "output_type": "stream",
     "text": [
      " 16%|████████████▉                                                                  | 325/1989 [00:29<02:34, 10.79it/s]"
     ]
    },
    {
     "name": "stdout",
     "output_type": "stream",
     "text": [
      "Processing video: C:\\Users\\manuv\\Violence-Detection-With-Human-Skeletons\\data\\train\\Fight\\GtGAcKxn_0.avi\n",
      "Processing video: C:\\Users\\manuv\\Violence-Detection-With-Human-Skeletons\\data\\train\\Fight\\GuLMP_IOrR0_0.avi\n",
      "Processing video: C:\\Users\\manuv\\Violence-Detection-With-Human-Skeletons\\data\\train\\Fight\\GuLMP_IOrR0_1.avi\n"
     ]
    },
    {
     "name": "stderr",
     "output_type": "stream",
     "text": [
      " 17%|█████████████                                                                  | 329/1989 [00:29<02:30, 11.02it/s]"
     ]
    },
    {
     "name": "stdout",
     "output_type": "stream",
     "text": [
      "Processing video: C:\\Users\\manuv\\Violence-Detection-With-Human-Skeletons\\data\\train\\Fight\\H1AzC-GyKto_0.avi\n",
      "Processing video: C:\\Users\\manuv\\Violence-Detection-With-Human-Skeletons\\data\\train\\Fight\\H1AzC-GyKto_1.avi\n",
      "Processing video: C:\\Users\\manuv\\Violence-Detection-With-Human-Skeletons\\data\\train\\Fight\\hEjHnhy2_0.avi\n"
     ]
    },
    {
     "name": "stderr",
     "output_type": "stream",
     "text": [
      " 17%|█████████████▏                                                                 | 331/1989 [00:29<02:17, 12.04it/s]"
     ]
    },
    {
     "name": "stdout",
     "output_type": "stream",
     "text": [
      "Processing video: C:\\Users\\manuv\\Violence-Detection-With-Human-Skeletons\\data\\train\\Fight\\HgwpC5Xx_0.avi\n",
      "Processing video: C:\\Users\\manuv\\Violence-Detection-With-Human-Skeletons\\data\\train\\Fight\\HtbVjsRA_0.avi\n",
      "Processing video: C:\\Users\\manuv\\Violence-Detection-With-Human-Skeletons\\data\\train\\Fight\\HtbVjsRA_1.avi\n"
     ]
    },
    {
     "name": "stderr",
     "output_type": "stream",
     "text": [
      " 17%|█████████████▎                                                                 | 335/1989 [00:30<02:17, 12.00it/s]"
     ]
    },
    {
     "name": "stdout",
     "output_type": "stream",
     "text": [
      "Processing video: C:\\Users\\manuv\\Violence-Detection-With-Human-Skeletons\\data\\train\\Fight\\HtbVjsRA_2.avi\n",
      "Processing video: C:\\Users\\manuv\\Violence-Detection-With-Human-Skeletons\\data\\train\\Fight\\HVSv9sgz2ZI_0.avi\n"
     ]
    },
    {
     "name": "stderr",
     "output_type": "stream",
     "text": [
      " 17%|█████████████▍                                                                 | 337/1989 [00:30<02:23, 11.53it/s]"
     ]
    },
    {
     "name": "stdout",
     "output_type": "stream",
     "text": [
      "Processing video: C:\\Users\\manuv\\Violence-Detection-With-Human-Skeletons\\data\\train\\Fight\\HVSv9sgz2ZI_1.avi\n",
      "Processing video: C:\\Users\\manuv\\Violence-Detection-With-Human-Skeletons\\data\\train\\Fight\\HVSv9sgz2ZI_2.avi\n",
      "Processing video: C:\\Users\\manuv\\Violence-Detection-With-Human-Skeletons\\data\\train\\Fight\\HVSv9sgz2ZI_4.avi\n",
      "Processing video: C:\\Users\\manuv\\Violence-Detection-With-Human-Skeletons\\data\\train\\Fight\\HVSv9sgz2ZI_5.avi\n"
     ]
    },
    {
     "name": "stderr",
     "output_type": "stream",
     "text": [
      " 17%|█████████████▌                                                                 | 341/1989 [00:30<02:27, 11.15it/s]"
     ]
    },
    {
     "name": "stdout",
     "output_type": "stream",
     "text": [
      "Processing video: C:\\Users\\manuv\\Violence-Detection-With-Human-Skeletons\\data\\train\\Fight\\HW48LUZKOL4_0.avi\n",
      "Processing video: C:\\Users\\manuv\\Violence-Detection-With-Human-Skeletons\\data\\train\\Fight\\HW48LUZKOL4_1.avi\n",
      "Processing video: C:\\Users\\manuv\\Violence-Detection-With-Human-Skeletons\\data\\train\\Fight\\HW48LUZKOL4_2.avi\n"
     ]
    },
    {
     "name": "stderr",
     "output_type": "stream",
     "text": [
      " 17%|█████████████▌                                                                 | 343/1989 [00:30<02:32, 10.77it/s]"
     ]
    },
    {
     "name": "stdout",
     "output_type": "stream",
     "text": [
      "Processing video: C:\\Users\\manuv\\Violence-Detection-With-Human-Skeletons\\data\\train\\Fight\\HW48LUZKOL4_4.avi\n",
      "Processing video: C:\\Users\\manuv\\Violence-Detection-With-Human-Skeletons\\data\\train\\Fight\\H_VQJU0Bqpc_1.avi\n"
     ]
    },
    {
     "name": "stderr",
     "output_type": "stream",
     "text": [
      " 17%|█████████████▋                                                                 | 345/1989 [00:31<02:42, 10.09it/s]"
     ]
    },
    {
     "name": "stdout",
     "output_type": "stream",
     "text": [
      "Processing video: C:\\Users\\manuv\\Violence-Detection-With-Human-Skeletons\\data\\train\\Fight\\H_VQJU0Bqpc_2.avi\n",
      "Processing video: C:\\Users\\manuv\\Violence-Detection-With-Human-Skeletons\\data\\train\\Fight\\I-x0G5pAan0_0.avi\n"
     ]
    },
    {
     "name": "stderr",
     "output_type": "stream",
     "text": [
      " 17%|█████████████▊                                                                 | 347/1989 [00:31<02:36, 10.48it/s]"
     ]
    },
    {
     "name": "stdout",
     "output_type": "stream",
     "text": [
      "Processing video: C:\\Users\\manuv\\Violence-Detection-With-Human-Skeletons\\data\\train\\Fight\\i2sLegg2JPA_0.avi\n",
      "Processing video: C:\\Users\\manuv\\Violence-Detection-With-Human-Skeletons\\data\\train\\Fight\\i2sLegg2JPA_1.avi\n",
      "Processing video: C:\\Users\\manuv\\Violence-Detection-With-Human-Skeletons\\data\\train\\Fight\\i5xJxtv4gXs_0.avi\n"
     ]
    },
    {
     "name": "stderr",
     "output_type": "stream",
     "text": [
      " 18%|█████████████▊                                                                 | 349/1989 [00:31<02:40, 10.23it/s]"
     ]
    },
    {
     "name": "stdout",
     "output_type": "stream",
     "text": [
      "Processing video: C:\\Users\\manuv\\Violence-Detection-With-Human-Skeletons\\data\\train\\Fight\\i5xJxtv4gXs_1.avi\n",
      "Processing video: C:\\Users\\manuv\\Violence-Detection-With-Human-Skeletons\\data\\train\\Fight\\i5xJxtv4gXs_2.avi\n"
     ]
    },
    {
     "name": "stderr",
     "output_type": "stream",
     "text": [
      " 18%|█████████████▉                                                                 | 352/1989 [00:31<03:01,  9.01it/s]"
     ]
    },
    {
     "name": "stdout",
     "output_type": "stream",
     "text": [
      "Processing video: C:\\Users\\manuv\\Violence-Detection-With-Human-Skeletons\\data\\train\\Fight\\i5xJxtv4gXs_3.avi\n",
      "Processing video: C:\\Users\\manuv\\Violence-Detection-With-Human-Skeletons\\data\\train\\Fight\\i5xJxtv4gXs_4.avi\n"
     ]
    },
    {
     "name": "stderr",
     "output_type": "stream",
     "text": [
      " 18%|██████████████                                                                 | 354/1989 [00:32<02:48,  9.70it/s]"
     ]
    },
    {
     "name": "stdout",
     "output_type": "stream",
     "text": [
      "Processing video: C:\\Users\\manuv\\Violence-Detection-With-Human-Skeletons\\data\\train\\Fight\\iHUwZBSx_0.avi\n",
      "Processing video: C:\\Users\\manuv\\Violence-Detection-With-Human-Skeletons\\data\\train\\Fight\\Ile3EVQA_0.avi\n",
      "Processing video: C:\\Users\\manuv\\Violence-Detection-With-Human-Skeletons\\data\\train\\Fight\\Ile3EVQA_1.avi\n"
     ]
    },
    {
     "name": "stderr",
     "output_type": "stream",
     "text": [
      " 18%|██████████████▏                                                                | 358/1989 [00:32<02:29, 10.89it/s]"
     ]
    },
    {
     "name": "stdout",
     "output_type": "stream",
     "text": [
      "Processing video: C:\\Users\\manuv\\Violence-Detection-With-Human-Skeletons\\data\\train\\Fight\\iP6yS_OroMk_0.avi\n",
      "Processing video: C:\\Users\\manuv\\Violence-Detection-With-Human-Skeletons\\data\\train\\Fight\\iquSbj5Wqj0_0.avi\n"
     ]
    },
    {
     "name": "stderr",
     "output_type": "stream",
     "text": [
      " 18%|██████████████▎                                                                | 360/1989 [00:32<02:27, 11.07it/s]"
     ]
    },
    {
     "name": "stdout",
     "output_type": "stream",
     "text": [
      "Processing video: C:\\Users\\manuv\\Violence-Detection-With-Human-Skeletons\\data\\train\\Fight\\iquSbj5Wqj0_1.avi\n",
      "Processing video: C:\\Users\\manuv\\Violence-Detection-With-Human-Skeletons\\data\\train\\Fight\\jCD7lUJQ7Xc_0.avi\n",
      "Processing video: C:\\Users\\manuv\\Violence-Detection-With-Human-Skeletons\\data\\train\\Fight\\jCD7lUJQ7Xc_1.avi\n"
     ]
    },
    {
     "name": "stderr",
     "output_type": "stream",
     "text": [
      " 18%|██████████████▍                                                                | 362/1989 [00:32<02:21, 11.50it/s]"
     ]
    },
    {
     "name": "stdout",
     "output_type": "stream",
     "text": [
      "Processing video: C:\\Users\\manuv\\Violence-Detection-With-Human-Skeletons\\data\\train\\Fight\\jILBnY3lB2Q_0.avi\n",
      "Processing video: C:\\Users\\manuv\\Violence-Detection-With-Human-Skeletons\\data\\train\\Fight\\JJG0bHPur50_0.avi\n",
      "Processing video: C:\\Users\\manuv\\Violence-Detection-With-Human-Skeletons\\data\\train\\Fight\\JJG0bHPur50_1.avi\n"
     ]
    },
    {
     "name": "stderr",
     "output_type": "stream",
     "text": [
      " 18%|██████████████▌                                                                | 366/1989 [00:33<02:04, 13.05it/s]"
     ]
    },
    {
     "name": "stdout",
     "output_type": "stream",
     "text": [
      "Processing video: C:\\Users\\manuv\\Violence-Detection-With-Human-Skeletons\\data\\train\\Fight\\JJG0bHPur50_2.avi\n",
      "Processing video: C:\\Users\\manuv\\Violence-Detection-With-Human-Skeletons\\data\\train\\Fight\\jmZqmYnH_0.avi\n",
      "Processing video: C:\\Users\\manuv\\Violence-Detection-With-Human-Skeletons\\data\\train\\Fight\\jmZqmYnH_1.avi\n",
      "Processing video: C:\\Users\\manuv\\Violence-Detection-With-Human-Skeletons\\data\\train\\Fight\\JPIeYvRgo6I_0.avi\n"
     ]
    },
    {
     "name": "stderr",
     "output_type": "stream",
     "text": [
      " 19%|██████████████▋                                                                | 369/1989 [00:33<01:52, 14.40it/s]"
     ]
    },
    {
     "name": "stdout",
     "output_type": "stream",
     "text": [
      "Processing video: C:\\Users\\manuv\\Violence-Detection-With-Human-Skeletons\\data\\train\\Fight\\JPIeYvRgo6I_1.avi\n",
      "Processing video: C:\\Users\\manuv\\Violence-Detection-With-Human-Skeletons\\data\\train\\Fight\\Jq8neqBlL2Y_2.avi\n",
      "Processing video: C:\\Users\\manuv\\Violence-Detection-With-Human-Skeletons\\data\\train\\Fight\\Jq8neqBlL2Y_3.avi\n"
     ]
    },
    {
     "name": "stderr",
     "output_type": "stream",
     "text": [
      " 19%|██████████████▊                                                                | 373/1989 [00:33<01:58, 13.58it/s]"
     ]
    },
    {
     "name": "stdout",
     "output_type": "stream",
     "text": [
      "Processing video: C:\\Users\\manuv\\Violence-Detection-With-Human-Skeletons\\data\\train\\Fight\\Jq8neqBlL2Y_4.avi\n",
      "Processing video: C:\\Users\\manuv\\Violence-Detection-With-Human-Skeletons\\data\\train\\Fight\\Jq8neqBlL2Y_5.avi\n",
      "Processing video: C:\\Users\\manuv\\Violence-Detection-With-Human-Skeletons\\data\\train\\Fight\\JRL5Vvql_0.avi\n"
     ]
    },
    {
     "name": "stderr",
     "output_type": "stream",
     "text": [
      " 19%|██████████████▉                                                                | 375/1989 [00:33<02:05, 12.88it/s]"
     ]
    },
    {
     "name": "stdout",
     "output_type": "stream",
     "text": [
      "Processing video: C:\\Users\\manuv\\Violence-Detection-With-Human-Skeletons\\data\\train\\Fight\\JRL5Vvql_1.avi\n",
      "Processing video: C:\\Users\\manuv\\Violence-Detection-With-Human-Skeletons\\data\\train\\Fight\\Jt4WbOZeT7s_0.avi\n",
      "Processing video: C:\\Users\\manuv\\Violence-Detection-With-Human-Skeletons\\data\\train\\Fight\\jTbvVbkUaPM_0.avi\n"
     ]
    },
    {
     "name": "stderr",
     "output_type": "stream",
     "text": [
      " 19%|███████████████                                                                | 379/1989 [00:33<02:01, 13.29it/s]"
     ]
    },
    {
     "name": "stdout",
     "output_type": "stream",
     "text": [
      "Processing video: C:\\Users\\manuv\\Violence-Detection-With-Human-Skeletons\\data\\train\\Fight\\jTbvVbkUaPM_4.avi\n",
      "Processing video: C:\\Users\\manuv\\Violence-Detection-With-Human-Skeletons\\data\\train\\Fight\\jTbvVbkUaPM_5.avi\n",
      "Processing video: C:\\Users\\manuv\\Violence-Detection-With-Human-Skeletons\\data\\train\\Fight\\jtzWSah-BZM_0.avi\n"
     ]
    },
    {
     "name": "stderr",
     "output_type": "stream",
     "text": [
      " 19%|███████████████▏                                                               | 381/1989 [00:34<01:59, 13.49it/s]"
     ]
    },
    {
     "name": "stdout",
     "output_type": "stream",
     "text": [
      "Processing video: C:\\Users\\manuv\\Violence-Detection-With-Human-Skeletons\\data\\train\\Fight\\JwTPruSFTjk_0.avi\n",
      "Processing video: C:\\Users\\manuv\\Violence-Detection-With-Human-Skeletons\\data\\train\\Fight\\JwTPruSFTjk_1.avi\n",
      "Processing video: C:\\Users\\manuv\\Violence-Detection-With-Human-Skeletons\\data\\train\\Fight\\K6WRP2xi_0.avi\n"
     ]
    },
    {
     "name": "stderr",
     "output_type": "stream",
     "text": [
      " 19%|███████████████▎                                                               | 385/1989 [00:34<01:52, 14.21it/s]"
     ]
    },
    {
     "name": "stdout",
     "output_type": "stream",
     "text": [
      "Processing video: C:\\Users\\manuv\\Violence-Detection-With-Human-Skeletons\\data\\train\\Fight\\K6WRP2xi_1.avi\n",
      "Processing video: C:\\Users\\manuv\\Violence-Detection-With-Human-Skeletons\\data\\train\\Fight\\K6WRP2xi_2.avi\n",
      "Processing video: C:\\Users\\manuv\\Violence-Detection-With-Human-Skeletons\\data\\train\\Fight\\K6WRP2xi_3.avi\n",
      "Processing video: C:\\Users\\manuv\\Violence-Detection-With-Human-Skeletons\\data\\train\\Fight\\kExp3yhspR0_0.avi\n"
     ]
    },
    {
     "name": "stderr",
     "output_type": "stream",
     "text": [
      " 19%|███████████████▎                                                               | 387/1989 [00:34<01:57, 13.69it/s]"
     ]
    },
    {
     "name": "stdout",
     "output_type": "stream",
     "text": [
      "Processing video: C:\\Users\\manuv\\Violence-Detection-With-Human-Skeletons\\data\\train\\Fight\\kExp3yhspR0_1.avi\n",
      "Processing video: C:\\Users\\manuv\\Violence-Detection-With-Human-Skeletons\\data\\train\\Fight\\kExp3yhspR0_2.avi\n"
     ]
    },
    {
     "name": "stderr",
     "output_type": "stream",
     "text": [
      " 20%|███████████████▍                                                               | 389/1989 [00:34<02:18, 11.53it/s]"
     ]
    },
    {
     "name": "stdout",
     "output_type": "stream",
     "text": [
      "Processing video: C:\\Users\\manuv\\Violence-Detection-With-Human-Skeletons\\data\\train\\Fight\\kExp3yhspR0_3.avi\n",
      "Processing video: C:\\Users\\manuv\\Violence-Detection-With-Human-Skeletons\\data\\train\\Fight\\kLHNW0uRutY_0.avi\n"
     ]
    },
    {
     "name": "stderr",
     "output_type": "stream",
     "text": [
      " 20%|███████████████▌                                                               | 391/1989 [00:35<02:34, 10.37it/s]"
     ]
    },
    {
     "name": "stdout",
     "output_type": "stream",
     "text": [
      "Processing video: C:\\Users\\manuv\\Violence-Detection-With-Human-Skeletons\\data\\train\\Fight\\kLHNW0uRutY_1.avi\n",
      "Processing video: C:\\Users\\manuv\\Violence-Detection-With-Human-Skeletons\\data\\train\\Fight\\kLHNW0uRutY_2.avi\n"
     ]
    },
    {
     "name": "stderr",
     "output_type": "stream",
     "text": [
      " 20%|███████████████▌                                                               | 393/1989 [00:35<02:41,  9.89it/s]"
     ]
    },
    {
     "name": "stdout",
     "output_type": "stream",
     "text": [
      "Processing video: C:\\Users\\manuv\\Violence-Detection-With-Human-Skeletons\\data\\train\\Fight\\kLHNW0uRutY_3.avi\n",
      "Processing video: C:\\Users\\manuv\\Violence-Detection-With-Human-Skeletons\\data\\train\\Fight\\kLHNW0uRutY_4.avi\n"
     ]
    },
    {
     "name": "stderr",
     "output_type": "stream",
     "text": [
      " 20%|███████████████▋                                                               | 395/1989 [00:35<02:45,  9.63it/s]"
     ]
    },
    {
     "name": "stdout",
     "output_type": "stream",
     "text": [
      "Processing video: C:\\Users\\manuv\\Violence-Detection-With-Human-Skeletons\\data\\train\\Fight\\kLHNW0uRutY_5.avi\n",
      "Processing video: C:\\Users\\manuv\\Violence-Detection-With-Human-Skeletons\\data\\train\\Fight\\kMI2JME3Aag_0.avi\n"
     ]
    },
    {
     "name": "stderr",
     "output_type": "stream",
     "text": [
      " 20%|███████████████▊                                                               | 399/1989 [00:35<02:36, 10.18it/s]"
     ]
    },
    {
     "name": "stdout",
     "output_type": "stream",
     "text": [
      "Processing video: C:\\Users\\manuv\\Violence-Detection-With-Human-Skeletons\\data\\train\\Fight\\kMI2JME3Aag_1.avi\n",
      "Processing video: C:\\Users\\manuv\\Violence-Detection-With-Human-Skeletons\\data\\train\\Fight\\kMI2JME3Aag_2.avi\n",
      "Processing video: C:\\Users\\manuv\\Violence-Detection-With-Human-Skeletons\\data\\train\\Fight\\kOp57sQKMPY_0.avi\n"
     ]
    },
    {
     "name": "stderr",
     "output_type": "stream",
     "text": [
      " 20%|███████████████▉                                                               | 401/1989 [00:36<02:45,  9.57it/s]"
     ]
    },
    {
     "name": "stdout",
     "output_type": "stream",
     "text": [
      "Processing video: C:\\Users\\manuv\\Violence-Detection-With-Human-Skeletons\\data\\train\\Fight\\kOp57sQKMPY_1.avi\n",
      "Processing video: C:\\Users\\manuv\\Violence-Detection-With-Human-Skeletons\\data\\train\\Fight\\ksdkojifes_416.avi\n"
     ]
    },
    {
     "name": "stderr",
     "output_type": "stream",
     "text": [
      " 20%|████████████████                                                               | 403/1989 [00:36<02:34, 10.28it/s]"
     ]
    },
    {
     "name": "stdout",
     "output_type": "stream",
     "text": [
      "Processing video: C:\\Users\\manuv\\Violence-Detection-With-Human-Skeletons\\data\\train\\Fight\\Kx5lWLPZ0Y0_0.avi\n",
      "Processing video: C:\\Users\\manuv\\Violence-Detection-With-Human-Skeletons\\data\\train\\Fight\\Kx5lWLPZ0Y0_1.avi\n",
      "Processing video: C:\\Users\\manuv\\Violence-Detection-With-Human-Skeletons\\data\\train\\Fight\\K_7hT4N2QCE_0.avi\n"
     ]
    },
    {
     "name": "stderr",
     "output_type": "stream",
     "text": [
      " 20%|████████████████                                                               | 405/1989 [00:36<02:32, 10.37it/s]"
     ]
    },
    {
     "name": "stdout",
     "output_type": "stream",
     "text": [
      "Processing video: C:\\Users\\manuv\\Violence-Detection-With-Human-Skeletons\\data\\train\\Fight\\K_7hT4N2QCE_1.avi\n",
      "Processing video: C:\\Users\\manuv\\Violence-Detection-With-Human-Skeletons\\data\\train\\Fight\\K_7hT4N2QCE_2.avi\n"
     ]
    },
    {
     "name": "stderr",
     "output_type": "stream",
     "text": [
      " 21%|████████████████▏                                                              | 409/1989 [00:36<02:22, 11.09it/s]"
     ]
    },
    {
     "name": "stdout",
     "output_type": "stream",
     "text": [
      "Processing video: C:\\Users\\manuv\\Violence-Detection-With-Human-Skeletons\\data\\train\\Fight\\l4gqDHx9_dI_0.avi\n",
      "Processing video: C:\\Users\\manuv\\Violence-Detection-With-Human-Skeletons\\data\\train\\Fight\\l4gqDHx9_dI_1.avi\n",
      "Processing video: C:\\Users\\manuv\\Violence-Detection-With-Human-Skeletons\\data\\train\\Fight\\l4gqDHx9_dI_2.avi\n",
      "Processing video: C:\\Users\\manuv\\Violence-Detection-With-Human-Skeletons\\data\\train\\Fight\\l4gqDHx9_dI_3.avi\n"
     ]
    },
    {
     "name": "stderr",
     "output_type": "stream",
     "text": [
      " 21%|████████████████▍                                                              | 414/1989 [00:37<01:53, 13.85it/s]"
     ]
    },
    {
     "name": "stdout",
     "output_type": "stream",
     "text": [
      "Processing video: C:\\Users\\manuv\\Violence-Detection-With-Human-Skeletons\\data\\train\\Fight\\lI17Q0j3_0.avi\n",
      "Processing video: C:\\Users\\manuv\\Violence-Detection-With-Human-Skeletons\\data\\train\\Fight\\lL3FQltu_0.avi\n",
      "Processing video: C:\\Users\\manuv\\Violence-Detection-With-Human-Skeletons\\data\\train\\Fight\\LLo_TXIz5-g_0.avi\n",
      "Processing video: C:\\Users\\manuv\\Violence-Detection-With-Human-Skeletons\\data\\train\\Fight\\lmfaDmCCRoY_0.avi\n"
     ]
    },
    {
     "name": "stderr",
     "output_type": "stream",
     "text": [
      " 21%|████████████████▌                                                              | 416/1989 [00:37<02:06, 12.41it/s]"
     ]
    },
    {
     "name": "stdout",
     "output_type": "stream",
     "text": [
      "Processing video: C:\\Users\\manuv\\Violence-Detection-With-Human-Skeletons\\data\\train\\Fight\\lmfaDmCCRoY_1.avi\n",
      "Processing video: C:\\Users\\manuv\\Violence-Detection-With-Human-Skeletons\\data\\train\\Fight\\lmfaDmCCRoY_2.avi\n"
     ]
    },
    {
     "name": "stderr",
     "output_type": "stream",
     "text": [
      " 21%|████████████████▌                                                              | 418/1989 [00:37<02:19, 11.23it/s]"
     ]
    },
    {
     "name": "stdout",
     "output_type": "stream",
     "text": [
      "Processing video: C:\\Users\\manuv\\Violence-Detection-With-Human-Skeletons\\data\\train\\Fight\\lmfaDmCCRoY_3.avi\n",
      "Processing video: C:\\Users\\manuv\\Violence-Detection-With-Human-Skeletons\\data\\train\\Fight\\lmfaDmCCRoY_4.avi\n"
     ]
    },
    {
     "name": "stderr",
     "output_type": "stream",
     "text": [
      " 21%|████████████████▋                                                              | 420/1989 [00:37<02:33, 10.23it/s]"
     ]
    },
    {
     "name": "stdout",
     "output_type": "stream",
     "text": [
      "Processing video: C:\\Users\\manuv\\Violence-Detection-With-Human-Skeletons\\data\\train\\Fight\\lmfaDmCCRoY_5.avi\n",
      "Processing video: C:\\Users\\manuv\\Violence-Detection-With-Human-Skeletons\\data\\train\\Fight\\lmfaDmCCRoY_6.avi\n",
      "Processing video: C:\\Users\\manuv\\Violence-Detection-With-Human-Skeletons\\data\\train\\Fight\\lmfaDmCCRoY_7.avi\n"
     ]
    },
    {
     "name": "stderr",
     "output_type": "stream",
     "text": [
      " 21%|████████████████▊                                                              | 424/1989 [00:38<02:21, 11.08it/s]"
     ]
    },
    {
     "name": "stdout",
     "output_type": "stream",
     "text": [
      "Processing video: C:\\Users\\manuv\\Violence-Detection-With-Human-Skeletons\\data\\train\\Fight\\lUjx4FXvv34_0.avi\n",
      "Processing video: C:\\Users\\manuv\\Violence-Detection-With-Human-Skeletons\\data\\train\\Fight\\lUjx4FXvv34_1.avi\n",
      "Processing video: C:\\Users\\manuv\\Violence-Detection-With-Human-Skeletons\\data\\train\\Fight\\mbW7VkAf6Yk_0.avi\n"
     ]
    },
    {
     "name": "stderr",
     "output_type": "stream",
     "text": [
      " 21%|████████████████▉                                                              | 426/1989 [00:38<02:23, 10.90it/s]"
     ]
    },
    {
     "name": "stdout",
     "output_type": "stream",
     "text": [
      "Processing video: C:\\Users\\manuv\\Violence-Detection-With-Human-Skeletons\\data\\train\\Fight\\mbW7VkAf6Yk_1.avi\n",
      "Processing video: C:\\Users\\manuv\\Violence-Detection-With-Human-Skeletons\\data\\train\\Fight\\mbW7VkAf6Yk_2.avi\n"
     ]
    },
    {
     "name": "stderr",
     "output_type": "stream",
     "text": [
      " 22%|████████████████▉                                                              | 428/1989 [00:38<02:17, 11.36it/s]"
     ]
    },
    {
     "name": "stdout",
     "output_type": "stream",
     "text": [
      "Processing video: C:\\Users\\manuv\\Violence-Detection-With-Human-Skeletons\\data\\train\\Fight\\Mi4nMB8AHxI_0.avi\n",
      "Processing video: C:\\Users\\manuv\\Violence-Detection-With-Human-Skeletons\\data\\train\\Fight\\Mi4nMB8AHxI_1.avi\n",
      "Processing video: C:\\Users\\manuv\\Violence-Detection-With-Human-Skeletons\\data\\train\\Fight\\mRqg-WXiR7Q_0.avi\n"
     ]
    },
    {
     "name": "stderr",
     "output_type": "stream",
     "text": [
      " 22%|█████████████████                                                              | 430/1989 [00:38<02:16, 11.40it/s]"
     ]
    },
    {
     "name": "stdout",
     "output_type": "stream",
     "text": [
      "Processing video: C:\\Users\\manuv\\Violence-Detection-With-Human-Skeletons\\data\\train\\Fight\\mRqg-WXiR7Q_1.avi\n",
      "Processing video: C:\\Users\\manuv\\Violence-Detection-With-Human-Skeletons\\data\\train\\Fight\\mRqg-WXiR7Q_2.avi\n"
     ]
    },
    {
     "name": "stderr",
     "output_type": "stream",
     "text": [
      " 22%|█████████████████▏                                                             | 434/1989 [00:39<02:21, 11.01it/s]"
     ]
    },
    {
     "name": "stdout",
     "output_type": "stream",
     "text": [
      "Processing video: C:\\Users\\manuv\\Violence-Detection-With-Human-Skeletons\\data\\train\\Fight\\mRqg-WXiR7Q_3.avi\n",
      "Processing video: C:\\Users\\manuv\\Violence-Detection-With-Human-Skeletons\\data\\train\\Fight\\mVTcBPrjh-E_0.avi\n"
     ]
    },
    {
     "name": "stderr",
     "output_type": "stream",
     "text": [
      " 22%|█████████████████▎                                                             | 436/1989 [00:39<02:19, 11.12it/s]"
     ]
    },
    {
     "name": "stdout",
     "output_type": "stream",
     "text": [
      "Processing video: C:\\Users\\manuv\\Violence-Detection-With-Human-Skeletons\\data\\train\\Fight\\mVTcBPrjh-E_1.avi\n",
      "Processing video: C:\\Users\\manuv\\Violence-Detection-With-Human-Skeletons\\data\\train\\Fight\\mX4cQM1xMFc_0.avi\n",
      "Processing video: C:\\Users\\manuv\\Violence-Detection-With-Human-Skeletons\\data\\train\\Fight\\mX4cQM1xMFc_1.avi\n"
     ]
    },
    {
     "name": "stderr",
     "output_type": "stream",
     "text": [
      " 22%|█████████████████▍                                                             | 438/1989 [00:39<02:18, 11.22it/s]"
     ]
    },
    {
     "name": "stdout",
     "output_type": "stream",
     "text": [
      "Processing video: C:\\Users\\manuv\\Violence-Detection-With-Human-Skeletons\\data\\train\\Fight\\mX4cQM1xMFc_2.avi\n",
      "Processing video: C:\\Users\\manuv\\Violence-Detection-With-Human-Skeletons\\data\\train\\Fight\\mxlWEjopk_c_0.avi\n",
      "Processing video: C:\\Users\\manuv\\Violence-Detection-With-Human-Skeletons\\data\\train\\Fight\\MzcX84QCuE8_0.avi\n"
     ]
    },
    {
     "name": "stderr",
     "output_type": "stream",
     "text": [
      " 22%|█████████████████▍                                                             | 440/1989 [00:39<02:32, 10.18it/s]"
     ]
    },
    {
     "name": "stdout",
     "output_type": "stream",
     "text": [
      "Processing video: C:\\Users\\manuv\\Violence-Detection-With-Human-Skeletons\\data\\train\\Fight\\N1Q9v-saJ_g_0.avi\n",
      "Processing video: C:\\Users\\manuv\\Violence-Detection-With-Human-Skeletons\\data\\train\\Fight\\N1Q9v-saJ_g_1.avi\n"
     ]
    },
    {
     "name": "stderr",
     "output_type": "stream",
     "text": [
      " 22%|█████████████████▌                                                             | 443/1989 [00:39<02:40,  9.63it/s]"
     ]
    },
    {
     "name": "stdout",
     "output_type": "stream",
     "text": [
      "Processing video: C:\\Users\\manuv\\Violence-Detection-With-Human-Skeletons\\data\\train\\Fight\\N1Q9v-saJ_g_2.avi\n",
      "Processing video: C:\\Users\\manuv\\Violence-Detection-With-Human-Skeletons\\data\\train\\Fight\\nBO2Wlr3LhU_0.avi\n",
      "Processing video: C:\\Users\\manuv\\Violence-Detection-With-Human-Skeletons\\data\\train\\Fight\\nBO2Wlr3LhU_1.avi\n"
     ]
    },
    {
     "name": "stderr",
     "output_type": "stream",
     "text": [
      " 22%|█████████████████▊                                                             | 447/1989 [00:40<02:16, 11.27it/s]"
     ]
    },
    {
     "name": "stdout",
     "output_type": "stream",
     "text": [
      "Processing video: C:\\Users\\manuv\\Violence-Detection-With-Human-Skeletons\\data\\train\\Fight\\nNUeqFgG_0.avi\n",
      "Processing video: C:\\Users\\manuv\\Violence-Detection-With-Human-Skeletons\\data\\train\\Fight\\nNUeqFgG_1.avi\n",
      "Processing video: C:\\Users\\manuv\\Violence-Detection-With-Human-Skeletons\\data\\train\\Fight\\nNUeqFgG_3.avi\n"
     ]
    },
    {
     "name": "stderr",
     "output_type": "stream",
     "text": [
      " 23%|█████████████████▊                                                             | 449/1989 [00:40<02:00, 12.76it/s]"
     ]
    },
    {
     "name": "stdout",
     "output_type": "stream",
     "text": [
      "Processing video: C:\\Users\\manuv\\Violence-Detection-With-Human-Skeletons\\data\\train\\Fight\\nNUeqFgG_4.avi\n",
      "Processing video: C:\\Users\\manuv\\Violence-Detection-With-Human-Skeletons\\data\\train\\Fight\\nNUeqFgG_5.avi\n",
      "Processing video: C:\\Users\\manuv\\Violence-Detection-With-Human-Skeletons\\data\\train\\Fight\\NPeKBgURcxI_0.avi\n"
     ]
    },
    {
     "name": "stderr",
     "output_type": "stream",
     "text": [
      " 23%|█████████████████▉                                                             | 451/1989 [00:40<02:01, 12.69it/s]"
     ]
    },
    {
     "name": "stdout",
     "output_type": "stream",
     "text": [
      "Processing video: C:\\Users\\manuv\\Violence-Detection-With-Human-Skeletons\\data\\train\\Fight\\NPeKBgURcxI_1.avi\n",
      "Processing video: C:\\Users\\manuv\\Violence-Detection-With-Human-Skeletons\\data\\train\\Fight\\NPeKBgURcxI_2.avi\n"
     ]
    },
    {
     "name": "stderr",
     "output_type": "stream",
     "text": [
      " 23%|██████████████████                                                             | 455/1989 [00:40<02:10, 11.75it/s]"
     ]
    },
    {
     "name": "stdout",
     "output_type": "stream",
     "text": [
      "Processing video: C:\\Users\\manuv\\Violence-Detection-With-Human-Skeletons\\data\\train\\Fight\\NpznjZe7A2M_0.avi\n",
      "Processing video: C:\\Users\\manuv\\Violence-Detection-With-Human-Skeletons\\data\\train\\Fight\\NpznjZe7A2M_1.avi\n",
      "Processing video: C:\\Users\\manuv\\Violence-Detection-With-Human-Skeletons\\data\\train\\Fight\\NvYo6CS_i_A_0.avi\n"
     ]
    },
    {
     "name": "stderr",
     "output_type": "stream",
     "text": [
      " 23%|██████████████████▏                                                            | 457/1989 [00:41<02:00, 12.72it/s]"
     ]
    },
    {
     "name": "stdout",
     "output_type": "stream",
     "text": [
      "Processing video: C:\\Users\\manuv\\Violence-Detection-With-Human-Skeletons\\data\\train\\Fight\\NvYo6CS_i_A_1.avi\n",
      "Processing video: C:\\Users\\manuv\\Violence-Detection-With-Human-Skeletons\\data\\train\\Fight\\NvYo6CS_i_A_2.avi\n",
      "Processing video: C:\\Users\\manuv\\Violence-Detection-With-Human-Skeletons\\data\\train\\Fight\\NvYo6CS_i_A_3.avi\n"
     ]
    },
    {
     "name": "stderr",
     "output_type": "stream",
     "text": [
      " 23%|██████████████████▎                                                            | 461/1989 [00:41<01:58, 12.93it/s]"
     ]
    },
    {
     "name": "stdout",
     "output_type": "stream",
     "text": [
      "Processing video: C:\\Users\\manuv\\Violence-Detection-With-Human-Skeletons\\data\\train\\Fight\\NxtwlqSnLbY_1.avi\n",
      "Processing video: C:\\Users\\manuv\\Violence-Detection-With-Human-Skeletons\\data\\train\\Fight\\NxtwlqSnLbY_2.avi\n",
      "Processing video: C:\\Users\\manuv\\Violence-Detection-With-Human-Skeletons\\data\\train\\Fight\\NxtwlqSnLbY_3.avi\n"
     ]
    },
    {
     "name": "stderr",
     "output_type": "stream",
     "text": [
      " 23%|██████████████████▍                                                            | 463/1989 [00:41<02:02, 12.44it/s]"
     ]
    },
    {
     "name": "stdout",
     "output_type": "stream",
     "text": [
      "Processing video: C:\\Users\\manuv\\Violence-Detection-With-Human-Skeletons\\data\\train\\Fight\\NxtwlqSnLbY_4.avi\n",
      "Processing video: C:\\Users\\manuv\\Violence-Detection-With-Human-Skeletons\\data\\train\\Fight\\o9sRXy5r_0.avi\n",
      "Processing video: C:\\Users\\manuv\\Violence-Detection-With-Human-Skeletons\\data\\train\\Fight\\o9sRXy5r_1.avi\n"
     ]
    },
    {
     "name": "stderr",
     "output_type": "stream",
     "text": [
      " 23%|██████████████████▌                                                            | 467/1989 [00:41<01:49, 13.92it/s]"
     ]
    },
    {
     "name": "stdout",
     "output_type": "stream",
     "text": [
      "Processing video: C:\\Users\\manuv\\Violence-Detection-With-Human-Skeletons\\data\\train\\Fight\\o9sRXy5r_2.avi\n",
      "Processing video: C:\\Users\\manuv\\Violence-Detection-With-Human-Skeletons\\data\\train\\Fight\\o9sRXy5r_3.avi\n",
      "Processing video: C:\\Users\\manuv\\Violence-Detection-With-Human-Skeletons\\data\\train\\Fight\\OAfV0xPIhZw_0.avi\n",
      "Processing video: C:\\Users\\manuv\\Violence-Detection-With-Human-Skeletons\\data\\train\\Fight\\OAfV0xPIhZw_1.avi\n"
     ]
    },
    {
     "name": "stderr",
     "output_type": "stream",
     "text": [
      " 24%|██████████████████▋                                                            | 471/1989 [00:42<01:56, 13.05it/s]"
     ]
    },
    {
     "name": "stdout",
     "output_type": "stream",
     "text": [
      "Processing video: C:\\Users\\manuv\\Violence-Detection-With-Human-Skeletons\\data\\train\\Fight\\OAfV0xPIhZw_2.avi\n",
      "Processing video: C:\\Users\\manuv\\Violence-Detection-With-Human-Skeletons\\data\\train\\Fight\\OAfV0xPIhZw_3.avi\n",
      "Processing video: C:\\Users\\manuv\\Violence-Detection-With-Human-Skeletons\\data\\train\\Fight\\OAfV0xPIhZw_4.avi\n"
     ]
    },
    {
     "name": "stderr",
     "output_type": "stream",
     "text": [
      " 24%|██████████████████▊                                                            | 473/1989 [00:42<01:50, 13.76it/s]"
     ]
    },
    {
     "name": "stdout",
     "output_type": "stream",
     "text": [
      "Processing video: C:\\Users\\manuv\\Violence-Detection-With-Human-Skeletons\\data\\train\\Fight\\oDGm-DOOyI4_0.avi\n",
      "Processing video: C:\\Users\\manuv\\Violence-Detection-With-Human-Skeletons\\data\\train\\Fight\\oDGm-DOOyI4_1.avi\n",
      "Processing video: C:\\Users\\manuv\\Violence-Detection-With-Human-Skeletons\\data\\train\\Fight\\oIEZ45OCmAw_0.avi\n"
     ]
    },
    {
     "name": "stderr",
     "output_type": "stream",
     "text": [
      " 24%|██████████████████▉                                                            | 477/1989 [00:42<01:51, 13.56it/s]"
     ]
    },
    {
     "name": "stdout",
     "output_type": "stream",
     "text": [
      "Processing video: C:\\Users\\manuv\\Violence-Detection-With-Human-Skeletons\\data\\train\\Fight\\oIEZ45OCmAw_1.avi\n",
      "Processing video: C:\\Users\\manuv\\Violence-Detection-With-Human-Skeletons\\data\\train\\Fight\\oIEZ45OCmAw_2.avi\n",
      "Processing video: C:\\Users\\manuv\\Violence-Detection-With-Human-Skeletons\\data\\train\\Fight\\oIEZ45OCmAw_3.avi\n"
     ]
    },
    {
     "name": "stderr",
     "output_type": "stream",
     "text": [
      " 24%|███████████████████                                                            | 479/1989 [00:42<01:46, 14.15it/s]"
     ]
    },
    {
     "name": "stdout",
     "output_type": "stream",
     "text": [
      "Processing video: C:\\Users\\manuv\\Violence-Detection-With-Human-Skeletons\\data\\train\\Fight\\oIEZ45OCmAw_4.avi\n",
      "Processing video: C:\\Users\\manuv\\Violence-Detection-With-Human-Skeletons\\data\\train\\Fight\\oM-goKOVjeU_0.avi\n",
      "Processing video: C:\\Users\\manuv\\Violence-Detection-With-Human-Skeletons\\data\\train\\Fight\\oM-goKOVjeU_1.avi\n"
     ]
    },
    {
     "name": "stderr",
     "output_type": "stream",
     "text": [
      " 24%|███████████████████▏                                                           | 483/1989 [00:42<02:02, 12.34it/s]"
     ]
    },
    {
     "name": "stdout",
     "output_type": "stream",
     "text": [
      "Processing video: C:\\Users\\manuv\\Violence-Detection-With-Human-Skeletons\\data\\train\\Fight\\oowA6LToeTE_0.avi\n",
      "Processing video: C:\\Users\\manuv\\Violence-Detection-With-Human-Skeletons\\data\\train\\Fight\\oqCIUYdq_0.avi\n",
      "Processing video: C:\\Users\\manuv\\Violence-Detection-With-Human-Skeletons\\data\\train\\Fight\\OTVE3eLAuUM_0.avi\n"
     ]
    },
    {
     "name": "stderr",
     "output_type": "stream",
     "text": [
      " 24%|███████████████████▎                                                           | 485/1989 [00:43<02:15, 11.13it/s]"
     ]
    },
    {
     "name": "stdout",
     "output_type": "stream",
     "text": [
      "Processing video: C:\\Users\\manuv\\Violence-Detection-With-Human-Skeletons\\data\\train\\Fight\\OTVE3eLAuUM_1.avi\n",
      "Processing video: C:\\Users\\manuv\\Violence-Detection-With-Human-Skeletons\\data\\train\\Fight\\OTVE3eLAuUM_2.avi\n"
     ]
    },
    {
     "name": "stderr",
     "output_type": "stream",
     "text": [
      " 24%|███████████████████▎                                                           | 487/1989 [00:43<02:20, 10.66it/s]"
     ]
    },
    {
     "name": "stdout",
     "output_type": "stream",
     "text": [
      "Processing video: C:\\Users\\manuv\\Violence-Detection-With-Human-Skeletons\\data\\train\\Fight\\Ou8ssKOQzI0_0.avi\n",
      "Processing video: C:\\Users\\manuv\\Violence-Detection-With-Human-Skeletons\\data\\train\\Fight\\Ou8ssKOQzI0_1.avi\n",
      "Processing video: C:\\Users\\manuv\\Violence-Detection-With-Human-Skeletons\\data\\train\\Fight\\Ou8ssKOQzI0_2.avi\n"
     ]
    },
    {
     "name": "stderr",
     "output_type": "stream",
     "text": [
      " 25%|███████████████████▌                                                           | 491/1989 [00:43<02:07, 11.70it/s]"
     ]
    },
    {
     "name": "stdout",
     "output_type": "stream",
     "text": [
      "Processing video: C:\\Users\\manuv\\Violence-Detection-With-Human-Skeletons\\data\\train\\Fight\\oVMhWJIpHnc_0.avi\n",
      "Processing video: C:\\Users\\manuv\\Violence-Detection-With-Human-Skeletons\\data\\train\\Fight\\oW8ySS0rN4Y_0.avi\n",
      "Processing video: C:\\Users\\manuv\\Violence-Detection-With-Human-Skeletons\\data\\train\\Fight\\oW8ySS0rN4Y_1.avi\n"
     ]
    },
    {
     "name": "stderr",
     "output_type": "stream",
     "text": [
      " 25%|███████████████████▌                                                           | 493/1989 [00:43<02:08, 11.61it/s]"
     ]
    },
    {
     "name": "stdout",
     "output_type": "stream",
     "text": [
      "Processing video: C:\\Users\\manuv\\Violence-Detection-With-Human-Skeletons\\data\\train\\Fight\\p19HiyCX7EQ_0.avi\n",
      "Processing video: C:\\Users\\manuv\\Violence-Detection-With-Human-Skeletons\\data\\train\\Fight\\p19HiyCX7EQ_1.avi\n",
      "Processing video: C:\\Users\\manuv\\Violence-Detection-With-Human-Skeletons\\data\\train\\Fight\\p19HiyCX7EQ_2.avi\n"
     ]
    },
    {
     "name": "stderr",
     "output_type": "stream",
     "text": [
      " 25%|███████████████████▋                                                           | 497/1989 [00:44<02:04, 11.96it/s]"
     ]
    },
    {
     "name": "stdout",
     "output_type": "stream",
     "text": [
      "Processing video: C:\\Users\\manuv\\Violence-Detection-With-Human-Skeletons\\data\\train\\Fight\\p1bUxYeJ_0.avi\n",
      "Processing video: C:\\Users\\manuv\\Violence-Detection-With-Human-Skeletons\\data\\train\\Fight\\p1bUxYeJ_1.avi\n",
      "Processing video: C:\\Users\\manuv\\Violence-Detection-With-Human-Skeletons\\data\\train\\Fight\\p1bUxYeJ_2.avi\n"
     ]
    },
    {
     "name": "stderr",
     "output_type": "stream",
     "text": [
      " 25%|███████████████████▊                                                           | 499/1989 [00:44<02:09, 11.48it/s]"
     ]
    },
    {
     "name": "stdout",
     "output_type": "stream",
     "text": [
      "Processing video: C:\\Users\\manuv\\Violence-Detection-With-Human-Skeletons\\data\\train\\Fight\\p4DwXTNr-xc_0.avi\n",
      "Processing video: C:\\Users\\manuv\\Violence-Detection-With-Human-Skeletons\\data\\train\\Fight\\Pe1uIhp4dAQ_0.avi\n",
      "Processing video: C:\\Users\\manuv\\Violence-Detection-With-Human-Skeletons\\data\\train\\Fight\\Pe1uIhp4dAQ_1.avi\n"
     ]
    },
    {
     "name": "stderr",
     "output_type": "stream",
     "text": [
      " 25%|███████████████████▉                                                           | 503/1989 [00:44<02:08, 11.58it/s]"
     ]
    },
    {
     "name": "stdout",
     "output_type": "stream",
     "text": [
      "Processing video: C:\\Users\\manuv\\Violence-Detection-With-Human-Skeletons\\data\\train\\Fight\\Pe1uIhp4dAQ_2.avi\n",
      "Processing video: C:\\Users\\manuv\\Violence-Detection-With-Human-Skeletons\\data\\train\\Fight\\Pe1uIhp4dAQ_3.avi\n",
      "Processing video: C:\\Users\\manuv\\Violence-Detection-With-Human-Skeletons\\data\\train\\Fight\\Pe1uIhp4dAQ_4.avi\n"
     ]
    },
    {
     "name": "stderr",
     "output_type": "stream",
     "text": [
      " 25%|████████████████████                                                           | 505/1989 [00:44<02:12, 11.16it/s]"
     ]
    },
    {
     "name": "stdout",
     "output_type": "stream",
     "text": [
      "Processing video: C:\\Users\\manuv\\Violence-Detection-With-Human-Skeletons\\data\\train\\Fight\\PFw7SeFOD04_0.avi\n",
      "Processing video: C:\\Users\\manuv\\Violence-Detection-With-Human-Skeletons\\data\\train\\Fight\\PFw7SeFOD04_1.avi\n"
     ]
    },
    {
     "name": "stderr",
     "output_type": "stream",
     "text": [
      " 25%|████████████████████▏                                                          | 507/1989 [00:45<02:21, 10.48it/s]"
     ]
    },
    {
     "name": "stdout",
     "output_type": "stream",
     "text": [
      "Processing video: C:\\Users\\manuv\\Violence-Detection-With-Human-Skeletons\\data\\train\\Fight\\PFw7SeFOD04_2.avi\n",
      "Processing video: C:\\Users\\manuv\\Violence-Detection-With-Human-Skeletons\\data\\train\\Fight\\PFw7SeFOD04_3.avi\n"
     ]
    },
    {
     "name": "stderr",
     "output_type": "stream",
     "text": [
      " 26%|████████████████████▏                                                          | 509/1989 [00:45<02:38,  9.33it/s]"
     ]
    },
    {
     "name": "stdout",
     "output_type": "stream",
     "text": [
      "Processing video: C:\\Users\\manuv\\Violence-Detection-With-Human-Skeletons\\data\\train\\Fight\\PJDdPv2b9-s_0.avi\n",
      "Processing video: C:\\Users\\manuv\\Violence-Detection-With-Human-Skeletons\\data\\train\\Fight\\pKOUG5AqLpY_0.avi\n"
     ]
    },
    {
     "name": "stderr",
     "output_type": "stream",
     "text": [
      " 26%|████████████████████▎                                                          | 511/1989 [00:45<02:49,  8.75it/s]"
     ]
    },
    {
     "name": "stdout",
     "output_type": "stream",
     "text": [
      "Processing video: C:\\Users\\manuv\\Violence-Detection-With-Human-Skeletons\\data\\train\\Fight\\pKOUG5AqLpY_1.avi\n",
      "Processing video: C:\\Users\\manuv\\Violence-Detection-With-Human-Skeletons\\data\\train\\Fight\\PlHzsigAFas_0.avi\n"
     ]
    },
    {
     "name": "stderr",
     "output_type": "stream",
     "text": [
      " 26%|████████████████████▍                                                          | 513/1989 [00:45<02:46,  8.88it/s]"
     ]
    },
    {
     "name": "stdout",
     "output_type": "stream",
     "text": [
      "Processing video: C:\\Users\\manuv\\Violence-Detection-With-Human-Skeletons\\data\\train\\Fight\\PlHzsigAFas_1.avi\n",
      "Processing video: C:\\Users\\manuv\\Violence-Detection-With-Human-Skeletons\\data\\train\\Fight\\PlHzsigAFas_10.avi\n"
     ]
    },
    {
     "name": "stderr",
     "output_type": "stream",
     "text": [
      " 26%|████████████████████▍                                                          | 515/1989 [00:46<02:57,  8.31it/s]"
     ]
    },
    {
     "name": "stdout",
     "output_type": "stream",
     "text": [
      "Processing video: C:\\Users\\manuv\\Violence-Detection-With-Human-Skeletons\\data\\train\\Fight\\PlHzsigAFas_11.avi\n",
      "Processing video: C:\\Users\\manuv\\Violence-Detection-With-Human-Skeletons\\data\\train\\Fight\\PlHzsigAFas_2.avi\n"
     ]
    },
    {
     "name": "stderr",
     "output_type": "stream",
     "text": [
      " 26%|████████████████████▌                                                          | 517/1989 [00:46<02:50,  8.63it/s]"
     ]
    },
    {
     "name": "stdout",
     "output_type": "stream",
     "text": [
      "Processing video: C:\\Users\\manuv\\Violence-Detection-With-Human-Skeletons\\data\\train\\Fight\\PlHzsigAFas_3.avi\n",
      "Processing video: C:\\Users\\manuv\\Violence-Detection-With-Human-Skeletons\\data\\train\\Fight\\PlHzsigAFas_4.avi\n"
     ]
    },
    {
     "name": "stderr",
     "output_type": "stream",
     "text": [
      " 26%|████████████████████▌                                                          | 519/1989 [00:46<02:54,  8.44it/s]"
     ]
    },
    {
     "name": "stdout",
     "output_type": "stream",
     "text": [
      "Processing video: C:\\Users\\manuv\\Violence-Detection-With-Human-Skeletons\\data\\train\\Fight\\PlHzsigAFas_5.avi\n",
      "Processing video: C:\\Users\\manuv\\Violence-Detection-With-Human-Skeletons\\data\\train\\Fight\\PlHzsigAFas_7.avi\n"
     ]
    },
    {
     "name": "stderr",
     "output_type": "stream",
     "text": [
      " 26%|████████████████████▋                                                          | 521/1989 [00:46<03:05,  7.92it/s]"
     ]
    },
    {
     "name": "stdout",
     "output_type": "stream",
     "text": [
      "Processing video: C:\\Users\\manuv\\Violence-Detection-With-Human-Skeletons\\data\\train\\Fight\\PlHzsigAFas_8.avi\n",
      "Processing video: C:\\Users\\manuv\\Violence-Detection-With-Human-Skeletons\\data\\train\\Fight\\PlHzsigAFas_9.avi\n"
     ]
    },
    {
     "name": "stderr",
     "output_type": "stream",
     "text": [
      " 26%|████████████████████▊                                                          | 524/1989 [00:47<02:19, 10.52it/s]"
     ]
    },
    {
     "name": "stdout",
     "output_type": "stream",
     "text": [
      "Processing video: C:\\Users\\manuv\\Violence-Detection-With-Human-Skeletons\\data\\train\\Fight\\POGFN_429.avi\n",
      "Processing video: C:\\Users\\manuv\\Violence-Detection-With-Human-Skeletons\\data\\train\\Fight\\POGFN_430.avi\n",
      "Processing video: C:\\Users\\manuv\\Violence-Detection-With-Human-Skeletons\\data\\train\\Fight\\POGFN_432.avi\n"
     ]
    },
    {
     "name": "stderr",
     "output_type": "stream",
     "text": [
      " 26%|████████████████████▉                                                          | 526/1989 [00:47<02:05, 11.66it/s]"
     ]
    },
    {
     "name": "stdout",
     "output_type": "stream",
     "text": [
      "Processing video: C:\\Users\\manuv\\Violence-Detection-With-Human-Skeletons\\data\\train\\Fight\\PTy2vx8Ejas_0.avi\n",
      "Processing video: C:\\Users\\manuv\\Violence-Detection-With-Human-Skeletons\\data\\train\\Fight\\PTy2vx8Ejas_1.avi\n",
      "Processing video: C:\\Users\\manuv\\Violence-Detection-With-Human-Skeletons\\data\\train\\Fight\\PTy2vx8Ejas_2.avi\n"
     ]
    },
    {
     "name": "stderr",
     "output_type": "stream",
     "text": [
      " 27%|█████████████████████                                                          | 530/1989 [00:47<01:50, 13.23it/s]"
     ]
    },
    {
     "name": "stdout",
     "output_type": "stream",
     "text": [
      "Processing video: C:\\Users\\manuv\\Violence-Detection-With-Human-Skeletons\\data\\train\\Fight\\PTy2vx8Ejas_3.avi\n",
      "Processing video: C:\\Users\\manuv\\Violence-Detection-With-Human-Skeletons\\data\\train\\Fight\\PTy2vx8Ejas_5.avi\n",
      "Processing video: C:\\Users\\manuv\\Violence-Detection-With-Human-Skeletons\\data\\train\\Fight\\Q1ycSrzoM2c_1.avi\n"
     ]
    },
    {
     "name": "stderr",
     "output_type": "stream",
     "text": [
      " 27%|█████████████████████▏                                                         | 532/1989 [00:47<02:10, 11.14it/s]"
     ]
    },
    {
     "name": "stdout",
     "output_type": "stream",
     "text": [
      "Processing video: C:\\Users\\manuv\\Violence-Detection-With-Human-Skeletons\\data\\train\\Fight\\Q1ycSrzoM2c_2.avi\n",
      "Processing video: C:\\Users\\manuv\\Violence-Detection-With-Human-Skeletons\\data\\train\\Fight\\QaIY5Au8yOc_0.avi\n"
     ]
    },
    {
     "name": "stderr",
     "output_type": "stream",
     "text": [
      " 27%|█████████████████████▏                                                         | 534/1989 [00:47<02:16, 10.66it/s]"
     ]
    },
    {
     "name": "stdout",
     "output_type": "stream",
     "text": [
      "Processing video: C:\\Users\\manuv\\Violence-Detection-With-Human-Skeletons\\data\\train\\Fight\\QaIY5Au8yOc_1.avi\n",
      "Processing video: C:\\Users\\manuv\\Violence-Detection-With-Human-Skeletons\\data\\train\\Fight\\QaIY5Au8yOc_2.avi\n"
     ]
    },
    {
     "name": "stderr",
     "output_type": "stream",
     "text": [
      " 27%|█████████████████████▎                                                         | 536/1989 [00:48<02:13, 10.88it/s]"
     ]
    },
    {
     "name": "stdout",
     "output_type": "stream",
     "text": [
      "Processing video: C:\\Users\\manuv\\Violence-Detection-With-Human-Skeletons\\data\\train\\Fight\\QkqaGJ9x_0.avi\n",
      "Processing video: C:\\Users\\manuv\\Violence-Detection-With-Human-Skeletons\\data\\train\\Fight\\QkqaGJ9x_1.avi\n",
      "Processing video: C:\\Users\\manuv\\Violence-Detection-With-Human-Skeletons\\data\\train\\Fight\\QkqaGJ9x_2.avi\n"
     ]
    },
    {
     "name": "stderr",
     "output_type": "stream",
     "text": [
      " 27%|█████████████████████▍                                                         | 540/1989 [00:48<02:05, 11.53it/s]"
     ]
    },
    {
     "name": "stdout",
     "output_type": "stream",
     "text": [
      "Processing video: C:\\Users\\manuv\\Violence-Detection-With-Human-Skeletons\\data\\train\\Fight\\QkqaGJ9x_3.avi\n",
      "Processing video: C:\\Users\\manuv\\Violence-Detection-With-Human-Skeletons\\data\\train\\Fight\\qmvilMkD57M_0.avi\n",
      "Processing video: C:\\Users\\manuv\\Violence-Detection-With-Human-Skeletons\\data\\train\\Fight\\qmvilMkD57M_1.avi\n",
      "Processing video: C:\\Users\\manuv\\Violence-Detection-With-Human-Skeletons\\data\\train\\Fight\\qrWTk-2a13o_1.avi\n"
     ]
    },
    {
     "name": "stderr",
     "output_type": "stream",
     "text": [
      " 27%|█████████████████████▌                                                         | 542/1989 [00:48<02:12, 10.93it/s]"
     ]
    },
    {
     "name": "stdout",
     "output_type": "stream",
     "text": [
      "Processing video: C:\\Users\\manuv\\Violence-Detection-With-Human-Skeletons\\data\\train\\Fight\\qrWTk-2a13o_2.avi\n",
      "Processing video: C:\\Users\\manuv\\Violence-Detection-With-Human-Skeletons\\data\\train\\Fight\\qrWTk-2a13o_3.avi\n"
     ]
    },
    {
     "name": "stderr",
     "output_type": "stream",
     "text": [
      " 27%|█████████████████████▋                                                         | 546/1989 [00:49<02:05, 11.47it/s]"
     ]
    },
    {
     "name": "stdout",
     "output_type": "stream",
     "text": [
      "Processing video: C:\\Users\\manuv\\Violence-Detection-With-Human-Skeletons\\data\\train\\Fight\\QUGT4a6qcJs_0.avi\n",
      "Processing video: C:\\Users\\manuv\\Violence-Detection-With-Human-Skeletons\\data\\train\\Fight\\QUGT4a6qcJs_1.avi\n",
      "Processing video: C:\\Users\\manuv\\Violence-Detection-With-Human-Skeletons\\data\\train\\Fight\\QUGT4a6qcJs_2.avi\n"
     ]
    },
    {
     "name": "stderr",
     "output_type": "stream",
     "text": [
      " 28%|█████████████████████▊                                                         | 548/1989 [00:49<02:02, 11.78it/s]"
     ]
    },
    {
     "name": "stdout",
     "output_type": "stream",
     "text": [
      "Processing video: C:\\Users\\manuv\\Violence-Detection-With-Human-Skeletons\\data\\train\\Fight\\R1A_AxUKosk_0.avi\n",
      "Processing video: C:\\Users\\manuv\\Violence-Detection-With-Human-Skeletons\\data\\train\\Fight\\R1A_AxUKosk_1.avi\n",
      "Processing video: C:\\Users\\manuv\\Violence-Detection-With-Human-Skeletons\\data\\train\\Fight\\R1A_AxUKosk_2.avi\n"
     ]
    },
    {
     "name": "stderr",
     "output_type": "stream",
     "text": [
      " 28%|█████████████████████▉                                                         | 552/1989 [00:49<01:53, 12.65it/s]"
     ]
    },
    {
     "name": "stdout",
     "output_type": "stream",
     "text": [
      "Processing video: C:\\Users\\manuv\\Violence-Detection-With-Human-Skeletons\\data\\train\\Fight\\R1A_AxUKosk_3.avi\n",
      "Processing video: C:\\Users\\manuv\\Violence-Detection-With-Human-Skeletons\\data\\train\\Fight\\R1A_AxUKosk_4.avi\n",
      "Processing video: C:\\Users\\manuv\\Violence-Detection-With-Human-Skeletons\\data\\train\\Fight\\r8PX3ZJ1_II_0.avi\n"
     ]
    },
    {
     "name": "stderr",
     "output_type": "stream",
     "text": [
      " 28%|██████████████████████                                                         | 554/1989 [00:49<02:03, 11.60it/s]"
     ]
    },
    {
     "name": "stdout",
     "output_type": "stream",
     "text": [
      "Processing video: C:\\Users\\manuv\\Violence-Detection-With-Human-Skeletons\\data\\train\\Fight\\reg_495.avi\n",
      "Processing video: C:\\Users\\manuv\\Violence-Detection-With-Human-Skeletons\\data\\train\\Fight\\rfthfd_534.avi\n",
      "Processing video: C:\\Users\\manuv\\Violence-Detection-With-Human-Skeletons\\data\\train\\Fight\\rfthfd_535.avi\n"
     ]
    },
    {
     "name": "stderr",
     "output_type": "stream",
     "text": [
      " 28%|██████████████████████▏                                                        | 558/1989 [00:49<01:53, 12.57it/s]"
     ]
    },
    {
     "name": "stdout",
     "output_type": "stream",
     "text": [
      "Processing video: C:\\Users\\manuv\\Violence-Detection-With-Human-Skeletons\\data\\train\\Fight\\rfthfd_536.avi\n",
      "Processing video: C:\\Users\\manuv\\Violence-Detection-With-Human-Skeletons\\data\\train\\Fight\\rfthfd_537.avi\n",
      "Processing video: C:\\Users\\manuv\\Violence-Detection-With-Human-Skeletons\\data\\train\\Fight\\rfthfd_538.avi\n"
     ]
    },
    {
     "name": "stderr",
     "output_type": "stream",
     "text": [
      " 28%|██████████████████████▏                                                        | 560/1989 [00:50<02:06, 11.33it/s]"
     ]
    },
    {
     "name": "stdout",
     "output_type": "stream",
     "text": [
      "Processing video: C:\\Users\\manuv\\Violence-Detection-With-Human-Skeletons\\data\\train\\Fight\\RGIpCpdlzI8_0.avi\n",
      "Processing video: C:\\Users\\manuv\\Violence-Detection-With-Human-Skeletons\\data\\train\\Fight\\Ri_poPbOu-k_0.avi\n",
      "Processing video: C:\\Users\\manuv\\Violence-Detection-With-Human-Skeletons\\data\\train\\Fight\\Ri_poPbOu-k_1.avi\n"
     ]
    },
    {
     "name": "stderr",
     "output_type": "stream",
     "text": [
      " 28%|██████████████████████▍                                                        | 564/1989 [00:50<01:57, 12.11it/s]"
     ]
    },
    {
     "name": "stdout",
     "output_type": "stream",
     "text": [
      "Processing video: C:\\Users\\manuv\\Violence-Detection-With-Human-Skeletons\\data\\train\\Fight\\Ri_poPbOu-k_2.avi\n",
      "Processing video: C:\\Users\\manuv\\Violence-Detection-With-Human-Skeletons\\data\\train\\Fight\\rn7Qjaj9_0.avi\n"
     ]
    },
    {
     "name": "stderr",
     "output_type": "stream",
     "text": [
      " 28%|██████████████████████▍                                                        | 566/1989 [00:50<01:51, 12.76it/s]"
     ]
    },
    {
     "name": "stdout",
     "output_type": "stream",
     "text": [
      "Processing video: C:\\Users\\manuv\\Violence-Detection-With-Human-Skeletons\\data\\train\\Fight\\rn7Qjaj9_1.avi\n",
      "Processing video: C:\\Users\\manuv\\Violence-Detection-With-Human-Skeletons\\data\\train\\Fight\\ROiHwksPSrg_0.avi\n",
      "Processing video: C:\\Users\\manuv\\Violence-Detection-With-Human-Skeletons\\data\\train\\Fight\\RTCFGASH_573.avi\n",
      "Processing video: C:\\Users\\manuv\\Violence-Detection-With-Human-Skeletons\\data\\train\\Fight\\RTCFGASH_579.avi\n"
     ]
    },
    {
     "name": "stderr",
     "output_type": "stream",
     "text": [
      " 29%|██████████████████████▋                                                        | 570/1989 [00:50<01:42, 13.90it/s]"
     ]
    },
    {
     "name": "stdout",
     "output_type": "stream",
     "text": [
      "Processing video: C:\\Users\\manuv\\Violence-Detection-With-Human-Skeletons\\data\\train\\Fight\\RTDSFDSA_673.avi\n",
      "Processing video: C:\\Users\\manuv\\Violence-Detection-With-Human-Skeletons\\data\\train\\Fight\\RTDSFDSA_674.avi\n",
      "Processing video: C:\\Users\\manuv\\Violence-Detection-With-Human-Skeletons\\data\\train\\Fight\\RTDSFDSA_675.avi\n"
     ]
    },
    {
     "name": "stderr",
     "output_type": "stream",
     "text": [
      " 29%|██████████████████████▋                                                        | 572/1989 [00:51<01:48, 13.03it/s]"
     ]
    },
    {
     "name": "stdout",
     "output_type": "stream",
     "text": [
      "Processing video: C:\\Users\\manuv\\Violence-Detection-With-Human-Skeletons\\data\\train\\Fight\\RTDSFDSA_676.avi\n",
      "Processing video: C:\\Users\\manuv\\Violence-Detection-With-Human-Skeletons\\data\\train\\Fight\\RTDSFDSA_677.avi\n",
      "Processing video: C:\\Users\\manuv\\Violence-Detection-With-Human-Skeletons\\data\\train\\Fight\\RYFG_774.avi\n"
     ]
    },
    {
     "name": "stderr",
     "output_type": "stream",
     "text": [
      " 29%|██████████████████████▉                                                        | 576/1989 [00:51<01:43, 13.62it/s]"
     ]
    },
    {
     "name": "stdout",
     "output_type": "stream",
     "text": [
      "Processing video: C:\\Users\\manuv\\Violence-Detection-With-Human-Skeletons\\data\\train\\Fight\\RYFG_775.avi\n",
      "Processing video: C:\\Users\\manuv\\Violence-Detection-With-Human-Skeletons\\data\\train\\Fight\\RYFG_776.avi\n",
      "Processing video: C:\\Users\\manuv\\Violence-Detection-With-Human-Skeletons\\data\\train\\Fight\\RYFG_777.avi\n"
     ]
    },
    {
     "name": "stderr",
     "output_type": "stream",
     "text": [
      " 29%|██████████████████████▉                                                        | 578/1989 [00:51<01:39, 14.21it/s]"
     ]
    },
    {
     "name": "stdout",
     "output_type": "stream",
     "text": [
      "Processing video: C:\\Users\\manuv\\Violence-Detection-With-Human-Skeletons\\data\\train\\Fight\\RYFG_778.avi\n",
      "Processing video: C:\\Users\\manuv\\Violence-Detection-With-Human-Skeletons\\data\\train\\Fight\\RYFG_779.avi\n",
      "Processing video: C:\\Users\\manuv\\Violence-Detection-With-Human-Skeletons\\data\\train\\Fight\\RYFG_781.avi\n"
     ]
    },
    {
     "name": "stderr",
     "output_type": "stream",
     "text": [
      " 29%|███████████████████████                                                        | 582/1989 [00:51<01:37, 14.37it/s]"
     ]
    },
    {
     "name": "stdout",
     "output_type": "stream",
     "text": [
      "Processing video: C:\\Users\\manuv\\Violence-Detection-With-Human-Skeletons\\data\\train\\Fight\\s-jW4cyavW0_0.avi\n",
      "Processing video: C:\\Users\\manuv\\Violence-Detection-With-Human-Skeletons\\data\\train\\Fight\\s-jW4cyavW0_1.avi\n",
      "Processing video: C:\\Users\\manuv\\Violence-Detection-With-Human-Skeletons\\data\\train\\Fight\\s-jW4cyavW0_2.avi\n",
      "Processing video: C:\\Users\\manuv\\Violence-Detection-With-Human-Skeletons\\data\\train\\Fight\\s3gaPKuW_0.avi\n"
     ]
    },
    {
     "name": "stderr",
     "output_type": "stream",
     "text": [
      " 29%|███████████████████████▎                                                       | 586/1989 [00:52<01:39, 14.04it/s]"
     ]
    },
    {
     "name": "stdout",
     "output_type": "stream",
     "text": [
      "Processing video: C:\\Users\\manuv\\Violence-Detection-With-Human-Skeletons\\data\\train\\Fight\\s3gaPKuW_1.avi\n",
      "Processing video: C:\\Users\\manuv\\Violence-Detection-With-Human-Skeletons\\data\\train\\Fight\\sadffg_950.avi\n",
      "Processing video: C:\\Users\\manuv\\Violence-Detection-With-Human-Skeletons\\data\\train\\Fight\\sadsa_956.avi\n"
     ]
    },
    {
     "name": "stderr",
     "output_type": "stream",
     "text": [
      " 30%|███████████████████████▎                                                       | 588/1989 [00:52<01:43, 13.60it/s]"
     ]
    },
    {
     "name": "stdout",
     "output_type": "stream",
     "text": [
      "Processing video: C:\\Users\\manuv\\Violence-Detection-With-Human-Skeletons\\data\\train\\Fight\\sadsa_957.avi\n",
      "Processing video: C:\\Users\\manuv\\Violence-Detection-With-Human-Skeletons\\data\\train\\Fight\\sadsa_958.avi\n",
      "Processing video: C:\\Users\\manuv\\Violence-Detection-With-Human-Skeletons\\data\\train\\Fight\\sadsa_959.avi\n"
     ]
    },
    {
     "name": "stderr",
     "output_type": "stream",
     "text": [
      " 30%|███████████████████████▌                                                       | 592/1989 [00:52<01:51, 12.52it/s]"
     ]
    },
    {
     "name": "stdout",
     "output_type": "stream",
     "text": [
      "Processing video: C:\\Users\\manuv\\Violence-Detection-With-Human-Skeletons\\data\\train\\Fight\\sadsa_960.avi\n",
      "Processing video: C:\\Users\\manuv\\Violence-Detection-With-Human-Skeletons\\data\\train\\Fight\\sadsa_961.avi\n",
      "Processing video: C:\\Users\\manuv\\Violence-Detection-With-Human-Skeletons\\data\\train\\Fight\\SCnBiAteLVI_0.avi\n"
     ]
    },
    {
     "name": "stderr",
     "output_type": "stream",
     "text": [
      " 30%|███████████████████████▌                                                       | 594/1989 [00:52<01:51, 12.56it/s]"
     ]
    },
    {
     "name": "stdout",
     "output_type": "stream",
     "text": [
      "Processing video: C:\\Users\\manuv\\Violence-Detection-With-Human-Skeletons\\data\\train\\Fight\\SCnBiAteLVI_1.avi\n",
      "Processing video: C:\\Users\\manuv\\Violence-Detection-With-Human-Skeletons\\data\\train\\Fight\\SGntTioECg4_997.avi\n",
      "Processing video: C:\\Users\\manuv\\Violence-Detection-With-Human-Skeletons\\data\\train\\Fight\\SGntTioECg4_999.avi\n"
     ]
    },
    {
     "name": "stderr",
     "output_type": "stream",
     "text": [
      " 30%|███████████████████████▊                                                       | 598/1989 [00:53<01:44, 13.27it/s]"
     ]
    },
    {
     "name": "stdout",
     "output_type": "stream",
     "text": [
      "Processing video: C:\\Users\\manuv\\Violence-Detection-With-Human-Skeletons\\data\\train\\Fight\\SjJEt0drQZs_0.avi\n",
      "Processing video: C:\\Users\\manuv\\Violence-Detection-With-Human-Skeletons\\data\\train\\Fight\\SmBrtaGJ_0.avi\n",
      "Processing video: C:\\Users\\manuv\\Violence-Detection-With-Human-Skeletons\\data\\train\\Fight\\SmBrtaGJ_1.avi\n"
     ]
    },
    {
     "name": "stderr",
     "output_type": "stream",
     "text": [
      " 30%|███████████████████████▊                                                       | 600/1989 [00:53<01:52, 12.29it/s]"
     ]
    },
    {
     "name": "stdout",
     "output_type": "stream",
     "text": [
      "Processing video: C:\\Users\\manuv\\Violence-Detection-With-Human-Skeletons\\data\\train\\Fight\\SNGRni0hBUM_0.avi\n",
      "Processing video: C:\\Users\\manuv\\Violence-Detection-With-Human-Skeletons\\data\\train\\Fight\\Suv_mMs8J9g_0.avi\n",
      "Processing video: C:\\Users\\manuv\\Violence-Detection-With-Human-Skeletons\\data\\train\\Fight\\SXd2yu2LHv0_0.avi\n"
     ]
    },
    {
     "name": "stderr",
     "output_type": "stream",
     "text": [
      " 30%|███████████████████████▉                                                       | 604/1989 [00:53<01:53, 12.19it/s]"
     ]
    },
    {
     "name": "stdout",
     "output_type": "stream",
     "text": [
      "Processing video: C:\\Users\\manuv\\Violence-Detection-With-Human-Skeletons\\data\\train\\Fight\\SXd2yu2LHv0_1.avi\n",
      "Processing video: C:\\Users\\manuv\\Violence-Detection-With-Human-Skeletons\\data\\train\\Fight\\SXd2yu2LHv0_2.avi\n",
      "Processing video: C:\\Users\\manuv\\Violence-Detection-With-Human-Skeletons\\data\\train\\Fight\\t2z75yT2S_M_0.avi\n"
     ]
    },
    {
     "name": "stderr",
     "output_type": "stream",
     "text": [
      " 30%|████████████████████████                                                       | 606/1989 [00:53<02:05, 10.99it/s]"
     ]
    },
    {
     "name": "stdout",
     "output_type": "stream",
     "text": [
      "Processing video: C:\\Users\\manuv\\Violence-Detection-With-Human-Skeletons\\data\\train\\Fight\\t2z75yT2S_M_1.avi\n",
      "Processing video: C:\\Users\\manuv\\Violence-Detection-With-Human-Skeletons\\data\\train\\Fight\\T56HlypCEyU_0.avi\n",
      "Processing video: C:\\Users\\manuv\\Violence-Detection-With-Human-Skeletons\\data\\train\\Fight\\T56HlypCEyU_1.avi\n"
     ]
    },
    {
     "name": "stderr",
     "output_type": "stream",
     "text": [
      " 31%|████████████████████████▏                                                      | 610/1989 [00:54<01:56, 11.85it/s]"
     ]
    },
    {
     "name": "stdout",
     "output_type": "stream",
     "text": [
      "Processing video: C:\\Users\\manuv\\Violence-Detection-With-Human-Skeletons\\data\\train\\Fight\\T56HlypCEyU_2.avi\n",
      "Processing video: C:\\Users\\manuv\\Violence-Detection-With-Human-Skeletons\\data\\train\\Fight\\ThiaJUQ8_1.avi\n",
      "Processing video: C:\\Users\\manuv\\Violence-Detection-With-Human-Skeletons\\data\\train\\Fight\\ThiaJUQ8_2.avi\n"
     ]
    },
    {
     "name": "stderr",
     "output_type": "stream",
     "text": [
      " 31%|████████████████████████▎                                                      | 612/1989 [00:54<01:45, 13.07it/s]"
     ]
    },
    {
     "name": "stdout",
     "output_type": "stream",
     "text": [
      "Processing video: C:\\Users\\manuv\\Violence-Detection-With-Human-Skeletons\\data\\train\\Fight\\ThiaJUQ8_3.avi\n",
      "Processing video: C:\\Users\\manuv\\Violence-Detection-With-Human-Skeletons\\data\\train\\Fight\\tILABXoHE7s_0.avi\n",
      "Processing video: C:\\Users\\manuv\\Violence-Detection-With-Human-Skeletons\\data\\train\\Fight\\tILABXoHE7s_1.avi\n"
     ]
    },
    {
     "name": "stderr",
     "output_type": "stream",
     "text": [
      " 31%|████████████████████████▍                                                      | 616/1989 [00:54<01:42, 13.44it/s]"
     ]
    },
    {
     "name": "stdout",
     "output_type": "stream",
     "text": [
      "Processing video: C:\\Users\\manuv\\Violence-Detection-With-Human-Skeletons\\data\\train\\Fight\\tILABXoHE7s_2.avi\n",
      "Processing video: C:\\Users\\manuv\\Violence-Detection-With-Human-Skeletons\\data\\train\\Fight\\tILABXoHE7s_3.avi\n",
      "Processing video: C:\\Users\\manuv\\Violence-Detection-With-Human-Skeletons\\data\\train\\Fight\\tILABXoHE7s_4.avi\n",
      "Processing video: C:\\Users\\manuv\\Violence-Detection-With-Human-Skeletons\\data\\train\\Fight\\tILABXoHE7s_5.avi\n"
     ]
    },
    {
     "name": "stderr",
     "output_type": "stream",
     "text": [
      " 31%|████████████████████████▋                                                      | 620/1989 [00:54<01:44, 13.10it/s]"
     ]
    },
    {
     "name": "stdout",
     "output_type": "stream",
     "text": [
      "Processing video: C:\\Users\\manuv\\Violence-Detection-With-Human-Skeletons\\data\\train\\Fight\\tIvvuvuJFYc_0.avi\n",
      "Processing video: C:\\Users\\manuv\\Violence-Detection-With-Human-Skeletons\\data\\train\\Fight\\tIvvuvuJFYc_1.avi\n",
      "Processing video: C:\\Users\\manuv\\Violence-Detection-With-Human-Skeletons\\data\\train\\Fight\\tIvvuvuJFYc_2.avi\n"
     ]
    },
    {
     "name": "stderr",
     "output_type": "stream",
     "text": [
      " 31%|████████████████████████▋                                                      | 622/1989 [00:54<01:38, 13.88it/s]"
     ]
    },
    {
     "name": "stdout",
     "output_type": "stream",
     "text": [
      "Processing video: C:\\Users\\manuv\\Violence-Detection-With-Human-Skeletons\\data\\train\\Fight\\TJfoIe801t8_0.avi\n",
      "Processing video: C:\\Users\\manuv\\Violence-Detection-With-Human-Skeletons\\data\\train\\Fight\\TKBcD3J9Cc8_0.avi\n",
      "Processing video: C:\\Users\\manuv\\Violence-Detection-With-Human-Skeletons\\data\\train\\Fight\\TKBcD3J9Cc8_1.avi\n"
     ]
    },
    {
     "name": "stderr",
     "output_type": "stream",
     "text": [
      " 31%|████████████████████████▊                                                      | 626/1989 [00:55<01:39, 13.64it/s]"
     ]
    },
    {
     "name": "stdout",
     "output_type": "stream",
     "text": [
      "Processing video: C:\\Users\\manuv\\Violence-Detection-With-Human-Skeletons\\data\\train\\Fight\\TKBcD3J9Cc8_2.avi\n",
      "Processing video: C:\\Users\\manuv\\Violence-Detection-With-Human-Skeletons\\data\\train\\Fight\\trhfd_1015.avi\n",
      "Processing video: C:\\Users\\manuv\\Violence-Detection-With-Human-Skeletons\\data\\train\\Fight\\trhfd_1016.avi\n"
     ]
    },
    {
     "name": "stderr",
     "output_type": "stream",
     "text": [
      " 32%|████████████████████████▉                                                      | 628/1989 [00:55<01:45, 12.88it/s]"
     ]
    },
    {
     "name": "stdout",
     "output_type": "stream",
     "text": [
      "Processing video: C:\\Users\\manuv\\Violence-Detection-With-Human-Skeletons\\data\\train\\Fight\\trhfd_1017.avi\n",
      "Processing video: C:\\Users\\manuv\\Violence-Detection-With-Human-Skeletons\\data\\train\\Fight\\trhfd_1018.avi\n",
      "Processing video: C:\\Users\\manuv\\Violence-Detection-With-Human-Skeletons\\data\\train\\Fight\\trhfd_1019.avi\n"
     ]
    },
    {
     "name": "stderr",
     "output_type": "stream",
     "text": [
      " 32%|█████████████████████████                                                      | 632/1989 [00:55<01:35, 14.23it/s]"
     ]
    },
    {
     "name": "stdout",
     "output_type": "stream",
     "text": [
      "Processing video: C:\\Users\\manuv\\Violence-Detection-With-Human-Skeletons\\data\\train\\Fight\\truutrdf_1081.avi\n",
      "Processing video: C:\\Users\\manuv\\Violence-Detection-With-Human-Skeletons\\data\\train\\Fight\\truutrdf_1082.avi\n",
      "Processing video: C:\\Users\\manuv\\Violence-Detection-With-Human-Skeletons\\data\\train\\Fight\\truutrdf_1083.avi\n",
      "Processing video: C:\\Users\\manuv\\Violence-Detection-With-Human-Skeletons\\data\\train\\Fight\\truutrdf_1084.avi\n"
     ]
    },
    {
     "name": "stderr",
     "output_type": "stream",
     "text": [
      " 32%|█████████████████████████▎                                                     | 636/1989 [00:55<01:40, 13.48it/s]"
     ]
    },
    {
     "name": "stdout",
     "output_type": "stream",
     "text": [
      "Processing video: C:\\Users\\manuv\\Violence-Detection-With-Human-Skeletons\\data\\train\\Fight\\truutrdf_1085.avi\n",
      "Processing video: C:\\Users\\manuv\\Violence-Detection-With-Human-Skeletons\\data\\train\\Fight\\truutrdf_1086.avi\n",
      "Processing video: C:\\Users\\manuv\\Violence-Detection-With-Human-Skeletons\\data\\train\\Fight\\truutrdf_1087.avi\n"
     ]
    },
    {
     "name": "stderr",
     "output_type": "stream",
     "text": [
      " 32%|█████████████████████████▎                                                     | 638/1989 [00:56<01:45, 12.79it/s]"
     ]
    },
    {
     "name": "stdout",
     "output_type": "stream",
     "text": [
      "Processing video: C:\\Users\\manuv\\Violence-Detection-With-Human-Skeletons\\data\\train\\Fight\\tuQyUHkOpdk_0.avi\n",
      "Processing video: C:\\Users\\manuv\\Violence-Detection-With-Human-Skeletons\\data\\train\\Fight\\TuWan04E3gQ_0.avi\n",
      "Processing video: C:\\Users\\manuv\\Violence-Detection-With-Human-Skeletons\\data\\train\\Fight\\TuWan04E3gQ_1.avi\n"
     ]
    },
    {
     "name": "stderr",
     "output_type": "stream",
     "text": [
      " 32%|█████████████████████████▍                                                     | 642/1989 [00:56<01:38, 13.65it/s]"
     ]
    },
    {
     "name": "stdout",
     "output_type": "stream",
     "text": [
      "Processing video: C:\\Users\\manuv\\Violence-Detection-With-Human-Skeletons\\data\\train\\Fight\\tUzd4cN2_0.avi\n",
      "Processing video: C:\\Users\\manuv\\Violence-Detection-With-Human-Skeletons\\data\\train\\Fight\\u-29uYuR2cg_0.avi\n",
      "Processing video: C:\\Users\\manuv\\Violence-Detection-With-Human-Skeletons\\data\\train\\Fight\\U-rD98WfBYs_0.avi\n",
      "Processing video: C:\\Users\\manuv\\Violence-Detection-With-Human-Skeletons\\data\\train\\Fight\\u1r8f71c_0.avi\n"
     ]
    },
    {
     "name": "stderr",
     "output_type": "stream",
     "text": [
      " 32%|█████████████████████████▋                                                     | 646/1989 [00:56<01:32, 14.44it/s]"
     ]
    },
    {
     "name": "stdout",
     "output_type": "stream",
     "text": [
      "Processing video: C:\\Users\\manuv\\Violence-Detection-With-Human-Skeletons\\data\\train\\Fight\\u1r8f71c_1.avi\n",
      "Processing video: C:\\Users\\manuv\\Violence-Detection-With-Human-Skeletons\\data\\train\\Fight\\u1r8f71c_2.avi\n",
      "Processing video: C:\\Users\\manuv\\Violence-Detection-With-Human-Skeletons\\data\\train\\Fight\\u1r8f71c_3.avi\n",
      "Processing video: C:\\Users\\manuv\\Violence-Detection-With-Human-Skeletons\\data\\train\\Fight\\u1r8f71c_4.avi\n"
     ]
    },
    {
     "name": "stderr",
     "output_type": "stream",
     "text": [
      " 33%|█████████████████████████▊                                                     | 650/1989 [00:56<01:32, 14.44it/s]"
     ]
    },
    {
     "name": "stdout",
     "output_type": "stream",
     "text": [
      "Processing video: C:\\Users\\manuv\\Violence-Detection-With-Human-Skeletons\\data\\train\\Fight\\u2Lkzfb0_0.avi\n",
      "Processing video: C:\\Users\\manuv\\Violence-Detection-With-Human-Skeletons\\data\\train\\Fight\\u2Lkzfb0_1.avi\n",
      "Processing video: C:\\Users\\manuv\\Violence-Detection-With-Human-Skeletons\\data\\train\\Fight\\u2Lkzfb0_2.avi\n"
     ]
    },
    {
     "name": "stderr",
     "output_type": "stream",
     "text": [
      " 33%|█████████████████████████▉                                                     | 652/1989 [00:57<01:28, 15.10it/s]"
     ]
    },
    {
     "name": "stdout",
     "output_type": "stream",
     "text": [
      "Processing video: C:\\Users\\manuv\\Violence-Detection-With-Human-Skeletons\\data\\train\\Fight\\u2Lkzfb0_3.avi\n",
      "Processing video: C:\\Users\\manuv\\Violence-Detection-With-Human-Skeletons\\data\\train\\Fight\\ug2tQMG8DC0_0.avi\n",
      "Processing video: C:\\Users\\manuv\\Violence-Detection-With-Human-Skeletons\\data\\train\\Fight\\ug2tQMG8DC0_1.avi\n"
     ]
    },
    {
     "name": "stderr",
     "output_type": "stream",
     "text": [
      " 33%|██████████████████████████                                                     | 656/1989 [00:57<01:55, 11.54it/s]"
     ]
    },
    {
     "name": "stdout",
     "output_type": "stream",
     "text": [
      "Processing video: C:\\Users\\manuv\\Violence-Detection-With-Human-Skeletons\\data\\train\\Fight\\ug2tQMG8DC0_2.avi\n",
      "Processing video: C:\\Users\\manuv\\Violence-Detection-With-Human-Skeletons\\data\\train\\Fight\\uGGFPY75IYQ_0.avi\n"
     ]
    },
    {
     "name": "stderr",
     "output_type": "stream",
     "text": [
      " 33%|██████████████████████████▏                                                    | 658/1989 [00:57<01:55, 11.52it/s]"
     ]
    },
    {
     "name": "stdout",
     "output_type": "stream",
     "text": [
      "Processing video: C:\\Users\\manuv\\Violence-Detection-With-Human-Skeletons\\data\\train\\Fight\\uGGFPY75IYQ_1.avi\n",
      "Processing video: C:\\Users\\manuv\\Violence-Detection-With-Human-Skeletons\\data\\train\\Fight\\uKFI67bUzfg_0.avi\n",
      "Processing video: C:\\Users\\manuv\\Violence-Detection-With-Human-Skeletons\\data\\train\\Fight\\uKFI67bUzfg_1.avi\n"
     ]
    },
    {
     "name": "stderr",
     "output_type": "stream",
     "text": [
      " 33%|██████████████████████████▏                                                    | 660/1989 [00:57<01:55, 11.53it/s]"
     ]
    },
    {
     "name": "stdout",
     "output_type": "stream",
     "text": [
      "Processing video: C:\\Users\\manuv\\Violence-Detection-With-Human-Skeletons\\data\\train\\Fight\\uKFI67bUzfg_2.avi\n",
      "Processing video: C:\\Users\\manuv\\Violence-Detection-With-Human-Skeletons\\data\\train\\Fight\\umOs1WLBkuo_0.avi\n",
      "Processing video: C:\\Users\\manuv\\Violence-Detection-With-Human-Skeletons\\data\\train\\Fight\\umOs1WLBkuo_1.avi\n"
     ]
    },
    {
     "name": "stderr",
     "output_type": "stream",
     "text": [
      " 33%|██████████████████████████▎                                                    | 664/1989 [00:58<01:45, 12.60it/s]"
     ]
    },
    {
     "name": "stdout",
     "output_type": "stream",
     "text": [
      "Processing video: C:\\Users\\manuv\\Violence-Detection-With-Human-Skeletons\\data\\train\\Fight\\umOs1WLBkuo_2.avi\n",
      "Processing video: C:\\Users\\manuv\\Violence-Detection-With-Human-Skeletons\\data\\train\\Fight\\UvLAudRA91Y_0.avi\n",
      "Processing video: C:\\Users\\manuv\\Violence-Detection-With-Human-Skeletons\\data\\train\\Fight\\UvLAudRA91Y_1.avi\n"
     ]
    },
    {
     "name": "stderr",
     "output_type": "stream",
     "text": [
      " 33%|██████████████████████████▍                                                    | 666/1989 [00:58<01:54, 11.60it/s]"
     ]
    },
    {
     "name": "stdout",
     "output_type": "stream",
     "text": [
      "Processing video: C:\\Users\\manuv\\Violence-Detection-With-Human-Skeletons\\data\\train\\Fight\\uXf4C-YwbtM_1.avi\n",
      "Processing video: C:\\Users\\manuv\\Violence-Detection-With-Human-Skeletons\\data\\train\\Fight\\uXf4C-YwbtM_3.avi\n"
     ]
    },
    {
     "name": "stderr",
     "output_type": "stream",
     "text": [
      " 34%|██████████████████████████▌                                                    | 670/1989 [00:58<01:50, 11.91it/s]"
     ]
    },
    {
     "name": "stdout",
     "output_type": "stream",
     "text": [
      "Processing video: C:\\Users\\manuv\\Violence-Detection-With-Human-Skeletons\\data\\train\\Fight\\V726w0IKCp4_0.avi\n",
      "Processing video: C:\\Users\\manuv\\Violence-Detection-With-Human-Skeletons\\data\\train\\Fight\\V726w0IKCp4_1.avi\n",
      "Processing video: C:\\Users\\manuv\\Violence-Detection-With-Human-Skeletons\\data\\train\\Fight\\V726w0IKCp4_2.avi\n"
     ]
    },
    {
     "name": "stderr",
     "output_type": "stream",
     "text": [
      " 34%|██████████████████████████▋                                                    | 672/1989 [00:58<01:51, 11.76it/s]"
     ]
    },
    {
     "name": "stdout",
     "output_type": "stream",
     "text": [
      "Processing video: C:\\Users\\manuv\\Violence-Detection-With-Human-Skeletons\\data\\train\\Fight\\V726w0IKCp4_3.avi\n",
      "Processing video: C:\\Users\\manuv\\Violence-Detection-With-Human-Skeletons\\data\\train\\Fight\\vBwKQfJYG1Q_0.avi\n",
      "Processing video: C:\\Users\\manuv\\Violence-Detection-With-Human-Skeletons\\data\\train\\Fight\\vBwKQfJYG1Q_1.avi\n"
     ]
    },
    {
     "name": "stderr",
     "output_type": "stream",
     "text": [
      " 34%|██████████████████████████▊                                                    | 674/1989 [00:59<01:52, 11.65it/s]"
     ]
    },
    {
     "name": "stdout",
     "output_type": "stream",
     "text": [
      "Processing video: C:\\Users\\manuv\\Violence-Detection-With-Human-Skeletons\\data\\train\\Fight\\vBwKQfJYG1Q_2.avi\n",
      "Processing video: C:\\Users\\manuv\\Violence-Detection-With-Human-Skeletons\\data\\train\\Fight\\vBwKQfJYG1Q_3.avi\n"
     ]
    },
    {
     "name": "stderr",
     "output_type": "stream",
     "text": [
      " 34%|██████████████████████████▊                                                    | 676/1989 [00:59<02:05, 10.47it/s]"
     ]
    },
    {
     "name": "stdout",
     "output_type": "stream",
     "text": [
      "Processing video: C:\\Users\\manuv\\Violence-Detection-With-Human-Skeletons\\data\\train\\Fight\\vBwKQfJYG1Q_4.avi\n",
      "Processing video: C:\\Users\\manuv\\Violence-Detection-With-Human-Skeletons\\data\\train\\Fight\\vBwKQfJYG1Q_5.avi\n"
     ]
    },
    {
     "name": "stderr",
     "output_type": "stream",
     "text": [
      " 34%|██████████████████████████▉                                                    | 678/1989 [00:59<02:01, 10.75it/s]"
     ]
    },
    {
     "name": "stdout",
     "output_type": "stream",
     "text": [
      "Processing video: C:\\Users\\manuv\\Violence-Detection-With-Human-Skeletons\\data\\train\\Fight\\vBwKQfJYG1Q_6.avi\n",
      "Processing video: C:\\Users\\manuv\\Violence-Detection-With-Human-Skeletons\\data\\train\\Fight\\VbwTMJroTbI_0.avi\n",
      "Processing video: C:\\Users\\manuv\\Violence-Detection-With-Human-Skeletons\\data\\train\\Fight\\Vd27cYFthms_0.avi\n"
     ]
    },
    {
     "name": "stderr",
     "output_type": "stream",
     "text": [
      " 34%|███████████████████████████                                                    | 680/1989 [00:59<02:00, 10.86it/s]"
     ]
    },
    {
     "name": "stdout",
     "output_type": "stream",
     "text": [
      "Processing video: C:\\Users\\manuv\\Violence-Detection-With-Human-Skeletons\\data\\train\\Fight\\VfDyc4ORBSI_0.avi\n",
      "Processing video: C:\\Users\\manuv\\Violence-Detection-With-Human-Skeletons\\data\\train\\Fight\\VfDyc4ORBSI_1.avi\n"
     ]
    },
    {
     "name": "stderr",
     "output_type": "stream",
     "text": [
      " 34%|███████████████████████████▏                                                   | 684/1989 [01:00<02:02, 10.68it/s]"
     ]
    },
    {
     "name": "stdout",
     "output_type": "stream",
     "text": [
      "Processing video: C:\\Users\\manuv\\Violence-Detection-With-Human-Skeletons\\data\\train\\Fight\\videoplayback (1)_54.avi\n",
      "Processing video: C:\\Users\\manuv\\Violence-Detection-With-Human-Skeletons\\data\\train\\Fight\\videoplayback (1)_55.avi\n",
      "Processing video: C:\\Users\\manuv\\Violence-Detection-With-Human-Skeletons\\data\\train\\Fight\\videoplayback (2)_66.avi\n",
      "Processing video: C:\\Users\\manuv\\Violence-Detection-With-Human-Skeletons\\data\\train\\Fight\\videoplayback (2)_74.avi\n"
     ]
    },
    {
     "name": "stderr",
     "output_type": "stream",
     "text": [
      " 34%|███████████████████████████▏                                                   | 686/1989 [01:00<02:09, 10.04it/s]"
     ]
    },
    {
     "name": "stdout",
     "output_type": "stream",
     "text": [
      "Processing video: C:\\Users\\manuv\\Violence-Detection-With-Human-Skeletons\\data\\train\\Fight\\videoplayback_92.avi\n",
      "Processing video: C:\\Users\\manuv\\Violence-Detection-With-Human-Skeletons\\data\\train\\Fight\\videoplayback_93.avi\n"
     ]
    },
    {
     "name": "stderr",
     "output_type": "stream",
     "text": [
      " 35%|███████████████████████████▎                                                   | 688/1989 [01:00<02:12,  9.80it/s]"
     ]
    },
    {
     "name": "stdout",
     "output_type": "stream",
     "text": [
      "Processing video: C:\\Users\\manuv\\Violence-Detection-With-Human-Skeletons\\data\\train\\Fight\\videoplayback_94.avi\n",
      "Processing video: C:\\Users\\manuv\\Violence-Detection-With-Human-Skeletons\\data\\train\\Fight\\videoplayback_95.avi\n"
     ]
    },
    {
     "name": "stderr",
     "output_type": "stream",
     "text": [
      " 35%|███████████████████████████▍                                                   | 692/1989 [01:00<02:02, 10.55it/s]"
     ]
    },
    {
     "name": "stdout",
     "output_type": "stream",
     "text": [
      "Processing video: C:\\Users\\manuv\\Violence-Detection-With-Human-Skeletons\\data\\train\\Fight\\vQKHxtrdEHM_0.avi\n",
      "Processing video: C:\\Users\\manuv\\Violence-Detection-With-Human-Skeletons\\data\\train\\Fight\\vQKHxtrdEHM_1.avi\n",
      "Processing video: C:\\Users\\manuv\\Violence-Detection-With-Human-Skeletons\\data\\train\\Fight\\vQKHxtrdEHM_2.avi\n"
     ]
    },
    {
     "name": "stderr",
     "output_type": "stream",
     "text": [
      " 35%|███████████████████████████▌                                                   | 694/1989 [01:00<02:02, 10.60it/s]"
     ]
    },
    {
     "name": "stdout",
     "output_type": "stream",
     "text": [
      "Processing video: C:\\Users\\manuv\\Violence-Detection-With-Human-Skeletons\\data\\train\\Fight\\vQKHxtrdEHM_3.avi\n",
      "Processing video: C:\\Users\\manuv\\Violence-Detection-With-Human-Skeletons\\data\\train\\Fight\\vQKHxtrdEHM_4.avi\n",
      "Processing video: C:\\Users\\manuv\\Violence-Detection-With-Human-Skeletons\\data\\train\\Fight\\vQKHxtrdEHM_5.avi\n"
     ]
    },
    {
     "name": "stderr",
     "output_type": "stream",
     "text": [
      " 35%|███████████████████████████▋                                                   | 698/1989 [01:01<01:57, 10.98it/s]"
     ]
    },
    {
     "name": "stdout",
     "output_type": "stream",
     "text": [
      "Processing video: C:\\Users\\manuv\\Violence-Detection-With-Human-Skeletons\\data\\train\\Fight\\vQKHxtrdEHM_6.avi\n",
      "Processing video: C:\\Users\\manuv\\Violence-Detection-With-Human-Skeletons\\data\\train\\Fight\\vQKHxtrdEHM_7.avi\n",
      "Processing video: C:\\Users\\manuv\\Violence-Detection-With-Human-Skeletons\\data\\train\\Fight\\vQKHxtrdEHM_9.avi\n"
     ]
    },
    {
     "name": "stderr",
     "output_type": "stream",
     "text": [
      " 35%|███████████████████████████▊                                                   | 700/1989 [01:01<01:56, 11.09it/s]"
     ]
    },
    {
     "name": "stdout",
     "output_type": "stream",
     "text": [
      "Processing video: C:\\Users\\manuv\\Violence-Detection-With-Human-Skeletons\\data\\train\\Fight\\VYWWsld6ibI_0.avi\n",
      "Processing video: C:\\Users\\manuv\\Violence-Detection-With-Human-Skeletons\\data\\train\\Fight\\w1T3NmEAt00_0.avi\n"
     ]
    },
    {
     "name": "stderr",
     "output_type": "stream",
     "text": [
      " 35%|███████████████████████████▉                                                   | 702/1989 [01:01<02:02, 10.49it/s]"
     ]
    },
    {
     "name": "stdout",
     "output_type": "stream",
     "text": [
      "Processing video: C:\\Users\\manuv\\Violence-Detection-With-Human-Skeletons\\data\\train\\Fight\\Wby1vUy8aYI_0.avi\n",
      "Processing video: C:\\Users\\manuv\\Violence-Detection-With-Human-Skeletons\\data\\train\\Fight\\Wby1vUy8aYI_1.avi\n"
     ]
    },
    {
     "name": "stderr",
     "output_type": "stream",
     "text": [
      " 35%|███████████████████████████▉                                                   | 704/1989 [01:01<02:05, 10.26it/s]"
     ]
    },
    {
     "name": "stdout",
     "output_type": "stream",
     "text": [
      "Processing video: C:\\Users\\manuv\\Violence-Detection-With-Human-Skeletons\\data\\train\\Fight\\Wby1vUy8aYI_2.avi\n",
      "Processing video: C:\\Users\\manuv\\Violence-Detection-With-Human-Skeletons\\data\\train\\Fight\\wetrew_1195.avi\n",
      "Processing video: C:\\Users\\manuv\\Violence-Detection-With-Human-Skeletons\\data\\train\\Fight\\wetyh_1204.avi\n"
     ]
    },
    {
     "name": "stderr",
     "output_type": "stream",
     "text": [
      " 36%|████████████████████████████                                                   | 708/1989 [01:02<01:44, 12.25it/s]"
     ]
    },
    {
     "name": "stdout",
     "output_type": "stream",
     "text": [
      "Processing video: C:\\Users\\manuv\\Violence-Detection-With-Human-Skeletons\\data\\train\\Fight\\wetyh_1205.avi\n",
      "Processing video: C:\\Users\\manuv\\Violence-Detection-With-Human-Skeletons\\data\\train\\Fight\\wetyh_1206.avi\n",
      "Processing video: C:\\Users\\manuv\\Violence-Detection-With-Human-Skeletons\\data\\train\\Fight\\wetyh_1207.avi\n"
     ]
    },
    {
     "name": "stderr",
     "output_type": "stream",
     "text": [
      " 36%|████████████████████████████▎                                                  | 712/1989 [01:02<01:34, 13.55it/s]"
     ]
    },
    {
     "name": "stdout",
     "output_type": "stream",
     "text": [
      "Processing video: C:\\Users\\manuv\\Violence-Detection-With-Human-Skeletons\\data\\train\\Fight\\wetyh_1208.avi\n",
      "Processing video: C:\\Users\\manuv\\Violence-Detection-With-Human-Skeletons\\data\\train\\Fight\\wetyh_1223.avi\n",
      "Processing video: C:\\Users\\manuv\\Violence-Detection-With-Human-Skeletons\\data\\train\\Fight\\wetyh_1224.avi\n"
     ]
    },
    {
     "name": "stderr",
     "output_type": "stream",
     "text": [
      " 36%|████████████████████████████▎                                                  | 714/1989 [01:02<01:36, 13.19it/s]"
     ]
    },
    {
     "name": "stdout",
     "output_type": "stream",
     "text": [
      "Processing video: C:\\Users\\manuv\\Violence-Detection-With-Human-Skeletons\\data\\train\\Fight\\wxdRVAZk_0.avi\n",
      "Processing video: C:\\Users\\manuv\\Violence-Detection-With-Human-Skeletons\\data\\train\\Fight\\wxdRVAZk_1.avi\n",
      "Processing video: C:\\Users\\manuv\\Violence-Detection-With-Human-Skeletons\\data\\train\\Fight\\X6V5o-uCYF4_0.avi\n"
     ]
    },
    {
     "name": "stderr",
     "output_type": "stream",
     "text": [
      " 36%|████████████████████████████▍                                                  | 716/1989 [01:02<01:39, 12.82it/s]"
     ]
    },
    {
     "name": "stdout",
     "output_type": "stream",
     "text": [
      "Processing video: C:\\Users\\manuv\\Violence-Detection-With-Human-Skeletons\\data\\train\\Fight\\X6V5o-uCYF4_1.avi\n",
      "Processing video: C:\\Users\\manuv\\Violence-Detection-With-Human-Skeletons\\data\\train\\Fight\\X6V5o-uCYF4_2.avi\n",
      "Processing video: C:\\Users\\manuv\\Violence-Detection-With-Human-Skeletons\\data\\train\\Fight\\X6V5o-uCYF4_3.avi\n"
     ]
    },
    {
     "name": "stderr",
     "output_type": "stream",
     "text": [
      " 36%|████████████████████████████▌                                                  | 720/1989 [01:03<01:27, 14.44it/s]"
     ]
    },
    {
     "name": "stdout",
     "output_type": "stream",
     "text": [
      "Processing video: C:\\Users\\manuv\\Violence-Detection-With-Human-Skeletons\\data\\train\\Fight\\X6V5o-uCYF4_4.avi\n",
      "Processing video: C:\\Users\\manuv\\Violence-Detection-With-Human-Skeletons\\data\\train\\Fight\\Xh6FNqKDMak_0.avi\n",
      "Processing video: C:\\Users\\manuv\\Violence-Detection-With-Human-Skeletons\\data\\train\\Fight\\xKq3hlefCUI_0.avi\n"
     ]
    },
    {
     "name": "stderr",
     "output_type": "stream",
     "text": [
      " 36%|████████████████████████████▊                                                  | 724/1989 [01:03<01:28, 14.29it/s]"
     ]
    },
    {
     "name": "stdout",
     "output_type": "stream",
     "text": [
      "Processing video: C:\\Users\\manuv\\Violence-Detection-With-Human-Skeletons\\data\\train\\Fight\\xKq3hlefCUI_1.avi\n",
      "Processing video: C:\\Users\\manuv\\Violence-Detection-With-Human-Skeletons\\data\\train\\Fight\\XRC_6WgxusI_0.avi\n",
      "Processing video: C:\\Users\\manuv\\Violence-Detection-With-Human-Skeletons\\data\\train\\Fight\\xrlCdUaagHY_0.avi\n"
     ]
    },
    {
     "name": "stderr",
     "output_type": "stream",
     "text": [
      " 37%|████████████████████████████▊                                                  | 726/1989 [01:03<01:25, 14.85it/s]"
     ]
    },
    {
     "name": "stdout",
     "output_type": "stream",
     "text": [
      "Processing video: C:\\Users\\manuv\\Violence-Detection-With-Human-Skeletons\\data\\train\\Fight\\YaWxiAtCwxE_0.avi\n",
      "Processing video: C:\\Users\\manuv\\Violence-Detection-With-Human-Skeletons\\data\\train\\Fight\\YaWxiAtCwxE_1.avi\n",
      "Processing video: C:\\Users\\manuv\\Violence-Detection-With-Human-Skeletons\\data\\train\\Fight\\YaWxiAtCwxE_2.avi\n",
      "Processing video: C:\\Users\\manuv\\Violence-Detection-With-Human-Skeletons\\data\\train\\Fight\\YaWxiAtCwxE_3.avi\n"
     ]
    },
    {
     "name": "stderr",
     "output_type": "stream",
     "text": [
      " 37%|████████████████████████████▉                                                  | 730/1989 [01:03<01:36, 13.09it/s]"
     ]
    },
    {
     "name": "stdout",
     "output_type": "stream",
     "text": [
      "Processing video: C:\\Users\\manuv\\Violence-Detection-With-Human-Skeletons\\data\\train\\Fight\\YaWxiAtCwxE_4.avi\n",
      "Processing video: C:\\Users\\manuv\\Violence-Detection-With-Human-Skeletons\\data\\train\\Fight\\YaWxiAtCwxE_5.avi\n"
     ]
    },
    {
     "name": "stderr",
     "output_type": "stream",
     "text": [
      " 37%|█████████████████████████████                                                  | 732/1989 [01:03<01:37, 12.94it/s]"
     ]
    },
    {
     "name": "stdout",
     "output_type": "stream",
     "text": [
      "Processing video: C:\\Users\\manuv\\Violence-Detection-With-Human-Skeletons\\data\\train\\Fight\\YaWxiAtCwxE_6.avi\n",
      "Processing video: C:\\Users\\manuv\\Violence-Detection-With-Human-Skeletons\\data\\train\\Fight\\YaWxiAtCwxE_7.avi\n",
      "Processing video: C:\\Users\\manuv\\Violence-Detection-With-Human-Skeletons\\data\\train\\Fight\\YaWxiAtCwxE_8.avi\n"
     ]
    },
    {
     "name": "stderr",
     "output_type": "stream",
     "text": [
      " 37%|█████████████████████████████▏                                                 | 734/1989 [01:04<01:34, 13.21it/s]"
     ]
    },
    {
     "name": "stdout",
     "output_type": "stream",
     "text": [
      "Processing video: C:\\Users\\manuv\\Violence-Detection-With-Human-Skeletons\\data\\train\\Fight\\YL-qwpTMjzk_0.avi\n",
      "Processing video: C:\\Users\\manuv\\Violence-Detection-With-Human-Skeletons\\data\\train\\Fight\\YL-qwpTMjzk_1.avi\n",
      "Processing video: C:\\Users\\manuv\\Violence-Detection-With-Human-Skeletons\\data\\train\\Fight\\YL-qwpTMjzk_2.avi\n"
     ]
    },
    {
     "name": "stderr",
     "output_type": "stream",
     "text": [
      " 37%|█████████████████████████████▎                                                 | 738/1989 [01:04<01:29, 13.96it/s]"
     ]
    },
    {
     "name": "stdout",
     "output_type": "stream",
     "text": [
      "Processing video: C:\\Users\\manuv\\Violence-Detection-With-Human-Skeletons\\data\\train\\Fight\\YL-qwpTMjzk_4.avi\n",
      "Processing video: C:\\Users\\manuv\\Violence-Detection-With-Human-Skeletons\\data\\train\\Fight\\YUOfgfuh_1.avi\n",
      "Processing video: C:\\Users\\manuv\\Violence-Detection-With-Human-Skeletons\\data\\train\\Fight\\z19nkHMw_0.avi\n"
     ]
    },
    {
     "name": "stderr",
     "output_type": "stream",
     "text": [
      " 37%|█████████████████████████████▌                                                 | 743/1989 [01:04<01:13, 16.84it/s]"
     ]
    },
    {
     "name": "stdout",
     "output_type": "stream",
     "text": [
      "Processing video: C:\\Users\\manuv\\Violence-Detection-With-Human-Skeletons\\data\\train\\Fight\\z19nkHMw_1.avi\n",
      "Processing video: C:\\Users\\manuv\\Violence-Detection-With-Human-Skeletons\\data\\train\\Fight\\z1WyVUv8_0.avi\n",
      "Processing video: C:\\Users\\manuv\\Violence-Detection-With-Human-Skeletons\\data\\train\\Fight\\z1WyVUv8_1.avi\n",
      "Processing video: C:\\Users\\manuv\\Violence-Detection-With-Human-Skeletons\\data\\train\\Fight\\z1WyVUv8_2.avi\n"
     ]
    },
    {
     "name": "stderr",
     "output_type": "stream",
     "text": [
      " 37%|█████████████████████████████▌                                                 | 745/1989 [01:04<01:17, 15.96it/s]"
     ]
    },
    {
     "name": "stdout",
     "output_type": "stream",
     "text": [
      "Processing video: C:\\Users\\manuv\\Violence-Detection-With-Human-Skeletons\\data\\train\\Fight\\z7dOEJwUpVk_0.avi\n",
      "Processing video: C:\\Users\\manuv\\Violence-Detection-With-Human-Skeletons\\data\\train\\Fight\\ZnRk8nWJ548_0.avi\n",
      "Processing video: C:\\Users\\manuv\\Violence-Detection-With-Human-Skeletons\\data\\train\\Fight\\zuCTuKvj_0.avi\n"
     ]
    },
    {
     "name": "stderr",
     "output_type": "stream",
     "text": [
      " 38%|█████████████████████████████▋                                                 | 749/1989 [01:04<01:12, 17.05it/s]"
     ]
    },
    {
     "name": "stdout",
     "output_type": "stream",
     "text": [
      "Processing video: C:\\Users\\manuv\\Violence-Detection-With-Human-Skeletons\\data\\train\\Fight\\zuCTuKvj_1.avi\n",
      "Processing video: C:\\Users\\manuv\\Violence-Detection-With-Human-Skeletons\\data\\train\\Fight\\zuCTuKvj_2.avi\n",
      "Processing video: C:\\Users\\manuv\\Violence-Detection-With-Human-Skeletons\\data\\train\\Fight\\zuCTuKvj_3.avi\n",
      "Processing video: C:\\Users\\manuv\\Violence-Detection-With-Human-Skeletons\\data\\train\\Fight\\zuCTuKvj_5.avi\n"
     ]
    },
    {
     "name": "stderr",
     "output_type": "stream",
     "text": [
      " 38%|█████████████████████████████▊                                                 | 751/1989 [01:05<01:12, 17.00it/s]"
     ]
    },
    {
     "name": "stdout",
     "output_type": "stream",
     "text": [
      "Processing video: C:\\Users\\manuv\\Violence-Detection-With-Human-Skeletons\\data\\train\\Fight\\ZVPU5c95_0.avi\n",
      "Processing video: C:\\Users\\manuv\\Violence-Detection-With-Human-Skeletons\\data\\train\\Fight\\ZVPU5c95_1.avi\n",
      "Processing video: C:\\Users\\manuv\\Violence-Detection-With-Human-Skeletons\\data\\train\\Fight\\_2RYnSFPD_U_0.avi\n"
     ]
    },
    {
     "name": "stderr",
     "output_type": "stream",
     "text": [
      " 38%|█████████████████████████████▉                                                 | 755/1989 [01:05<01:25, 14.50it/s]"
     ]
    },
    {
     "name": "stdout",
     "output_type": "stream",
     "text": [
      "Processing video: C:\\Users\\manuv\\Violence-Detection-With-Human-Skeletons\\data\\train\\Fight\\_6-B11R9FJM_0.avi\n",
      "Processing video: C:\\Users\\manuv\\Violence-Detection-With-Human-Skeletons\\data\\train\\Fight\\_6-B11R9FJM_1.avi\n",
      "Processing video: C:\\Users\\manuv\\Violence-Detection-With-Human-Skeletons\\data\\train\\Fight\\_6-B11R9FJM_2.avi\n"
     ]
    },
    {
     "name": "stderr",
     "output_type": "stream",
     "text": [
      " 38%|██████████████████████████████▏                                                | 759/1989 [01:05<01:23, 14.77it/s]"
     ]
    },
    {
     "name": "stdout",
     "output_type": "stream",
     "text": [
      "Processing video: C:\\Users\\manuv\\Violence-Detection-With-Human-Skeletons\\data\\train\\Fight\\_6-B11R9FJM_3.avi\n",
      "Processing video: C:\\Users\\manuv\\Violence-Detection-With-Human-Skeletons\\data\\train\\Fight\\_6-B11R9FJM_4.avi\n",
      "Processing video: C:\\Users\\manuv\\Violence-Detection-With-Human-Skeletons\\data\\train\\Fight\\_q5Nwh4Z6ao_0.avi\n"
     ]
    },
    {
     "name": "stderr",
     "output_type": "stream",
     "text": [
      " 38%|██████████████████████████████▏                                                | 761/1989 [01:05<01:26, 14.23it/s]"
     ]
    },
    {
     "name": "stdout",
     "output_type": "stream",
     "text": [
      "Processing video: C:\\Users\\manuv\\Violence-Detection-With-Human-Skeletons\\data\\train\\Fight\\_q5Nwh4Z6ao_1.avi\n",
      "Processing video: C:\\Users\\manuv\\Violence-Detection-With-Human-Skeletons\\data\\train\\Fight\\_q5Nwh4Z6ao_10.avi\n",
      "Processing video: C:\\Users\\manuv\\Violence-Detection-With-Human-Skeletons\\data\\train\\Fight\\_q5Nwh4Z6ao_11.avi\n"
     ]
    },
    {
     "name": "stderr",
     "output_type": "stream",
     "text": [
      " 38%|██████████████████████████████▎                                                | 763/1989 [01:05<01:22, 14.78it/s]"
     ]
    },
    {
     "name": "stdout",
     "output_type": "stream",
     "text": [
      "Processing video: C:\\Users\\manuv\\Violence-Detection-With-Human-Skeletons\\data\\train\\Fight\\_q5Nwh4Z6ao_13.avi\n",
      "Processing video: C:\\Users\\manuv\\Violence-Detection-With-Human-Skeletons\\data\\train\\Fight\\_q5Nwh4Z6ao_14.avi\n",
      "Processing video: C:\\Users\\manuv\\Violence-Detection-With-Human-Skeletons\\data\\train\\Fight\\_q5Nwh4Z6ao_2.avi\n"
     ]
    },
    {
     "name": "stderr",
     "output_type": "stream",
     "text": [
      " 39%|██████████████████████████████▍                                                | 767/1989 [01:06<01:26, 14.16it/s]"
     ]
    },
    {
     "name": "stdout",
     "output_type": "stream",
     "text": [
      "Processing video: C:\\Users\\manuv\\Violence-Detection-With-Human-Skeletons\\data\\train\\Fight\\_q5Nwh4Z6ao_3.avi\n",
      "Processing video: C:\\Users\\manuv\\Violence-Detection-With-Human-Skeletons\\data\\train\\Fight\\_q5Nwh4Z6ao_4.avi\n",
      "Processing video: C:\\Users\\manuv\\Violence-Detection-With-Human-Skeletons\\data\\train\\Fight\\_q5Nwh4Z6ao_5.avi\n",
      "Processing video: C:\\Users\\manuv\\Violence-Detection-With-Human-Skeletons\\data\\train\\Fight\\_q5Nwh4Z6ao_6.avi\n"
     ]
    },
    {
     "name": "stderr",
     "output_type": "stream",
     "text": [
      " 39%|██████████████████████████████▌                                                | 771/1989 [01:06<01:16, 15.86it/s]"
     ]
    },
    {
     "name": "stdout",
     "output_type": "stream",
     "text": [
      "Processing video: C:\\Users\\manuv\\Violence-Detection-With-Human-Skeletons\\data\\train\\Fight\\_q5Nwh4Z6ao_7.avi\n",
      "Processing video: C:\\Users\\manuv\\Violence-Detection-With-Human-Skeletons\\data\\train\\Fight\\_q5Nwh4Z6ao_8.avi\n",
      "Processing video: C:\\Users\\manuv\\Violence-Detection-With-Human-Skeletons\\data\\train\\Fight\\_q5Nwh4Z6ao_9.avi\n",
      "Processing video: C:\\Users\\manuv\\Violence-Detection-With-Human-Skeletons\\data\\train\\Fight\\_RziL1Ds6xU_0.avi\n"
     ]
    },
    {
     "name": "stderr",
     "output_type": "stream",
     "text": [
      " 39%|██████████████████████████████▊                                                | 775/1989 [01:06<01:21, 14.84it/s]"
     ]
    },
    {
     "name": "stdout",
     "output_type": "stream",
     "text": [
      "Processing video: C:\\Users\\manuv\\Violence-Detection-With-Human-Skeletons\\data\\train\\Fight\\_RziL1Ds6xU_1.avi\n",
      "Processing video: C:\\Users\\manuv\\Violence-Detection-With-Human-Skeletons\\data\\train\\Fight\\_TwPzPRK7dc_0.avi\n",
      "Processing video: C:\\Users\\manuv\\Violence-Detection-With-Human-Skeletons\\data\\train\\Fight\\╤àΓòúΓöÉ╤äΓòò╨¼╤ç╨¼╨æ╤åΓûÆ╨Ñ╤à╨┤Γöñ╤àΓòò╨Æ╤åΓò£╨╛╤ë╨¿Γöé╤à╨£Γòæ╤ë╨ú╨¼╤ç╨½╨Æ╤ë╨Ñ╨ù╤åΓûôΓöé╤ë╨⌐╨ù╤å╨¡╨í╤å╨¬Γöñ╤à╨Ü╨½╤äΓòæ╨¢╤äΓòùΓòó╤ç╨½╨í╤å╨₧╨╖╤ê╨╖╨û╤ë╨▓╨í2_urlgot_138.avi\n"
     ]
    },
    {
     "name": "stderr",
     "output_type": "stream",
     "text": [
      " 39%|██████████████████████████████▉                                                | 779/1989 [01:07<01:18, 15.40it/s]"
     ]
    },
    {
     "name": "stdout",
     "output_type": "stream",
     "text": [
      "Processing video: C:\\Users\\manuv\\Violence-Detection-With-Human-Skeletons\\data\\train\\Fight\\╤àΓòúΓöÉ╤äΓòò╨¼╤ç╨¼╨æ╤åΓûÆ╨Ñ╤à╨┤Γöñ╤àΓòò╨Æ╤åΓò£╨╛╤ë╨¿Γöé╤à╨£Γòæ╤ë╨ú╨¼╤ç╨½╨Æ╤ë╨Ñ╨ù╤åΓûôΓöé╤ë╨⌐╨ù╤å╨¡╨í╤å╨¬Γöñ╤à╨Ü╨½╤äΓòæ╨¢╤äΓòùΓòó╤ç╨½╨í╤å╨₧╨╖╤ê╨╖╨û╤ë╨▓╨í2_urlgot_139.avi\n",
      "Processing video: C:\\Users\\manuv\\Violence-Detection-With-Human-Skeletons\\data\\train\\Fight\\╤àΓòúΓöÉ╤äΓòò╨¼╤ç╨¼╨æ╤åΓûÆ╨Ñ╤à╨┤Γöñ╤àΓòò╨Æ╤åΓò£╨╛╤ë╨¿Γöé╤à╨£Γòæ╤ë╨ú╨¼╤ç╨½╨Æ╤ë╨Ñ╨ù╤åΓûôΓöé╤ë╨⌐╨ù╤å╨¡╨í╤å╨¬Γöñ╤à╨Ü╨½╤äΓòæ╨¢╤äΓòùΓòó╤ç╨½╨í╤å╨₧╨╖╤ê╨╖╨û╤ë╨▓╨í2_urlgot_140.avi\n",
      "Processing video: C:\\Users\\manuv\\Violence-Detection-With-Human-Skeletons\\data\\train\\Fight\\╤àΓòúΓöÉ╤äΓòò╨¼╤ç╨¼╨æ╤åΓûÆ╨Ñ╤à╨┤Γöñ╤àΓòò╨Æ╤åΓò£╨╛╤ë╨¿Γöé╤à╨£Γòæ╤ë╨ú╨¼╤ç╨½╨Æ╤ë╨Ñ╨ù╤åΓûôΓöé╤ë╨⌐╨ù╤å╨¡╨í╤å╨¬Γöñ╤à╨Ü╨½╤äΓòæ╨¢╤äΓòùΓòó╤ç╨½╨í╤å╨₧╨╖╤ê╨╖╨û╤ë╨▓╨í2_urlgot_141.avi\n",
      "Processing video: C:\\Users\\manuv\\Violence-Detection-With-Human-Skeletons\\data\\train\\Fight\\╤à╨┤╨╖╤ë╨⌐╨û╤ç╨á╨û╤à╨ƒ╨í╤àΓòæ╨º╤à╨ƒ╨í╤ç╨ñ╨»╤ç╨░╨¥╤äΓòæΓòæ╤äΓòæ╨¢╤äΓòùΓòó╤ÅΓò¥╨£╤äΓòò╨¢╤å╨Ö╨¢╤ç╨¼╨»╤ç╨¢╨░╤ÅΓò¥╨æ_urlgot_121.avi\n",
      "Processing video: C:\\Users\\manuv\\Violence-Detection-With-Human-Skeletons\\data\\train\\Fight\\╤à╨┤╨╖╤ë╨⌐╨û╤ç╨á╨û╤à╨ƒ╨í╤àΓòæ╨º╤à╨ƒ╨í╤ç╨ñ╨»╤ç╨░╨¥╤äΓòæΓòæ╤äΓòæ╨¢╤äΓòùΓòó╤ÅΓò¥╨£╤äΓòò╨¢╤å╨Ö╨¢╤ç╨¼╨»╤ç╨¢╨░╤ÅΓò¥╨æ_urlgot_122.avi\n"
     ]
    },
    {
     "name": "stderr",
     "output_type": "stream",
     "text": [
      " 39%|███████████████████████████████                                                | 783/1989 [01:07<01:38, 12.30it/s]"
     ]
    },
    {
     "name": "stdout",
     "output_type": "stream",
     "text": [
      "Processing video: C:\\Users\\manuv\\Violence-Detection-With-Human-Skeletons\\data\\train\\Fight\\╤à╨┤╨╖╤ë╨⌐╨û╤ç╨á╨û╤à╨ƒ╨í╤àΓòæ╨º╤à╨ƒ╨í╤ç╨ñ╨»╤ç╨░╨¥╤äΓòæΓòæ╤äΓòæ╨¢╤äΓòùΓòó╤ÅΓò¥╨£╤äΓòò╨¢╤å╨Ö╨¢╤ç╨¼╨»╤ç╨¢╨░╤ÅΓò¥╨æ_urlgot_123.avi\n",
      "Processing video: C:\\Users\\manuv\\Violence-Detection-With-Human-Skeletons\\data\\train\\Fight\\╤à╨┤╨╖╤ë╨⌐╨û╤ç╨á╨û╤à╨ƒ╨í╤àΓòæ╨º╤à╨ƒ╨í╤ç╨ñ╨»╤ç╨░╨¥╤äΓòæΓòæ╤äΓòæ╨¢╤äΓòùΓòó╤ÅΓò¥╨£╤äΓòò╨¢╤å╨Ö╨¢╤ç╨¼╨»╤ç╨¢╨░╤ÅΓò¥╨æ_urlgot_127.avi\n",
      "Processing video: C:\\Users\\manuv\\Violence-Detection-With-Human-Skeletons\\data\\train\\Fight\\╤à╨╢╨Æ╤å╨«╨¼╤äΓòò╨¥╤å╨¿╨┐╤ç╨½╨í╤å╨₧╨╖,╤êΓûæ╨æ╤äΓò¥╨¬╤ç╨½Γòò╤äΓöÉ╨▒╤àΓûæ╨ƒ╤äΓò¥╨⌐╤äΓòòΓòæ╤äΓòæ╨û╤å╨Ö╨ú╤å╨«Γòó╤ç╨½Γöñ╤å╨₧╨╡╤äΓòù╨₧╤äΓòæ╨£╤å╨╡Γò¥╤êΓòûΓöé╤äΓòò╨¢╤à╨₧Γòù_urlgot_254.avi\n",
      "Processing video: C:\\Users\\manuv\\Violence-Detection-With-Human-Skeletons\\data\\train\\Fight\\╤çΓò£╨í╤à╨á╨╖╤ë╨æ╨╜╤àΓûæ╨ƒ╤åΓòûΓòû╤åΓòûΓòû╤å╨Ö╨ú╤å╨«Γòó╤ÅΓò¥╨£╤ç╨½╨í╤å╨₧╨╖╤à╨ò╨╕╤ç╨╕╨¢╤å╨¢╨¥╤å╨í╨ö_urlgot_317.avi\n"
     ]
    },
    {
     "name": "stderr",
     "output_type": "stream",
     "text": [
      " 40%|███████████████████████████████▎                                               | 787/1989 [01:07<01:33, 12.84it/s]"
     ]
    },
    {
     "name": "stdout",
     "output_type": "stream",
     "text": [
      "Processing video: C:\\Users\\manuv\\Violence-Detection-With-Human-Skeletons\\data\\train\\Fight\\╤ç╨½╨í╤å╨₧╨╖-╤ê╨¢ΓûÆ╤à╨½Γò£╤ê╨╜╨╢╤à╨┐╨»╤å╨¬Γöñ╤à╨Ü╨½╤å╨╛Γöñ╤å╨Ö╨ú╤à╨╡Γöé╤à╨╗╨£╤ç╨Ü╨┐_urlgot_210.avi\n",
      "Processing video: C:\\Users\\manuv\\Violence-Detection-With-Human-Skeletons\\data\\train\\Fight\\╤ç╨½╨í╤å╨₧╨╖╤å╨¢╨¥╤äΓòò╨¢╤ë╨┤╨á╤à╨₧╨ò╤äΓòò╨É╤çΓò¢╨┤╤àΓûæ╨ƒ╤äΓò¥╨⌐╤å╨Ö╨ú╤å╨«Γòó╤å╨ª╨º╤å╨╛Γöñ ╤ê╨É╨æ╤å╨¡ΓöÉ╤ç╨«╨╝╤ë╨ºΓöñ╤à╨ƒ╨í╤ë╨│╨⌐╤äΓòæ╨û_urlgot_267.avi\n",
      "Processing video: C:\\Users\\manuv\\Violence-Detection-With-Human-Skeletons\\data\\train\\Fight\\╤ç╨½╨í╤å╨₧╨╖╤å╨¢╨¥╤äΓòò╨¢╤ë╨┤╨á╤à╨₧╨ò╤äΓòò╨É╤çΓò¢╨┤╤àΓûæ╨ƒ╤äΓò¥╨⌐╤å╨Ö╨ú╤å╨«Γòó╤å╨ª╨º╤å╨╛Γöñ ╤ê╨É╨æ╤å╨¡ΓöÉ╤ç╨«╨╝╤ë╨ºΓöñ╤à╨ƒ╨í╤ë╨│╨⌐╤äΓòæ╨û_urlgot_268.avi\n",
      "Processing video: C:\\Users\\manuv\\Violence-Detection-With-Human-Skeletons\\data\\train\\Fight\\╤ç╨½╨í╤å╨₧╨╖╤å╨¢╨¥╤äΓòò╨¢╤ë╨┤╨á╤à╨₧╨ò╤äΓòò╨É╤çΓò¢╨┤╤àΓûæ╨ƒ╤äΓò¥╨⌐╤å╨Ö╨ú╤å╨«Γòó╤å╨ª╨º╤å╨╛Γöñ ╤ê╨É╨æ╤å╨¡ΓöÉ╤ç╨«╨╝╤ë╨ºΓöñ╤à╨ƒ╨í╤ë╨│╨⌐╤äΓòæ╨û_urlgot_279.avi\n"
     ]
    },
    {
     "name": "stderr",
     "output_type": "stream",
     "text": [
      " 40%|███████████████████████████████▍                                               | 791/1989 [01:08<01:32, 13.00it/s]"
     ]
    },
    {
     "name": "stdout",
     "output_type": "stream",
     "text": [
      "Processing video: C:\\Users\\manuv\\Violence-Detection-With-Human-Skeletons\\data\\train\\NonFight\\-1l5631l3fg_0.avi\n",
      "Processing video: C:\\Users\\manuv\\Violence-Detection-With-Human-Skeletons\\data\\train\\NonFight\\-1l5631l3fg_1.avi\n",
      "Processing video: C:\\Users\\manuv\\Violence-Detection-With-Human-Skeletons\\data\\train\\NonFight\\0AvTZRYx_0.avi\n"
     ]
    },
    {
     "name": "stderr",
     "output_type": "stream",
     "text": [
      " 40%|███████████████████████████████▍                                               | 793/1989 [01:08<01:32, 12.99it/s]"
     ]
    },
    {
     "name": "stdout",
     "output_type": "stream",
     "text": [
      "Processing video: C:\\Users\\manuv\\Violence-Detection-With-Human-Skeletons\\data\\train\\NonFight\\0GGPb4iO_0.avi\n",
      "Processing video: C:\\Users\\manuv\\Violence-Detection-With-Human-Skeletons\\data\\train\\NonFight\\0H2s9UJcNJ0_0.avi\n"
     ]
    },
    {
     "name": "stderr",
     "output_type": "stream",
     "text": [
      " 40%|███████████████████████████████▌                                               | 795/1989 [01:08<01:46, 11.22it/s]"
     ]
    },
    {
     "name": "stdout",
     "output_type": "stream",
     "text": [
      "Processing video: C:\\Users\\manuv\\Violence-Detection-With-Human-Skeletons\\data\\train\\NonFight\\0H2s9UJcNJ0_1.avi\n",
      "Processing video: C:\\Users\\manuv\\Violence-Detection-With-Human-Skeletons\\data\\train\\NonFight\\0H2s9UJcNJ0_2.avi\n"
     ]
    },
    {
     "name": "stderr",
     "output_type": "stream",
     "text": [
      " 40%|███████████████████████████████▋                                               | 797/1989 [01:08<01:45, 11.28it/s]"
     ]
    },
    {
     "name": "stdout",
     "output_type": "stream",
     "text": [
      "Processing video: C:\\Users\\manuv\\Violence-Detection-With-Human-Skeletons\\data\\train\\NonFight\\0NqPsSHdri8_0.avi\n",
      "Processing video: C:\\Users\\manuv\\Violence-Detection-With-Human-Skeletons\\data\\train\\NonFight\\0QSeuqzpcOQ_0.avi\n",
      "Processing video: C:\\Users\\manuv\\Violence-Detection-With-Human-Skeletons\\data\\train\\NonFight\\0QSeuqzpcOQ_1.avi\n"
     ]
    },
    {
     "name": "stderr",
     "output_type": "stream",
     "text": [
      " 40%|███████████████████████████████▊                                               | 801/1989 [01:08<01:49, 10.85it/s]"
     ]
    },
    {
     "name": "stdout",
     "output_type": "stream",
     "text": [
      "Processing video: C:\\Users\\manuv\\Violence-Detection-With-Human-Skeletons\\data\\train\\NonFight\\0TFi8D8IBg4_0.avi\n",
      "Processing video: C:\\Users\\manuv\\Violence-Detection-With-Human-Skeletons\\data\\train\\NonFight\\0TP13Nyn_0.avi\n",
      "Processing video: C:\\Users\\manuv\\Violence-Detection-With-Human-Skeletons\\data\\train\\NonFight\\0vasozvJYvk_0.avi\n"
     ]
    },
    {
     "name": "stderr",
     "output_type": "stream",
     "text": [
      " 40%|███████████████████████████████▉                                               | 803/1989 [01:09<01:51, 10.67it/s]"
     ]
    },
    {
     "name": "stdout",
     "output_type": "stream",
     "text": [
      "Processing video: C:\\Users\\manuv\\Violence-Detection-With-Human-Skeletons\\data\\train\\NonFight\\0vasozvJYvk_1.avi\n",
      "Processing video: C:\\Users\\manuv\\Violence-Detection-With-Human-Skeletons\\data\\train\\NonFight\\0vasozvJYvk_2.avi\n",
      "Processing video: C:\\Users\\manuv\\Violence-Detection-With-Human-Skeletons\\data\\train\\NonFight\\0xoSMgad_0.avi\n"
     ]
    },
    {
     "name": "stderr",
     "output_type": "stream",
     "text": [
      " 40%|███████████████████████████████▉                                               | 805/1989 [01:09<01:47, 11.05it/s]"
     ]
    },
    {
     "name": "stdout",
     "output_type": "stream",
     "text": [
      "Processing video: C:\\Users\\manuv\\Violence-Detection-With-Human-Skeletons\\data\\train\\NonFight\\0YbzxGPE_0.avi\n",
      "Processing video: C:\\Users\\manuv\\Violence-Detection-With-Human-Skeletons\\data\\train\\NonFight\\0_DzLlklZa0_0.avi\n"
     ]
    },
    {
     "name": "stderr",
     "output_type": "stream",
     "text": [
      " 41%|████████████████████████████████                                               | 807/1989 [01:09<01:50, 10.66it/s]"
     ]
    },
    {
     "name": "stdout",
     "output_type": "stream",
     "text": [
      "Processing video: C:\\Users\\manuv\\Violence-Detection-With-Human-Skeletons\\data\\train\\NonFight\\0_DzLlklZa0_1.avi\n",
      "Processing video: C:\\Users\\manuv\\Violence-Detection-With-Human-Skeletons\\data\\train\\NonFight\\0_DzLlklZa0_2.avi\n"
     ]
    },
    {
     "name": "stderr",
     "output_type": "stream",
     "text": [
      " 41%|████████████████████████████████▏                                              | 811/1989 [01:09<01:49, 10.75it/s]"
     ]
    },
    {
     "name": "stdout",
     "output_type": "stream",
     "text": [
      "Processing video: C:\\Users\\manuv\\Violence-Detection-With-Human-Skeletons\\data\\train\\NonFight\\0_DzLlklZa0_3.avi\n",
      "Processing video: C:\\Users\\manuv\\Violence-Detection-With-Human-Skeletons\\data\\train\\NonFight\\11vr9Jho_0.avi\n",
      "Processing video: C:\\Users\\manuv\\Violence-Detection-With-Human-Skeletons\\data\\train\\NonFight\\14YZVngQ_0.avi\n"
     ]
    },
    {
     "name": "stderr",
     "output_type": "stream",
     "text": [
      " 41%|████████████████████████████████▎                                              | 813/1989 [01:10<01:44, 11.21it/s]"
     ]
    },
    {
     "name": "stdout",
     "output_type": "stream",
     "text": [
      "Processing video: C:\\Users\\manuv\\Violence-Detection-With-Human-Skeletons\\data\\train\\NonFight\\16O0PIQP_0.avi\n",
      "Processing video: C:\\Users\\manuv\\Violence-Detection-With-Human-Skeletons\\data\\train\\NonFight\\18xQQOv5_0.avi\n",
      "Processing video: C:\\Users\\manuv\\Violence-Detection-With-Human-Skeletons\\data\\train\\NonFight\\1A3zEkCHBl8_0.avi\n"
     ]
    },
    {
     "name": "stderr",
     "output_type": "stream",
     "text": [
      " 41%|████████████████████████████████▎                                              | 815/1989 [01:10<01:44, 11.28it/s]"
     ]
    },
    {
     "name": "stdout",
     "output_type": "stream",
     "text": [
      "Processing video: C:\\Users\\manuv\\Violence-Detection-With-Human-Skeletons\\data\\train\\NonFight\\1A3zEkCHBl8_1.avi\n",
      "Processing video: C:\\Users\\manuv\\Violence-Detection-With-Human-Skeletons\\data\\train\\NonFight\\1A3zEkCHBl8_2.avi\n"
     ]
    },
    {
     "name": "stderr",
     "output_type": "stream",
     "text": [
      " 41%|████████████████████████████████▌                                              | 819/1989 [01:10<01:52, 10.41it/s]"
     ]
    },
    {
     "name": "stdout",
     "output_type": "stream",
     "text": [
      "Processing video: C:\\Users\\manuv\\Violence-Detection-With-Human-Skeletons\\data\\train\\NonFight\\1ahhhDBQHxg_0.avi\n",
      "Processing video: C:\\Users\\manuv\\Violence-Detection-With-Human-Skeletons\\data\\train\\NonFight\\1dsLuL5Lvbc_0.avi\n",
      "Processing video: C:\\Users\\manuv\\Violence-Detection-With-Human-Skeletons\\data\\train\\NonFight\\1O4KGHbRt3M_0.avi\n",
      "Processing video: C:\\Users\\manuv\\Violence-Detection-With-Human-Skeletons\\data\\train\\NonFight\\1O4KGHbRt3M_1.avi\n"
     ]
    },
    {
     "name": "stderr",
     "output_type": "stream",
     "text": [
      " 41%|████████████████████████████████▋                                              | 823/1989 [01:11<01:52, 10.33it/s]"
     ]
    },
    {
     "name": "stdout",
     "output_type": "stream",
     "text": [
      "Processing video: C:\\Users\\manuv\\Violence-Detection-With-Human-Skeletons\\data\\train\\NonFight\\1oEbrZhr_0.avi\n",
      "Processing video: C:\\Users\\manuv\\Violence-Detection-With-Human-Skeletons\\data\\train\\NonFight\\1OXrIaQK_0.avi\n",
      "Processing video: C:\\Users\\manuv\\Violence-Detection-With-Human-Skeletons\\data\\train\\NonFight\\1QixA5m2_0.avi\n"
     ]
    },
    {
     "name": "stderr",
     "output_type": "stream",
     "text": [
      " 41%|████████████████████████████████▊                                              | 825/1989 [01:11<01:39, 11.74it/s]"
     ]
    },
    {
     "name": "stdout",
     "output_type": "stream",
     "text": [
      "Processing video: C:\\Users\\manuv\\Violence-Detection-With-Human-Skeletons\\data\\train\\NonFight\\1r91ACCe_0.avi\n",
      "Processing video: C:\\Users\\manuv\\Violence-Detection-With-Human-Skeletons\\data\\train\\NonFight\\1tU4kxa51vw_0.avi\n",
      "Processing video: C:\\Users\\manuv\\Violence-Detection-With-Human-Skeletons\\data\\train\\NonFight\\1tU4kxa51vw_1.avi\n"
     ]
    },
    {
     "name": "stderr",
     "output_type": "stream",
     "text": [
      " 42%|████████████████████████████████▉                                              | 829/1989 [01:11<01:34, 12.21it/s]"
     ]
    },
    {
     "name": "stdout",
     "output_type": "stream",
     "text": [
      "Processing video: C:\\Users\\manuv\\Violence-Detection-With-Human-Skeletons\\data\\train\\NonFight\\1tU4kxa51vw_2.avi\n",
      "Processing video: C:\\Users\\manuv\\Violence-Detection-With-Human-Skeletons\\data\\train\\NonFight\\1Ytq2moWGdw_0.avi\n",
      "Processing video: C:\\Users\\manuv\\Violence-Detection-With-Human-Skeletons\\data\\train\\NonFight\\24E0xYYUz44_0.avi\n"
     ]
    },
    {
     "name": "stderr",
     "output_type": "stream",
     "text": [
      " 42%|█████████████████████████████████                                              | 831/1989 [01:11<01:38, 11.74it/s]"
     ]
    },
    {
     "name": "stdout",
     "output_type": "stream",
     "text": [
      "Processing video: C:\\Users\\manuv\\Violence-Detection-With-Human-Skeletons\\data\\train\\NonFight\\24E0xYYUz44_1.avi\n",
      "Processing video: C:\\Users\\manuv\\Violence-Detection-With-Human-Skeletons\\data\\train\\NonFight\\24E0xYYUz44_2.avi\n",
      "Processing video: C:\\Users\\manuv\\Violence-Detection-With-Human-Skeletons\\data\\train\\NonFight\\2bBn7MLg_0.avi\n"
     ]
    },
    {
     "name": "stderr",
     "output_type": "stream",
     "text": [
      " 42%|█████████████████████████████████▏                                             | 835/1989 [01:12<01:31, 12.62it/s]"
     ]
    },
    {
     "name": "stdout",
     "output_type": "stream",
     "text": [
      "Processing video: C:\\Users\\manuv\\Violence-Detection-With-Human-Skeletons\\data\\train\\NonFight\\2gkuUVq1_0.avi\n",
      "Processing video: C:\\Users\\manuv\\Violence-Detection-With-Human-Skeletons\\data\\train\\NonFight\\2KMf6p5Q_0.avi\n",
      "Processing video: C:\\Users\\manuv\\Violence-Detection-With-Human-Skeletons\\data\\train\\NonFight\\2KvkZ4yo_0.avi\n"
     ]
    },
    {
     "name": "stderr",
     "output_type": "stream",
     "text": [
      " 42%|█████████████████████████████████▏                                             | 837/1989 [01:12<01:33, 12.33it/s]"
     ]
    },
    {
     "name": "stdout",
     "output_type": "stream",
     "text": [
      "Processing video: C:\\Users\\manuv\\Violence-Detection-With-Human-Skeletons\\data\\train\\NonFight\\310cmTrl_0.avi\n",
      "Processing video: C:\\Users\\manuv\\Violence-Detection-With-Human-Skeletons\\data\\train\\NonFight\\36zWWHlldS8_0.avi\n",
      "Processing video: C:\\Users\\manuv\\Violence-Detection-With-Human-Skeletons\\data\\train\\NonFight\\3CQi0ZCCHvc_0.avi\n"
     ]
    },
    {
     "name": "stderr",
     "output_type": "stream",
     "text": [
      " 42%|█████████████████████████████████▍                                             | 841/1989 [01:12<01:29, 12.88it/s]"
     ]
    },
    {
     "name": "stdout",
     "output_type": "stream",
     "text": [
      "Processing video: C:\\Users\\manuv\\Violence-Detection-With-Human-Skeletons\\data\\train\\NonFight\\3CQi0ZCCHvc_1.avi\n",
      "Processing video: C:\\Users\\manuv\\Violence-Detection-With-Human-Skeletons\\data\\train\\NonFight\\3CQi0ZCCHvc_2.avi\n",
      "Processing video: C:\\Users\\manuv\\Violence-Detection-With-Human-Skeletons\\data\\train\\NonFight\\3djtKN3k_0.avi\n",
      "Processing video: C:\\Users\\manuv\\Violence-Detection-With-Human-Skeletons\\data\\train\\NonFight\\3Edebh8P_0.avi\n"
     ]
    },
    {
     "name": "stderr",
     "output_type": "stream",
     "text": [
      " 43%|█████████████████████████████████▌                                             | 846/1989 [01:12<01:12, 15.71it/s]"
     ]
    },
    {
     "name": "stdout",
     "output_type": "stream",
     "text": [
      "Processing video: C:\\Users\\manuv\\Violence-Detection-With-Human-Skeletons\\data\\train\\NonFight\\3GUaHts0_0.avi\n",
      "Processing video: C:\\Users\\manuv\\Violence-Detection-With-Human-Skeletons\\data\\train\\NonFight\\3HCpeji1_0.avi\n",
      "Processing video: C:\\Users\\manuv\\Violence-Detection-With-Human-Skeletons\\data\\train\\NonFight\\3kpviz7lAMY_0.avi\n",
      "Processing video: C:\\Users\\manuv\\Violence-Detection-With-Human-Skeletons\\data\\train\\NonFight\\3OKArbzg1uc_0.avi\n"
     ]
    },
    {
     "name": "stderr",
     "output_type": "stream",
     "text": [
      " 43%|█████████████████████████████████▋                                             | 848/1989 [01:12<01:19, 14.28it/s]"
     ]
    },
    {
     "name": "stdout",
     "output_type": "stream",
     "text": [
      "Processing video: C:\\Users\\manuv\\Violence-Detection-With-Human-Skeletons\\data\\train\\NonFight\\3pRrZ9TS_0.avi\n",
      "Processing video: C:\\Users\\manuv\\Violence-Detection-With-Human-Skeletons\\data\\train\\NonFight\\3qsou7p57Nk_0.avi\n",
      "Processing video: C:\\Users\\manuv\\Violence-Detection-With-Human-Skeletons\\data\\train\\NonFight\\3qsou7p57Nk_1.avi\n"
     ]
    },
    {
     "name": "stderr",
     "output_type": "stream",
     "text": [
      " 43%|█████████████████████████████████▊                                             | 850/1989 [01:13<01:26, 13.11it/s]"
     ]
    },
    {
     "name": "stdout",
     "output_type": "stream",
     "text": [
      "Processing video: C:\\Users\\manuv\\Violence-Detection-With-Human-Skeletons\\data\\train\\NonFight\\3SS0E4SmTk8_0.avi\n",
      "Processing video: C:\\Users\\manuv\\Violence-Detection-With-Human-Skeletons\\data\\train\\NonFight\\3SS0E4SmTk8_1.avi\n"
     ]
    },
    {
     "name": "stderr",
     "output_type": "stream",
     "text": [
      " 43%|█████████████████████████████████▉                                             | 854/1989 [01:13<01:40, 11.31it/s]"
     ]
    },
    {
     "name": "stdout",
     "output_type": "stream",
     "text": [
      "Processing video: C:\\Users\\manuv\\Violence-Detection-With-Human-Skeletons\\data\\train\\NonFight\\3SS0E4SmTk8_2.avi\n",
      "Processing video: C:\\Users\\manuv\\Violence-Detection-With-Human-Skeletons\\data\\train\\NonFight\\3TQqO4N8_0.avi\n",
      "Processing video: C:\\Users\\manuv\\Violence-Detection-With-Human-Skeletons\\data\\train\\NonFight\\3Vw7MoNBgx4_0.avi\n",
      "Processing video: C:\\Users\\manuv\\Violence-Detection-With-Human-Skeletons\\data\\train\\NonFight\\3Vw7MoNBgx4_1.avi\n"
     ]
    },
    {
     "name": "stderr",
     "output_type": "stream",
     "text": [
      " 43%|██████████████████████████████████                                             | 858/1989 [01:13<01:40, 11.29it/s]"
     ]
    },
    {
     "name": "stdout",
     "output_type": "stream",
     "text": [
      "Processing video: C:\\Users\\manuv\\Violence-Detection-With-Human-Skeletons\\data\\train\\NonFight\\3z7ncTuu_0.avi\n",
      "Processing video: C:\\Users\\manuv\\Violence-Detection-With-Human-Skeletons\\data\\train\\NonFight\\3ZY4hpms_0.avi\n",
      "Processing video: C:\\Users\\manuv\\Violence-Detection-With-Human-Skeletons\\data\\train\\NonFight\\40l8LuP4_0.avi\n",
      "Processing video: C:\\Users\\manuv\\Violence-Detection-With-Human-Skeletons\\data\\train\\NonFight\\4Fqxw7Nl_0.avi\n"
     ]
    },
    {
     "name": "stderr",
     "output_type": "stream",
     "text": [
      " 43%|██████████████████████████████████▏                                            | 862/1989 [01:14<01:27, 12.88it/s]"
     ]
    },
    {
     "name": "stdout",
     "output_type": "stream",
     "text": [
      "Processing video: C:\\Users\\manuv\\Violence-Detection-With-Human-Skeletons\\data\\train\\NonFight\\4fY0Iv4t_0.avi\n",
      "Processing video: C:\\Users\\manuv\\Violence-Detection-With-Human-Skeletons\\data\\train\\NonFight\\4grE6XdY_0.avi\n",
      "Processing video: C:\\Users\\manuv\\Violence-Detection-With-Human-Skeletons\\data\\train\\NonFight\\4HH7yMU8y9A_0.avi\n",
      "Processing video: C:\\Users\\manuv\\Violence-Detection-With-Human-Skeletons\\data\\train\\NonFight\\4HH7yMU8y9A_1.avi\n"
     ]
    },
    {
     "name": "stderr",
     "output_type": "stream",
     "text": [
      " 44%|██████████████████████████████████▍                                            | 866/1989 [01:14<01:31, 12.24it/s]"
     ]
    },
    {
     "name": "stdout",
     "output_type": "stream",
     "text": [
      "Processing video: C:\\Users\\manuv\\Violence-Detection-With-Human-Skeletons\\data\\train\\NonFight\\4HH7yMU8y9A_2.avi\n",
      "Processing video: C:\\Users\\manuv\\Violence-Detection-With-Human-Skeletons\\data\\train\\NonFight\\4HH7yMU8y9A_3.avi\n",
      "Processing video: C:\\Users\\manuv\\Violence-Detection-With-Human-Skeletons\\data\\train\\NonFight\\4jZvTj4j_0.avi\n"
     ]
    },
    {
     "name": "stderr",
     "output_type": "stream",
     "text": [
      " 44%|██████████████████████████████████▍                                            | 868/1989 [01:14<01:24, 13.22it/s]"
     ]
    },
    {
     "name": "stdout",
     "output_type": "stream",
     "text": [
      "Processing video: C:\\Users\\manuv\\Violence-Detection-With-Human-Skeletons\\data\\train\\NonFight\\4RgIlSIB_0.avi\n",
      "Processing video: C:\\Users\\manuv\\Violence-Detection-With-Human-Skeletons\\data\\train\\NonFight\\4RqDG4I4iAk_0.avi\n",
      "Processing video: C:\\Users\\manuv\\Violence-Detection-With-Human-Skeletons\\data\\train\\NonFight\\4RqDG4I4iAk_1.avi\n"
     ]
    },
    {
     "name": "stderr",
     "output_type": "stream",
     "text": [
      " 44%|██████████████████████████████████▋                                            | 872/1989 [01:15<01:37, 11.44it/s]"
     ]
    },
    {
     "name": "stdout",
     "output_type": "stream",
     "text": [
      "Processing video: C:\\Users\\manuv\\Violence-Detection-With-Human-Skeletons\\data\\train\\NonFight\\4RqDG4I4iAk_2.avi\n",
      "Processing video: C:\\Users\\manuv\\Violence-Detection-With-Human-Skeletons\\data\\train\\NonFight\\4x9VdiCc_0.avi\n"
     ]
    },
    {
     "name": "stderr",
     "output_type": "stream",
     "text": [
      " 44%|██████████████████████████████████▋                                            | 874/1989 [01:15<01:27, 12.79it/s]"
     ]
    },
    {
     "name": "stdout",
     "output_type": "stream",
     "text": [
      "Processing video: C:\\Users\\manuv\\Violence-Detection-With-Human-Skeletons\\data\\train\\NonFight\\4yTlGiDoxBo_0.avi\n",
      "Processing video: C:\\Users\\manuv\\Violence-Detection-With-Human-Skeletons\\data\\train\\NonFight\\4yTlGiDoxBo_1.avi\n",
      "Processing video: C:\\Users\\manuv\\Violence-Detection-With-Human-Skeletons\\data\\train\\NonFight\\4yTlGiDoxBo_2.avi\n",
      "Processing video: C:\\Users\\manuv\\Violence-Detection-With-Human-Skeletons\\data\\train\\NonFight\\551_wlV44GU_0.avi\n"
     ]
    },
    {
     "name": "stderr",
     "output_type": "stream",
     "text": [
      " 44%|██████████████████████████████████▊                                            | 878/1989 [01:15<01:34, 11.81it/s]"
     ]
    },
    {
     "name": "stdout",
     "output_type": "stream",
     "text": [
      "Processing video: C:\\Users\\manuv\\Violence-Detection-With-Human-Skeletons\\data\\train\\NonFight\\551_wlV44GU_1.avi\n",
      "Processing video: C:\\Users\\manuv\\Violence-Detection-With-Human-Skeletons\\data\\train\\NonFight\\5CwYc67y_0.avi\n"
     ]
    },
    {
     "name": "stderr",
     "output_type": "stream",
     "text": [
      " 44%|██████████████████████████████████▉                                            | 880/1989 [01:15<01:32, 11.96it/s]"
     ]
    },
    {
     "name": "stdout",
     "output_type": "stream",
     "text": [
      "Processing video: C:\\Users\\manuv\\Violence-Detection-With-Human-Skeletons\\data\\train\\NonFight\\5ieZt2nc_0.avi\n",
      "Processing video: C:\\Users\\manuv\\Violence-Detection-With-Human-Skeletons\\data\\train\\NonFight\\5RayT2Vy0EA_0.avi\n",
      "Processing video: C:\\Users\\manuv\\Violence-Detection-With-Human-Skeletons\\data\\train\\NonFight\\5RayT2Vy0EA_1.avi\n"
     ]
    },
    {
     "name": "stderr",
     "output_type": "stream",
     "text": [
      " 44%|███████████████████████████████████                                            | 882/1989 [01:15<01:40, 10.97it/s]"
     ]
    },
    {
     "name": "stdout",
     "output_type": "stream",
     "text": [
      "Processing video: C:\\Users\\manuv\\Violence-Detection-With-Human-Skeletons\\data\\train\\NonFight\\5RayT2Vy0EA_2.avi\n",
      "Processing video: C:\\Users\\manuv\\Violence-Detection-With-Human-Skeletons\\data\\train\\NonFight\\5z1f5blMBdk_0.avi\n",
      "Processing video: C:\\Users\\manuv\\Violence-Detection-With-Human-Skeletons\\data\\train\\NonFight\\5zVqOS0l_0.avi\n"
     ]
    },
    {
     "name": "stderr",
     "output_type": "stream",
     "text": [
      " 44%|███████████████████████████████████                                            | 884/1989 [01:16<01:35, 11.54it/s]"
     ]
    },
    {
     "name": "stdout",
     "output_type": "stream",
     "text": [
      "Processing video: C:\\Users\\manuv\\Violence-Detection-With-Human-Skeletons\\data\\train\\NonFight\\6b254l7P_0.avi\n",
      "Processing video: C:\\Users\\manuv\\Violence-Detection-With-Human-Skeletons\\data\\train\\NonFight\\6Dej3-k3MRE_0.avi\n"
     ]
    },
    {
     "name": "stderr",
     "output_type": "stream",
     "text": [
      " 45%|███████████████████████████████████▏                                           | 886/1989 [01:16<01:40, 10.98it/s]"
     ]
    },
    {
     "name": "stdout",
     "output_type": "stream",
     "text": [
      "Processing video: C:\\Users\\manuv\\Violence-Detection-With-Human-Skeletons\\data\\train\\NonFight\\6Dej3-k3MRE_1.avi\n",
      "Processing video: C:\\Users\\manuv\\Violence-Detection-With-Human-Skeletons\\data\\train\\NonFight\\6Dej3-k3MRE_2.avi\n"
     ]
    },
    {
     "name": "stderr",
     "output_type": "stream",
     "text": [
      " 45%|███████████████████████████████████▎                                           | 890/1989 [01:16<01:40, 10.94it/s]"
     ]
    },
    {
     "name": "stdout",
     "output_type": "stream",
     "text": [
      "Processing video: C:\\Users\\manuv\\Violence-Detection-With-Human-Skeletons\\data\\train\\NonFight\\6hots6jj_0.avi\n",
      "Processing video: C:\\Users\\manuv\\Violence-Detection-With-Human-Skeletons\\data\\train\\NonFight\\6JmCJbug_0.avi\n",
      "Processing video: C:\\Users\\manuv\\Violence-Detection-With-Human-Skeletons\\data\\train\\NonFight\\6mrIIcAQ2fI_0.avi\n"
     ]
    },
    {
     "name": "stderr",
     "output_type": "stream",
     "text": [
      " 45%|███████████████████████████████████▍                                           | 892/1989 [01:16<01:48, 10.08it/s]"
     ]
    },
    {
     "name": "stdout",
     "output_type": "stream",
     "text": [
      "Processing video: C:\\Users\\manuv\\Violence-Detection-With-Human-Skeletons\\data\\train\\NonFight\\6mrIIcAQ2fI_1.avi\n",
      "Processing video: C:\\Users\\manuv\\Violence-Detection-With-Human-Skeletons\\data\\train\\NonFight\\6MSwCc0a_0.avi\n",
      "Processing video: C:\\Users\\manuv\\Violence-Detection-With-Human-Skeletons\\data\\train\\NonFight\\6n48sGUq_0.avi\n"
     ]
    },
    {
     "name": "stderr",
     "output_type": "stream",
     "text": [
      " 45%|███████████████████████████████████▌                                           | 896/1989 [01:17<01:36, 11.30it/s]"
     ]
    },
    {
     "name": "stdout",
     "output_type": "stream",
     "text": [
      "Processing video: C:\\Users\\manuv\\Violence-Detection-With-Human-Skeletons\\data\\train\\NonFight\\6YmBBzyX_0.avi\n",
      "Processing video: C:\\Users\\manuv\\Violence-Detection-With-Human-Skeletons\\data\\train\\NonFight\\7-e3_UW7L7U_0.avi\n",
      "Processing video: C:\\Users\\manuv\\Violence-Detection-With-Human-Skeletons\\data\\train\\NonFight\\7icHwpC_d44_0.avi\n"
     ]
    },
    {
     "name": "stderr",
     "output_type": "stream",
     "text": [
      " 45%|███████████████████████████████████▋                                           | 898/1989 [01:17<01:40, 10.90it/s]"
     ]
    },
    {
     "name": "stdout",
     "output_type": "stream",
     "text": [
      "Processing video: C:\\Users\\manuv\\Violence-Detection-With-Human-Skeletons\\data\\train\\NonFight\\7KXPekwe_0.avi\n",
      "Processing video: C:\\Users\\manuv\\Violence-Detection-With-Human-Skeletons\\data\\train\\NonFight\\7QgVKRHB_0.avi\n",
      "Processing video: C:\\Users\\manuv\\Violence-Detection-With-Human-Skeletons\\data\\train\\NonFight\\7qtRgyFsk3s_0.avi\n"
     ]
    },
    {
     "name": "stderr",
     "output_type": "stream",
     "text": [
      " 45%|███████████████████████████████████▊                                           | 902/1989 [01:17<01:34, 11.56it/s]"
     ]
    },
    {
     "name": "stdout",
     "output_type": "stream",
     "text": [
      "Processing video: C:\\Users\\manuv\\Violence-Detection-With-Human-Skeletons\\data\\train\\NonFight\\7qtRgyFsk3s_1.avi\n",
      "Processing video: C:\\Users\\manuv\\Violence-Detection-With-Human-Skeletons\\data\\train\\NonFight\\7R1m3V8C30g_0.avi\n",
      "Processing video: C:\\Users\\manuv\\Violence-Detection-With-Human-Skeletons\\data\\train\\NonFight\\7R1m3V8C30g_1.avi\n"
     ]
    },
    {
     "name": "stderr",
     "output_type": "stream",
     "text": [
      " 45%|███████████████████████████████████▉                                           | 904/1989 [01:17<01:29, 12.13it/s]"
     ]
    },
    {
     "name": "stdout",
     "output_type": "stream",
     "text": [
      "Processing video: C:\\Users\\manuv\\Violence-Detection-With-Human-Skeletons\\data\\train\\NonFight\\80ySNph9_0.avi\n",
      "Processing video: C:\\Users\\manuv\\Violence-Detection-With-Human-Skeletons\\data\\train\\NonFight\\85dkGMed_0.avi\n",
      "Processing video: C:\\Users\\manuv\\Violence-Detection-With-Human-Skeletons\\data\\train\\NonFight\\86lUShJD_0.avi\n"
     ]
    },
    {
     "name": "stderr",
     "output_type": "stream",
     "text": [
      " 46%|████████████████████████████████████                                           | 908/1989 [01:18<01:22, 13.10it/s]"
     ]
    },
    {
     "name": "stdout",
     "output_type": "stream",
     "text": [
      "Processing video: C:\\Users\\manuv\\Violence-Detection-With-Human-Skeletons\\data\\train\\NonFight\\88ndrvAZpE8_0.avi\n",
      "Processing video: C:\\Users\\manuv\\Violence-Detection-With-Human-Skeletons\\data\\train\\NonFight\\88ndrvAZpE8_1.avi\n",
      "Processing video: C:\\Users\\manuv\\Violence-Detection-With-Human-Skeletons\\data\\train\\NonFight\\8MuRpAyP_0.avi\n",
      "Processing video: C:\\Users\\manuv\\Violence-Detection-With-Human-Skeletons\\data\\train\\NonFight\\8pKKdS7rhXo_0.avi\n"
     ]
    },
    {
     "name": "stderr",
     "output_type": "stream",
     "text": [
      " 46%|████████████████████████████████████▏                                          | 910/1989 [01:18<01:22, 13.08it/s]"
     ]
    },
    {
     "name": "stdout",
     "output_type": "stream",
     "text": [
      "Processing video: C:\\Users\\manuv\\Violence-Detection-With-Human-Skeletons\\data\\train\\NonFight\\8PuNOqvh_0.avi\n",
      "Processing video: C:\\Users\\manuv\\Violence-Detection-With-Human-Skeletons\\data\\train\\NonFight\\8SWZq5we_fk_0.avi\n"
     ]
    },
    {
     "name": "stderr",
     "output_type": "stream",
     "text": [
      " 46%|████████████████████████████████████▏                                          | 912/1989 [01:18<01:32, 11.69it/s]"
     ]
    },
    {
     "name": "stdout",
     "output_type": "stream",
     "text": [
      "Processing video: C:\\Users\\manuv\\Violence-Detection-With-Human-Skeletons\\data\\train\\NonFight\\8SWZq5we_fk_1.avi\n",
      "Processing video: C:\\Users\\manuv\\Violence-Detection-With-Human-Skeletons\\data\\train\\NonFight\\8SWZq5we_fk_2.avi\n"
     ]
    },
    {
     "name": "stderr",
     "output_type": "stream",
     "text": [
      " 46%|████████████████████████████████████▍                                          | 916/1989 [01:18<01:40, 10.68it/s]"
     ]
    },
    {
     "name": "stdout",
     "output_type": "stream",
     "text": [
      "Processing video: C:\\Users\\manuv\\Violence-Detection-With-Human-Skeletons\\data\\train\\NonFight\\8U6x0VMW_0.avi\n",
      "Processing video: C:\\Users\\manuv\\Violence-Detection-With-Human-Skeletons\\data\\train\\NonFight\\8VqTmuq4HcI_0.avi\n",
      "Processing video: C:\\Users\\manuv\\Violence-Detection-With-Human-Skeletons\\data\\train\\NonFight\\8VqTmuq4HcI_1.avi\n"
     ]
    },
    {
     "name": "stderr",
     "output_type": "stream",
     "text": [
      " 46%|████████████████████████████████████▍                                          | 918/1989 [01:19<01:41, 10.56it/s]"
     ]
    },
    {
     "name": "stdout",
     "output_type": "stream",
     "text": [
      "Processing video: C:\\Users\\manuv\\Violence-Detection-With-Human-Skeletons\\data\\train\\NonFight\\8VqTmuq4HcI_2.avi\n",
      "Processing video: C:\\Users\\manuv\\Violence-Detection-With-Human-Skeletons\\data\\train\\NonFight\\9CeKXVvD_0.avi\n",
      "Processing video: C:\\Users\\manuv\\Violence-Detection-With-Human-Skeletons\\data\\train\\NonFight\\9C_LQa7nnFg_0.avi\n"
     ]
    },
    {
     "name": "stderr",
     "output_type": "stream",
     "text": [
      " 46%|████████████████████████████████████▌                                          | 920/1989 [01:19<01:43, 10.28it/s]"
     ]
    },
    {
     "name": "stdout",
     "output_type": "stream",
     "text": [
      "Processing video: C:\\Users\\manuv\\Violence-Detection-With-Human-Skeletons\\data\\train\\NonFight\\9C_LQa7nnFg_1.avi\n",
      "Processing video: C:\\Users\\manuv\\Violence-Detection-With-Human-Skeletons\\data\\train\\NonFight\\9C_LQa7nnFg_2.avi\n"
     ]
    },
    {
     "name": "stderr",
     "output_type": "stream",
     "text": [
      " 46%|████████████████████████████████████▋                                          | 924/1989 [01:19<01:41, 10.45it/s]"
     ]
    },
    {
     "name": "stdout",
     "output_type": "stream",
     "text": [
      "Processing video: C:\\Users\\manuv\\Violence-Detection-With-Human-Skeletons\\data\\train\\NonFight\\9F6pZn73_0.avi\n",
      "Processing video: C:\\Users\\manuv\\Violence-Detection-With-Human-Skeletons\\data\\train\\NonFight\\9GFNxpur_0.avi\n",
      "Processing video: C:\\Users\\manuv\\Violence-Detection-With-Human-Skeletons\\data\\train\\NonFight\\9haGKtHJ_0.avi\n"
     ]
    },
    {
     "name": "stderr",
     "output_type": "stream",
     "text": [
      " 47%|████████████████████████████████████▊                                          | 926/1989 [01:19<01:30, 11.81it/s]"
     ]
    },
    {
     "name": "stdout",
     "output_type": "stream",
     "text": [
      "Processing video: C:\\Users\\manuv\\Violence-Detection-With-Human-Skeletons\\data\\train\\NonFight\\9Jss3rP1_0.avi\n",
      "Processing video: C:\\Users\\manuv\\Violence-Detection-With-Human-Skeletons\\data\\train\\NonFight\\9N4HikpX_0.avi\n",
      "Processing video: C:\\Users\\manuv\\Violence-Detection-With-Human-Skeletons\\data\\train\\NonFight\\9nFtxkJ7ywg_0.avi\n"
     ]
    },
    {
     "name": "stderr",
     "output_type": "stream",
     "text": [
      " 47%|████████████████████████████████████▊                                          | 928/1989 [01:20<01:31, 11.60it/s]"
     ]
    },
    {
     "name": "stdout",
     "output_type": "stream",
     "text": [
      "Processing video: C:\\Users\\manuv\\Violence-Detection-With-Human-Skeletons\\data\\train\\NonFight\\9qjOCoE7_0.avi\n",
      "Processing video: C:\\Users\\manuv\\Violence-Detection-With-Human-Skeletons\\data\\train\\NonFight\\9U8J4abJGDg_0.avi\n"
     ]
    },
    {
     "name": "stderr",
     "output_type": "stream",
     "text": [
      " 47%|█████████████████████████████████████                                          | 932/1989 [01:20<01:28, 11.99it/s]"
     ]
    },
    {
     "name": "stdout",
     "output_type": "stream",
     "text": [
      "Processing video: C:\\Users\\manuv\\Violence-Detection-With-Human-Skeletons\\data\\train\\NonFight\\9uvZbSsy_0.avi\n",
      "Processing video: C:\\Users\\manuv\\Violence-Detection-With-Human-Skeletons\\data\\train\\NonFight\\a2kw3cfb_0.avi\n",
      "Processing video: C:\\Users\\manuv\\Violence-Detection-With-Human-Skeletons\\data\\train\\NonFight\\a2qLzOu_n0s_0.avi\n"
     ]
    },
    {
     "name": "stderr",
     "output_type": "stream",
     "text": [
      " 47%|█████████████████████████████████████                                          | 934/1989 [01:20<01:27, 12.03it/s]"
     ]
    },
    {
     "name": "stdout",
     "output_type": "stream",
     "text": [
      "Processing video: C:\\Users\\manuv\\Violence-Detection-With-Human-Skeletons\\data\\train\\NonFight\\a39igxDY_0.avi\n",
      "Processing video: C:\\Users\\manuv\\Violence-Detection-With-Human-Skeletons\\data\\train\\NonFight\\a7gBQaAFEtw_0.avi\n",
      "Processing video: C:\\Users\\manuv\\Violence-Detection-With-Human-Skeletons\\data\\train\\NonFight\\a7gBQaAFEtw_1.avi\n"
     ]
    },
    {
     "name": "stderr",
     "output_type": "stream",
     "text": [
      " 47%|█████████████████████████████████████▎                                         | 938/1989 [01:20<01:24, 12.47it/s]"
     ]
    },
    {
     "name": "stdout",
     "output_type": "stream",
     "text": [
      "Processing video: C:\\Users\\manuv\\Violence-Detection-With-Human-Skeletons\\data\\train\\NonFight\\a7gBQaAFEtw_2.avi\n",
      "Processing video: C:\\Users\\manuv\\Violence-Detection-With-Human-Skeletons\\data\\train\\NonFight\\a7gBQaAFEtw_3.avi\n",
      "Processing video: C:\\Users\\manuv\\Violence-Detection-With-Human-Skeletons\\data\\train\\NonFight\\a7gBQaAFEtw_4.avi\n"
     ]
    },
    {
     "name": "stderr",
     "output_type": "stream",
     "text": [
      " 47%|█████████████████████████████████████▎                                         | 940/1989 [01:21<01:26, 12.14it/s]"
     ]
    },
    {
     "name": "stdout",
     "output_type": "stream",
     "text": [
      "Processing video: C:\\Users\\manuv\\Violence-Detection-With-Human-Skeletons\\data\\train\\NonFight\\a7gBQaAFEtw_5.avi\n",
      "Processing video: C:\\Users\\manuv\\Violence-Detection-With-Human-Skeletons\\data\\train\\NonFight\\AbD9xwut_0.avi\n",
      "Processing video: C:\\Users\\manuv\\Violence-Detection-With-Human-Skeletons\\data\\train\\NonFight\\Ae3RYgGF_0.avi\n"
     ]
    },
    {
     "name": "stderr",
     "output_type": "stream",
     "text": [
      " 47%|█████████████████████████████████████▍                                         | 944/1989 [01:21<01:13, 14.27it/s]"
     ]
    },
    {
     "name": "stdout",
     "output_type": "stream",
     "text": [
      "Processing video: C:\\Users\\manuv\\Violence-Detection-With-Human-Skeletons\\data\\train\\NonFight\\AEGjLggu_0.avi\n",
      "Processing video: C:\\Users\\manuv\\Violence-Detection-With-Human-Skeletons\\data\\train\\NonFight\\AF4Rk1I2_0.avi\n",
      "Processing video: C:\\Users\\manuv\\Violence-Detection-With-Human-Skeletons\\data\\train\\NonFight\\AG0ofjSP_0.avi\n",
      "Processing video: C:\\Users\\manuv\\Violence-Detection-With-Human-Skeletons\\data\\train\\NonFight\\aGfwZ3E4_0.avi\n"
     ]
    },
    {
     "name": "stderr",
     "output_type": "stream",
     "text": [
      " 48%|█████████████████████████████████████▋                                         | 948/1989 [01:21<01:25, 12.24it/s]"
     ]
    },
    {
     "name": "stdout",
     "output_type": "stream",
     "text": [
      "Processing video: C:\\Users\\manuv\\Violence-Detection-With-Human-Skeletons\\data\\train\\NonFight\\ajJRyYZUEtA_0.avi\n",
      "Processing video: C:\\Users\\manuv\\Violence-Detection-With-Human-Skeletons\\data\\train\\NonFight\\ajJRyYZUEtA_1.avi\n",
      "Processing video: C:\\Users\\manuv\\Violence-Detection-With-Human-Skeletons\\data\\train\\NonFight\\ajJRyYZUEtA_2.avi\n"
     ]
    },
    {
     "name": "stderr",
     "output_type": "stream",
     "text": [
      " 48%|█████████████████████████████████████▋                                         | 950/1989 [01:21<01:29, 11.55it/s]"
     ]
    },
    {
     "name": "stdout",
     "output_type": "stream",
     "text": [
      "Processing video: C:\\Users\\manuv\\Violence-Detection-With-Human-Skeletons\\data\\train\\NonFight\\aKgSasWRJ2s_0.avi\n",
      "Processing video: C:\\Users\\manuv\\Violence-Detection-With-Human-Skeletons\\data\\train\\NonFight\\aKK0B4kpKZA_0.avi\n"
     ]
    },
    {
     "name": "stderr",
     "output_type": "stream",
     "text": [
      " 48%|█████████████████████████████████████▊                                         | 952/1989 [01:21<01:27, 11.88it/s]"
     ]
    },
    {
     "name": "stdout",
     "output_type": "stream",
     "text": [
      "Processing video: C:\\Users\\manuv\\Violence-Detection-With-Human-Skeletons\\data\\train\\NonFight\\Am9mUxPTvK4_0.avi\n",
      "Processing video: C:\\Users\\manuv\\Violence-Detection-With-Human-Skeletons\\data\\train\\NonFight\\aoFX2ZCB_0.avi\n",
      "Processing video: C:\\Users\\manuv\\Violence-Detection-With-Human-Skeletons\\data\\train\\NonFight\\API3q8TBGu4_0.avi\n"
     ]
    },
    {
     "name": "stderr",
     "output_type": "stream",
     "text": [
      " 48%|█████████████████████████████████████▉                                         | 954/1989 [01:22<01:29, 11.59it/s]"
     ]
    },
    {
     "name": "stdout",
     "output_type": "stream",
     "text": [
      "Processing video: C:\\Users\\manuv\\Violence-Detection-With-Human-Skeletons\\data\\train\\NonFight\\API3q8TBGu4_1.avi\n",
      "Processing video: C:\\Users\\manuv\\Violence-Detection-With-Human-Skeletons\\data\\train\\NonFight\\aQysMqg0K7M_0.avi\n"
     ]
    },
    {
     "name": "stderr",
     "output_type": "stream",
     "text": [
      " 48%|█████████████████████████████████████▉                                         | 956/1989 [01:22<01:37, 10.64it/s]"
     ]
    },
    {
     "name": "stdout",
     "output_type": "stream",
     "text": [
      "Processing video: C:\\Users\\manuv\\Violence-Detection-With-Human-Skeletons\\data\\train\\NonFight\\aQysMqg0K7M_1.avi\n",
      "Processing video: C:\\Users\\manuv\\Violence-Detection-With-Human-Skeletons\\data\\train\\NonFight\\aQysMqg0K7M_2.avi\n"
     ]
    },
    {
     "name": "stderr",
     "output_type": "stream",
     "text": [
      " 48%|██████████████████████████████████████▏                                        | 960/1989 [01:22<01:37, 10.56it/s]"
     ]
    },
    {
     "name": "stdout",
     "output_type": "stream",
     "text": [
      "Processing video: C:\\Users\\manuv\\Violence-Detection-With-Human-Skeletons\\data\\train\\NonFight\\aQysMqg0K7M_3.avi\n",
      "Processing video: C:\\Users\\manuv\\Violence-Detection-With-Human-Skeletons\\data\\train\\NonFight\\aRvWjteA_0.avi\n",
      "Processing video: C:\\Users\\manuv\\Violence-Detection-With-Human-Skeletons\\data\\train\\NonFight\\arXD3QM2_0.avi\n"
     ]
    },
    {
     "name": "stderr",
     "output_type": "stream",
     "text": [
      " 48%|██████████████████████████████████████▏                                        | 962/1989 [01:22<01:29, 11.49it/s]"
     ]
    },
    {
     "name": "stdout",
     "output_type": "stream",
     "text": [
      "Processing video: C:\\Users\\manuv\\Violence-Detection-With-Human-Skeletons\\data\\train\\NonFight\\as4zD6d86q0_0.avi\n",
      "Processing video: C:\\Users\\manuv\\Violence-Detection-With-Human-Skeletons\\data\\train\\NonFight\\AsGAgf8U2rk_0.avi\n",
      "Processing video: C:\\Users\\manuv\\Violence-Detection-With-Human-Skeletons\\data\\train\\NonFight\\Assault005_x264_0.avi\n"
     ]
    },
    {
     "name": "stderr",
     "output_type": "stream",
     "text": [
      " 49%|██████████████████████████████████████▎                                        | 966/1989 [01:23<01:23, 12.22it/s]"
     ]
    },
    {
     "name": "stdout",
     "output_type": "stream",
     "text": [
      "Processing video: C:\\Users\\manuv\\Violence-Detection-With-Human-Skeletons\\data\\train\\NonFight\\Assault005_x264_1.avi\n",
      "Processing video: C:\\Users\\manuv\\Violence-Detection-With-Human-Skeletons\\data\\train\\NonFight\\Assault009_x264_0.avi\n",
      "Processing video: C:\\Users\\manuv\\Violence-Detection-With-Human-Skeletons\\data\\train\\NonFight\\Assault009_x264_1.avi\n"
     ]
    },
    {
     "name": "stderr",
     "output_type": "stream",
     "text": [
      " 49%|██████████████████████████████████████▌                                        | 970/1989 [01:23<01:13, 13.87it/s]"
     ]
    },
    {
     "name": "stdout",
     "output_type": "stream",
     "text": [
      "Processing video: C:\\Users\\manuv\\Violence-Detection-With-Human-Skeletons\\data\\train\\NonFight\\Assault010_x264_0.avi\n",
      "Processing video: C:\\Users\\manuv\\Violence-Detection-With-Human-Skeletons\\data\\train\\NonFight\\Assault010_x264_1.avi\n",
      "Processing video: C:\\Users\\manuv\\Violence-Detection-With-Human-Skeletons\\data\\train\\NonFight\\Assault011_x264_0.avi\n"
     ]
    },
    {
     "name": "stderr",
     "output_type": "stream",
     "text": [
      " 49%|██████████████████████████████████████▌                                        | 972/1989 [01:23<01:13, 13.91it/s]"
     ]
    },
    {
     "name": "stdout",
     "output_type": "stream",
     "text": [
      "Processing video: C:\\Users\\manuv\\Violence-Detection-With-Human-Skeletons\\data\\train\\NonFight\\Assault011_x264_1.avi\n",
      "Processing video: C:\\Users\\manuv\\Violence-Detection-With-Human-Skeletons\\data\\train\\NonFight\\AszvEN7z_0.avi\n",
      "Processing video: C:\\Users\\manuv\\Violence-Detection-With-Human-Skeletons\\data\\train\\NonFight\\ATDMY6PzK9U_0.avi\n"
     ]
    },
    {
     "name": "stderr",
     "output_type": "stream",
     "text": [
      " 49%|██████████████████████████████████████▊                                        | 976/1989 [01:23<01:11, 14.12it/s]"
     ]
    },
    {
     "name": "stdout",
     "output_type": "stream",
     "text": [
      "Processing video: C:\\Users\\manuv\\Violence-Detection-With-Human-Skeletons\\data\\train\\NonFight\\az7WDDFT_0.avi\n",
      "Processing video: C:\\Users\\manuv\\Violence-Detection-With-Human-Skeletons\\data\\train\\NonFight\\B3UdlWcs_0.avi\n",
      "Processing video: C:\\Users\\manuv\\Violence-Detection-With-Human-Skeletons\\data\\train\\NonFight\\B6DO4tXb_0.avi\n"
     ]
    },
    {
     "name": "stderr",
     "output_type": "stream",
     "text": [
      " 49%|██████████████████████████████████████▊                                        | 978/1989 [01:24<01:19, 12.69it/s]"
     ]
    },
    {
     "name": "stdout",
     "output_type": "stream",
     "text": [
      "Processing video: C:\\Users\\manuv\\Violence-Detection-With-Human-Skeletons\\data\\train\\NonFight\\b6XfVAZC9Zs_0.avi\n",
      "Processing video: C:\\Users\\manuv\\Violence-Detection-With-Human-Skeletons\\data\\train\\NonFight\\b6XfVAZC9Zs_1.avi\n"
     ]
    },
    {
     "name": "stderr",
     "output_type": "stream",
     "text": [
      " 49%|██████████████████████████████████████▉                                        | 980/1989 [01:24<01:22, 12.28it/s]"
     ]
    },
    {
     "name": "stdout",
     "output_type": "stream",
     "text": [
      "Processing video: C:\\Users\\manuv\\Violence-Detection-With-Human-Skeletons\\data\\train\\NonFight\\b6XfVAZC9Zs_2.avi\n",
      "Processing video: C:\\Users\\manuv\\Violence-Detection-With-Human-Skeletons\\data\\train\\NonFight\\b9I5dDvH_0.avi\n",
      "Processing video: C:\\Users\\manuv\\Violence-Detection-With-Human-Skeletons\\data\\train\\NonFight\\bd48s5BpoGY_0.avi\n"
     ]
    },
    {
     "name": "stderr",
     "output_type": "stream",
     "text": [
      " 49%|███████████████████████████████████████                                        | 982/1989 [01:24<01:25, 11.75it/s]"
     ]
    },
    {
     "name": "stdout",
     "output_type": "stream",
     "text": [
      "Processing video: C:\\Users\\manuv\\Violence-Detection-With-Human-Skeletons\\data\\train\\NonFight\\BEoVUtDm_0.avi\n",
      "Processing video: C:\\Users\\manuv\\Violence-Detection-With-Human-Skeletons\\data\\train\\NonFight\\bK1saynI_0.avi\n",
      "Processing video: C:\\Users\\manuv\\Violence-Detection-With-Human-Skeletons\\data\\train\\NonFight\\BKtajPcB_0.avi\n"
     ]
    },
    {
     "name": "stderr",
     "output_type": "stream",
     "text": [
      " 50%|███████████████████████████████████████▏                                       | 986/1989 [01:24<01:17, 12.92it/s]"
     ]
    },
    {
     "name": "stdout",
     "output_type": "stream",
     "text": [
      "Processing video: C:\\Users\\manuv\\Violence-Detection-With-Human-Skeletons\\data\\train\\NonFight\\BOLcNZ5O_0.avi\n",
      "Processing video: C:\\Users\\manuv\\Violence-Detection-With-Human-Skeletons\\data\\train\\NonFight\\BOt8ZMpM_0.avi\n",
      "Processing video: C:\\Users\\manuv\\Violence-Detection-With-Human-Skeletons\\data\\train\\NonFight\\BpargJW29Wo_0.avi\n"
     ]
    },
    {
     "name": "stderr",
     "output_type": "stream",
     "text": [
      " 50%|███████████████████████████████████████▏                                       | 988/1989 [01:24<01:14, 13.46it/s]"
     ]
    },
    {
     "name": "stdout",
     "output_type": "stream",
     "text": [
      "Processing video: C:\\Users\\manuv\\Violence-Detection-With-Human-Skeletons\\data\\train\\NonFight\\BpargJW29Wo_1.avi\n",
      "Processing video: C:\\Users\\manuv\\Violence-Detection-With-Human-Skeletons\\data\\train\\NonFight\\bpbiA2sr_0.avi\n",
      "Processing video: C:\\Users\\manuv\\Violence-Detection-With-Human-Skeletons\\data\\train\\NonFight\\bQHNsRpQOIE_0.avi\n"
     ]
    },
    {
     "name": "stderr",
     "output_type": "stream",
     "text": [
      " 50%|███████████████████████████████████████▎                                       | 990/1989 [01:25<01:30, 11.07it/s]"
     ]
    },
    {
     "name": "stdout",
     "output_type": "stream",
     "text": [
      "Processing video: C:\\Users\\manuv\\Violence-Detection-With-Human-Skeletons\\data\\train\\NonFight\\bQHNsRpQOIE_1.avi\n",
      "Processing video: C:\\Users\\manuv\\Violence-Detection-With-Human-Skeletons\\data\\train\\NonFight\\bQHNsRpQOIE_2.avi\n"
     ]
    },
    {
     "name": "stderr",
     "output_type": "stream",
     "text": [
      " 50%|███████████████████████████████████████▍                                       | 994/1989 [01:25<01:33, 10.68it/s]"
     ]
    },
    {
     "name": "stdout",
     "output_type": "stream",
     "text": [
      "Processing video: C:\\Users\\manuv\\Violence-Detection-With-Human-Skeletons\\data\\train\\NonFight\\bUaC34RU_0.avi\n",
      "Processing video: C:\\Users\\manuv\\Violence-Detection-With-Human-Skeletons\\data\\train\\NonFight\\BUjGBAPb_0.avi\n",
      "Processing video: C:\\Users\\manuv\\Violence-Detection-With-Human-Skeletons\\data\\train\\NonFight\\c1bRFt0x_0.avi\n"
     ]
    },
    {
     "name": "stderr",
     "output_type": "stream",
     "text": [
      " 50%|███████████████████████████████████████▌                                       | 996/1989 [01:25<01:21, 12.14it/s]"
     ]
    },
    {
     "name": "stdout",
     "output_type": "stream",
     "text": [
      "Processing video: C:\\Users\\manuv\\Violence-Detection-With-Human-Skeletons\\data\\train\\NonFight\\c1PJngmt_0.avi\n",
      "Processing video: C:\\Users\\manuv\\Violence-Detection-With-Human-Skeletons\\data\\train\\NonFight\\C3cT1JGv_0.avi\n",
      "Processing video: C:\\Users\\manuv\\Violence-Detection-With-Human-Skeletons\\data\\train\\NonFight\\C4SQF-UZzkA_0.avi\n"
     ]
    },
    {
     "name": "stderr",
     "output_type": "stream",
     "text": [
      " 50%|███████████████████████████████████████▏                                      | 1000/1989 [01:26<01:30, 10.89it/s]"
     ]
    },
    {
     "name": "stdout",
     "output_type": "stream",
     "text": [
      "Processing video: C:\\Users\\manuv\\Violence-Detection-With-Human-Skeletons\\data\\train\\NonFight\\C4SQF-UZzkA_1.avi\n",
      "Processing video: C:\\Users\\manuv\\Violence-Detection-With-Human-Skeletons\\data\\train\\NonFight\\C4SQF-UZzkA_2.avi\n",
      "Processing video: C:\\Users\\manuv\\Violence-Detection-With-Human-Skeletons\\data\\train\\NonFight\\C76VU1PQ_0.avi\n"
     ]
    },
    {
     "name": "stderr",
     "output_type": "stream",
     "text": [
      " 50%|███████████████████████████████████████▎                                      | 1002/1989 [01:26<01:28, 11.22it/s]"
     ]
    },
    {
     "name": "stdout",
     "output_type": "stream",
     "text": [
      "Processing video: C:\\Users\\manuv\\Violence-Detection-With-Human-Skeletons\\data\\train\\NonFight\\c7j3qEqO_0.avi\n",
      "Processing video: C:\\Users\\manuv\\Violence-Detection-With-Human-Skeletons\\data\\train\\NonFight\\C7sNO3e2_0.avi\n",
      "Processing video: C:\\Users\\manuv\\Violence-Detection-With-Human-Skeletons\\data\\train\\NonFight\\C7Ty4ui5_0.avi\n"
     ]
    },
    {
     "name": "stderr",
     "output_type": "stream",
     "text": [
      " 51%|███████████████████████████████████████▍                                      | 1006/1989 [01:26<01:14, 13.26it/s]"
     ]
    },
    {
     "name": "stdout",
     "output_type": "stream",
     "text": [
      "Processing video: C:\\Users\\manuv\\Violence-Detection-With-Human-Skeletons\\data\\train\\NonFight\\cAp5A44HRS8_0.avi\n",
      "Processing video: C:\\Users\\manuv\\Violence-Detection-With-Human-Skeletons\\data\\train\\NonFight\\cAp5A44HRS8_1.avi\n",
      "Processing video: C:\\Users\\manuv\\Violence-Detection-With-Human-Skeletons\\data\\train\\NonFight\\cErr6pCN_0.avi\n"
     ]
    },
    {
     "name": "stderr",
     "output_type": "stream",
     "text": [
      " 51%|███████████████████████████████████████▌                                      | 1008/1989 [01:26<01:16, 12.75it/s]"
     ]
    },
    {
     "name": "stdout",
     "output_type": "stream",
     "text": [
      "Processing video: C:\\Users\\manuv\\Violence-Detection-With-Human-Skeletons\\data\\train\\NonFight\\cfks5NXs_0.avi\n",
      "Processing video: C:\\Users\\manuv\\Violence-Detection-With-Human-Skeletons\\data\\train\\NonFight\\cfOKjx8l_0.avi\n",
      "Processing video: C:\\Users\\manuv\\Violence-Detection-With-Human-Skeletons\\data\\train\\NonFight\\CfPgoKqk_0.avi\n"
     ]
    },
    {
     "name": "stderr",
     "output_type": "stream",
     "text": [
      " 51%|███████████████████████████████████████▋                                      | 1012/1989 [01:26<01:12, 13.44it/s]"
     ]
    },
    {
     "name": "stdout",
     "output_type": "stream",
     "text": [
      "Processing video: C:\\Users\\manuv\\Violence-Detection-With-Human-Skeletons\\data\\train\\NonFight\\cHsy9xWM_0.avi\n",
      "Processing video: C:\\Users\\manuv\\Violence-Detection-With-Human-Skeletons\\data\\train\\NonFight\\cJvLTWGs-SE_0.avi\n",
      "Processing video: C:\\Users\\manuv\\Violence-Detection-With-Human-Skeletons\\data\\train\\NonFight\\cJvLTWGs-SE_1.avi\n"
     ]
    },
    {
     "name": "stderr",
     "output_type": "stream",
     "text": [
      " 51%|███████████████████████████████████████▊                                      | 1016/1989 [01:27<01:05, 14.95it/s]"
     ]
    },
    {
     "name": "stdout",
     "output_type": "stream",
     "text": [
      "Processing video: C:\\Users\\manuv\\Violence-Detection-With-Human-Skeletons\\data\\train\\NonFight\\CKzrrb7E_0.avi\n",
      "Processing video: C:\\Users\\manuv\\Violence-Detection-With-Human-Skeletons\\data\\train\\NonFight\\cLsPLNQn_0.avi\n",
      "Processing video: C:\\Users\\manuv\\Violence-Detection-With-Human-Skeletons\\data\\train\\NonFight\\cPeNUm31_0.avi\n",
      "Processing video: C:\\Users\\manuv\\Violence-Detection-With-Human-Skeletons\\data\\train\\NonFight\\CPGf41PN_0.avi\n"
     ]
    },
    {
     "name": "stderr",
     "output_type": "stream",
     "text": [
      " 51%|███████████████████████████████████████▉                                      | 1018/1989 [01:27<01:10, 13.69it/s]"
     ]
    },
    {
     "name": "stdout",
     "output_type": "stream",
     "text": [
      "Processing video: C:\\Users\\manuv\\Violence-Detection-With-Human-Skeletons\\data\\train\\NonFight\\CqJB8ZWLZ-o_0.avi\n",
      "Processing video: C:\\Users\\manuv\\Violence-Detection-With-Human-Skeletons\\data\\train\\NonFight\\CqJB8ZWLZ-o_1.avi\n",
      "Processing video: C:\\Users\\manuv\\Violence-Detection-With-Human-Skeletons\\data\\train\\NonFight\\CqJB8ZWLZ-o_2.avi\n"
     ]
    },
    {
     "name": "stderr",
     "output_type": "stream",
     "text": [
      " 51%|████████████████████████████████████████                                      | 1022/1989 [01:27<01:11, 13.46it/s]"
     ]
    },
    {
     "name": "stdout",
     "output_type": "stream",
     "text": [
      "Processing video: C:\\Users\\manuv\\Violence-Detection-With-Human-Skeletons\\data\\train\\NonFight\\CqJB8ZWLZ-o_3.avi\n",
      "Processing video: C:\\Users\\manuv\\Violence-Detection-With-Human-Skeletons\\data\\train\\NonFight\\cqP8OyUh_0.avi\n",
      "Processing video: C:\\Users\\manuv\\Violence-Detection-With-Human-Skeletons\\data\\train\\NonFight\\cURNFrn5_0.avi\n"
     ]
    },
    {
     "name": "stderr",
     "output_type": "stream",
     "text": [
      " 51%|████████████████████████████████████████▏                                     | 1024/1989 [01:27<01:08, 14.18it/s]"
     ]
    },
    {
     "name": "stdout",
     "output_type": "stream",
     "text": [
      "Processing video: C:\\Users\\manuv\\Violence-Detection-With-Human-Skeletons\\data\\train\\NonFight\\cVYo5yT2_0.avi\n",
      "Processing video: C:\\Users\\manuv\\Violence-Detection-With-Human-Skeletons\\data\\train\\NonFight\\cWJ92fkhME4_0.avi\n",
      "Processing video: C:\\Users\\manuv\\Violence-Detection-With-Human-Skeletons\\data\\train\\NonFight\\cwLtq5Y3_0.avi\n"
     ]
    },
    {
     "name": "stderr",
     "output_type": "stream",
     "text": [
      " 52%|████████████████████████████████████████▎                                     | 1028/1989 [01:28<01:18, 12.31it/s]"
     ]
    },
    {
     "name": "stdout",
     "output_type": "stream",
     "text": [
      "Processing video: C:\\Users\\manuv\\Violence-Detection-With-Human-Skeletons\\data\\train\\NonFight\\d1b2n9qX_0.avi\n",
      "Processing video: C:\\Users\\manuv\\Violence-Detection-With-Human-Skeletons\\data\\train\\NonFight\\d3WwO8eM_0.avi\n"
     ]
    },
    {
     "name": "stderr",
     "output_type": "stream",
     "text": [
      " 52%|████████████████████████████████████████▍                                     | 1030/1989 [01:28<01:10, 13.59it/s]"
     ]
    },
    {
     "name": "stdout",
     "output_type": "stream",
     "text": [
      "Processing video: C:\\Users\\manuv\\Violence-Detection-With-Human-Skeletons\\data\\train\\NonFight\\D6cjNRiP_0.avi\n",
      "Processing video: C:\\Users\\manuv\\Violence-Detection-With-Human-Skeletons\\data\\train\\NonFight\\DAMfrqpC_0.avi\n",
      "Processing video: C:\\Users\\manuv\\Violence-Detection-With-Human-Skeletons\\data\\train\\NonFight\\dBllnaSKVfQ_0.avi\n"
     ]
    },
    {
     "name": "stderr",
     "output_type": "stream",
     "text": [
      " 52%|████████████████████████████████████████▍                                     | 1032/1989 [01:28<01:16, 12.52it/s]"
     ]
    },
    {
     "name": "stdout",
     "output_type": "stream",
     "text": [
      "Processing video: C:\\Users\\manuv\\Violence-Detection-With-Human-Skeletons\\data\\train\\NonFight\\dDNWfVPw_0.avi\n",
      "Processing video: C:\\Users\\manuv\\Violence-Detection-With-Human-Skeletons\\data\\train\\NonFight\\DIsQwAdR8MI_0.avi\n",
      "Processing video: C:\\Users\\manuv\\Violence-Detection-With-Human-Skeletons\\data\\train\\NonFight\\DjLWv5mr_0.avi\n"
     ]
    },
    {
     "name": "stderr",
     "output_type": "stream",
     "text": [
      " 52%|████████████████████████████████████████▋                                     | 1036/1989 [01:28<01:14, 12.88it/s]"
     ]
    },
    {
     "name": "stdout",
     "output_type": "stream",
     "text": [
      "Processing video: C:\\Users\\manuv\\Violence-Detection-With-Human-Skeletons\\data\\train\\NonFight\\dkTzP0SB_0.avi\n",
      "Processing video: C:\\Users\\manuv\\Violence-Detection-With-Human-Skeletons\\data\\train\\NonFight\\DL2gWMZA_0.avi\n",
      "Processing video: C:\\Users\\manuv\\Violence-Detection-With-Human-Skeletons\\data\\train\\NonFight\\dNDOYLTf_0.avi\n",
      "Processing video: C:\\Users\\manuv\\Violence-Detection-With-Human-Skeletons\\data\\train\\NonFight\\dOM7frJMFbc_0.avi\n"
     ]
    },
    {
     "name": "stderr",
     "output_type": "stream",
     "text": [
      " 52%|████████████████████████████████████████▋                                     | 1038/1989 [01:28<01:12, 13.08it/s]"
     ]
    },
    {
     "name": "stdout",
     "output_type": "stream",
     "text": [
      "Processing video: C:\\Users\\manuv\\Violence-Detection-With-Human-Skeletons\\data\\train\\NonFight\\dOM7frJMFbc_1.avi\n",
      "Processing video: C:\\Users\\manuv\\Violence-Detection-With-Human-Skeletons\\data\\train\\NonFight\\dOM7frJMFbc_2.avi\n"
     ]
    },
    {
     "name": "stderr",
     "output_type": "stream",
     "text": [
      " 52%|████████████████████████████████████████▊                                     | 1042/1989 [01:29<01:13, 12.84it/s]"
     ]
    },
    {
     "name": "stdout",
     "output_type": "stream",
     "text": [
      "Processing video: C:\\Users\\manuv\\Violence-Detection-With-Human-Skeletons\\data\\train\\NonFight\\dOM7frJMFbc_3.avi\n",
      "Processing video: C:\\Users\\manuv\\Violence-Detection-With-Human-Skeletons\\data\\train\\NonFight\\dOo2X5wR_0.avi\n",
      "Processing video: C:\\Users\\manuv\\Violence-Detection-With-Human-Skeletons\\data\\train\\NonFight\\dP20avzQAf8_0.avi\n",
      "Processing video: C:\\Users\\manuv\\Violence-Detection-With-Human-Skeletons\\data\\train\\NonFight\\dPV9BZrq_0.avi\n"
     ]
    },
    {
     "name": "stderr",
     "output_type": "stream",
     "text": [
      " 53%|█████████████████████████████████████████                                     | 1046/1989 [01:29<01:11, 13.22it/s]"
     ]
    },
    {
     "name": "stdout",
     "output_type": "stream",
     "text": [
      "Processing video: C:\\Users\\manuv\\Violence-Detection-With-Human-Skeletons\\data\\train\\NonFight\\DrKgJwIv_0.avi\n",
      "Processing video: C:\\Users\\manuv\\Violence-Detection-With-Human-Skeletons\\data\\train\\NonFight\\dRlBBYvf_0.avi\n",
      "Processing video: C:\\Users\\manuv\\Violence-Detection-With-Human-Skeletons\\data\\train\\NonFight\\DRlOjUNi_0.avi\n",
      "Processing video: C:\\Users\\manuv\\Violence-Detection-With-Human-Skeletons\\data\\train\\NonFight\\dt8YUGoOSgQ_0.avi\n"
     ]
    },
    {
     "name": "stderr",
     "output_type": "stream",
     "text": [
      " 53%|█████████████████████████████████████████▏                                    | 1050/1989 [01:29<01:10, 13.38it/s]"
     ]
    },
    {
     "name": "stdout",
     "output_type": "stream",
     "text": [
      "Processing video: C:\\Users\\manuv\\Violence-Detection-With-Human-Skeletons\\data\\train\\NonFight\\dt8YUGoOSgQ_1.avi\n",
      "Processing video: C:\\Users\\manuv\\Violence-Detection-With-Human-Skeletons\\data\\train\\NonFight\\DThokDTW_0.avi\n",
      "Processing video: C:\\Users\\manuv\\Violence-Detection-With-Human-Skeletons\\data\\train\\NonFight\\DTq6Gu30-uA_0.avi\n"
     ]
    },
    {
     "name": "stderr",
     "output_type": "stream",
     "text": [
      " 53%|█████████████████████████████████████████▎                                    | 1052/1989 [01:30<01:22, 11.37it/s]"
     ]
    },
    {
     "name": "stdout",
     "output_type": "stream",
     "text": [
      "Processing video: C:\\Users\\manuv\\Violence-Detection-With-Human-Skeletons\\data\\train\\NonFight\\DTq6Gu30-uA_1.avi\n",
      "Processing video: C:\\Users\\manuv\\Violence-Detection-With-Human-Skeletons\\data\\train\\NonFight\\DTq6Gu30-uA_2.avi\n"
     ]
    },
    {
     "name": "stderr",
     "output_type": "stream",
     "text": [
      " 53%|█████████████████████████████████████████▎                                    | 1054/1989 [01:30<01:24, 11.09it/s]"
     ]
    },
    {
     "name": "stdout",
     "output_type": "stream",
     "text": [
      "Processing video: C:\\Users\\manuv\\Violence-Detection-With-Human-Skeletons\\data\\train\\NonFight\\DWEBHWM9_0.avi\n",
      "Processing video: C:\\Users\\manuv\\Violence-Detection-With-Human-Skeletons\\data\\train\\NonFight\\DX5wwFlF_0.avi\n",
      "Processing video: C:\\Users\\manuv\\Violence-Detection-With-Human-Skeletons\\data\\train\\NonFight\\DZdLP0rd_0.avi\n"
     ]
    },
    {
     "name": "stderr",
     "output_type": "stream",
     "text": [
      " 53%|█████████████████████████████████████████▍                                    | 1058/1989 [01:30<01:16, 12.14it/s]"
     ]
    },
    {
     "name": "stdout",
     "output_type": "stream",
     "text": [
      "Processing video: C:\\Users\\manuv\\Violence-Detection-With-Human-Skeletons\\data\\train\\NonFight\\d_93UNyiVM4_0.avi\n",
      "Processing video: C:\\Users\\manuv\\Violence-Detection-With-Human-Skeletons\\data\\train\\NonFight\\d_93UNyiVM4_1.avi\n",
      "Processing video: C:\\Users\\manuv\\Violence-Detection-With-Human-Skeletons\\data\\train\\NonFight\\E0Huf4Qi0JE_0.avi\n"
     ]
    },
    {
     "name": "stderr",
     "output_type": "stream",
     "text": [
      " 53%|█████████████████████████████████████████▌                                    | 1060/1989 [01:30<01:15, 12.26it/s]"
     ]
    },
    {
     "name": "stdout",
     "output_type": "stream",
     "text": [
      "Processing video: C:\\Users\\manuv\\Violence-Detection-With-Human-Skeletons\\data\\train\\NonFight\\E0rUpvbX_0.avi\n",
      "Processing video: C:\\Users\\manuv\\Violence-Detection-With-Human-Skeletons\\data\\train\\NonFight\\E2gqgFNyPL8_0.avi\n",
      "Processing video: C:\\Users\\manuv\\Violence-Detection-With-Human-Skeletons\\data\\train\\NonFight\\E2gqgFNyPL8_1.avi\n"
     ]
    },
    {
     "name": "stderr",
     "output_type": "stream",
     "text": [
      " 53%|█████████████████████████████████████████▋                                    | 1064/1989 [01:30<01:08, 13.59it/s]"
     ]
    },
    {
     "name": "stdout",
     "output_type": "stream",
     "text": [
      "Processing video: C:\\Users\\manuv\\Violence-Detection-With-Human-Skeletons\\data\\train\\NonFight\\E2gqgFNyPL8_2.avi\n",
      "Processing video: C:\\Users\\manuv\\Violence-Detection-With-Human-Skeletons\\data\\train\\NonFight\\e4U3gEDEB58_0.avi\n",
      "Processing video: C:\\Users\\manuv\\Violence-Detection-With-Human-Skeletons\\data\\train\\NonFight\\e6iHy7V5_0.avi\n"
     ]
    },
    {
     "name": "stderr",
     "output_type": "stream",
     "text": [
      " 54%|█████████████████████████████████████████▉                                    | 1068/1989 [01:31<01:05, 14.11it/s]"
     ]
    },
    {
     "name": "stdout",
     "output_type": "stream",
     "text": [
      "Processing video: C:\\Users\\manuv\\Violence-Detection-With-Human-Skeletons\\data\\train\\NonFight\\e7tarNsO_0.avi\n",
      "Processing video: C:\\Users\\manuv\\Violence-Detection-With-Human-Skeletons\\data\\train\\NonFight\\EBwt3Thb_0.avi\n",
      "Processing video: C:\\Users\\manuv\\Violence-Detection-With-Human-Skeletons\\data\\train\\NonFight\\EckGCByW_0.avi\n",
      "Processing video: C:\\Users\\manuv\\Violence-Detection-With-Human-Skeletons\\data\\train\\NonFight\\EDaOod1H_0.avi\n"
     ]
    },
    {
     "name": "stderr",
     "output_type": "stream",
     "text": [
      " 54%|█████████████████████████████████████████▉                                    | 1070/1989 [01:31<01:09, 13.19it/s]"
     ]
    },
    {
     "name": "stdout",
     "output_type": "stream",
     "text": [
      "Processing video: C:\\Users\\manuv\\Violence-Detection-With-Human-Skeletons\\data\\train\\NonFight\\eF5S8iGLAm4_0.avi\n",
      "Processing video: C:\\Users\\manuv\\Violence-Detection-With-Human-Skeletons\\data\\train\\NonFight\\eF5S8iGLAm4_1.avi\n",
      "Processing video: C:\\Users\\manuv\\Violence-Detection-With-Human-Skeletons\\data\\train\\NonFight\\EGhykgb4_0.avi\n"
     ]
    },
    {
     "name": "stderr",
     "output_type": "stream",
     "text": [
      " 54%|██████████████████████████████████████████                                    | 1074/1989 [01:31<01:02, 14.58it/s]"
     ]
    },
    {
     "name": "stdout",
     "output_type": "stream",
     "text": [
      "Processing video: C:\\Users\\manuv\\Violence-Detection-With-Human-Skeletons\\data\\train\\NonFight\\EizIwdII_0.avi\n",
      "Processing video: C:\\Users\\manuv\\Violence-Detection-With-Human-Skeletons\\data\\train\\NonFight\\ELL0jBUP_0.avi\n",
      "Processing video: C:\\Users\\manuv\\Violence-Detection-With-Human-Skeletons\\data\\train\\NonFight\\emGsAcqs_0.avi\n",
      "Processing video: C:\\Users\\manuv\\Violence-Detection-With-Human-Skeletons\\data\\train\\NonFight\\eNoGYdL1_0.avi\n"
     ]
    },
    {
     "name": "stderr",
     "output_type": "stream",
     "text": [
      " 54%|██████████████████████████████████████████▎                                   | 1078/1989 [01:31<01:06, 13.70it/s]"
     ]
    },
    {
     "name": "stdout",
     "output_type": "stream",
     "text": [
      "Processing video: C:\\Users\\manuv\\Violence-Detection-With-Human-Skeletons\\data\\train\\NonFight\\ep1_I0f-u7g_0.avi\n",
      "Processing video: C:\\Users\\manuv\\Violence-Detection-With-Human-Skeletons\\data\\train\\NonFight\\ep1_I0f-u7g_1.avi\n",
      "Processing video: C:\\Users\\manuv\\Violence-Detection-With-Human-Skeletons\\data\\train\\NonFight\\EUgjFWbm_0.avi\n"
     ]
    },
    {
     "name": "stderr",
     "output_type": "stream",
     "text": [
      " 54%|██████████████████████████████████████████▎                                   | 1080/1989 [01:32<01:03, 14.29it/s]"
     ]
    },
    {
     "name": "stdout",
     "output_type": "stream",
     "text": [
      "Processing video: C:\\Users\\manuv\\Violence-Detection-With-Human-Skeletons\\data\\train\\NonFight\\eUtGwBik_0.avi\n",
      "Processing video: C:\\Users\\manuv\\Violence-Detection-With-Human-Skeletons\\data\\train\\NonFight\\ev8va5uR_0.avi\n",
      "Processing video: C:\\Users\\manuv\\Violence-Detection-With-Human-Skeletons\\data\\train\\NonFight\\f50PQz7mXds_0.avi\n"
     ]
    },
    {
     "name": "stderr",
     "output_type": "stream",
     "text": [
      " 54%|██████████████████████████████████████████▌                                   | 1084/1989 [01:32<01:13, 12.31it/s]"
     ]
    },
    {
     "name": "stdout",
     "output_type": "stream",
     "text": [
      "Processing video: C:\\Users\\manuv\\Violence-Detection-With-Human-Skeletons\\data\\train\\NonFight\\f50PQz7mXds_1.avi\n",
      "Processing video: C:\\Users\\manuv\\Violence-Detection-With-Human-Skeletons\\data\\train\\NonFight\\F7W6PQ3V3y8_0.avi\n"
     ]
    },
    {
     "name": "stderr",
     "output_type": "stream",
     "text": [
      " 55%|██████████████████████████████████████████▌                                   | 1086/1989 [01:32<01:11, 12.60it/s]"
     ]
    },
    {
     "name": "stdout",
     "output_type": "stream",
     "text": [
      "Processing video: C:\\Users\\manuv\\Violence-Detection-With-Human-Skeletons\\data\\train\\NonFight\\F7W6PQ3V3y8_1.avi\n",
      "Processing video: C:\\Users\\manuv\\Violence-Detection-With-Human-Skeletons\\data\\train\\NonFight\\F7W6PQ3V3y8_2.avi\n",
      "Processing video: C:\\Users\\manuv\\Violence-Detection-With-Human-Skeletons\\data\\train\\NonFight\\F7W6PQ3V3y8_3.avi\n"
     ]
    },
    {
     "name": "stderr",
     "output_type": "stream",
     "text": [
      " 55%|██████████████████████████████████████████▋                                   | 1088/1989 [01:32<01:10, 12.72it/s]"
     ]
    },
    {
     "name": "stdout",
     "output_type": "stream",
     "text": [
      "Processing video: C:\\Users\\manuv\\Violence-Detection-With-Human-Skeletons\\data\\train\\NonFight\\f9jcrHqO_0.avi\n",
      "Processing video: C:\\Users\\manuv\\Violence-Detection-With-Human-Skeletons\\data\\train\\NonFight\\FB3eqRE8_0.avi\n",
      "Processing video: C:\\Users\\manuv\\Violence-Detection-With-Human-Skeletons\\data\\train\\NonFight\\fBwfFDcgJlk_0.avi\n"
     ]
    },
    {
     "name": "stderr",
     "output_type": "stream",
     "text": [
      " 55%|██████████████████████████████████████████▋                                   | 1090/1989 [01:32<01:14, 11.99it/s]"
     ]
    },
    {
     "name": "stdout",
     "output_type": "stream",
     "text": [
      "Processing video: C:\\Users\\manuv\\Violence-Detection-With-Human-Skeletons\\data\\train\\NonFight\\fBwfFDcgJlk_1.avi\n",
      "Processing video: C:\\Users\\manuv\\Violence-Detection-With-Human-Skeletons\\data\\train\\NonFight\\fHOVzWgX_0.avi\n"
     ]
    },
    {
     "name": "stderr",
     "output_type": "stream",
     "text": [
      " 55%|██████████████████████████████████████████▉                                   | 1094/1989 [01:33<01:14, 12.00it/s]"
     ]
    },
    {
     "name": "stdout",
     "output_type": "stream",
     "text": [
      "Processing video: C:\\Users\\manuv\\Violence-Detection-With-Human-Skeletons\\data\\train\\NonFight\\Fighting014_x264_0.avi\n",
      "Processing video: C:\\Users\\manuv\\Violence-Detection-With-Human-Skeletons\\data\\train\\NonFight\\Fighting014_x264_1.avi\n",
      "Processing video: C:\\Users\\manuv\\Violence-Detection-With-Human-Skeletons\\data\\train\\NonFight\\fJkWWpNB_0.avi\n",
      "Processing video: C:\\Users\\manuv\\Violence-Detection-With-Human-Skeletons\\data\\train\\NonFight\\fJMvC8TV_0.avi\n"
     ]
    },
    {
     "name": "stderr",
     "output_type": "stream",
     "text": [
      " 55%|███████████████████████████████████████████                                   | 1098/1989 [01:33<01:08, 13.10it/s]"
     ]
    },
    {
     "name": "stdout",
     "output_type": "stream",
     "text": [
      "Processing video: C:\\Users\\manuv\\Violence-Detection-With-Human-Skeletons\\data\\train\\NonFight\\Fk3lg4wG_0.avi\n",
      "Processing video: C:\\Users\\manuv\\Violence-Detection-With-Human-Skeletons\\data\\train\\NonFight\\FKl98mfo_0.avi\n",
      "Processing video: C:\\Users\\manuv\\Violence-Detection-With-Human-Skeletons\\data\\train\\NonFight\\fMmvH1Fa_0.avi\n"
     ]
    },
    {
     "name": "stderr",
     "output_type": "stream",
     "text": [
      " 55%|███████████████████████████████████████████▏                                  | 1100/1989 [01:33<01:04, 13.79it/s]"
     ]
    },
    {
     "name": "stdout",
     "output_type": "stream",
     "text": [
      "Processing video: C:\\Users\\manuv\\Violence-Detection-With-Human-Skeletons\\data\\train\\NonFight\\Fn4sSVbO_0.avi\n",
      "Processing video: C:\\Users\\manuv\\Violence-Detection-With-Human-Skeletons\\data\\train\\NonFight\\fNy9LoED_0.avi\n",
      "Processing video: C:\\Users\\manuv\\Violence-Detection-With-Human-Skeletons\\data\\train\\NonFight\\FPU7QpO4_0.avi\n"
     ]
    },
    {
     "name": "stderr",
     "output_type": "stream",
     "text": [
      " 55%|███████████████████████████████████████████▏                                  | 1102/1989 [01:33<01:07, 13.22it/s]"
     ]
    },
    {
     "name": "stdout",
     "output_type": "stream",
     "text": [
      "Processing video: C:\\Users\\manuv\\Violence-Detection-With-Human-Skeletons\\data\\train\\NonFight\\FrwBev61_0.avi\n",
      "Processing video: C:\\Users\\manuv\\Violence-Detection-With-Human-Skeletons\\data\\train\\NonFight\\FSaZ8wiFw8Q_0.avi\n"
     ]
    },
    {
     "name": "stderr",
     "output_type": "stream",
     "text": [
      " 56%|███████████████████████████████████████████▎                                  | 1106/1989 [01:34<01:11, 12.41it/s]"
     ]
    },
    {
     "name": "stdout",
     "output_type": "stream",
     "text": [
      "Processing video: C:\\Users\\manuv\\Violence-Detection-With-Human-Skeletons\\data\\train\\NonFight\\fvtpgsrF_0.avi\n",
      "Processing video: C:\\Users\\manuv\\Violence-Detection-With-Human-Skeletons\\data\\train\\NonFight\\fwEk96k8g_I_0.avi\n",
      "Processing video: C:\\Users\\manuv\\Violence-Detection-With-Human-Skeletons\\data\\train\\NonFight\\fwEk96k8g_I_1.avi\n"
     ]
    },
    {
     "name": "stderr",
     "output_type": "stream",
     "text": [
      " 56%|███████████████████████████████████████████▍                                  | 1108/1989 [01:34<01:16, 11.45it/s]"
     ]
    },
    {
     "name": "stdout",
     "output_type": "stream",
     "text": [
      "Processing video: C:\\Users\\manuv\\Violence-Detection-With-Human-Skeletons\\data\\train\\NonFight\\FWsNU4WI_0.avi\n",
      "Processing video: C:\\Users\\manuv\\Violence-Detection-With-Human-Skeletons\\data\\train\\NonFight\\FZDDNtcaBcw_0.avi\n",
      "Processing video: C:\\Users\\manuv\\Violence-Detection-With-Human-Skeletons\\data\\train\\NonFight\\G0rgy9Ts_0.avi\n"
     ]
    },
    {
     "name": "stderr",
     "output_type": "stream",
     "text": [
      " 56%|███████████████████████████████████████████▌                                  | 1112/1989 [01:34<01:14, 11.70it/s]"
     ]
    },
    {
     "name": "stdout",
     "output_type": "stream",
     "text": [
      "Processing video: C:\\Users\\manuv\\Violence-Detection-With-Human-Skeletons\\data\\train\\NonFight\\g3QdfSDk_0.avi\n",
      "Processing video: C:\\Users\\manuv\\Violence-Detection-With-Human-Skeletons\\data\\train\\NonFight\\g9nMwbpZ_0.avi\n",
      "Processing video: C:\\Users\\manuv\\Violence-Detection-With-Human-Skeletons\\data\\train\\NonFight\\G9uNZGcK_0.avi\n"
     ]
    },
    {
     "name": "stderr",
     "output_type": "stream",
     "text": [
      " 56%|███████████████████████████████████████████▊                                  | 1116/1989 [01:35<01:04, 13.59it/s]"
     ]
    },
    {
     "name": "stdout",
     "output_type": "stream",
     "text": [
      "Processing video: C:\\Users\\manuv\\Violence-Detection-With-Human-Skeletons\\data\\train\\NonFight\\gAFkygeJ_0.avi\n",
      "Processing video: C:\\Users\\manuv\\Violence-Detection-With-Human-Skeletons\\data\\train\\NonFight\\gBBRxXBI_0.avi\n",
      "Processing video: C:\\Users\\manuv\\Violence-Detection-With-Human-Skeletons\\data\\train\\NonFight\\gDeDWPVe_0.avi\n",
      "Processing video: C:\\Users\\manuv\\Violence-Detection-With-Human-Skeletons\\data\\train\\NonFight\\gEODOSeI_0.avi\n"
     ]
    },
    {
     "name": "stderr",
     "output_type": "stream",
     "text": [
      " 56%|███████████████████████████████████████████▊                                  | 1118/1989 [01:35<01:05, 13.30it/s]"
     ]
    },
    {
     "name": "stdout",
     "output_type": "stream",
     "text": [
      "Processing video: C:\\Users\\manuv\\Violence-Detection-With-Human-Skeletons\\data\\train\\NonFight\\GgT095uX_0.avi\n",
      "Processing video: C:\\Users\\manuv\\Violence-Detection-With-Human-Skeletons\\data\\train\\NonFight\\gHcG_c1i4uE_0.avi\n",
      "Processing video: C:\\Users\\manuv\\Violence-Detection-With-Human-Skeletons\\data\\train\\NonFight\\gHcG_c1i4uE_1.avi\n"
     ]
    },
    {
     "name": "stderr",
     "output_type": "stream",
     "text": [
      " 56%|████████████████████████████████████████████                                  | 1122/1989 [01:35<01:05, 13.18it/s]"
     ]
    },
    {
     "name": "stdout",
     "output_type": "stream",
     "text": [
      "Processing video: C:\\Users\\manuv\\Violence-Detection-With-Human-Skeletons\\data\\train\\NonFight\\GhZRf4GIw0w_0.avi\n",
      "Processing video: C:\\Users\\manuv\\Violence-Detection-With-Human-Skeletons\\data\\train\\NonFight\\gI4u3PwG_0.avi\n",
      "Processing video: C:\\Users\\manuv\\Violence-Detection-With-Human-Skeletons\\data\\train\\NonFight\\gJDvtfRrM7k_0.avi\n"
     ]
    },
    {
     "name": "stderr",
     "output_type": "stream",
     "text": [
      " 57%|████████████████████████████████████████████▏                                 | 1126/1989 [01:35<00:57, 14.88it/s]"
     ]
    },
    {
     "name": "stdout",
     "output_type": "stream",
     "text": [
      "Processing video: C:\\Users\\manuv\\Violence-Detection-With-Human-Skeletons\\data\\train\\NonFight\\gk0v57Xn_0.avi\n",
      "Processing video: C:\\Users\\manuv\\Violence-Detection-With-Human-Skeletons\\data\\train\\NonFight\\GL9jSSxg_0.avi\n",
      "Processing video: C:\\Users\\manuv\\Violence-Detection-With-Human-Skeletons\\data\\train\\NonFight\\gNUhUpxZ_0.avi\n",
      "Processing video: C:\\Users\\manuv\\Violence-Detection-With-Human-Skeletons\\data\\train\\NonFight\\GodUly2k_0.avi\n"
     ]
    },
    {
     "name": "stderr",
     "output_type": "stream",
     "text": [
      " 57%|████████████████████████████████████████████▏                                 | 1128/1989 [01:35<01:09, 12.45it/s]"
     ]
    },
    {
     "name": "stdout",
     "output_type": "stream",
     "text": [
      "Processing video: C:\\Users\\manuv\\Violence-Detection-With-Human-Skeletons\\data\\train\\NonFight\\golJWJCak1k_0.avi\n",
      "Processing video: C:\\Users\\manuv\\Violence-Detection-With-Human-Skeletons\\data\\train\\NonFight\\golJWJCak1k_1.avi\n"
     ]
    },
    {
     "name": "stderr",
     "output_type": "stream",
     "text": [
      " 57%|████████████████████████████████████████████▎                                 | 1130/1989 [01:36<01:10, 12.19it/s]"
     ]
    },
    {
     "name": "stdout",
     "output_type": "stream",
     "text": [
      "Processing video: C:\\Users\\manuv\\Violence-Detection-With-Human-Skeletons\\data\\train\\NonFight\\GqDA8E4j_0.avi\n",
      "Processing video: C:\\Users\\manuv\\Violence-Detection-With-Human-Skeletons\\data\\train\\NonFight\\Gr3ikl6A2bE_0.avi\n",
      "Processing video: C:\\Users\\manuv\\Violence-Detection-With-Human-Skeletons\\data\\train\\NonFight\\gR4OsEPl894_0.avi\n"
     ]
    },
    {
     "name": "stderr",
     "output_type": "stream",
     "text": [
      " 57%|████████████████████████████████████████████▍                                 | 1134/1989 [01:36<01:20, 10.59it/s]"
     ]
    },
    {
     "name": "stdout",
     "output_type": "stream",
     "text": [
      "Processing video: C:\\Users\\manuv\\Violence-Detection-With-Human-Skeletons\\data\\train\\NonFight\\gR4OsEPl894_1.avi\n",
      "Processing video: C:\\Users\\manuv\\Violence-Detection-With-Human-Skeletons\\data\\train\\NonFight\\gR4OsEPl894_2.avi\n"
     ]
    },
    {
     "name": "stderr",
     "output_type": "stream",
     "text": [
      " 57%|████████████████████████████████████████████▌                                 | 1136/1989 [01:36<01:16, 11.13it/s]"
     ]
    },
    {
     "name": "stdout",
     "output_type": "stream",
     "text": [
      "Processing video: C:\\Users\\manuv\\Violence-Detection-With-Human-Skeletons\\data\\train\\NonFight\\gR4OsEPl894_3.avi\n",
      "Processing video: C:\\Users\\manuv\\Violence-Detection-With-Human-Skeletons\\data\\train\\NonFight\\grxri53x_0.avi\n",
      "Processing video: C:\\Users\\manuv\\Violence-Detection-With-Human-Skeletons\\data\\train\\NonFight\\gSmdNZya_0.avi\n"
     ]
    },
    {
     "name": "stderr",
     "output_type": "stream",
     "text": [
      " 57%|████████████████████████████████████████████▋                                 | 1140/1989 [01:36<01:03, 13.37it/s]"
     ]
    },
    {
     "name": "stdout",
     "output_type": "stream",
     "text": [
      "Processing video: C:\\Users\\manuv\\Violence-Detection-With-Human-Skeletons\\data\\train\\NonFight\\gUYfrLHe_0.avi\n",
      "Processing video: C:\\Users\\manuv\\Violence-Detection-With-Human-Skeletons\\data\\train\\NonFight\\GVdnjHyU_0.avi\n",
      "Processing video: C:\\Users\\manuv\\Violence-Detection-With-Human-Skeletons\\data\\train\\NonFight\\gzozjcrr_0.avi\n",
      "Processing video: C:\\Users\\manuv\\Violence-Detection-With-Human-Skeletons\\data\\train\\NonFight\\GzPhV725_0.avi\n"
     ]
    },
    {
     "name": "stderr",
     "output_type": "stream",
     "text": [
      " 58%|████████████████████████████████████████████▊                                 | 1144/1989 [01:37<00:58, 14.53it/s]"
     ]
    },
    {
     "name": "stdout",
     "output_type": "stream",
     "text": [
      "Processing video: C:\\Users\\manuv\\Violence-Detection-With-Human-Skeletons\\data\\train\\NonFight\\gzrwD4E5_0.avi\n",
      "Processing video: C:\\Users\\manuv\\Violence-Detection-With-Human-Skeletons\\data\\train\\NonFight\\GZWxDB1c_0.avi\n",
      "Processing video: C:\\Users\\manuv\\Violence-Detection-With-Human-Skeletons\\data\\train\\NonFight\\H1AzC-GyKto_0.avi\n"
     ]
    },
    {
     "name": "stderr",
     "output_type": "stream",
     "text": [
      " 58%|████████████████████████████████████████████▉                                 | 1146/1989 [01:37<01:00, 13.83it/s]"
     ]
    },
    {
     "name": "stdout",
     "output_type": "stream",
     "text": [
      "Processing video: C:\\Users\\manuv\\Violence-Detection-With-Human-Skeletons\\data\\train\\NonFight\\H1AzC-GyKto_1.avi\n",
      "Processing video: C:\\Users\\manuv\\Violence-Detection-With-Human-Skeletons\\data\\train\\NonFight\\H1AzC-GyKto_2.avi\n",
      "Processing video: C:\\Users\\manuv\\Violence-Detection-With-Human-Skeletons\\data\\train\\NonFight\\H1AzC-GyKto_3.avi\n"
     ]
    },
    {
     "name": "stderr",
     "output_type": "stream",
     "text": [
      " 58%|█████████████████████████████████████████████                                 | 1148/1989 [01:37<01:08, 12.27it/s]"
     ]
    },
    {
     "name": "stdout",
     "output_type": "stream",
     "text": [
      "Processing video: C:\\Users\\manuv\\Violence-Detection-With-Human-Skeletons\\data\\train\\NonFight\\H68yvSdp_0.avi\n",
      "Processing video: C:\\Users\\manuv\\Violence-Detection-With-Human-Skeletons\\data\\train\\NonFight\\HAh9eqtO_0.avi\n",
      "Processing video: C:\\Users\\manuv\\Violence-Detection-With-Human-Skeletons\\data\\train\\NonFight\\HAoCHqFV_0.avi\n"
     ]
    },
    {
     "name": "stderr",
     "output_type": "stream",
     "text": [
      " 58%|█████████████████████████████████████████████▏                                | 1152/1989 [01:37<01:02, 13.36it/s]"
     ]
    },
    {
     "name": "stdout",
     "output_type": "stream",
     "text": [
      "Processing video: C:\\Users\\manuv\\Violence-Detection-With-Human-Skeletons\\data\\train\\NonFight\\HbfZYAXw_0.avi\n",
      "Processing video: C:\\Users\\manuv\\Violence-Detection-With-Human-Skeletons\\data\\train\\NonFight\\hbTlgnTw_0.avi\n",
      "Processing video: C:\\Users\\manuv\\Violence-Detection-With-Human-Skeletons\\data\\train\\NonFight\\HG8xQFSd_0.avi\n"
     ]
    },
    {
     "name": "stderr",
     "output_type": "stream",
     "text": [
      " 58%|█████████████████████████████████████████████▎                                | 1154/1989 [01:38<01:03, 13.09it/s]"
     ]
    },
    {
     "name": "stdout",
     "output_type": "stream",
     "text": [
      "Processing video: C:\\Users\\manuv\\Violence-Detection-With-Human-Skeletons\\data\\train\\NonFight\\hgMpDK55_0.avi\n",
      "Processing video: C:\\Users\\manuv\\Violence-Detection-With-Human-Skeletons\\data\\train\\NonFight\\HodGUj8s_0.avi\n",
      "Processing video: C:\\Users\\manuv\\Violence-Detection-With-Human-Skeletons\\data\\train\\NonFight\\hP8CJJcx_0.avi\n"
     ]
    },
    {
     "name": "stderr",
     "output_type": "stream",
     "text": [
      " 58%|█████████████████████████████████████████████▎                                | 1156/1989 [01:38<01:02, 13.33it/s]"
     ]
    },
    {
     "name": "stdout",
     "output_type": "stream",
     "text": [
      "Processing video: C:\\Users\\manuv\\Violence-Detection-With-Human-Skeletons\\data\\train\\NonFight\\hrBh5x_3hW0_0.avi\n",
      "Processing video: C:\\Users\\manuv\\Violence-Detection-With-Human-Skeletons\\data\\train\\NonFight\\hrBh5x_3hW0_1.avi\n"
     ]
    },
    {
     "name": "stderr",
     "output_type": "stream",
     "text": [
      " 58%|█████████████████████████████████████████████▌                                | 1161/1989 [01:38<00:56, 14.56it/s]"
     ]
    },
    {
     "name": "stdout",
     "output_type": "stream",
     "text": [
      "Processing video: C:\\Users\\manuv\\Violence-Detection-With-Human-Skeletons\\data\\train\\NonFight\\Hsvzcq2l_0.avi\n",
      "Processing video: C:\\Users\\manuv\\Violence-Detection-With-Human-Skeletons\\data\\train\\NonFight\\HUuRelBW_0.avi\n",
      "Processing video: C:\\Users\\manuv\\Violence-Detection-With-Human-Skeletons\\data\\train\\NonFight\\HvfhYJ8b_0.avi\n",
      "Processing video: C:\\Users\\manuv\\Violence-Detection-With-Human-Skeletons\\data\\train\\NonFight\\HVRUChVh_0.avi\n"
     ]
    },
    {
     "name": "stderr",
     "output_type": "stream",
     "text": [
      " 58%|█████████████████████████████████████████████▌                                | 1163/1989 [01:38<01:06, 12.34it/s]"
     ]
    },
    {
     "name": "stdout",
     "output_type": "stream",
     "text": [
      "Processing video: C:\\Users\\manuv\\Violence-Detection-With-Human-Skeletons\\data\\train\\NonFight\\HVSv9sgz2ZI_0.avi\n",
      "Processing video: C:\\Users\\manuv\\Violence-Detection-With-Human-Skeletons\\data\\train\\NonFight\\HVSv9sgz2ZI_1.avi\n"
     ]
    },
    {
     "name": "stderr",
     "output_type": "stream",
     "text": [
      " 59%|█████████████████████████████████████████████▋                                | 1165/1989 [01:38<01:17, 10.64it/s]"
     ]
    },
    {
     "name": "stdout",
     "output_type": "stream",
     "text": [
      "Processing video: C:\\Users\\manuv\\Violence-Detection-With-Human-Skeletons\\data\\train\\NonFight\\HVSv9sgz2ZI_2.avi\n",
      "Processing video: C:\\Users\\manuv\\Violence-Detection-With-Human-Skeletons\\data\\train\\NonFight\\HVSv9sgz2ZI_3.avi\n"
     ]
    },
    {
     "name": "stderr",
     "output_type": "stream",
     "text": [
      " 59%|█████████████████████████████████████████████▊                                | 1167/1989 [01:39<01:21, 10.11it/s]"
     ]
    },
    {
     "name": "stdout",
     "output_type": "stream",
     "text": [
      "Processing video: C:\\Users\\manuv\\Violence-Detection-With-Human-Skeletons\\data\\train\\NonFight\\HW48LUZKOL4_0.avi\n",
      "Processing video: C:\\Users\\manuv\\Violence-Detection-With-Human-Skeletons\\data\\train\\NonFight\\HW48LUZKOL4_1.avi\n"
     ]
    },
    {
     "name": "stderr",
     "output_type": "stream",
     "text": [
      " 59%|█████████████████████████████████████████████▊                                | 1169/1989 [01:39<01:25,  9.55it/s]"
     ]
    },
    {
     "name": "stdout",
     "output_type": "stream",
     "text": [
      "Processing video: C:\\Users\\manuv\\Violence-Detection-With-Human-Skeletons\\data\\train\\NonFight\\HW48LUZKOL4_2.avi\n",
      "Processing video: C:\\Users\\manuv\\Violence-Detection-With-Human-Skeletons\\data\\train\\NonFight\\HW48LUZKOL4_3.avi\n"
     ]
    },
    {
     "name": "stderr",
     "output_type": "stream",
     "text": [
      " 59%|█████████████████████████████████████████████▉                                | 1171/1989 [01:39<01:19, 10.28it/s]"
     ]
    },
    {
     "name": "stdout",
     "output_type": "stream",
     "text": [
      "Processing video: C:\\Users\\manuv\\Violence-Detection-With-Human-Skeletons\\data\\train\\NonFight\\hWBjrqFS_0.avi\n",
      "Processing video: C:\\Users\\manuv\\Violence-Detection-With-Human-Skeletons\\data\\train\\NonFight\\HYkbCvPj_0.avi\n",
      "Processing video: C:\\Users\\manuv\\Violence-Detection-With-Human-Skeletons\\data\\train\\NonFight\\H_VQJU0Bqpc_0.avi\n"
     ]
    },
    {
     "name": "stderr",
     "output_type": "stream",
     "text": [
      " 59%|██████████████████████████████████████████████                                | 1173/1989 [01:39<01:20, 10.08it/s]"
     ]
    },
    {
     "name": "stdout",
     "output_type": "stream",
     "text": [
      "Processing video: C:\\Users\\manuv\\Violence-Detection-With-Human-Skeletons\\data\\train\\NonFight\\H_VQJU0Bqpc_1.avi\n",
      "Processing video: C:\\Users\\manuv\\Violence-Detection-With-Human-Skeletons\\data\\train\\NonFight\\H_VQJU0Bqpc_2.avi\n"
     ]
    },
    {
     "name": "stderr",
     "output_type": "stream",
     "text": [
      " 59%|██████████████████████████████████████████████                                | 1175/1989 [01:40<01:21,  9.95it/s]"
     ]
    },
    {
     "name": "stdout",
     "output_type": "stream",
     "text": [
      "Processing video: C:\\Users\\manuv\\Violence-Detection-With-Human-Skeletons\\data\\train\\NonFight\\H_VQJU0Bqpc_3.avi\n",
      "Processing video: C:\\Users\\manuv\\Violence-Detection-With-Human-Skeletons\\data\\train\\NonFight\\I-x0G5pAan0_0.avi\n"
     ]
    },
    {
     "name": "stderr",
     "output_type": "stream",
     "text": [
      " 59%|██████████████████████████████████████████████▏                               | 1178/1989 [01:40<01:29,  9.09it/s]"
     ]
    },
    {
     "name": "stdout",
     "output_type": "stream",
     "text": [
      "Processing video: C:\\Users\\manuv\\Violence-Detection-With-Human-Skeletons\\data\\train\\NonFight\\I-x0G5pAan0_1.avi\n",
      "Processing video: C:\\Users\\manuv\\Violence-Detection-With-Human-Skeletons\\data\\train\\NonFight\\i2sLegg2JPA_0.avi\n",
      "Processing video: C:\\Users\\manuv\\Violence-Detection-With-Human-Skeletons\\data\\train\\NonFight\\i2sLegg2JPA_1.avi\n"
     ]
    },
    {
     "name": "stderr",
     "output_type": "stream",
     "text": [
      " 59%|██████████████████████████████████████████████▎                               | 1182/1989 [01:40<01:13, 10.93it/s]"
     ]
    },
    {
     "name": "stdout",
     "output_type": "stream",
     "text": [
      "Processing video: C:\\Users\\manuv\\Violence-Detection-With-Human-Skeletons\\data\\train\\NonFight\\i4OubIZo_0.avi\n",
      "Processing video: C:\\Users\\manuv\\Violence-Detection-With-Human-Skeletons\\data\\train\\NonFight\\i5xJxtv4gXs_0.avi\n",
      "Processing video: C:\\Users\\manuv\\Violence-Detection-With-Human-Skeletons\\data\\train\\NonFight\\i5xJxtv4gXs_1.avi\n"
     ]
    },
    {
     "name": "stderr",
     "output_type": "stream",
     "text": [
      " 60%|██████████████████████████████████████████████▍                               | 1184/1989 [01:40<01:14, 10.77it/s]"
     ]
    },
    {
     "name": "stdout",
     "output_type": "stream",
     "text": [
      "Processing video: C:\\Users\\manuv\\Violence-Detection-With-Human-Skeletons\\data\\train\\NonFight\\i5xJxtv4gXs_2.avi\n",
      "Processing video: C:\\Users\\manuv\\Violence-Detection-With-Human-Skeletons\\data\\train\\NonFight\\i7MJRWrW_0.avi\n",
      "Processing video: C:\\Users\\manuv\\Violence-Detection-With-Human-Skeletons\\data\\train\\NonFight\\I7u5I8Oa_0.avi\n"
     ]
    },
    {
     "name": "stderr",
     "output_type": "stream",
     "text": [
      " 60%|██████████████████████████████████████████████▌                               | 1188/1989 [01:41<01:04, 12.37it/s]"
     ]
    },
    {
     "name": "stdout",
     "output_type": "stream",
     "text": [
      "Processing video: C:\\Users\\manuv\\Violence-Detection-With-Human-Skeletons\\data\\train\\NonFight\\IGCZWiP8_0.avi\n",
      "Processing video: C:\\Users\\manuv\\Violence-Detection-With-Human-Skeletons\\data\\train\\NonFight\\iki0PAvq_0.avi\n",
      "Processing video: C:\\Users\\manuv\\Violence-Detection-With-Human-Skeletons\\data\\train\\NonFight\\iqAmk7ES_0.avi\n",
      "Processing video: C:\\Users\\manuv\\Violence-Detection-With-Human-Skeletons\\data\\train\\NonFight\\iquSbj5Wqj0_0.avi\n"
     ]
    },
    {
     "name": "stderr",
     "output_type": "stream",
     "text": [
      " 60%|██████████████████████████████████████████████▋                               | 1192/1989 [01:41<00:57, 13.82it/s]"
     ]
    },
    {
     "name": "stdout",
     "output_type": "stream",
     "text": [
      "Processing video: C:\\Users\\manuv\\Violence-Detection-With-Human-Skeletons\\data\\train\\NonFight\\iRnSE1TL_0.avi\n",
      "Processing video: C:\\Users\\manuv\\Violence-Detection-With-Human-Skeletons\\data\\train\\NonFight\\Isob76kh_0.avi\n",
      "Processing video: C:\\Users\\manuv\\Violence-Detection-With-Human-Skeletons\\data\\train\\NonFight\\iTs901V6_0.avi\n",
      "Processing video: C:\\Users\\manuv\\Violence-Detection-With-Human-Skeletons\\data\\train\\NonFight\\itstEXVr_0.avi\n"
     ]
    },
    {
     "name": "stderr",
     "output_type": "stream",
     "text": [
      " 60%|██████████████████████████████████████████████▉                               | 1196/1989 [01:41<01:01, 12.94it/s]"
     ]
    },
    {
     "name": "stdout",
     "output_type": "stream",
     "text": [
      "Processing video: C:\\Users\\manuv\\Violence-Detection-With-Human-Skeletons\\data\\train\\NonFight\\IynvwHe9W3U_0.avi\n",
      "Processing video: C:\\Users\\manuv\\Violence-Detection-With-Human-Skeletons\\data\\train\\NonFight\\IynvwHe9W3U_1.avi\n"
     ]
    },
    {
     "name": "stderr",
     "output_type": "stream",
     "text": [
      " 60%|██████████████████████████████████████████████▉                               | 1198/1989 [01:41<01:03, 12.43it/s]"
     ]
    },
    {
     "name": "stdout",
     "output_type": "stream",
     "text": [
      "Processing video: C:\\Users\\manuv\\Violence-Detection-With-Human-Skeletons\\data\\train\\NonFight\\IynvwHe9W3U_2.avi\n",
      "Processing video: C:\\Users\\manuv\\Violence-Detection-With-Human-Skeletons\\data\\train\\NonFight\\IynvwHe9W3U_3.avi\n",
      "Processing video: C:\\Users\\manuv\\Violence-Detection-With-Human-Skeletons\\data\\train\\NonFight\\J2Am3J0z_0.avi\n"
     ]
    },
    {
     "name": "stderr",
     "output_type": "stream",
     "text": [
      " 60%|███████████████████████████████████████████████                               | 1200/1989 [01:42<01:03, 12.49it/s]"
     ]
    },
    {
     "name": "stdout",
     "output_type": "stream",
     "text": [
      "Processing video: C:\\Users\\manuv\\Violence-Detection-With-Human-Skeletons\\data\\train\\NonFight\\J2rsCgMC_0.avi\n",
      "Processing video: C:\\Users\\manuv\\Violence-Detection-With-Human-Skeletons\\data\\train\\NonFight\\j83up7ni_0.avi\n",
      "Processing video: C:\\Users\\manuv\\Violence-Detection-With-Human-Skeletons\\data\\train\\NonFight\\JBRqNBaP_0.avi\n",
      "Processing video: C:\\Users\\manuv\\Violence-Detection-With-Human-Skeletons\\data\\train\\NonFight\\jbSCSexU_0.avi\n"
     ]
    },
    {
     "name": "stderr",
     "output_type": "stream",
     "text": [
      " 61%|███████████████████████████████████████████████▎                              | 1205/1989 [01:42<00:56, 13.87it/s]"
     ]
    },
    {
     "name": "stdout",
     "output_type": "stream",
     "text": [
      "Processing video: C:\\Users\\manuv\\Violence-Detection-With-Human-Skeletons\\data\\train\\NonFight\\JD9JJbiJ_0.avi\n",
      "Processing video: C:\\Users\\manuv\\Violence-Detection-With-Human-Skeletons\\data\\train\\NonFight\\jgjAKGZW_0.avi\n",
      "Processing video: C:\\Users\\manuv\\Violence-Detection-With-Human-Skeletons\\data\\train\\NonFight\\JgXAUoyJ_0.avi\n"
     ]
    },
    {
     "name": "stderr",
     "output_type": "stream",
     "text": [
      " 61%|███████████████████████████████████████████████▎                              | 1207/1989 [01:42<00:57, 13.48it/s]"
     ]
    },
    {
     "name": "stdout",
     "output_type": "stream",
     "text": [
      "Processing video: C:\\Users\\manuv\\Violence-Detection-With-Human-Skeletons\\data\\train\\NonFight\\jILBnY3lB2Q_0.avi\n",
      "Processing video: C:\\Users\\manuv\\Violence-Detection-With-Human-Skeletons\\data\\train\\NonFight\\jILBnY3lB2Q_1.avi\n"
     ]
    },
    {
     "name": "stderr",
     "output_type": "stream",
     "text": [
      " 61%|███████████████████████████████████████████████▍                              | 1209/1989 [01:42<01:10, 11.07it/s]"
     ]
    },
    {
     "name": "stdout",
     "output_type": "stream",
     "text": [
      "Processing video: C:\\Users\\manuv\\Violence-Detection-With-Human-Skeletons\\data\\train\\NonFight\\jILBnY3lB2Q_2.avi\n",
      "Processing video: C:\\Users\\manuv\\Violence-Detection-With-Human-Skeletons\\data\\train\\NonFight\\jILBnY3lB2Q_3.avi\n"
     ]
    },
    {
     "name": "stderr",
     "output_type": "stream",
     "text": [
      " 61%|███████████████████████████████████████████████▍                              | 1211/1989 [01:42<01:08, 11.32it/s]"
     ]
    },
    {
     "name": "stdout",
     "output_type": "stream",
     "text": [
      "Processing video: C:\\Users\\manuv\\Violence-Detection-With-Human-Skeletons\\data\\train\\NonFight\\jj9SJGft_0.avi\n",
      "Processing video: C:\\Users\\manuv\\Violence-Detection-With-Human-Skeletons\\data\\train\\NonFight\\jOZLjdSi_0.avi\n",
      "Processing video: C:\\Users\\manuv\\Violence-Detection-With-Human-Skeletons\\data\\train\\NonFight\\JPIeYvRgo6I_0.avi\n"
     ]
    },
    {
     "name": "stderr",
     "output_type": "stream",
     "text": [
      " 61%|███████████████████████████████████████████████▋                              | 1215/1989 [01:43<01:04, 11.95it/s]"
     ]
    },
    {
     "name": "stdout",
     "output_type": "stream",
     "text": [
      "Processing video: C:\\Users\\manuv\\Violence-Detection-With-Human-Skeletons\\data\\train\\NonFight\\JPIeYvRgo6I_1.avi\n",
      "Processing video: C:\\Users\\manuv\\Violence-Detection-With-Human-Skeletons\\data\\train\\NonFight\\JPIeYvRgo6I_2.avi\n",
      "Processing video: C:\\Users\\manuv\\Violence-Detection-With-Human-Skeletons\\data\\train\\NonFight\\JPMLt2ZH_0.avi\n"
     ]
    },
    {
     "name": "stderr",
     "output_type": "stream",
     "text": [
      " 61%|███████████████████████████████████████████████▋                              | 1217/1989 [01:43<00:59, 12.87it/s]"
     ]
    },
    {
     "name": "stdout",
     "output_type": "stream",
     "text": [
      "Processing video: C:\\Users\\manuv\\Violence-Detection-With-Human-Skeletons\\data\\train\\NonFight\\jR91oXYV_0.avi\n",
      "Processing video: C:\\Users\\manuv\\Violence-Detection-With-Human-Skeletons\\data\\train\\NonFight\\JsjF2OSJ_0.avi\n",
      "Processing video: C:\\Users\\manuv\\Violence-Detection-With-Human-Skeletons\\data\\train\\NonFight\\jTbvVbkUaPM_0.avi\n"
     ]
    },
    {
     "name": "stderr",
     "output_type": "stream",
     "text": [
      " 61%|███████████████████████████████████████████████▉                              | 1221/1989 [01:43<00:55, 13.85it/s]"
     ]
    },
    {
     "name": "stdout",
     "output_type": "stream",
     "text": [
      "Processing video: C:\\Users\\manuv\\Violence-Detection-With-Human-Skeletons\\data\\train\\NonFight\\jTbvVbkUaPM_1.avi\n",
      "Processing video: C:\\Users\\manuv\\Violence-Detection-With-Human-Skeletons\\data\\train\\NonFight\\jTbvVbkUaPM_2.avi\n",
      "Processing video: C:\\Users\\manuv\\Violence-Detection-With-Human-Skeletons\\data\\train\\NonFight\\JwfajujK_0.avi\n",
      "Processing video: C:\\Users\\manuv\\Violence-Detection-With-Human-Skeletons\\data\\train\\NonFight\\JWFfsHEG_0.avi\n"
     ]
    },
    {
     "name": "stderr",
     "output_type": "stream",
     "text": [
      " 61%|███████████████████████████████████████████████▉                              | 1223/1989 [01:43<00:52, 14.52it/s]"
     ]
    },
    {
     "name": "stdout",
     "output_type": "stream",
     "text": [
      "Processing video: C:\\Users\\manuv\\Violence-Detection-With-Human-Skeletons\\data\\train\\NonFight\\JwTPruSFTjk_0.avi\n",
      "Processing video: C:\\Users\\manuv\\Violence-Detection-With-Human-Skeletons\\data\\train\\NonFight\\JwTPruSFTjk_1.avi\n"
     ]
    },
    {
     "name": "stderr",
     "output_type": "stream",
     "text": [
      " 62%|████████████████████████████████████████████████                              | 1227/1989 [01:44<00:55, 13.65it/s]"
     ]
    },
    {
     "name": "stdout",
     "output_type": "stream",
     "text": [
      "Processing video: C:\\Users\\manuv\\Violence-Detection-With-Human-Skeletons\\data\\train\\NonFight\\JxpNuQop_0.avi\n",
      "Processing video: C:\\Users\\manuv\\Violence-Detection-With-Human-Skeletons\\data\\train\\NonFight\\jXrwQsZJ_0.avi\n",
      "Processing video: C:\\Users\\manuv\\Violence-Detection-With-Human-Skeletons\\data\\train\\NonFight\\K4700BuM_0.avi\n",
      "Processing video: C:\\Users\\manuv\\Violence-Detection-With-Human-Skeletons\\data\\train\\NonFight\\kB9NYpu1_0.avi\n"
     ]
    },
    {
     "name": "stderr",
     "output_type": "stream",
     "text": [
      " 62%|████████████████████████████████████████████████▎                             | 1231/1989 [01:44<00:53, 14.13it/s]"
     ]
    },
    {
     "name": "stdout",
     "output_type": "stream",
     "text": [
      "Processing video: C:\\Users\\manuv\\Violence-Detection-With-Human-Skeletons\\data\\train\\NonFight\\kBSHDWaGFyc_0.avi\n",
      "Processing video: C:\\Users\\manuv\\Violence-Detection-With-Human-Skeletons\\data\\train\\NonFight\\KDOVTf7T_0.avi\n",
      "Processing video: C:\\Users\\manuv\\Violence-Detection-With-Human-Skeletons\\data\\train\\NonFight\\kExp3yhspR0_0.avi\n"
     ]
    },
    {
     "name": "stderr",
     "output_type": "stream",
     "text": [
      " 62%|████████████████████████████████████████████████▎                             | 1233/1989 [01:44<01:04, 11.74it/s]"
     ]
    },
    {
     "name": "stdout",
     "output_type": "stream",
     "text": [
      "Processing video: C:\\Users\\manuv\\Violence-Detection-With-Human-Skeletons\\data\\train\\NonFight\\kExp3yhspR0_1.avi\n",
      "Processing video: C:\\Users\\manuv\\Violence-Detection-With-Human-Skeletons\\data\\train\\NonFight\\kExp3yhspR0_2.avi\n"
     ]
    },
    {
     "name": "stderr",
     "output_type": "stream",
     "text": [
      " 62%|████████████████████████████████████████████████▌                             | 1237/1989 [01:44<00:58, 12.93it/s]"
     ]
    },
    {
     "name": "stdout",
     "output_type": "stream",
     "text": [
      "Processing video: C:\\Users\\manuv\\Violence-Detection-With-Human-Skeletons\\data\\train\\NonFight\\kFbpQrq2_0.avi\n",
      "Processing video: C:\\Users\\manuv\\Violence-Detection-With-Human-Skeletons\\data\\train\\NonFight\\KklEipxk_0.avi\n",
      "Processing video: C:\\Users\\manuv\\Violence-Detection-With-Human-Skeletons\\data\\train\\NonFight\\KLEwMKTN_0.avi\n"
     ]
    },
    {
     "name": "stderr",
     "output_type": "stream",
     "text": [
      " 62%|████████████████████████████████████████████████▌                             | 1239/1989 [01:45<01:02, 12.09it/s]"
     ]
    },
    {
     "name": "stdout",
     "output_type": "stream",
     "text": [
      "Processing video: C:\\Users\\manuv\\Violence-Detection-With-Human-Skeletons\\data\\train\\NonFight\\kLHNW0uRutY_0.avi\n",
      "Processing video: C:\\Users\\manuv\\Violence-Detection-With-Human-Skeletons\\data\\train\\NonFight\\Km94kW0O_0.avi\n",
      "Processing video: C:\\Users\\manuv\\Violence-Detection-With-Human-Skeletons\\data\\train\\NonFight\\kMI2JME3Aag_0.avi\n"
     ]
    },
    {
     "name": "stderr",
     "output_type": "stream",
     "text": [
      " 62%|████████████████████████████████████████████████▋                             | 1241/1989 [01:45<00:57, 12.99it/s]"
     ]
    },
    {
     "name": "stdout",
     "output_type": "stream",
     "text": [
      "Processing video: C:\\Users\\manuv\\Violence-Detection-With-Human-Skeletons\\data\\train\\NonFight\\kMI2JME3Aag_1.avi\n",
      "Processing video: C:\\Users\\manuv\\Violence-Detection-With-Human-Skeletons\\data\\train\\NonFight\\kMI2JME3Aag_2.avi\n",
      "Processing video: C:\\Users\\manuv\\Violence-Detection-With-Human-Skeletons\\data\\train\\NonFight\\kMI2JME3Aag_3.avi\n"
     ]
    },
    {
     "name": "stderr",
     "output_type": "stream",
     "text": [
      " 63%|████████████████████████████████████████████████▊                             | 1245/1989 [01:45<00:55, 13.37it/s]"
     ]
    },
    {
     "name": "stdout",
     "output_type": "stream",
     "text": [
      "Processing video: C:\\Users\\manuv\\Violence-Detection-With-Human-Skeletons\\data\\train\\NonFight\\kMI2JME3Aag_4.avi\n",
      "Processing video: C:\\Users\\manuv\\Violence-Detection-With-Human-Skeletons\\data\\train\\NonFight\\KOaUqaC8_0.avi\n",
      "Processing video: C:\\Users\\manuv\\Violence-Detection-With-Human-Skeletons\\data\\train\\NonFight\\kOp57sQKMPY_0.avi\n"
     ]
    },
    {
     "name": "stderr",
     "output_type": "stream",
     "text": [
      " 63%|████████████████████████████████████████████████▉                             | 1247/1989 [01:45<01:03, 11.66it/s]"
     ]
    },
    {
     "name": "stdout",
     "output_type": "stream",
     "text": [
      "Processing video: C:\\Users\\manuv\\Violence-Detection-With-Human-Skeletons\\data\\train\\NonFight\\kOp57sQKMPY_1.avi\n",
      "Processing video: C:\\Users\\manuv\\Violence-Detection-With-Human-Skeletons\\data\\train\\NonFight\\kOp57sQKMPY_2.avi\n"
     ]
    },
    {
     "name": "stderr",
     "output_type": "stream",
     "text": [
      " 63%|████████████████████████████████████████████████▉                             | 1249/1989 [01:45<01:10, 10.43it/s]"
     ]
    },
    {
     "name": "stdout",
     "output_type": "stream",
     "text": [
      "Processing video: C:\\Users\\manuv\\Violence-Detection-With-Human-Skeletons\\data\\train\\NonFight\\KQTiHlA11fM_0.avi\n",
      "Processing video: C:\\Users\\manuv\\Violence-Detection-With-Human-Skeletons\\data\\train\\NonFight\\KQTiHlA11fM_1.avi\n"
     ]
    },
    {
     "name": "stderr",
     "output_type": "stream",
     "text": [
      " 63%|█████████████████████████████████████████████████                             | 1251/1989 [01:46<01:14,  9.96it/s]"
     ]
    },
    {
     "name": "stdout",
     "output_type": "stream",
     "text": [
      "Processing video: C:\\Users\\manuv\\Violence-Detection-With-Human-Skeletons\\data\\train\\NonFight\\KQTiHlA11fM_2.avi\n",
      "Processing video: C:\\Users\\manuv\\Violence-Detection-With-Human-Skeletons\\data\\train\\NonFight\\KQTiHlA11fM_3.avi\n"
     ]
    },
    {
     "name": "stderr",
     "output_type": "stream",
     "text": [
      " 63%|█████████████████████████████████████████████████▏                            | 1253/1989 [01:46<01:12, 10.11it/s]"
     ]
    },
    {
     "name": "stdout",
     "output_type": "stream",
     "text": [
      "Processing video: C:\\Users\\manuv\\Violence-Detection-With-Human-Skeletons\\data\\train\\NonFight\\KxOHVkVQ_0.avi\n",
      "Processing video: C:\\Users\\manuv\\Violence-Detection-With-Human-Skeletons\\data\\train\\NonFight\\K_7hT4N2QCE_0.avi\n"
     ]
    },
    {
     "name": "stderr",
     "output_type": "stream",
     "text": [
      " 63%|█████████████████████████████████████████████████▏                            | 1255/1989 [01:46<01:17,  9.50it/s]"
     ]
    },
    {
     "name": "stdout",
     "output_type": "stream",
     "text": [
      "Processing video: C:\\Users\\manuv\\Violence-Detection-With-Human-Skeletons\\data\\train\\NonFight\\l4gqDHx9_dI_0.avi\n",
      "Processing video: C:\\Users\\manuv\\Violence-Detection-With-Human-Skeletons\\data\\train\\NonFight\\l4gqDHx9_dI_1.avi\n",
      "Processing video: C:\\Users\\manuv\\Violence-Detection-With-Human-Skeletons\\data\\train\\NonFight\\L9tYVvJY_0.avi\n"
     ]
    },
    {
     "name": "stderr",
     "output_type": "stream",
     "text": [
      " 63%|█████████████████████████████████████████████████▎                            | 1259/1989 [01:46<01:04, 11.24it/s]"
     ]
    },
    {
     "name": "stdout",
     "output_type": "stream",
     "text": [
      "Processing video: C:\\Users\\manuv\\Violence-Detection-With-Human-Skeletons\\data\\train\\NonFight\\La60qonu_0.avi\n",
      "Processing video: C:\\Users\\manuv\\Violence-Detection-With-Human-Skeletons\\data\\train\\NonFight\\La9lzohO_0.avi\n",
      "Processing video: C:\\Users\\manuv\\Violence-Detection-With-Human-Skeletons\\data\\train\\NonFight\\LbYQs9oA_0.avi\n",
      "Processing video: C:\\Users\\manuv\\Violence-Detection-With-Human-Skeletons\\data\\train\\NonFight\\lhxMVtH7_0.avi\n"
     ]
    },
    {
     "name": "stderr",
     "output_type": "stream",
     "text": [
      " 63%|█████████████████████████████████████████████████▌                            | 1263/1989 [01:47<01:02, 11.67it/s]"
     ]
    },
    {
     "name": "stdout",
     "output_type": "stream",
     "text": [
      "Processing video: C:\\Users\\manuv\\Violence-Detection-With-Human-Skeletons\\data\\train\\NonFight\\LiCakkNH_0.avi\n",
      "Processing video: C:\\Users\\manuv\\Violence-Detection-With-Human-Skeletons\\data\\train\\NonFight\\ljLg4lFbS0Y_0.avi\n"
     ]
    },
    {
     "name": "stderr",
     "output_type": "stream",
     "text": [
      " 64%|█████████████████████████████████████████████████▌                            | 1265/1989 [01:47<01:02, 11.59it/s]"
     ]
    },
    {
     "name": "stdout",
     "output_type": "stream",
     "text": [
      "Processing video: C:\\Users\\manuv\\Violence-Detection-With-Human-Skeletons\\data\\train\\NonFight\\ljLg4lFbS0Y_1.avi\n",
      "Processing video: C:\\Users\\manuv\\Violence-Detection-With-Human-Skeletons\\data\\train\\NonFight\\LLo_TXIz5-g_0.avi\n",
      "Processing video: C:\\Users\\manuv\\Violence-Detection-With-Human-Skeletons\\data\\train\\NonFight\\LLo_TXIz5-g_1.avi\n"
     ]
    },
    {
     "name": "stderr",
     "output_type": "stream",
     "text": [
      " 64%|█████████████████████████████████████████████████▋                            | 1267/1989 [01:47<01:08, 10.51it/s]"
     ]
    },
    {
     "name": "stdout",
     "output_type": "stream",
     "text": [
      "Processing video: C:\\Users\\manuv\\Violence-Detection-With-Human-Skeletons\\data\\train\\NonFight\\lmfaDmCCRoY_0.avi\n",
      "Processing video: C:\\Users\\manuv\\Violence-Detection-With-Human-Skeletons\\data\\train\\NonFight\\LMNJJere_0.avi\n",
      "Processing video: C:\\Users\\manuv\\Violence-Detection-With-Human-Skeletons\\data\\train\\NonFight\\lNAzMZFI_0.avi\n"
     ]
    },
    {
     "name": "stderr",
     "output_type": "stream",
     "text": [
      " 64%|█████████████████████████████████████████████████▊                            | 1271/1989 [01:47<00:54, 13.19it/s]"
     ]
    },
    {
     "name": "stdout",
     "output_type": "stream",
     "text": [
      "Processing video: C:\\Users\\manuv\\Violence-Detection-With-Human-Skeletons\\data\\train\\NonFight\\lQ39ffan_0.avi\n",
      "Processing video: C:\\Users\\manuv\\Violence-Detection-With-Human-Skeletons\\data\\train\\NonFight\\LqW9A21g_0.avi\n",
      "Processing video: C:\\Users\\manuv\\Violence-Detection-With-Human-Skeletons\\data\\train\\NonFight\\lS7tAuv0_0.avi\n"
     ]
    },
    {
     "name": "stderr",
     "output_type": "stream",
     "text": [
      " 64%|██████████████████████████████████████████████████                            | 1275/1989 [01:48<00:52, 13.73it/s]"
     ]
    },
    {
     "name": "stdout",
     "output_type": "stream",
     "text": [
      "Processing video: C:\\Users\\manuv\\Violence-Detection-With-Human-Skeletons\\data\\train\\NonFight\\LSJPhJTB_0.avi\n",
      "Processing video: C:\\Users\\manuv\\Violence-Detection-With-Human-Skeletons\\data\\train\\NonFight\\Lui5zaon_0.avi\n",
      "Processing video: C:\\Users\\manuv\\Violence-Detection-With-Human-Skeletons\\data\\train\\NonFight\\lx4TN9dS_0.avi\n"
     ]
    },
    {
     "name": "stderr",
     "output_type": "stream",
     "text": [
      " 64%|██████████████████████████████████████████████████                            | 1277/1989 [01:48<00:54, 12.95it/s]"
     ]
    },
    {
     "name": "stdout",
     "output_type": "stream",
     "text": [
      "Processing video: C:\\Users\\manuv\\Violence-Detection-With-Human-Skeletons\\data\\train\\NonFight\\m3PZvVSL_0.avi\n",
      "Processing video: C:\\Users\\manuv\\Violence-Detection-With-Human-Skeletons\\data\\train\\NonFight\\M4syignQ_0.avi\n",
      "Processing video: C:\\Users\\manuv\\Violence-Detection-With-Human-Skeletons\\data\\train\\NonFight\\Ma1iva6R_0.avi\n"
     ]
    },
    {
     "name": "stderr",
     "output_type": "stream",
     "text": [
      " 64%|██████████████████████████████████████████████████▏                           | 1281/1989 [01:48<00:46, 15.15it/s]"
     ]
    },
    {
     "name": "stdout",
     "output_type": "stream",
     "text": [
      "Processing video: C:\\Users\\manuv\\Violence-Detection-With-Human-Skeletons\\data\\train\\NonFight\\MBxCX6pw_0.avi\n",
      "Processing video: C:\\Users\\manuv\\Violence-Detection-With-Human-Skeletons\\data\\train\\NonFight\\McDxnU7x_0.avi\n",
      "Processing video: C:\\Users\\manuv\\Violence-Detection-With-Human-Skeletons\\data\\train\\NonFight\\mE9Cp4na_0.avi\n",
      "Processing video: C:\\Users\\manuv\\Violence-Detection-With-Human-Skeletons\\data\\train\\NonFight\\MhiGg6f7_0.avi\n"
     ]
    },
    {
     "name": "stderr",
     "output_type": "stream",
     "text": [
      " 65%|██████████████████████████████████████████████████▎                           | 1283/1989 [01:48<00:49, 14.27it/s]"
     ]
    },
    {
     "name": "stdout",
     "output_type": "stream",
     "text": [
      "Processing video: C:\\Users\\manuv\\Violence-Detection-With-Human-Skeletons\\data\\train\\NonFight\\MhVfgPWz_0.avi\n",
      "Processing video: C:\\Users\\manuv\\Violence-Detection-With-Human-Skeletons\\data\\train\\NonFight\\mHY487R6_0.avi\n",
      "Processing video: C:\\Users\\manuv\\Violence-Detection-With-Human-Skeletons\\data\\train\\NonFight\\MmUtpm6Z_0.avi\n"
     ]
    },
    {
     "name": "stderr",
     "output_type": "stream",
     "text": [
      " 65%|██████████████████████████████████████████████████▍                           | 1287/1989 [01:49<00:53, 13.16it/s]"
     ]
    },
    {
     "name": "stdout",
     "output_type": "stream",
     "text": [
      "Processing video: C:\\Users\\manuv\\Violence-Detection-With-Human-Skeletons\\data\\train\\NonFight\\MOST Shocking CCTV footage (_TwPzPRK7dc)_0.avi\n",
      "Processing video: C:\\Users\\manuv\\Violence-Detection-With-Human-Skeletons\\data\\train\\NonFight\\MOST Shocking CCTV footage (_TwPzPRK7dc)_1.avi\n"
     ]
    },
    {
     "name": "stderr",
     "output_type": "stream",
     "text": [
      " 65%|██████████████████████████████████████████████████▌                           | 1289/1989 [01:49<00:57, 12.20it/s]"
     ]
    },
    {
     "name": "stdout",
     "output_type": "stream",
     "text": [
      "Processing video: C:\\Users\\manuv\\Violence-Detection-With-Human-Skeletons\\data\\train\\NonFight\\mRqg-WXiR7Q_0.avi\n",
      "Processing video: C:\\Users\\manuv\\Violence-Detection-With-Human-Skeletons\\data\\train\\NonFight\\muJDFQqbbmA_0.avi\n"
     ]
    },
    {
     "name": "stderr",
     "output_type": "stream",
     "text": [
      " 65%|██████████████████████████████████████████████████▋                           | 1291/1989 [01:49<00:55, 12.69it/s]"
     ]
    },
    {
     "name": "stdout",
     "output_type": "stream",
     "text": [
      "Processing video: C:\\Users\\manuv\\Violence-Detection-With-Human-Skeletons\\data\\train\\NonFight\\muJDFQqbbmA_1.avi\n",
      "Processing video: C:\\Users\\manuv\\Violence-Detection-With-Human-Skeletons\\data\\train\\NonFight\\Mv3d3zJy_0.avi\n",
      "Processing video: C:\\Users\\manuv\\Violence-Detection-With-Human-Skeletons\\data\\train\\NonFight\\mVAv7aB5_0.avi\n"
     ]
    },
    {
     "name": "stderr",
     "output_type": "stream",
     "text": [
      " 65%|██████████████████████████████████████████████████▋                           | 1293/1989 [01:49<00:50, 13.83it/s]"
     ]
    },
    {
     "name": "stdout",
     "output_type": "stream",
     "text": [
      "Processing video: C:\\Users\\manuv\\Violence-Detection-With-Human-Skeletons\\data\\train\\NonFight\\MvYkXHIi_0.avi\n",
      "Processing video: C:\\Users\\manuv\\Violence-Detection-With-Human-Skeletons\\data\\train\\NonFight\\MwZvUQRO_0.avi\n",
      "Processing video: C:\\Users\\manuv\\Violence-Detection-With-Human-Skeletons\\data\\train\\NonFight\\mx0UXBFc_0.avi\n"
     ]
    },
    {
     "name": "stderr",
     "output_type": "stream",
     "text": [
      " 65%|██████████████████████████████████████████████████▊                           | 1297/1989 [01:49<00:53, 12.96it/s]"
     ]
    },
    {
     "name": "stdout",
     "output_type": "stream",
     "text": [
      "Processing video: C:\\Users\\manuv\\Violence-Detection-With-Human-Skeletons\\data\\train\\NonFight\\mX4cQM1xMFc_0.avi\n",
      "Processing video: C:\\Users\\manuv\\Violence-Detection-With-Human-Skeletons\\data\\train\\NonFight\\MX77f2TD_0.avi\n",
      "Processing video: C:\\Users\\manuv\\Violence-Detection-With-Human-Skeletons\\data\\train\\NonFight\\N1Q9v-saJ_g_0.avi\n"
     ]
    },
    {
     "name": "stderr",
     "output_type": "stream",
     "text": [
      " 65%|██████████████████████████████████████████████████▉                           | 1299/1989 [01:50<01:00, 11.44it/s]"
     ]
    },
    {
     "name": "stdout",
     "output_type": "stream",
     "text": [
      "Processing video: C:\\Users\\manuv\\Violence-Detection-With-Human-Skeletons\\data\\train\\NonFight\\ndNHBJbS_0.avi\n",
      "Processing video: C:\\Users\\manuv\\Violence-Detection-With-Human-Skeletons\\data\\train\\NonFight\\NEUya2Rr_0.avi\n",
      "Processing video: C:\\Users\\manuv\\Violence-Detection-With-Human-Skeletons\\data\\train\\NonFight\\niXRLeON_0.avi\n"
     ]
    },
    {
     "name": "stderr",
     "output_type": "stream",
     "text": [
      " 66%|███████████████████████████████████████████████████                           | 1303/1989 [01:50<00:51, 13.44it/s]"
     ]
    },
    {
     "name": "stdout",
     "output_type": "stream",
     "text": [
      "Processing video: C:\\Users\\manuv\\Violence-Detection-With-Human-Skeletons\\data\\train\\NonFight\\nj9Rc3lY_0.avi\n",
      "Processing video: C:\\Users\\manuv\\Violence-Detection-With-Human-Skeletons\\data\\train\\NonFight\\NmNKzttk_0.avi\n",
      "Processing video: C:\\Users\\manuv\\Violence-Detection-With-Human-Skeletons\\data\\train\\NonFight\\NPeKBgURcxI_0.avi\n"
     ]
    },
    {
     "name": "stderr",
     "output_type": "stream",
     "text": [
      " 66%|███████████████████████████████████████████████████▏                          | 1305/1989 [01:50<01:03, 10.79it/s]"
     ]
    },
    {
     "name": "stdout",
     "output_type": "stream",
     "text": [
      "Processing video: C:\\Users\\manuv\\Violence-Detection-With-Human-Skeletons\\data\\train\\NonFight\\NPeKBgURcxI_1.avi\n",
      "Processing video: C:\\Users\\manuv\\Violence-Detection-With-Human-Skeletons\\data\\train\\NonFight\\NPeKBgURcxI_2.avi\n"
     ]
    },
    {
     "name": "stderr",
     "output_type": "stream",
     "text": [
      " 66%|███████████████████████████████████████████████████▎                          | 1309/1989 [01:50<00:55, 12.24it/s]"
     ]
    },
    {
     "name": "stdout",
     "output_type": "stream",
     "text": [
      "Processing video: C:\\Users\\manuv\\Violence-Detection-With-Human-Skeletons\\data\\train\\NonFight\\NSdXEN1l_0.avi\n",
      "Processing video: C:\\Users\\manuv\\Violence-Detection-With-Human-Skeletons\\data\\train\\NonFight\\NvYo6CS_i_A_0.avi\n",
      "Processing video: C:\\Users\\manuv\\Violence-Detection-With-Human-Skeletons\\data\\train\\NonFight\\NvYo6CS_i_A_1.avi\n",
      "Processing video: C:\\Users\\manuv\\Violence-Detection-With-Human-Skeletons\\data\\train\\NonFight\\NxtwlqSnLbY_0.avi\n"
     ]
    },
    {
     "name": "stderr",
     "output_type": "stream",
     "text": [
      " 66%|███████████████████████████████████████████████████▍                          | 1311/1989 [01:51<01:00, 11.18it/s]"
     ]
    },
    {
     "name": "stdout",
     "output_type": "stream",
     "text": [
      "Processing video: C:\\Users\\manuv\\Violence-Detection-With-Human-Skeletons\\data\\train\\NonFight\\NxtwlqSnLbY_1.avi\n",
      "Processing video: C:\\Users\\manuv\\Violence-Detection-With-Human-Skeletons\\data\\train\\NonFight\\o8sEvktx_0.avi\n",
      "Processing video: C:\\Users\\manuv\\Violence-Detection-With-Human-Skeletons\\data\\train\\NonFight\\oAeudqZD_0.avi\n"
     ]
    },
    {
     "name": "stderr",
     "output_type": "stream",
     "text": [
      " 66%|███████████████████████████████████████████████████▌                          | 1315/1989 [01:51<00:54, 12.37it/s]"
     ]
    },
    {
     "name": "stdout",
     "output_type": "stream",
     "text": [
      "Processing video: C:\\Users\\manuv\\Violence-Detection-With-Human-Skeletons\\data\\train\\NonFight\\OAFsSiyX_0.avi\n",
      "Processing video: C:\\Users\\manuv\\Violence-Detection-With-Human-Skeletons\\data\\train\\NonFight\\OAfV0xPIhZw_0.avi\n",
      "Processing video: C:\\Users\\manuv\\Violence-Detection-With-Human-Skeletons\\data\\train\\NonFight\\OAfV0xPIhZw_1.avi\n"
     ]
    },
    {
     "name": "stderr",
     "output_type": "stream",
     "text": [
      " 66%|███████████████████████████████████████████████████▋                          | 1319/1989 [01:51<00:49, 13.54it/s]"
     ]
    },
    {
     "name": "stdout",
     "output_type": "stream",
     "text": [
      "Processing video: C:\\Users\\manuv\\Violence-Detection-With-Human-Skeletons\\data\\train\\NonFight\\OakN3f1N_0.avi\n",
      "Processing video: C:\\Users\\manuv\\Violence-Detection-With-Human-Skeletons\\data\\train\\NonFight\\oByKgGBL_0.avi\n",
      "Processing video: C:\\Users\\manuv\\Violence-Detection-With-Human-Skeletons\\data\\train\\NonFight\\OCseFRss_0.avi\n"
     ]
    },
    {
     "name": "stderr",
     "output_type": "stream",
     "text": [
      " 66%|███████████████████████████████████████████████████▊                          | 1321/1989 [01:51<00:53, 12.46it/s]"
     ]
    },
    {
     "name": "stdout",
     "output_type": "stream",
     "text": [
      "Processing video: C:\\Users\\manuv\\Violence-Detection-With-Human-Skeletons\\data\\train\\NonFight\\oDGm-DOOyI4_0.avi\n",
      "Processing video: C:\\Users\\manuv\\Violence-Detection-With-Human-Skeletons\\data\\train\\NonFight\\oDGm-DOOyI4_1.avi\n"
     ]
    },
    {
     "name": "stderr",
     "output_type": "stream",
     "text": [
      " 67%|███████████████████████████████████████████████████▉                          | 1323/1989 [01:51<00:50, 13.28it/s]"
     ]
    },
    {
     "name": "stdout",
     "output_type": "stream",
     "text": [
      "Processing video: C:\\Users\\manuv\\Violence-Detection-With-Human-Skeletons\\data\\train\\NonFight\\oDGm-DOOyI4_2.avi\n",
      "Processing video: C:\\Users\\manuv\\Violence-Detection-With-Human-Skeletons\\data\\train\\NonFight\\oDWNiATJ_0.avi\n",
      "Processing video: C:\\Users\\manuv\\Violence-Detection-With-Human-Skeletons\\data\\train\\NonFight\\OdxnpEnn_0.avi\n"
     ]
    },
    {
     "name": "stderr",
     "output_type": "stream",
     "text": [
      " 67%|███████████████████████████████████████████████████▉                          | 1325/1989 [01:52<00:50, 13.08it/s]"
     ]
    },
    {
     "name": "stdout",
     "output_type": "stream",
     "text": [
      "Processing video: C:\\Users\\manuv\\Violence-Detection-With-Human-Skeletons\\data\\train\\NonFight\\OFwYyouR_0.avi\n",
      "Processing video: C:\\Users\\manuv\\Violence-Detection-With-Human-Skeletons\\data\\train\\NonFight\\oG3Qxvq0_0.avi\n",
      "Processing video: C:\\Users\\manuv\\Violence-Detection-With-Human-Skeletons\\data\\train\\NonFight\\oIEZ45OCmAw_0.avi\n"
     ]
    },
    {
     "name": "stderr",
     "output_type": "stream",
     "text": [
      " 67%|████████████████████████████████████████████████████                          | 1329/1989 [01:52<00:49, 13.34it/s]"
     ]
    },
    {
     "name": "stdout",
     "output_type": "stream",
     "text": [
      "Processing video: C:\\Users\\manuv\\Violence-Detection-With-Human-Skeletons\\data\\train\\NonFight\\okA8k7rF_0.avi\n",
      "Processing video: C:\\Users\\manuv\\Violence-Detection-With-Human-Skeletons\\data\\train\\NonFight\\oLs9ckoV_0.avi\n",
      "Processing video: C:\\Users\\manuv\\Violence-Detection-With-Human-Skeletons\\data\\train\\NonFight\\oMZpqizQ_0.avi\n"
     ]
    },
    {
     "name": "stderr",
     "output_type": "stream",
     "text": [
      " 67%|████████████████████████████████████████████████████▏                         | 1331/1989 [01:52<00:50, 13.11it/s]"
     ]
    },
    {
     "name": "stdout",
     "output_type": "stream",
     "text": [
      "Processing video: C:\\Users\\manuv\\Violence-Detection-With-Human-Skeletons\\data\\train\\NonFight\\on2HIPgB_0.avi\n",
      "Processing video: C:\\Users\\manuv\\Violence-Detection-With-Human-Skeletons\\data\\train\\NonFight\\OTVE3eLAuUM_0.avi\n",
      "Processing video: C:\\Users\\manuv\\Violence-Detection-With-Human-Skeletons\\data\\train\\NonFight\\OTVE3eLAuUM_1.avi\n"
     ]
    },
    {
     "name": "stderr",
     "output_type": "stream",
     "text": [
      " 67%|████████████████████████████████████████████████████▎                         | 1335/1989 [01:52<00:54, 11.94it/s]"
     ]
    },
    {
     "name": "stdout",
     "output_type": "stream",
     "text": [
      "Processing video: C:\\Users\\manuv\\Violence-Detection-With-Human-Skeletons\\data\\train\\NonFight\\OTVE3eLAuUM_2.avi\n",
      "Processing video: C:\\Users\\manuv\\Violence-Detection-With-Human-Skeletons\\data\\train\\NonFight\\OU7AM5fv_0.avi\n",
      "Processing video: C:\\Users\\manuv\\Violence-Detection-With-Human-Skeletons\\data\\train\\NonFight\\oUqxGhTe_0.avi\n"
     ]
    },
    {
     "name": "stderr",
     "output_type": "stream",
     "text": [
      " 67%|████████████████████████████████████████████████████▍                         | 1337/1989 [01:53<00:52, 12.41it/s]"
     ]
    },
    {
     "name": "stdout",
     "output_type": "stream",
     "text": [
      "Processing video: C:\\Users\\manuv\\Violence-Detection-With-Human-Skeletons\\data\\train\\NonFight\\oVMhWJIpHnc_0.avi\n",
      "Processing video: C:\\Users\\manuv\\Violence-Detection-With-Human-Skeletons\\data\\train\\NonFight\\oVMhWJIpHnc_1.avi\n",
      "Processing video: C:\\Users\\manuv\\Violence-Detection-With-Human-Skeletons\\data\\train\\NonFight\\oVMhWJIpHnc_2.avi\n"
     ]
    },
    {
     "name": "stderr",
     "output_type": "stream",
     "text": [
      " 67%|████████████████████████████████████████████████████▌                         | 1339/1989 [01:53<00:53, 12.22it/s]"
     ]
    },
    {
     "name": "stdout",
     "output_type": "stream",
     "text": [
      "Processing video: C:\\Users\\manuv\\Violence-Detection-With-Human-Skeletons\\data\\train\\NonFight\\oW8ySS0rN4Y_0.avi\n",
      "Processing video: C:\\Users\\manuv\\Violence-Detection-With-Human-Skeletons\\data\\train\\NonFight\\oYFVr2kK_0.avi\n"
     ]
    },
    {
     "name": "stderr",
     "output_type": "stream",
     "text": [
      " 68%|████████████████████████████████████████████████████▋                         | 1343/1989 [01:53<00:55, 11.69it/s]"
     ]
    },
    {
     "name": "stdout",
     "output_type": "stream",
     "text": [
      "Processing video: C:\\Users\\manuv\\Violence-Detection-With-Human-Skeletons\\data\\train\\NonFight\\OznqyUJq_0.avi\n",
      "Processing video: C:\\Users\\manuv\\Violence-Detection-With-Human-Skeletons\\data\\train\\NonFight\\p19HiyCX7EQ_0.avi\n",
      "Processing video: C:\\Users\\manuv\\Violence-Detection-With-Human-Skeletons\\data\\train\\NonFight\\P8jyDT3M_0.avi\n"
     ]
    },
    {
     "name": "stderr",
     "output_type": "stream",
     "text": [
      " 68%|████████████████████████████████████████████████████▋                         | 1345/1989 [01:53<00:54, 11.80it/s]"
     ]
    },
    {
     "name": "stdout",
     "output_type": "stream",
     "text": [
      "Processing video: C:\\Users\\manuv\\Violence-Detection-With-Human-Skeletons\\data\\train\\NonFight\\p9d6QmKh_0.avi\n",
      "Processing video: C:\\Users\\manuv\\Violence-Detection-With-Human-Skeletons\\data\\train\\NonFight\\Pe1uIhp4dAQ_0.avi\n",
      "Processing video: C:\\Users\\manuv\\Violence-Detection-With-Human-Skeletons\\data\\train\\NonFight\\Pe1uIhp4dAQ_1.avi\n"
     ]
    },
    {
     "name": "stderr",
     "output_type": "stream",
     "text": [
      " 68%|████████████████████████████████████████████████████▊                         | 1347/1989 [01:53<00:49, 12.97it/s]"
     ]
    },
    {
     "name": "stdout",
     "output_type": "stream",
     "text": [
      "Processing video: C:\\Users\\manuv\\Violence-Detection-With-Human-Skeletons\\data\\train\\NonFight\\PFw7SeFOD04_0.avi\n",
      "Processing video: C:\\Users\\manuv\\Violence-Detection-With-Human-Skeletons\\data\\train\\NonFight\\PFw7SeFOD04_1.avi\n"
     ]
    },
    {
     "name": "stderr",
     "output_type": "stream",
     "text": [
      " 68%|████████████████████████████████████████████████████▉                         | 1351/1989 [01:54<00:50, 12.58it/s]"
     ]
    },
    {
     "name": "stdout",
     "output_type": "stream",
     "text": [
      "Processing video: C:\\Users\\manuv\\Violence-Detection-With-Human-Skeletons\\data\\train\\NonFight\\pHiqIppg_0.avi\n",
      "Processing video: C:\\Users\\manuv\\Violence-Detection-With-Human-Skeletons\\data\\train\\NonFight\\pinuwjwm_0.avi\n",
      "Processing video: C:\\Users\\manuv\\Violence-Detection-With-Human-Skeletons\\data\\train\\NonFight\\PJDdPv2b9-s_0.avi\n"
     ]
    },
    {
     "name": "stderr",
     "output_type": "stream",
     "text": [
      " 68%|█████████████████████████████████████████████████████                         | 1353/1989 [01:54<00:57, 11.03it/s]"
     ]
    },
    {
     "name": "stdout",
     "output_type": "stream",
     "text": [
      "Processing video: C:\\Users\\manuv\\Violence-Detection-With-Human-Skeletons\\data\\train\\NonFight\\PJDdPv2b9-s_1.avi\n",
      "Processing video: C:\\Users\\manuv\\Violence-Detection-With-Human-Skeletons\\data\\train\\NonFight\\pKOUG5AqLpY_0.avi\n"
     ]
    },
    {
     "name": "stderr",
     "output_type": "stream",
     "text": [
      " 68%|█████████████████████████████████████████████████████▏                        | 1355/1989 [01:54<01:03, 10.00it/s]"
     ]
    },
    {
     "name": "stdout",
     "output_type": "stream",
     "text": [
      "Processing video: C:\\Users\\manuv\\Violence-Detection-With-Human-Skeletons\\data\\train\\NonFight\\pKOUG5AqLpY_1.avi\n",
      "Processing video: C:\\Users\\manuv\\Violence-Detection-With-Human-Skeletons\\data\\train\\NonFight\\pLb6Zimq_0.avi\n",
      "Processing video: C:\\Users\\manuv\\Violence-Detection-With-Human-Skeletons\\data\\train\\NonFight\\PNoO9WGJ_0.avi\n"
     ]
    },
    {
     "name": "stderr",
     "output_type": "stream",
     "text": [
      " 68%|█████████████████████████████████████████████████████▎                        | 1359/1989 [01:55<00:50, 12.56it/s]"
     ]
    },
    {
     "name": "stdout",
     "output_type": "stream",
     "text": [
      "Processing video: C:\\Users\\manuv\\Violence-Detection-With-Human-Skeletons\\data\\train\\NonFight\\PqB7UvdW_0.avi\n",
      "Processing video: C:\\Users\\manuv\\Violence-Detection-With-Human-Skeletons\\data\\train\\NonFight\\pqvGKGz7_0.avi\n",
      "Processing video: C:\\Users\\manuv\\Violence-Detection-With-Human-Skeletons\\data\\train\\NonFight\\pr8yRPMO_0.avi\n",
      "Processing video: C:\\Users\\manuv\\Violence-Detection-With-Human-Skeletons\\data\\train\\NonFight\\PTy2vx8Ejas_0.avi\n"
     ]
    },
    {
     "name": "stderr",
     "output_type": "stream",
     "text": [
      " 69%|█████████████████████████████████████████████████████▍                        | 1363/1989 [01:55<00:47, 13.08it/s]"
     ]
    },
    {
     "name": "stdout",
     "output_type": "stream",
     "text": [
      "Processing video: C:\\Users\\manuv\\Violence-Detection-With-Human-Skeletons\\data\\train\\NonFight\\pU9BTy7h_0.avi\n",
      "Processing video: C:\\Users\\manuv\\Violence-Detection-With-Human-Skeletons\\data\\train\\NonFight\\PxhG17WC_0.avi\n",
      "Processing video: C:\\Users\\manuv\\Violence-Detection-With-Human-Skeletons\\data\\train\\NonFight\\q2yEYFD5_0.avi\n",
      "Processing video: C:\\Users\\manuv\\Violence-Detection-With-Human-Skeletons\\data\\train\\NonFight\\q78eIX56_0.avi\n"
     ]
    },
    {
     "name": "stderr",
     "output_type": "stream",
     "text": [
      " 69%|█████████████████████████████████████████████████████▌                        | 1365/1989 [01:55<00:45, 13.77it/s]"
     ]
    },
    {
     "name": "stdout",
     "output_type": "stream",
     "text": [
      "Processing video: C:\\Users\\manuv\\Violence-Detection-With-Human-Skeletons\\data\\train\\NonFight\\Q876qiBJYfA_0.avi\n",
      "Processing video: C:\\Users\\manuv\\Violence-Detection-With-Human-Skeletons\\data\\train\\NonFight\\Q876qiBJYfA_1.avi\n"
     ]
    },
    {
     "name": "stderr",
     "output_type": "stream",
     "text": [
      " 69%|█████████████████████████████████████████████████████▋                        | 1369/1989 [01:55<00:53, 11.49it/s]"
     ]
    },
    {
     "name": "stdout",
     "output_type": "stream",
     "text": [
      "Processing video: C:\\Users\\manuv\\Violence-Detection-With-Human-Skeletons\\data\\train\\NonFight\\Q876qiBJYfA_2.avi\n",
      "Processing video: C:\\Users\\manuv\\Violence-Detection-With-Human-Skeletons\\data\\train\\NonFight\\QCgEbCBH_0.avi\n",
      "Processing video: C:\\Users\\manuv\\Violence-Detection-With-Human-Skeletons\\data\\train\\NonFight\\qEeRHumV_0.avi\n"
     ]
    },
    {
     "name": "stderr",
     "output_type": "stream",
     "text": [
      " 69%|█████████████████████████████████████████████████████▊                        | 1371/1989 [01:55<00:50, 12.13it/s]"
     ]
    },
    {
     "name": "stdout",
     "output_type": "stream",
     "text": [
      "Processing video: C:\\Users\\manuv\\Violence-Detection-With-Human-Skeletons\\data\\train\\NonFight\\qIRZ4SMf_0.avi\n",
      "Processing video: C:\\Users\\manuv\\Violence-Detection-With-Human-Skeletons\\data\\train\\NonFight\\qmvilMkD57M_0.avi\n",
      "Processing video: C:\\Users\\manuv\\Violence-Detection-With-Human-Skeletons\\data\\train\\NonFight\\qmvilMkD57M_1.avi\n"
     ]
    },
    {
     "name": "stderr",
     "output_type": "stream",
     "text": [
      " 69%|█████████████████████████████████████████████████████▉                        | 1375/1989 [01:56<00:58, 10.41it/s]"
     ]
    },
    {
     "name": "stdout",
     "output_type": "stream",
     "text": [
      "Processing video: C:\\Users\\manuv\\Violence-Detection-With-Human-Skeletons\\data\\train\\NonFight\\qnpure5G_0.avi\n",
      "Processing video: C:\\Users\\manuv\\Violence-Detection-With-Human-Skeletons\\data\\train\\NonFight\\Qqfn1urQ_0.avi\n"
     ]
    },
    {
     "name": "stderr",
     "output_type": "stream",
     "text": [
      " 69%|██████████████████████████████████████████████████████                        | 1377/1989 [01:56<00:58, 10.48it/s]"
     ]
    },
    {
     "name": "stdout",
     "output_type": "stream",
     "text": [
      "Processing video: C:\\Users\\manuv\\Violence-Detection-With-Human-Skeletons\\data\\train\\NonFight\\qrBAhb8K_0.avi\n",
      "Processing video: C:\\Users\\manuv\\Violence-Detection-With-Human-Skeletons\\data\\train\\NonFight\\qrWTk-2a13o_0.avi\n",
      "Processing video: C:\\Users\\manuv\\Violence-Detection-With-Human-Skeletons\\data\\train\\NonFight\\qrWTk-2a13o_1.avi\n",
      "Processing video: C:\\Users\\manuv\\Violence-Detection-With-Human-Skeletons\\data\\train\\NonFight\\qrWTk-2a13o_2.avi\n"
     ]
    },
    {
     "name": "stderr",
     "output_type": "stream",
     "text": [
      " 69%|██████████████████████████████████████████████████████▏                       | 1381/1989 [01:56<00:55, 11.04it/s]"
     ]
    },
    {
     "name": "stdout",
     "output_type": "stream",
     "text": [
      "Processing video: C:\\Users\\manuv\\Violence-Detection-With-Human-Skeletons\\data\\train\\NonFight\\QUGT4a6qcJs_0.avi\n",
      "Processing video: C:\\Users\\manuv\\Violence-Detection-With-Human-Skeletons\\data\\train\\NonFight\\QzNWGaQi_0.avi\n",
      "Processing video: C:\\Users\\manuv\\Violence-Detection-With-Human-Skeletons\\data\\train\\NonFight\\R1A_AxUKosk_0.avi\n"
     ]
    },
    {
     "name": "stderr",
     "output_type": "stream",
     "text": [
      " 70%|██████████████████████████████████████████████████████▏                       | 1383/1989 [01:57<00:52, 11.46it/s]"
     ]
    },
    {
     "name": "stdout",
     "output_type": "stream",
     "text": [
      "Processing video: C:\\Users\\manuv\\Violence-Detection-With-Human-Skeletons\\data\\train\\NonFight\\R1A_AxUKosk_1.avi\n",
      "Processing video: C:\\Users\\manuv\\Violence-Detection-With-Human-Skeletons\\data\\train\\NonFight\\R2x2rOWh_0.avi\n",
      "Processing video: C:\\Users\\manuv\\Violence-Detection-With-Human-Skeletons\\data\\train\\NonFight\\r8PX3ZJ1_II_0.avi\n"
     ]
    },
    {
     "name": "stderr",
     "output_type": "stream",
     "text": [
      " 70%|██████████████████████████████████████████████████████▍                       | 1387/1989 [01:57<00:48, 12.51it/s]"
     ]
    },
    {
     "name": "stdout",
     "output_type": "stream",
     "text": [
      "Processing video: C:\\Users\\manuv\\Violence-Detection-With-Human-Skeletons\\data\\train\\NonFight\\rbByyS4o_0.avi\n",
      "Processing video: C:\\Users\\manuv\\Violence-Detection-With-Human-Skeletons\\data\\train\\NonFight\\RbpXgk5M1S0_0.avi\n",
      "Processing video: C:\\Users\\manuv\\Violence-Detection-With-Human-Skeletons\\data\\train\\NonFight\\RbpXgk5M1S0_1.avi\n"
     ]
    },
    {
     "name": "stderr",
     "output_type": "stream",
     "text": [
      " 70%|██████████████████████████████████████████████████████▍                       | 1389/1989 [01:57<00:50, 11.83it/s]"
     ]
    },
    {
     "name": "stdout",
     "output_type": "stream",
     "text": [
      "Processing video: C:\\Users\\manuv\\Violence-Detection-With-Human-Skeletons\\data\\train\\NonFight\\RbpXgk5M1S0_2.avi\n",
      "Processing video: C:\\Users\\manuv\\Violence-Detection-With-Human-Skeletons\\data\\train\\NonFight\\RFAA8QO7_0.avi\n",
      "Processing video: C:\\Users\\manuv\\Violence-Detection-With-Human-Skeletons\\data\\train\\NonFight\\RfFGwwhG_0.avi\n"
     ]
    },
    {
     "name": "stderr",
     "output_type": "stream",
     "text": [
      " 70%|██████████████████████████████████████████████████████▋                       | 1393/1989 [01:57<00:47, 12.62it/s]"
     ]
    },
    {
     "name": "stdout",
     "output_type": "stream",
     "text": [
      "Processing video: C:\\Users\\manuv\\Violence-Detection-With-Human-Skeletons\\data\\train\\NonFight\\RfqBhe5z_0.avi\n",
      "Processing video: C:\\Users\\manuv\\Violence-Detection-With-Human-Skeletons\\data\\train\\NonFight\\RFUr2krY_0.avi\n",
      "Processing video: C:\\Users\\manuv\\Violence-Detection-With-Human-Skeletons\\data\\train\\NonFight\\RGIpCpdlzI8_0.avi\n"
     ]
    },
    {
     "name": "stderr",
     "output_type": "stream",
     "text": [
      " 70%|██████████████████████████████████████████████████████▋                       | 1395/1989 [01:58<00:53, 11.05it/s]"
     ]
    },
    {
     "name": "stdout",
     "output_type": "stream",
     "text": [
      "Processing video: C:\\Users\\manuv\\Violence-Detection-With-Human-Skeletons\\data\\train\\NonFight\\RGIpCpdlzI8_1.avi\n",
      "Processing video: C:\\Users\\manuv\\Violence-Detection-With-Human-Skeletons\\data\\train\\NonFight\\Ri_poPbOu-k_0.avi\n",
      "Processing video: C:\\Users\\manuv\\Violence-Detection-With-Human-Skeletons\\data\\train\\NonFight\\Ri_poPbOu-k_1.avi\n"
     ]
    },
    {
     "name": "stderr",
     "output_type": "stream",
     "text": [
      " 70%|██████████████████████████████████████████████████████▊                       | 1399/1989 [01:58<00:48, 12.25it/s]"
     ]
    },
    {
     "name": "stdout",
     "output_type": "stream",
     "text": [
      "Processing video: C:\\Users\\manuv\\Violence-Detection-With-Human-Skeletons\\data\\train\\NonFight\\Ri_poPbOu-k_2.avi\n",
      "Processing video: C:\\Users\\manuv\\Violence-Detection-With-Human-Skeletons\\data\\train\\NonFight\\rjHXmq47_0.avi\n",
      "Processing video: C:\\Users\\manuv\\Violence-Detection-With-Human-Skeletons\\data\\train\\NonFight\\RNOSWjgC_0.avi\n"
     ]
    },
    {
     "name": "stderr",
     "output_type": "stream",
     "text": [
      " 71%|███████████████████████████████████████████████████████                       | 1403/1989 [01:58<00:42, 13.75it/s]"
     ]
    },
    {
     "name": "stdout",
     "output_type": "stream",
     "text": [
      "Processing video: C:\\Users\\manuv\\Violence-Detection-With-Human-Skeletons\\data\\train\\NonFight\\rp9hJAQE_0.avi\n",
      "Processing video: C:\\Users\\manuv\\Violence-Detection-With-Human-Skeletons\\data\\train\\NonFight\\RPESrVE2_0.avi\n",
      "Processing video: C:\\Users\\manuv\\Violence-Detection-With-Human-Skeletons\\data\\train\\NonFight\\RQbYptdw_0.avi\n"
     ]
    },
    {
     "name": "stderr",
     "output_type": "stream",
     "text": [
      " 71%|███████████████████████████████████████████████████████                       | 1405/1989 [01:58<00:40, 14.27it/s]"
     ]
    },
    {
     "name": "stdout",
     "output_type": "stream",
     "text": [
      "Processing video: C:\\Users\\manuv\\Violence-Detection-With-Human-Skeletons\\data\\train\\NonFight\\RR23nrP0_0.avi\n",
      "Processing video: C:\\Users\\manuv\\Violence-Detection-With-Human-Skeletons\\data\\train\\NonFight\\rRbZUKgk_0.avi\n",
      "Processing video: C:\\Users\\manuv\\Violence-Detection-With-Human-Skeletons\\data\\train\\NonFight\\rSGIFH7n_0.avi\n",
      "Processing video: C:\\Users\\manuv\\Violence-Detection-With-Human-Skeletons\\data\\train\\NonFight\\rSumd9HEmrA_0.avi\n"
     ]
    },
    {
     "name": "stderr",
     "output_type": "stream",
     "text": [
      " 71%|███████████████████████████████████████████████████████▎                      | 1409/1989 [01:59<00:40, 14.25it/s]"
     ]
    },
    {
     "name": "stdout",
     "output_type": "stream",
     "text": [
      "Processing video: C:\\Users\\manuv\\Violence-Detection-With-Human-Skeletons\\data\\train\\NonFight\\RUwo8c4s_0.avi\n",
      "Processing video: C:\\Users\\manuv\\Violence-Detection-With-Human-Skeletons\\data\\train\\NonFight\\RVV3lolZ_0.avi\n",
      "Processing video: C:\\Users\\manuv\\Violence-Detection-With-Human-Skeletons\\data\\train\\NonFight\\rYE6iUUF_0.avi\n",
      "Processing video: C:\\Users\\manuv\\Violence-Detection-With-Human-Skeletons\\data\\train\\NonFight\\s-jW4cyavW0_0.avi\n"
     ]
    },
    {
     "name": "stderr",
     "output_type": "stream",
     "text": [
      " 71%|███████████████████████████████████████████████████████▍                      | 1413/1989 [01:59<00:39, 14.47it/s]"
     ]
    },
    {
     "name": "stdout",
     "output_type": "stream",
     "text": [
      "Processing video: C:\\Users\\manuv\\Violence-Detection-With-Human-Skeletons\\data\\train\\NonFight\\s-jW4cyavW0_1.avi\n",
      "Processing video: C:\\Users\\manuv\\Violence-Detection-With-Human-Skeletons\\data\\train\\NonFight\\s2S2nIWk_0.avi\n",
      "Processing video: C:\\Users\\manuv\\Violence-Detection-With-Human-Skeletons\\data\\train\\NonFight\\S5dmvVF4_0.avi\n"
     ]
    },
    {
     "name": "stderr",
     "output_type": "stream",
     "text": [
      " 71%|███████████████████████████████████████████████████████▍                      | 1415/1989 [01:59<00:41, 13.90it/s]"
     ]
    },
    {
     "name": "stdout",
     "output_type": "stream",
     "text": [
      "Processing video: C:\\Users\\manuv\\Violence-Detection-With-Human-Skeletons\\data\\train\\NonFight\\s83GiLts_0.avi\n",
      "Processing video: C:\\Users\\manuv\\Violence-Detection-With-Human-Skeletons\\data\\train\\NonFight\\SaIUKN4N_0.avi\n",
      "Processing video: C:\\Users\\manuv\\Violence-Detection-With-Human-Skeletons\\data\\train\\NonFight\\SCnBiAteLVI_0.avi\n"
     ]
    },
    {
     "name": "stderr",
     "output_type": "stream",
     "text": [
      " 71%|███████████████████████████████████████████████████████▋                      | 1419/1989 [01:59<00:42, 13.28it/s]"
     ]
    },
    {
     "name": "stdout",
     "output_type": "stream",
     "text": [
      "Processing video: C:\\Users\\manuv\\Violence-Detection-With-Human-Skeletons\\data\\train\\NonFight\\SCnBiAteLVI_1.avi\n",
      "Processing video: C:\\Users\\manuv\\Violence-Detection-With-Human-Skeletons\\data\\train\\NonFight\\SCnBiAteLVI_2.avi\n"
     ]
    },
    {
     "name": "stderr",
     "output_type": "stream",
     "text": [
      " 71%|███████████████████████████████████████████████████████▋                      | 1421/1989 [01:59<00:40, 13.93it/s]"
     ]
    },
    {
     "name": "stdout",
     "output_type": "stream",
     "text": [
      "Processing video: C:\\Users\\manuv\\Violence-Detection-With-Human-Skeletons\\data\\train\\NonFight\\sHa6YZW9_0.avi\n",
      "Processing video: C:\\Users\\manuv\\Violence-Detection-With-Human-Skeletons\\data\\train\\NonFight\\sIbVwIO0_0.avi\n",
      "Processing video: C:\\Users\\manuv\\Violence-Detection-With-Human-Skeletons\\data\\train\\NonFight\\SJ9WphBI_0.avi\n",
      "Processing video: C:\\Users\\manuv\\Violence-Detection-With-Human-Skeletons\\data\\train\\NonFight\\skycjZcE_0.avi\n"
     ]
    },
    {
     "name": "stderr",
     "output_type": "stream",
     "text": [
      " 72%|███████████████████████████████████████████████████████▊                      | 1423/1989 [02:00<00:40, 14.13it/s]"
     ]
    },
    {
     "name": "stdout",
     "output_type": "stream",
     "text": [
      "Processing video: C:\\Users\\manuv\\Violence-Detection-With-Human-Skeletons\\data\\train\\NonFight\\sLOqgf6N_0.avi\n",
      "Processing video: C:\\Users\\manuv\\Violence-Detection-With-Human-Skeletons\\data\\train\\NonFight\\snhUvpXC_0.avi\n"
     ]
    },
    {
     "name": "stderr",
     "output_type": "stream",
     "text": [
      " 72%|███████████████████████████████████████████████████████▉                      | 1427/1989 [02:00<00:41, 13.47it/s]"
     ]
    },
    {
     "name": "stdout",
     "output_type": "stream",
     "text": [
      "Processing video: C:\\Users\\manuv\\Violence-Detection-With-Human-Skeletons\\data\\train\\NonFight\\sPd5Wmkc_0.avi\n",
      "Processing video: C:\\Users\\manuv\\Violence-Detection-With-Human-Skeletons\\data\\train\\NonFight\\sq03O3JL_0.avi\n",
      "Processing video: C:\\Users\\manuv\\Violence-Detection-With-Human-Skeletons\\data\\train\\NonFight\\Suv_mMs8J9g_0.avi\n"
     ]
    },
    {
     "name": "stderr",
     "output_type": "stream",
     "text": [
      " 72%|████████████████████████████████████████████████████████                      | 1429/1989 [02:00<00:55, 10.01it/s]"
     ]
    },
    {
     "name": "stdout",
     "output_type": "stream",
     "text": [
      "Processing video: C:\\Users\\manuv\\Violence-Detection-With-Human-Skeletons\\data\\train\\NonFight\\SVdz24hD_0.avi\n",
      "Processing video: C:\\Users\\manuv\\Violence-Detection-With-Human-Skeletons\\data\\train\\NonFight\\Swr7caI0_0.avi\n",
      "Processing video: C:\\Users\\manuv\\Violence-Detection-With-Human-Skeletons\\data\\train\\NonFight\\sy7BoRGE_0.avi\n"
     ]
    },
    {
     "name": "stderr",
     "output_type": "stream",
     "text": [
      " 72%|████████████████████████████████████████████████████████▏                     | 1433/1989 [02:00<00:44, 12.63it/s]"
     ]
    },
    {
     "name": "stdout",
     "output_type": "stream",
     "text": [
      "Processing video: C:\\Users\\manuv\\Violence-Detection-With-Human-Skeletons\\data\\train\\NonFight\\sYGIUeBX_0.avi\n",
      "Processing video: C:\\Users\\manuv\\Violence-Detection-With-Human-Skeletons\\data\\train\\NonFight\\TfDHgxDm_0.avi\n",
      "Processing video: C:\\Users\\manuv\\Violence-Detection-With-Human-Skeletons\\data\\train\\NonFight\\tgkbh2d9_0.avi\n"
     ]
    },
    {
     "name": "stderr",
     "output_type": "stream",
     "text": [
      " 72%|████████████████████████████████████████████████████████▎                     | 1435/1989 [02:01<00:45, 12.23it/s]"
     ]
    },
    {
     "name": "stdout",
     "output_type": "stream",
     "text": [
      "Processing video: C:\\Users\\manuv\\Violence-Detection-With-Human-Skeletons\\data\\train\\NonFight\\THqDidIr4Xs_0.avi\n",
      "Processing video: C:\\Users\\manuv\\Violence-Detection-With-Human-Skeletons\\data\\train\\NonFight\\THqDidIr4Xs_1.avi\n",
      "Processing video: C:\\Users\\manuv\\Violence-Detection-With-Human-Skeletons\\data\\train\\NonFight\\tIHY2ZFQ_0.avi\n"
     ]
    },
    {
     "name": "stderr",
     "output_type": "stream",
     "text": [
      " 72%|████████████████████████████████████████████████████████▍                     | 1439/1989 [02:01<00:45, 12.14it/s]"
     ]
    },
    {
     "name": "stdout",
     "output_type": "stream",
     "text": [
      "Processing video: C:\\Users\\manuv\\Violence-Detection-With-Human-Skeletons\\data\\train\\NonFight\\tILABXoHE7s_0.avi\n",
      "Processing video: C:\\Users\\manuv\\Violence-Detection-With-Human-Skeletons\\data\\train\\NonFight\\tILABXoHE7s_1.avi\n",
      "Processing video: C:\\Users\\manuv\\Violence-Detection-With-Human-Skeletons\\data\\train\\NonFight\\tILABXoHE7s_2.avi\n"
     ]
    },
    {
     "name": "stderr",
     "output_type": "stream",
     "text": [
      " 72%|████████████████████████████████████████████████████████▌                     | 1441/1989 [02:01<00:42, 12.85it/s]"
     ]
    },
    {
     "name": "stdout",
     "output_type": "stream",
     "text": [
      "Processing video: C:\\Users\\manuv\\Violence-Detection-With-Human-Skeletons\\data\\train\\NonFight\\tIvvuvuJFYc_0.avi\n",
      "Processing video: C:\\Users\\manuv\\Violence-Detection-With-Human-Skeletons\\data\\train\\NonFight\\TJfoIe801t8_0.avi\n",
      "Processing video: C:\\Users\\manuv\\Violence-Detection-With-Human-Skeletons\\data\\train\\NonFight\\tmm7AxKl_0.avi\n"
     ]
    },
    {
     "name": "stderr",
     "output_type": "stream",
     "text": [
      " 73%|████████████████████████████████████████████████████████▋                     | 1445/1989 [02:01<00:39, 13.80it/s]"
     ]
    },
    {
     "name": "stdout",
     "output_type": "stream",
     "text": [
      "Processing video: C:\\Users\\manuv\\Violence-Detection-With-Human-Skeletons\\data\\train\\NonFight\\tPpXT9VI_0.avi\n",
      "Processing video: C:\\Users\\manuv\\Violence-Detection-With-Human-Skeletons\\data\\train\\NonFight\\TSHiCcMS_0.avi\n",
      "Processing video: C:\\Users\\manuv\\Violence-Detection-With-Human-Skeletons\\data\\train\\NonFight\\TuWan04E3gQ_0.avi\n",
      "Processing video: C:\\Users\\manuv\\Violence-Detection-With-Human-Skeletons\\data\\train\\NonFight\\TuWan04E3gQ_1.avi\n"
     ]
    },
    {
     "name": "stderr",
     "output_type": "stream",
     "text": [
      " 73%|████████████████████████████████████████████████████████▊                     | 1449/1989 [02:02<00:39, 13.75it/s]"
     ]
    },
    {
     "name": "stdout",
     "output_type": "stream",
     "text": [
      "Processing video: C:\\Users\\manuv\\Violence-Detection-With-Human-Skeletons\\data\\train\\NonFight\\TX2ePcRo_0.avi\n",
      "Processing video: C:\\Users\\manuv\\Violence-Detection-With-Human-Skeletons\\data\\train\\NonFight\\tXk2yvmq_0.avi\n",
      "Processing video: C:\\Users\\manuv\\Violence-Detection-With-Human-Skeletons\\data\\train\\NonFight\\TYsebroPeGY_0.avi\n"
     ]
    },
    {
     "name": "stderr",
     "output_type": "stream",
     "text": [
      " 73%|████████████████████████████████████████████████████████▉                     | 1451/1989 [02:02<00:44, 12.21it/s]"
     ]
    },
    {
     "name": "stdout",
     "output_type": "stream",
     "text": [
      "Processing video: C:\\Users\\manuv\\Violence-Detection-With-Human-Skeletons\\data\\train\\NonFight\\TYsebroPeGY_1.avi\n",
      "Processing video: C:\\Users\\manuv\\Violence-Detection-With-Human-Skeletons\\data\\train\\NonFight\\TYX5vuHO_0.avi\n",
      "Processing video: C:\\Users\\manuv\\Violence-Detection-With-Human-Skeletons\\data\\train\\NonFight\\tzdvtHL7Akk_0.avi\n"
     ]
    },
    {
     "name": "stderr",
     "output_type": "stream",
     "text": [
      " 73%|████████████████████████████████████████████████████████▉                     | 1453/1989 [02:02<00:42, 12.67it/s]"
     ]
    },
    {
     "name": "stdout",
     "output_type": "stream",
     "text": [
      "Processing video: C:\\Users\\manuv\\Violence-Detection-With-Human-Skeletons\\data\\train\\NonFight\\tzdvtHL7Akk_1.avi\n",
      "Processing video: C:\\Users\\manuv\\Violence-Detection-With-Human-Skeletons\\data\\train\\NonFight\\Tzn3HwZD_0.avi\n"
     ]
    },
    {
     "name": "stderr",
     "output_type": "stream",
     "text": [
      " 73%|█████████████████████████████████████████████████████████▏                    | 1457/1989 [02:02<00:43, 12.19it/s]"
     ]
    },
    {
     "name": "stdout",
     "output_type": "stream",
     "text": [
      "Processing video: C:\\Users\\manuv\\Violence-Detection-With-Human-Skeletons\\data\\train\\NonFight\\U1Z1bVRt_0.avi\n",
      "Processing video: C:\\Users\\manuv\\Violence-Detection-With-Human-Skeletons\\data\\train\\NonFight\\uAKRFGFR_0.avi\n",
      "Processing video: C:\\Users\\manuv\\Violence-Detection-With-Human-Skeletons\\data\\train\\NonFight\\UArjSm2Y_0.avi\n"
     ]
    },
    {
     "name": "stderr",
     "output_type": "stream",
     "text": [
      " 73%|█████████████████████████████████████████████████████████▏                    | 1459/1989 [02:03<00:43, 12.30it/s]"
     ]
    },
    {
     "name": "stdout",
     "output_type": "stream",
     "text": [
      "Processing video: C:\\Users\\manuv\\Violence-Detection-With-Human-Skeletons\\data\\train\\NonFight\\uEzFjs3X_0.avi\n",
      "Processing video: C:\\Users\\manuv\\Violence-Detection-With-Human-Skeletons\\data\\train\\NonFight\\UFA7LVk0_0.avi\n",
      "Processing video: C:\\Users\\manuv\\Violence-Detection-With-Human-Skeletons\\data\\train\\NonFight\\ug2tQMG8DC0_0.avi\n"
     ]
    },
    {
     "name": "stderr",
     "output_type": "stream",
     "text": [
      " 74%|█████████████████████████████████████████████████████████▎                    | 1463/1989 [02:03<00:41, 12.65it/s]"
     ]
    },
    {
     "name": "stdout",
     "output_type": "stream",
     "text": [
      "Processing video: C:\\Users\\manuv\\Violence-Detection-With-Human-Skeletons\\data\\train\\NonFight\\uhTalZ00_0.avi\n",
      "Processing video: C:\\Users\\manuv\\Violence-Detection-With-Human-Skeletons\\data\\train\\NonFight\\UIAGmwT1_0.avi\n",
      "Processing video: C:\\Users\\manuv\\Violence-Detection-With-Human-Skeletons\\data\\train\\NonFight\\UIsigi4O-sI_0.avi\n"
     ]
    },
    {
     "name": "stderr",
     "output_type": "stream",
     "text": [
      " 74%|█████████████████████████████████████████████████████████▍                    | 1465/1989 [02:03<00:50, 10.44it/s]"
     ]
    },
    {
     "name": "stdout",
     "output_type": "stream",
     "text": [
      "Processing video: C:\\Users\\manuv\\Violence-Detection-With-Human-Skeletons\\data\\train\\NonFight\\UIsigi4O-sI_1.avi\n",
      "Processing video: C:\\Users\\manuv\\Violence-Detection-With-Human-Skeletons\\data\\train\\NonFight\\uLGOlxvv_0.avi\n",
      "Processing video: C:\\Users\\manuv\\Violence-Detection-With-Human-Skeletons\\data\\train\\NonFight\\ULiIpQ6s_0.avi\n"
     ]
    },
    {
     "name": "stderr",
     "output_type": "stream",
     "text": [
      " 74%|█████████████████████████████████████████████████████████▌                    | 1469/1989 [02:03<00:41, 12.62it/s]"
     ]
    },
    {
     "name": "stdout",
     "output_type": "stream",
     "text": [
      "Processing video: C:\\Users\\manuv\\Violence-Detection-With-Human-Skeletons\\data\\train\\NonFight\\umOs1WLBkuo_0.avi\n",
      "Processing video: C:\\Users\\manuv\\Violence-Detection-With-Human-Skeletons\\data\\train\\NonFight\\umOs1WLBkuo_1.avi\n",
      "Processing video: C:\\Users\\manuv\\Violence-Detection-With-Human-Skeletons\\data\\train\\NonFight\\umOs1WLBkuo_2.avi\n"
     ]
    },
    {
     "name": "stderr",
     "output_type": "stream",
     "text": [
      " 74%|█████████████████████████████████████████████████████████▋                    | 1471/1989 [02:04<00:41, 12.62it/s]"
     ]
    },
    {
     "name": "stdout",
     "output_type": "stream",
     "text": [
      "Processing video: C:\\Users\\manuv\\Violence-Detection-With-Human-Skeletons\\data\\train\\NonFight\\uNtsEcFR_0.avi\n",
      "Processing video: C:\\Users\\manuv\\Violence-Detection-With-Human-Skeletons\\data\\train\\NonFight\\UQ42UqFJ_0.avi\n",
      "Processing video: C:\\Users\\manuv\\Violence-Detection-With-Human-Skeletons\\data\\train\\NonFight\\uu3SB2L1_0.avi\n"
     ]
    },
    {
     "name": "stderr",
     "output_type": "stream",
     "text": [
      " 74%|█████████████████████████████████████████████████████████▊                    | 1475/1989 [02:04<00:41, 12.39it/s]"
     ]
    },
    {
     "name": "stdout",
     "output_type": "stream",
     "text": [
      "Processing video: C:\\Users\\manuv\\Violence-Detection-With-Human-Skeletons\\data\\train\\NonFight\\UuMYxOYm_0.avi\n",
      "Processing video: C:\\Users\\manuv\\Violence-Detection-With-Human-Skeletons\\data\\train\\NonFight\\UvLAudRA91Y_0.avi\n"
     ]
    },
    {
     "name": "stderr",
     "output_type": "stream",
     "text": [
      " 74%|█████████████████████████████████████████████████████████▉                    | 1477/1989 [02:04<00:44, 11.43it/s]"
     ]
    },
    {
     "name": "stdout",
     "output_type": "stream",
     "text": [
      "Processing video: C:\\Users\\manuv\\Violence-Detection-With-Human-Skeletons\\data\\train\\NonFight\\UvLAudRA91Y_1.avi\n",
      "Processing video: C:\\Users\\manuv\\Violence-Detection-With-Human-Skeletons\\data\\train\\NonFight\\UvLAudRA91Y_2.avi\n"
     ]
    },
    {
     "name": "stderr",
     "output_type": "stream",
     "text": [
      " 74%|██████████████████████████████████████████████████████████                    | 1479/1989 [02:04<00:40, 12.73it/s]"
     ]
    },
    {
     "name": "stdout",
     "output_type": "stream",
     "text": [
      "Processing video: C:\\Users\\manuv\\Violence-Detection-With-Human-Skeletons\\data\\train\\NonFight\\uWH7kvNG_0.avi\n",
      "Processing video: C:\\Users\\manuv\\Violence-Detection-With-Human-Skeletons\\data\\train\\NonFight\\UWmcbEyn_0.avi\n",
      "Processing video: C:\\Users\\manuv\\Violence-Detection-With-Human-Skeletons\\data\\train\\NonFight\\uWQG2hQT_0.avi\n",
      "Processing video: C:\\Users\\manuv\\Violence-Detection-With-Human-Skeletons\\data\\train\\NonFight\\uXf4C-YwbtM_0.avi\n"
     ]
    },
    {
     "name": "stderr",
     "output_type": "stream",
     "text": [
      " 75%|██████████████████████████████████████████████████████████▏                   | 1483/1989 [02:05<00:42, 12.00it/s]"
     ]
    },
    {
     "name": "stdout",
     "output_type": "stream",
     "text": [
      "Processing video: C:\\Users\\manuv\\Violence-Detection-With-Human-Skeletons\\data\\train\\NonFight\\uXf4C-YwbtM_1.avi\n",
      "Processing video: C:\\Users\\manuv\\Violence-Detection-With-Human-Skeletons\\data\\train\\NonFight\\uyeWsodv_0.avi\n"
     ]
    },
    {
     "name": "stderr",
     "output_type": "stream",
     "text": [
      " 75%|██████████████████████████████████████████████████████████▏                   | 1485/1989 [02:05<00:37, 13.27it/s]"
     ]
    },
    {
     "name": "stdout",
     "output_type": "stream",
     "text": [
      "Processing video: C:\\Users\\manuv\\Violence-Detection-With-Human-Skeletons\\data\\train\\NonFight\\uz4dXoN5_0.avi\n",
      "Processing video: C:\\Users\\manuv\\Violence-Detection-With-Human-Skeletons\\data\\train\\NonFight\\v0wUQPs4_0.avi\n",
      "Processing video: C:\\Users\\manuv\\Violence-Detection-With-Human-Skeletons\\data\\train\\NonFight\\V3EI1n_7JwU_0.avi\n"
     ]
    },
    {
     "name": "stderr",
     "output_type": "stream",
     "text": [
      " 75%|██████████████████████████████████████████████████████████▍                   | 1489/1989 [02:05<00:38, 12.90it/s]"
     ]
    },
    {
     "name": "stdout",
     "output_type": "stream",
     "text": [
      "Processing video: C:\\Users\\manuv\\Violence-Detection-With-Human-Skeletons\\data\\train\\NonFight\\V726w0IKCp4_0.avi\n",
      "Processing video: C:\\Users\\manuv\\Violence-Detection-With-Human-Skeletons\\data\\train\\NonFight\\V89iCOJ1_0.avi\n",
      "Processing video: C:\\Users\\manuv\\Violence-Detection-With-Human-Skeletons\\data\\train\\NonFight\\v8cACThQ_0.avi\n"
     ]
    },
    {
     "name": "stderr",
     "output_type": "stream",
     "text": [
      " 75%|██████████████████████████████████████████████████████████▍                   | 1491/1989 [02:05<00:41, 12.05it/s]"
     ]
    },
    {
     "name": "stdout",
     "output_type": "stream",
     "text": [
      "Processing video: C:\\Users\\manuv\\Violence-Detection-With-Human-Skeletons\\data\\train\\NonFight\\vBwKQfJYG1Q_0.avi\n",
      "Processing video: C:\\Users\\manuv\\Violence-Detection-With-Human-Skeletons\\data\\train\\NonFight\\vBwKQfJYG1Q_1.avi\n",
      "Processing video: C:\\Users\\manuv\\Violence-Detection-With-Human-Skeletons\\data\\train\\NonFight\\VbwTMJroTbI_0.avi\n",
      "Processing video: C:\\Users\\manuv\\Violence-Detection-With-Human-Skeletons\\data\\train\\NonFight\\VbwTMJroTbI_1.avi\n"
     ]
    },
    {
     "name": "stderr",
     "output_type": "stream",
     "text": [
      " 75%|██████████████████████████████████████████████████████████▋                   | 1495/1989 [02:06<00:46, 10.73it/s]"
     ]
    },
    {
     "name": "stdout",
     "output_type": "stream",
     "text": [
      "Processing video: C:\\Users\\manuv\\Violence-Detection-With-Human-Skeletons\\data\\train\\NonFight\\vCO6CZNt_0.avi\n",
      "Processing video: C:\\Users\\manuv\\Violence-Detection-With-Human-Skeletons\\data\\train\\NonFight\\Vd27cYFthms_0.avi\n",
      "Processing video: C:\\Users\\manuv\\Violence-Detection-With-Human-Skeletons\\data\\train\\NonFight\\vGCZpdPR_0.avi\n"
     ]
    },
    {
     "name": "stderr",
     "output_type": "stream",
     "text": [
      " 75%|██████████████████████████████████████████████████████████▋                   | 1497/1989 [02:06<00:46, 10.65it/s]"
     ]
    },
    {
     "name": "stdout",
     "output_type": "stream",
     "text": [
      "Processing video: C:\\Users\\manuv\\Violence-Detection-With-Human-Skeletons\\data\\train\\NonFight\\vJDAaUzYOi8_0.avi\n",
      "Processing video: C:\\Users\\manuv\\Violence-Detection-With-Human-Skeletons\\data\\train\\NonFight\\vJDAaUzYOi8_1.avi\n"
     ]
    },
    {
     "name": "stderr",
     "output_type": "stream",
     "text": [
      " 75%|██████████████████████████████████████████████████████████▊                   | 1501/1989 [02:06<00:40, 11.99it/s]"
     ]
    },
    {
     "name": "stdout",
     "output_type": "stream",
     "text": [
      "Processing video: C:\\Users\\manuv\\Violence-Detection-With-Human-Skeletons\\data\\train\\NonFight\\VjDGXzWt_0.avi\n",
      "Processing video: C:\\Users\\manuv\\Violence-Detection-With-Human-Skeletons\\data\\train\\NonFight\\VnDOPZls_0.avi\n",
      "Processing video: C:\\Users\\manuv\\Violence-Detection-With-Human-Skeletons\\data\\train\\NonFight\\vnUS5WN7_0.avi\n"
     ]
    },
    {
     "name": "stderr",
     "output_type": "stream",
     "text": [
      " 76%|██████████████████████████████████████████████████████████▉                   | 1503/1989 [02:06<00:41, 11.83it/s]"
     ]
    },
    {
     "name": "stdout",
     "output_type": "stream",
     "text": [
      "Processing video: C:\\Users\\manuv\\Violence-Detection-With-Human-Skeletons\\data\\train\\NonFight\\VpnCjE1l_0.avi\n",
      "Processing video: C:\\Users\\manuv\\Violence-Detection-With-Human-Skeletons\\data\\train\\NonFight\\vQKHxtrdEHM_0.avi\n",
      "Processing video: C:\\Users\\manuv\\Violence-Detection-With-Human-Skeletons\\data\\train\\NonFight\\vQKHxtrdEHM_1.avi\n"
     ]
    },
    {
     "name": "stderr",
     "output_type": "stream",
     "text": [
      " 76%|███████████████████████████████████████████████████████████                   | 1505/1989 [02:06<00:39, 12.38it/s]"
     ]
    },
    {
     "name": "stdout",
     "output_type": "stream",
     "text": [
      "Processing video: C:\\Users\\manuv\\Violence-Detection-With-Human-Skeletons\\data\\train\\NonFight\\vu6lIsQm_0.avi\n",
      "Processing video: C:\\Users\\manuv\\Violence-Detection-With-Human-Skeletons\\data\\train\\NonFight\\vwQvNOlX_0.avi\n",
      "Processing video: C:\\Users\\manuv\\Violence-Detection-With-Human-Skeletons\\data\\train\\NonFight\\VXLdrn0b_0.avi\n"
     ]
    },
    {
     "name": "stderr",
     "output_type": "stream",
     "text": [
      " 76%|███████████████████████████████████████████████████████████                   | 1507/1989 [02:07<00:38, 12.45it/s]"
     ]
    },
    {
     "name": "stdout",
     "output_type": "stream",
     "text": [
      "Processing video: C:\\Users\\manuv\\Violence-Detection-With-Human-Skeletons\\data\\train\\NonFight\\vXvv1gqd_0.avi\n",
      "Processing video: C:\\Users\\manuv\\Violence-Detection-With-Human-Skeletons\\data\\train\\NonFight\\VYWWsld6ibI_0.avi\n"
     ]
    },
    {
     "name": "stderr",
     "output_type": "stream",
     "text": [
      " 76%|███████████████████████████████████████████████████████████▎                  | 1511/1989 [02:07<00:42, 11.22it/s]"
     ]
    },
    {
     "name": "stdout",
     "output_type": "stream",
     "text": [
      "Processing video: C:\\Users\\manuv\\Violence-Detection-With-Human-Skeletons\\data\\train\\NonFight\\Wby1vUy8aYI_0.avi\n",
      "Processing video: C:\\Users\\manuv\\Violence-Detection-With-Human-Skeletons\\data\\train\\NonFight\\WCbsjDUV_0.avi\n",
      "Processing video: C:\\Users\\manuv\\Violence-Detection-With-Human-Skeletons\\data\\train\\NonFight\\WCHYnPMG_0.avi\n"
     ]
    },
    {
     "name": "stderr",
     "output_type": "stream",
     "text": [
      " 76%|███████████████████████████████████████████████████████████▎                  | 1513/1989 [02:07<00:38, 12.28it/s]"
     ]
    },
    {
     "name": "stdout",
     "output_type": "stream",
     "text": [
      "Processing video: C:\\Users\\manuv\\Violence-Detection-With-Human-Skeletons\\data\\train\\NonFight\\WfjOB1Vq_0.avi\n",
      "Processing video: C:\\Users\\manuv\\Violence-Detection-With-Human-Skeletons\\data\\train\\NonFight\\wgdTpJTo_0.avi\n",
      "Processing video: C:\\Users\\manuv\\Violence-Detection-With-Human-Skeletons\\data\\train\\NonFight\\WHNtrI7MEUg_0.avi\n"
     ]
    },
    {
     "name": "stderr",
     "output_type": "stream",
     "text": [
      " 76%|███████████████████████████████████████████████████████████▍                  | 1517/1989 [02:07<00:36, 12.96it/s]"
     ]
    },
    {
     "name": "stdout",
     "output_type": "stream",
     "text": [
      "Processing video: C:\\Users\\manuv\\Violence-Detection-With-Human-Skeletons\\data\\train\\NonFight\\WHNtrI7MEUg_1.avi\n",
      "Processing video: C:\\Users\\manuv\\Violence-Detection-With-Human-Skeletons\\data\\train\\NonFight\\wk5WCCti_0.avi\n",
      "Processing video: C:\\Users\\manuv\\Violence-Detection-With-Human-Skeletons\\data\\train\\NonFight\\wKMXI2vp_0.avi\n",
      "Processing video: C:\\Users\\manuv\\Violence-Detection-With-Human-Skeletons\\data\\train\\NonFight\\wMgaVgMG_0.avi\n"
     ]
    },
    {
     "name": "stderr",
     "output_type": "stream",
     "text": [
      " 76%|███████████████████████████████████████████████████████████▋                  | 1521/1989 [02:08<00:33, 13.89it/s]"
     ]
    },
    {
     "name": "stdout",
     "output_type": "stream",
     "text": [
      "Processing video: C:\\Users\\manuv\\Violence-Detection-With-Human-Skeletons\\data\\train\\NonFight\\wNTaSOXj_0.avi\n",
      "Processing video: C:\\Users\\manuv\\Violence-Detection-With-Human-Skeletons\\data\\train\\NonFight\\WPK4WLlc_0.avi\n",
      "Processing video: C:\\Users\\manuv\\Violence-Detection-With-Human-Skeletons\\data\\train\\NonFight\\WW8zIoiZ_0.avi\n",
      "Processing video: C:\\Users\\manuv\\Violence-Detection-With-Human-Skeletons\\data\\train\\NonFight\\ww9L6ULb_0.avi\n"
     ]
    },
    {
     "name": "stderr",
     "output_type": "stream",
     "text": [
      " 77%|███████████████████████████████████████████████████████████▊                  | 1525/1989 [02:08<00:34, 13.33it/s]"
     ]
    },
    {
     "name": "stdout",
     "output_type": "stream",
     "text": [
      "Processing video: C:\\Users\\manuv\\Violence-Detection-With-Human-Skeletons\\data\\train\\NonFight\\wXHEbfck_0.avi\n",
      "Processing video: C:\\Users\\manuv\\Violence-Detection-With-Human-Skeletons\\data\\train\\NonFight\\WXwfibYX_0.avi\n",
      "Processing video: C:\\Users\\manuv\\Violence-Detection-With-Human-Skeletons\\data\\train\\NonFight\\wY7Om5cW_0.avi\n"
     ]
    },
    {
     "name": "stderr",
     "output_type": "stream",
     "text": [
      " 77%|███████████████████████████████████████████████████████████▉                  | 1527/1989 [02:08<00:36, 12.66it/s]"
     ]
    },
    {
     "name": "stdout",
     "output_type": "stream",
     "text": [
      "Processing video: C:\\Users\\manuv\\Violence-Detection-With-Human-Skeletons\\data\\train\\NonFight\\X0fP5VQMrbg_0.avi\n",
      "Processing video: C:\\Users\\manuv\\Violence-Detection-With-Human-Skeletons\\data\\train\\NonFight\\X0fP5VQMrbg_1.avi\n"
     ]
    },
    {
     "name": "stderr",
     "output_type": "stream",
     "text": [
      " 77%|███████████████████████████████████████████████████████████▉                  | 1529/1989 [02:08<00:40, 11.28it/s]"
     ]
    },
    {
     "name": "stdout",
     "output_type": "stream",
     "text": [
      "Processing video: C:\\Users\\manuv\\Violence-Detection-With-Human-Skeletons\\data\\train\\NonFight\\X14e9Fwxa8w_0.avi\n",
      "Processing video: C:\\Users\\manuv\\Violence-Detection-With-Human-Skeletons\\data\\train\\NonFight\\X3mPJLe9_0.avi\n",
      "Processing video: C:\\Users\\manuv\\Violence-Detection-With-Human-Skeletons\\data\\train\\NonFight\\x7iljhbM_0.avi\n"
     ]
    },
    {
     "name": "stderr",
     "output_type": "stream",
     "text": [
      " 77%|████████████████████████████████████████████████████████████                  | 1533/1989 [02:09<00:34, 13.18it/s]"
     ]
    },
    {
     "name": "stdout",
     "output_type": "stream",
     "text": [
      "Processing video: C:\\Users\\manuv\\Violence-Detection-With-Human-Skeletons\\data\\train\\NonFight\\Xhh2ONc7_0.avi\n",
      "Processing video: C:\\Users\\manuv\\Violence-Detection-With-Human-Skeletons\\data\\train\\NonFight\\XJfaYlr0_0.avi\n",
      "Processing video: C:\\Users\\manuv\\Violence-Detection-With-Human-Skeletons\\data\\train\\NonFight\\xKq3hlefCUI_0.avi\n"
     ]
    },
    {
     "name": "stderr",
     "output_type": "stream",
     "text": [
      " 77%|████████████████████████████████████████████████████████████▎                 | 1537/1989 [02:09<00:32, 13.85it/s]"
     ]
    },
    {
     "name": "stdout",
     "output_type": "stream",
     "text": [
      "Processing video: C:\\Users\\manuv\\Violence-Detection-With-Human-Skeletons\\data\\train\\NonFight\\Xmmy8LvV_0.avi\n",
      "Processing video: C:\\Users\\manuv\\Violence-Detection-With-Human-Skeletons\\data\\train\\NonFight\\XPG8GqrH_0.avi\n",
      "Processing video: C:\\Users\\manuv\\Violence-Detection-With-Human-Skeletons\\data\\train\\NonFight\\XpQkd2Ug_0.avi\n",
      "Processing video: C:\\Users\\manuv\\Violence-Detection-With-Human-Skeletons\\data\\train\\NonFight\\XQR0CvyY_0.avi\n"
     ]
    },
    {
     "name": "stderr",
     "output_type": "stream",
     "text": [
      " 77%|████████████████████████████████████████████████████████████▎                 | 1539/1989 [02:09<00:32, 13.88it/s]"
     ]
    },
    {
     "name": "stdout",
     "output_type": "stream",
     "text": [
      "Processing video: C:\\Users\\manuv\\Violence-Detection-With-Human-Skeletons\\data\\train\\NonFight\\XQR0CvyY_1.avi\n",
      "Processing video: C:\\Users\\manuv\\Violence-Detection-With-Human-Skeletons\\data\\train\\NonFight\\xQSbcaZp_0.avi\n"
     ]
    },
    {
     "name": "stderr",
     "output_type": "stream",
     "text": [
      " 77%|████████████████████████████████████████████████████████████▍                 | 1541/1989 [02:09<00:33, 13.51it/s]"
     ]
    },
    {
     "name": "stdout",
     "output_type": "stream",
     "text": [
      "Processing video: C:\\Users\\manuv\\Violence-Detection-With-Human-Skeletons\\data\\train\\NonFight\\Xr0T6ylW_0.avi\n",
      "Processing video: C:\\Users\\manuv\\Violence-Detection-With-Human-Skeletons\\data\\train\\NonFight\\xR1o8M5o_0.avi\n",
      "Processing video: C:\\Users\\manuv\\Violence-Detection-With-Human-Skeletons\\data\\train\\NonFight\\xtA4owfr_0.avi\n"
     ]
    },
    {
     "name": "stderr",
     "output_type": "stream",
     "text": [
      " 78%|████████████████████████████████████████████████████████████▌                 | 1545/1989 [02:10<00:34, 12.91it/s]"
     ]
    },
    {
     "name": "stdout",
     "output_type": "stream",
     "text": [
      "Processing video: C:\\Users\\manuv\\Violence-Detection-With-Human-Skeletons\\data\\train\\NonFight\\xTCvMktQ_0.avi\n",
      "Processing video: C:\\Users\\manuv\\Violence-Detection-With-Human-Skeletons\\data\\train\\NonFight\\XVfkS6rM_0.avi\n",
      "Processing video: C:\\Users\\manuv\\Violence-Detection-With-Human-Skeletons\\data\\train\\NonFight\\xW8Esfp9_0.avi\n"
     ]
    },
    {
     "name": "stderr",
     "output_type": "stream",
     "text": [
      " 78%|████████████████████████████████████████████████████████████▋                 | 1547/1989 [02:10<00:32, 13.66it/s]"
     ]
    },
    {
     "name": "stdout",
     "output_type": "stream",
     "text": [
      "Processing video: C:\\Users\\manuv\\Violence-Detection-With-Human-Skeletons\\data\\train\\NonFight\\xWBtjX00_0.avi\n",
      "Processing video: C:\\Users\\manuv\\Violence-Detection-With-Human-Skeletons\\data\\train\\NonFight\\XwiwESMn_0.avi\n",
      "Processing video: C:\\Users\\manuv\\Violence-Detection-With-Human-Skeletons\\data\\train\\NonFight\\xxIkl4Ue_0.avi\n"
     ]
    },
    {
     "name": "stderr",
     "output_type": "stream",
     "text": [
      " 78%|████████████████████████████████████████████████████████████▊                 | 1551/1989 [02:10<00:31, 13.81it/s]"
     ]
    },
    {
     "name": "stdout",
     "output_type": "stream",
     "text": [
      "Processing video: C:\\Users\\manuv\\Violence-Detection-With-Human-Skeletons\\data\\train\\NonFight\\xYWhwcqL_0.avi\n",
      "Processing video: C:\\Users\\manuv\\Violence-Detection-With-Human-Skeletons\\data\\train\\NonFight\\Y-TiUAODEYw_0.avi\n",
      "Processing video: C:\\Users\\manuv\\Violence-Detection-With-Human-Skeletons\\data\\train\\NonFight\\Y-TiUAODEYw_1.avi\n"
     ]
    },
    {
     "name": "stderr",
     "output_type": "stream",
     "text": [
      " 78%|████████████████████████████████████████████████████████████▉                 | 1553/1989 [02:10<00:37, 11.58it/s]"
     ]
    },
    {
     "name": "stdout",
     "output_type": "stream",
     "text": [
      "Processing video: C:\\Users\\manuv\\Violence-Detection-With-Human-Skeletons\\data\\train\\NonFight\\Y-TiUAODEYw_2.avi\n",
      "Processing video: C:\\Users\\manuv\\Violence-Detection-With-Human-Skeletons\\data\\train\\NonFight\\Y1y9Gxs6_0.avi\n"
     ]
    },
    {
     "name": "stderr",
     "output_type": "stream",
     "text": [
      " 78%|█████████████████████████████████████████████████████████████                 | 1557/1989 [02:10<00:32, 13.30it/s]"
     ]
    },
    {
     "name": "stdout",
     "output_type": "stream",
     "text": [
      "Processing video: C:\\Users\\manuv\\Violence-Detection-With-Human-Skeletons\\data\\train\\NonFight\\Y4KiQpCP_0.avi\n",
      "Processing video: C:\\Users\\manuv\\Violence-Detection-With-Human-Skeletons\\data\\train\\NonFight\\y4njAG00_0.avi\n",
      "Processing video: C:\\Users\\manuv\\Violence-Detection-With-Human-Skeletons\\data\\train\\NonFight\\YC51sSdT_0.avi\n",
      "Processing video: C:\\Users\\manuv\\Violence-Detection-With-Human-Skeletons\\data\\train\\NonFight\\ycOdxOJt_0.avi\n"
     ]
    },
    {
     "name": "stderr",
     "output_type": "stream",
     "text": [
      " 78%|█████████████████████████████████████████████████████████████▏                | 1559/1989 [02:11<00:32, 13.31it/s]"
     ]
    },
    {
     "name": "stdout",
     "output_type": "stream",
     "text": [
      "Processing video: C:\\Users\\manuv\\Violence-Detection-With-Human-Skeletons\\data\\train\\NonFight\\yDKfgkb2_0.avi\n",
      "Processing video: C:\\Users\\manuv\\Violence-Detection-With-Human-Skeletons\\data\\train\\NonFight\\YJvuxdWs_0.avi\n",
      "Processing video: C:\\Users\\manuv\\Violence-Detection-With-Human-Skeletons\\data\\train\\NonFight\\ykI6keNQ_0.avi\n"
     ]
    },
    {
     "name": "stderr",
     "output_type": "stream",
     "text": [
      " 79%|█████████████████████████████████████████████████████████████▎                | 1563/1989 [02:11<00:28, 14.91it/s]"
     ]
    },
    {
     "name": "stdout",
     "output_type": "stream",
     "text": [
      "Processing video: C:\\Users\\manuv\\Violence-Detection-With-Human-Skeletons\\data\\train\\NonFight\\yKxTC4lT_0.avi\n",
      "Processing video: C:\\Users\\manuv\\Violence-Detection-With-Human-Skeletons\\data\\train\\NonFight\\yldWawWf_0.avi\n",
      "Processing video: C:\\Users\\manuv\\Violence-Detection-With-Human-Skeletons\\data\\train\\NonFight\\ypdSZICv_0.avi\n",
      "Processing video: C:\\Users\\manuv\\Violence-Detection-With-Human-Skeletons\\data\\train\\NonFight\\YQkE7oOf_0.avi\n"
     ]
    },
    {
     "name": "stderr",
     "output_type": "stream",
     "text": [
      " 79%|█████████████████████████████████████████████████████████████▍                | 1567/1989 [02:11<00:28, 14.62it/s]"
     ]
    },
    {
     "name": "stdout",
     "output_type": "stream",
     "text": [
      "Processing video: C:\\Users\\manuv\\Violence-Detection-With-Human-Skeletons\\data\\train\\NonFight\\yQWmI4e8_0.avi\n",
      "Processing video: C:\\Users\\manuv\\Violence-Detection-With-Human-Skeletons\\data\\train\\NonFight\\ytjGIK9m_0.avi\n",
      "Processing video: C:\\Users\\manuv\\Violence-Detection-With-Human-Skeletons\\data\\train\\NonFight\\yvNawsRf_0.avi\n"
     ]
    },
    {
     "name": "stderr",
     "output_type": "stream",
     "text": [
      " 79%|█████████████████████████████████████████████████████████████▌                | 1571/1989 [02:11<00:27, 15.17it/s]"
     ]
    },
    {
     "name": "stdout",
     "output_type": "stream",
     "text": [
      "Processing video: C:\\Users\\manuv\\Violence-Detection-With-Human-Skeletons\\data\\train\\NonFight\\Yw7Ip3VS_0.avi\n",
      "Processing video: C:\\Users\\manuv\\Violence-Detection-With-Human-Skeletons\\data\\train\\NonFight\\yWnLtCrM_0.avi\n",
      "Processing video: C:\\Users\\manuv\\Violence-Detection-With-Human-Skeletons\\data\\train\\NonFight\\Yxz9WncB_0.avi\n"
     ]
    },
    {
     "name": "stderr",
     "output_type": "stream",
     "text": [
      " 79%|█████████████████████████████████████████████████████████████▋                | 1573/1989 [02:11<00:26, 15.90it/s]"
     ]
    },
    {
     "name": "stdout",
     "output_type": "stream",
     "text": [
      "Processing video: C:\\Users\\manuv\\Violence-Detection-With-Human-Skeletons\\data\\train\\NonFight\\zbg2jsE4_0.avi\n",
      "Processing video: C:\\Users\\manuv\\Violence-Detection-With-Human-Skeletons\\data\\train\\NonFight\\zHRkgmIT_0.avi\n",
      "Processing video: C:\\Users\\manuv\\Violence-Detection-With-Human-Skeletons\\data\\train\\NonFight\\ZIj9BzT4_0.avi\n",
      "Processing video: C:\\Users\\manuv\\Violence-Detection-With-Human-Skeletons\\data\\train\\NonFight\\ZPhVyVZt_0.avi\n"
     ]
    },
    {
     "name": "stderr",
     "output_type": "stream",
     "text": [
      " 79%|█████████████████████████████████████████████████████████████▊                | 1577/1989 [02:12<00:25, 15.99it/s]"
     ]
    },
    {
     "name": "stdout",
     "output_type": "stream",
     "text": [
      "Processing video: C:\\Users\\manuv\\Violence-Detection-With-Human-Skeletons\\data\\train\\NonFight\\zWrAqXFn_0.avi\n",
      "Processing video: C:\\Users\\manuv\\Violence-Detection-With-Human-Skeletons\\data\\train\\NonFight\\Zy04T0RF_0.avi\n",
      "Processing video: C:\\Users\\manuv\\Violence-Detection-With-Human-Skeletons\\data\\train\\NonFight\\zZHTBiER_0.avi\n",
      "Processing video: C:\\Users\\manuv\\Violence-Detection-With-Human-Skeletons\\data\\train\\NonFight\\_fPfNbHM16M_0.avi\n"
     ]
    },
    {
     "name": "stderr",
     "output_type": "stream",
     "text": [
      " 79%|█████████████████████████████████████████████████████████████▉                | 1581/1989 [02:12<00:31, 13.01it/s]"
     ]
    },
    {
     "name": "stdout",
     "output_type": "stream",
     "text": [
      "Processing video: C:\\Users\\manuv\\Violence-Detection-With-Human-Skeletons\\data\\train\\NonFight\\_fPfNbHM16M_1.avi\n",
      "Processing video: C:\\Users\\manuv\\Violence-Detection-With-Human-Skeletons\\data\\train\\NonFight\\_q5Nwh4Z6ao_0.avi\n"
     ]
    },
    {
     "name": "stderr",
     "output_type": "stream",
     "text": [
      " 80%|██████████████████████████████████████████████████████████████                | 1583/1989 [02:12<00:29, 13.71it/s]"
     ]
    },
    {
     "name": "stdout",
     "output_type": "stream",
     "text": [
      "Processing video: C:\\Users\\manuv\\Violence-Detection-With-Human-Skeletons\\data\\train\\NonFight\\_q5Nwh4Z6ao_1.avi\n",
      "Processing video: C:\\Users\\manuv\\Violence-Detection-With-Human-Skeletons\\data\\train\\NonFight\\_q5Nwh4Z6ao_2.avi\n",
      "Processing video: C:\\Users\\manuv\\Violence-Detection-With-Human-Skeletons\\data\\train\\NonFight\\_q5Nwh4Z6ao_3.avi\n",
      "Processing video: C:\\Users\\manuv\\Violence-Detection-With-Human-Skeletons\\data\\train\\NonFight\\_q5Nwh4Z6ao_4.avi\n"
     ]
    },
    {
     "name": "stderr",
     "output_type": "stream",
     "text": [
      " 80%|██████████████████████████████████████████████████████████████▏               | 1587/1989 [02:13<00:28, 13.98it/s]"
     ]
    },
    {
     "name": "stdout",
     "output_type": "stream",
     "text": [
      "Processing video: C:\\Users\\manuv\\Violence-Detection-With-Human-Skeletons\\data\\train\\NonFight\\_q5Nwh4Z6ao_5.avi\n",
      "Processing video: C:\\Users\\manuv\\Violence-Detection-With-Human-Skeletons\\data\\train\\NonFight\\_q5Nwh4Z6ao_6.avi\n",
      "Processing video: C:\\Users\\manuv\\Violence-Detection-With-Human-Skeletons\\data\\train\\NonFight\\_q5Nwh4Z6ao_7.avi\n",
      "Processing video: C:\\Users\\manuv\\Violence-Detection-With-Human-Skeletons\\data\\train\\NonFight\\_wVuRdfDHbE_0.avi\n"
     ]
    },
    {
     "name": "stderr",
     "output_type": "stream",
     "text": [
      " 80%|██████████████████████████████████████████████████████████████▍               | 1591/1989 [02:13<00:31, 12.49it/s]"
     ]
    },
    {
     "name": "stdout",
     "output_type": "stream",
     "text": [
      "Processing video: C:\\Users\\manuv\\Violence-Detection-With-Human-Skeletons\\data\\val\\Fight\\0Ow4cotKOuw_0.avi\n",
      "Processing video: C:\\Users\\manuv\\Violence-Detection-With-Human-Skeletons\\data\\val\\Fight\\0Ow4cotKOuw_1.avi\n",
      "Processing video: C:\\Users\\manuv\\Violence-Detection-With-Human-Skeletons\\data\\val\\Fight\\0Ow4cotKOuw_2.avi\n"
     ]
    },
    {
     "name": "stderr",
     "output_type": "stream",
     "text": [
      " 80%|██████████████████████████████████████████████████████████████▍               | 1593/1989 [02:13<00:35, 11.16it/s]"
     ]
    },
    {
     "name": "stdout",
     "output_type": "stream",
     "text": [
      "Processing video: C:\\Users\\manuv\\Violence-Detection-With-Human-Skeletons\\data\\val\\Fight\\0Ow4cotKOuw_3.avi\n",
      "Processing video: C:\\Users\\manuv\\Violence-Detection-With-Human-Skeletons\\data\\val\\Fight\\0Ow4cotKOuw_4.avi\n"
     ]
    },
    {
     "name": "stderr",
     "output_type": "stream",
     "text": [
      " 80%|██████████████████████████████████████████████████████████████▋               | 1597/1989 [02:13<00:31, 12.28it/s]"
     ]
    },
    {
     "name": "stdout",
     "output_type": "stream",
     "text": [
      "Processing video: C:\\Users\\manuv\\Violence-Detection-With-Human-Skeletons\\data\\val\\Fight\\1Kbw1bUw_0.avi\n",
      "Processing video: C:\\Users\\manuv\\Violence-Detection-With-Human-Skeletons\\data\\val\\Fight\\1Kbw1bUw_1.avi\n",
      "Processing video: C:\\Users\\manuv\\Violence-Detection-With-Human-Skeletons\\data\\val\\Fight\\1Kbw1bUw_2.avi\n"
     ]
    },
    {
     "name": "stderr",
     "output_type": "stream",
     "text": [
      " 80%|██████████████████████████████████████████████████████████████▋               | 1599/1989 [02:14<00:31, 12.37it/s]"
     ]
    },
    {
     "name": "stdout",
     "output_type": "stream",
     "text": [
      "Processing video: C:\\Users\\manuv\\Violence-Detection-With-Human-Skeletons\\data\\val\\Fight\\1Kbw1bUw_3.avi\n",
      "Processing video: C:\\Users\\manuv\\Violence-Detection-With-Human-Skeletons\\data\\val\\Fight\\1MVS2QPWbHc_0.avi\n",
      "Processing video: C:\\Users\\manuv\\Violence-Detection-With-Human-Skeletons\\data\\val\\Fight\\1MVS2QPWbHc_1.avi\n"
     ]
    },
    {
     "name": "stderr",
     "output_type": "stream",
     "text": [
      " 80%|██████████████████████████████████████████████████████████████▊               | 1601/1989 [02:14<00:33, 11.42it/s]"
     ]
    },
    {
     "name": "stdout",
     "output_type": "stream",
     "text": [
      "Processing video: C:\\Users\\manuv\\Violence-Detection-With-Human-Skeletons\\data\\val\\Fight\\1MVS2QPWbHc_2.avi\n",
      "Processing video: C:\\Users\\manuv\\Violence-Detection-With-Human-Skeletons\\data\\val\\Fight\\1MVS2QPWbHc_3.avi\n"
     ]
    },
    {
     "name": "stderr",
     "output_type": "stream",
     "text": [
      " 81%|██████████████████████████████████████████████████████████████▊               | 1603/1989 [02:14<00:37, 10.31it/s]"
     ]
    },
    {
     "name": "stdout",
     "output_type": "stream",
     "text": [
      "Processing video: C:\\Users\\manuv\\Violence-Detection-With-Human-Skeletons\\data\\val\\Fight\\1MVS2QPWbHc_4.avi\n",
      "Processing video: C:\\Users\\manuv\\Violence-Detection-With-Human-Skeletons\\data\\val\\Fight\\1MVS2QPWbHc_5.avi\n",
      "Processing video: C:\\Users\\manuv\\Violence-Detection-With-Human-Skeletons\\data\\val\\Fight\\39BFeYnbu-I_0.avi\n"
     ]
    },
    {
     "name": "stderr",
     "output_type": "stream",
     "text": [
      " 81%|███████████████████████████████████████████████████████████████               | 1607/1989 [02:14<00:33, 11.40it/s]"
     ]
    },
    {
     "name": "stdout",
     "output_type": "stream",
     "text": [
      "Processing video: C:\\Users\\manuv\\Violence-Detection-With-Human-Skeletons\\data\\val\\Fight\\39BFeYnbu-I_1.avi\n",
      "Processing video: C:\\Users\\manuv\\Violence-Detection-With-Human-Skeletons\\data\\val\\Fight\\39BFeYnbu-I_2.avi\n",
      "Processing video: C:\\Users\\manuv\\Violence-Detection-With-Human-Skeletons\\data\\val\\Fight\\39BFeYnbu-I_3.avi\n"
     ]
    },
    {
     "name": "stderr",
     "output_type": "stream",
     "text": [
      " 81%|███████████████████████████████████████████████████████████████▏              | 1611/1989 [02:15<00:28, 13.14it/s]"
     ]
    },
    {
     "name": "stdout",
     "output_type": "stream",
     "text": [
      "Processing video: C:\\Users\\manuv\\Violence-Detection-With-Human-Skeletons\\data\\val\\Fight\\39BFeYnbu-I_4.avi\n",
      "Processing video: C:\\Users\\manuv\\Violence-Detection-With-Human-Skeletons\\data\\val\\Fight\\39BFeYnbu-I_5.avi\n",
      "Processing video: C:\\Users\\manuv\\Violence-Detection-With-Human-Skeletons\\data\\val\\Fight\\39BFeYnbu-I_6.avi\n"
     ]
    },
    {
     "name": "stderr",
     "output_type": "stream",
     "text": [
      " 81%|███████████████████████████████████████████████████████████████▎              | 1613/1989 [02:15<00:29, 12.57it/s]"
     ]
    },
    {
     "name": "stdout",
     "output_type": "stream",
     "text": [
      "Processing video: C:\\Users\\manuv\\Violence-Detection-With-Human-Skeletons\\data\\val\\Fight\\39BFeYnbu-I_7.avi\n",
      "Processing video: C:\\Users\\manuv\\Violence-Detection-With-Human-Skeletons\\data\\val\\Fight\\39BFeYnbu-I_8.avi\n",
      "Processing video: C:\\Users\\manuv\\Violence-Detection-With-Human-Skeletons\\data\\val\\Fight\\48J5lk4QcpE_0.avi\n",
      "Processing video: C:\\Users\\manuv\\Violence-Detection-With-Human-Skeletons\\data\\val\\Fight\\48J5lk4QcpE_1.avi\n"
     ]
    },
    {
     "name": "stderr",
     "output_type": "stream",
     "text": [
      " 81%|███████████████████████████████████████████████████████████████▎              | 1615/1989 [02:15<00:33, 11.21it/s]"
     ]
    },
    {
     "name": "stdout",
     "output_type": "stream",
     "text": [
      "Processing video: C:\\Users\\manuv\\Violence-Detection-With-Human-Skeletons\\data\\val\\Fight\\48J5lk4QcpE_2.avi\n",
      "Processing video: C:\\Users\\manuv\\Violence-Detection-With-Human-Skeletons\\data\\val\\Fight\\48J5lk4QcpE_3.avi\n"
     ]
    },
    {
     "name": "stderr",
     "output_type": "stream",
     "text": [
      " 81%|███████████████████████████████████████████████████████████████▍              | 1617/1989 [02:15<00:36, 10.18it/s]"
     ]
    },
    {
     "name": "stdout",
     "output_type": "stream",
     "text": [
      "Processing video: C:\\Users\\manuv\\Violence-Detection-With-Human-Skeletons\\data\\val\\Fight\\6Rl7q_kXYbg_0.avi\n",
      "Processing video: C:\\Users\\manuv\\Violence-Detection-With-Human-Skeletons\\data\\val\\Fight\\6Rl7q_kXYbg_1.avi\n"
     ]
    },
    {
     "name": "stderr",
     "output_type": "stream",
     "text": [
      " 81%|███████████████████████████████████████████████████████████████▍              | 1619/1989 [02:15<00:37,  9.78it/s]"
     ]
    },
    {
     "name": "stdout",
     "output_type": "stream",
     "text": [
      "Processing video: C:\\Users\\manuv\\Violence-Detection-With-Human-Skeletons\\data\\val\\Fight\\6Rl7q_kXYbg_2.avi\n",
      "Processing video: C:\\Users\\manuv\\Violence-Detection-With-Human-Skeletons\\data\\val\\Fight\\6Rl7q_kXYbg_3.avi\n"
     ]
    },
    {
     "name": "stderr",
     "output_type": "stream",
     "text": [
      " 82%|███████████████████████████████████████████████████████████████▌              | 1622/1989 [02:16<00:43,  8.36it/s]"
     ]
    },
    {
     "name": "stdout",
     "output_type": "stream",
     "text": [
      "Processing video: C:\\Users\\manuv\\Violence-Detection-With-Human-Skeletons\\data\\val\\Fight\\6Rl7q_kXYbg_4.avi\n",
      "Processing video: C:\\Users\\manuv\\Violence-Detection-With-Human-Skeletons\\data\\val\\Fight\\6Rl7q_kXYbg_5.avi\n"
     ]
    },
    {
     "name": "stderr",
     "output_type": "stream",
     "text": [
      " 82%|███████████████████████████████████████████████████████████████▋              | 1625/1989 [02:16<00:36,  9.99it/s]"
     ]
    },
    {
     "name": "stdout",
     "output_type": "stream",
     "text": [
      "Processing video: C:\\Users\\manuv\\Violence-Detection-With-Human-Skeletons\\data\\val\\Fight\\7gLKFV5voOg_0.avi\n",
      "Processing video: C:\\Users\\manuv\\Violence-Detection-With-Human-Skeletons\\data\\val\\Fight\\7gLKFV5voOg_1.avi\n",
      "Processing video: C:\\Users\\manuv\\Violence-Detection-With-Human-Skeletons\\data\\val\\Fight\\83d-16REC40_0.avi\n"
     ]
    },
    {
     "name": "stderr",
     "output_type": "stream",
     "text": [
      " 82%|███████████████████████████████████████████████████████████████▊              | 1627/1989 [02:16<00:36,  9.88it/s]"
     ]
    },
    {
     "name": "stdout",
     "output_type": "stream",
     "text": [
      "Processing video: C:\\Users\\manuv\\Violence-Detection-With-Human-Skeletons\\data\\val\\Fight\\83d-16REC40_1.avi\n",
      "Processing video: C:\\Users\\manuv\\Violence-Detection-With-Human-Skeletons\\data\\val\\Fight\\A7FCl8G35Cs_0.avi\n",
      "Processing video: C:\\Users\\manuv\\Violence-Detection-With-Human-Skeletons\\data\\val\\Fight\\A7FCl8G35Cs_1.avi\n"
     ]
    },
    {
     "name": "stderr",
     "output_type": "stream",
     "text": [
      " 82%|███████████████████████████████████████████████████████████████▉              | 1631/1989 [02:17<00:28, 12.69it/s]"
     ]
    },
    {
     "name": "stdout",
     "output_type": "stream",
     "text": [
      "Processing video: C:\\Users\\manuv\\Violence-Detection-With-Human-Skeletons\\data\\val\\Fight\\ASGGSDG_183.avi\n",
      "Processing video: C:\\Users\\manuv\\Violence-Detection-With-Human-Skeletons\\data\\val\\Fight\\bW2vHhYbzHM_0.avi\n",
      "Processing video: C:\\Users\\manuv\\Violence-Detection-With-Human-Skeletons\\data\\val\\Fight\\e5Dmmply_0.avi\n"
     ]
    },
    {
     "name": "stderr",
     "output_type": "stream",
     "text": [
      " 82%|████████████████████████████████████████████████████████████████              | 1633/1989 [02:17<00:29, 12.27it/s]"
     ]
    },
    {
     "name": "stdout",
     "output_type": "stream",
     "text": [
      "Processing video: C:\\Users\\manuv\\Violence-Detection-With-Human-Skeletons\\data\\val\\Fight\\e5Dmmply_1.avi\n",
      "Processing video: C:\\Users\\manuv\\Violence-Detection-With-Human-Skeletons\\data\\val\\Fight\\e5Dmmply_2.avi\n",
      "Processing video: C:\\Users\\manuv\\Violence-Detection-With-Human-Skeletons\\data\\val\\Fight\\EFv961C5RgY_0.avi\n"
     ]
    },
    {
     "name": "stderr",
     "output_type": "stream",
     "text": [
      " 82%|████████████████████████████████████████████████████████████████              | 1635/1989 [02:17<00:27, 12.76it/s]"
     ]
    },
    {
     "name": "stdout",
     "output_type": "stream",
     "text": [
      "Processing video: C:\\Users\\manuv\\Violence-Detection-With-Human-Skeletons\\data\\val\\Fight\\EFv961C5RgY_1.avi\n",
      "Processing video: C:\\Users\\manuv\\Violence-Detection-With-Human-Skeletons\\data\\val\\Fight\\etyiEs3j8x8_0.avi\n"
     ]
    },
    {
     "name": "stderr",
     "output_type": "stream",
     "text": [
      " 82%|████████████████████████████████████████████████████████████████▏             | 1637/1989 [02:17<00:36,  9.68it/s]"
     ]
    },
    {
     "name": "stdout",
     "output_type": "stream",
     "text": [
      "Processing video: C:\\Users\\manuv\\Violence-Detection-With-Human-Skeletons\\data\\val\\Fight\\etyiEs3j8x8_1.avi\n",
      "Processing video: C:\\Users\\manuv\\Violence-Detection-With-Human-Skeletons\\data\\val\\Fight\\etyiEs3j8x8_2.avi\n"
     ]
    },
    {
     "name": "stderr",
     "output_type": "stream",
     "text": [
      " 82%|████████████████████████████████████████████████████████████████▎             | 1639/1989 [02:17<00:37,  9.45it/s]"
     ]
    },
    {
     "name": "stdout",
     "output_type": "stream",
     "text": [
      "Processing video: C:\\Users\\manuv\\Violence-Detection-With-Human-Skeletons\\data\\val\\Fight\\etyiEs3j8x8_3.avi\n",
      "Processing video: C:\\Users\\manuv\\Violence-Detection-With-Human-Skeletons\\data\\val\\Fight\\etyiEs3j8x8_4.avi\n"
     ]
    },
    {
     "name": "stderr",
     "output_type": "stream",
     "text": [
      " 83%|████████████████████████████████████████████████████████████████▍             | 1642/1989 [02:18<00:38,  9.08it/s]"
     ]
    },
    {
     "name": "stdout",
     "output_type": "stream",
     "text": [
      "Processing video: C:\\Users\\manuv\\Violence-Detection-With-Human-Skeletons\\data\\val\\Fight\\etyiEs3j8x8_5.avi\n",
      "Processing video: C:\\Users\\manuv\\Violence-Detection-With-Human-Skeletons\\data\\val\\Fight\\etyiEs3j8x8_8.avi\n"
     ]
    },
    {
     "name": "stderr",
     "output_type": "stream",
     "text": [
      " 83%|████████████████████████████████████████████████████████████████▍             | 1643/1989 [02:18<00:38,  9.04it/s]"
     ]
    },
    {
     "name": "stdout",
     "output_type": "stream",
     "text": [
      "Processing video: C:\\Users\\manuv\\Violence-Detection-With-Human-Skeletons\\data\\val\\Fight\\fbtEhNq5a6E_0.avi\n",
      "Processing video: C:\\Users\\manuv\\Violence-Detection-With-Human-Skeletons\\data\\val\\Fight\\FXC43fACfPc_0.avi\n"
     ]
    },
    {
     "name": "stderr",
     "output_type": "stream",
     "text": [
      " 83%|████████████████████████████████████████████████████████████████▌             | 1646/1989 [02:18<00:41,  8.35it/s]"
     ]
    },
    {
     "name": "stdout",
     "output_type": "stream",
     "text": [
      "Processing video: C:\\Users\\manuv\\Violence-Detection-With-Human-Skeletons\\data\\val\\Fight\\FXC43fACfPc_1.avi\n",
      "Processing video: C:\\Users\\manuv\\Violence-Detection-With-Human-Skeletons\\data\\val\\Fight\\FXC43fACfPc_2.avi\n"
     ]
    },
    {
     "name": "stderr",
     "output_type": "stream",
     "text": [
      " 83%|████████████████████████████████████████████████████████████████▋             | 1648/1989 [02:19<01:01,  5.51it/s]"
     ]
    },
    {
     "name": "stdout",
     "output_type": "stream",
     "text": [
      "Processing video: C:\\Users\\manuv\\Violence-Detection-With-Human-Skeletons\\data\\val\\Fight\\FXC43fACfPc_3.avi\n",
      "Processing video: C:\\Users\\manuv\\Violence-Detection-With-Human-Skeletons\\data\\val\\Fight\\g-qjkePEXQA_0.avi\n",
      "Processing video: C:\\Users\\manuv\\Violence-Detection-With-Human-Skeletons\\data\\val\\Fight\\g-qjkePEXQA_1.avi\n"
     ]
    },
    {
     "name": "stderr",
     "output_type": "stream",
     "text": [
      " 83%|████████████████████████████████████████████████████████████████▊             | 1652/1989 [02:19<00:35,  9.40it/s]"
     ]
    },
    {
     "name": "stdout",
     "output_type": "stream",
     "text": [
      "Processing video: C:\\Users\\manuv\\Violence-Detection-With-Human-Skeletons\\data\\val\\Fight\\g-qjkePEXQA_2.avi\n",
      "Processing video: C:\\Users\\manuv\\Violence-Detection-With-Human-Skeletons\\data\\val\\Fight\\g-qjkePEXQA_3.avi\n",
      "Processing video: C:\\Users\\manuv\\Violence-Detection-With-Human-Skeletons\\data\\val\\Fight\\g6jdqkcdgqk_1.avi\n"
     ]
    },
    {
     "name": "stderr",
     "output_type": "stream",
     "text": [
      " 83%|████████████████████████████████████████████████████████████████▊             | 1654/1989 [02:19<00:32, 10.30it/s]"
     ]
    },
    {
     "name": "stdout",
     "output_type": "stream",
     "text": [
      "Processing video: C:\\Users\\manuv\\Violence-Detection-With-Human-Skeletons\\data\\val\\Fight\\g6jdqkcdgqk_2.avi\n",
      "Processing video: C:\\Users\\manuv\\Violence-Detection-With-Human-Skeletons\\data\\val\\Fight\\g6jdqkcdgqk_3.avi\n",
      "Processing video: C:\\Users\\manuv\\Violence-Detection-With-Human-Skeletons\\data\\val\\Fight\\g6jdqkcdgqk_4.avi\n"
     ]
    },
    {
     "name": "stderr",
     "output_type": "stream",
     "text": [
      " 83%|█████████████████████████████████████████████████████████████████             | 1658/1989 [02:20<00:29, 11.23it/s]"
     ]
    },
    {
     "name": "stdout",
     "output_type": "stream",
     "text": [
      "Processing video: C:\\Users\\manuv\\Violence-Detection-With-Human-Skeletons\\data\\val\\Fight\\g6jdqkcdgqk_5.avi\n",
      "Processing video: C:\\Users\\manuv\\Violence-Detection-With-Human-Skeletons\\data\\val\\Fight\\hytjfg_354.avi\n",
      "Processing video: C:\\Users\\manuv\\Violence-Detection-With-Human-Skeletons\\data\\val\\Fight\\I-QiUMPTWNE_0.avi\n"
     ]
    },
    {
     "name": "stderr",
     "output_type": "stream",
     "text": [
      " 83%|█████████████████████████████████████████████████████████████████             | 1660/1989 [02:20<00:29, 11.25it/s]"
     ]
    },
    {
     "name": "stdout",
     "output_type": "stream",
     "text": [
      "Processing video: C:\\Users\\manuv\\Violence-Detection-With-Human-Skeletons\\data\\val\\Fight\\I-QiUMPTWNE_1.avi\n",
      "Processing video: C:\\Users\\manuv\\Violence-Detection-With-Human-Skeletons\\data\\val\\Fight\\I-QiUMPTWNE_2.avi\n",
      "Processing video: C:\\Users\\manuv\\Violence-Detection-With-Human-Skeletons\\data\\val\\Fight\\I-QiUMPTWNE_3.avi\n"
     ]
    },
    {
     "name": "stderr",
     "output_type": "stream",
     "text": [
      " 84%|█████████████████████████████████████████████████████████████████▎            | 1664/1989 [02:20<00:24, 13.14it/s]"
     ]
    },
    {
     "name": "stdout",
     "output_type": "stream",
     "text": [
      "Processing video: C:\\Users\\manuv\\Violence-Detection-With-Human-Skeletons\\data\\val\\Fight\\I-QiUMPTWNE_4.avi\n",
      "Processing video: C:\\Users\\manuv\\Violence-Detection-With-Human-Skeletons\\data\\val\\Fight\\I-QiUMPTWNE_5.avi\n",
      "Processing video: C:\\Users\\manuv\\Violence-Detection-With-Human-Skeletons\\data\\val\\Fight\\I-QiUMPTWNE_6.avi\n"
     ]
    },
    {
     "name": "stderr",
     "output_type": "stream",
     "text": [
      " 84%|█████████████████████████████████████████████████████████████████▎            | 1666/1989 [02:20<00:24, 13.37it/s]"
     ]
    },
    {
     "name": "stdout",
     "output_type": "stream",
     "text": [
      "Processing video: C:\\Users\\manuv\\Violence-Detection-With-Human-Skeletons\\data\\val\\Fight\\I-QiUMPTWNE_7.avi\n",
      "Processing video: C:\\Users\\manuv\\Violence-Detection-With-Human-Skeletons\\data\\val\\Fight\\I-QiUMPTWNE_8.avi\n",
      "Processing video: C:\\Users\\manuv\\Violence-Detection-With-Human-Skeletons\\data\\val\\Fight\\JECBfnp2ZXc_0.avi\n"
     ]
    },
    {
     "name": "stderr",
     "output_type": "stream",
     "text": [
      " 84%|█████████████████████████████████████████████████████████████████▍            | 1670/1989 [02:20<00:21, 14.54it/s]"
     ]
    },
    {
     "name": "stdout",
     "output_type": "stream",
     "text": [
      "Processing video: C:\\Users\\manuv\\Violence-Detection-With-Human-Skeletons\\data\\val\\Fight\\JECBfnp2ZXc_1.avi\n",
      "Processing video: C:\\Users\\manuv\\Violence-Detection-With-Human-Skeletons\\data\\val\\Fight\\JECBfnp2ZXc_2.avi\n",
      "Processing video: C:\\Users\\manuv\\Violence-Detection-With-Human-Skeletons\\data\\val\\Fight\\JECBfnp2ZXc_3.avi\n",
      "Processing video: C:\\Users\\manuv\\Violence-Detection-With-Human-Skeletons\\data\\val\\Fight\\JECBfnp2ZXc_4.avi\n"
     ]
    },
    {
     "name": "stderr",
     "output_type": "stream",
     "text": [
      " 84%|█████████████████████████████████████████████████████████████████▋            | 1674/1989 [02:21<00:21, 14.62it/s]"
     ]
    },
    {
     "name": "stdout",
     "output_type": "stream",
     "text": [
      "Processing video: C:\\Users\\manuv\\Violence-Detection-With-Human-Skeletons\\data\\val\\Fight\\JECBfnp2ZXc_5.avi\n",
      "Processing video: C:\\Users\\manuv\\Violence-Detection-With-Human-Skeletons\\data\\val\\Fight\\JECBfnp2ZXc_6.avi\n",
      "Processing video: C:\\Users\\manuv\\Violence-Detection-With-Human-Skeletons\\data\\val\\Fight\\mwuiYEBdkJs_0.avi\n"
     ]
    },
    {
     "name": "stderr",
     "output_type": "stream",
     "text": [
      " 84%|█████████████████████████████████████████████████████████████████▊            | 1678/1989 [02:21<00:19, 15.67it/s]"
     ]
    },
    {
     "name": "stdout",
     "output_type": "stream",
     "text": [
      "Processing video: C:\\Users\\manuv\\Violence-Detection-With-Human-Skeletons\\data\\val\\Fight\\mwuiYEBdkJs_1.avi\n",
      "Processing video: C:\\Users\\manuv\\Violence-Detection-With-Human-Skeletons\\data\\val\\Fight\\mwuiYEBdkJs_2.avi\n",
      "Processing video: C:\\Users\\manuv\\Violence-Detection-With-Human-Skeletons\\data\\val\\Fight\\mwuiYEBdkJs_3.avi\n",
      "Processing video: C:\\Users\\manuv\\Violence-Detection-With-Human-Skeletons\\data\\val\\Fight\\mwuiYEBdkJs_4.avi\n"
     ]
    },
    {
     "name": "stderr",
     "output_type": "stream",
     "text": [
      " 85%|██████████████████████████████████████████████████████████████████            | 1683/1989 [02:21<00:16, 18.59it/s]"
     ]
    },
    {
     "name": "stdout",
     "output_type": "stream",
     "text": [
      "Processing video: C:\\Users\\manuv\\Violence-Detection-With-Human-Skeletons\\data\\val\\Fight\\mwuiYEBdkJs_5.avi\n",
      "Processing video: C:\\Users\\manuv\\Violence-Detection-With-Human-Skeletons\\data\\val\\Fight\\MxkTo5F-nvU_0.avi\n",
      "Processing video: C:\\Users\\manuv\\Violence-Detection-With-Human-Skeletons\\data\\val\\Fight\\MxkTo5F-nvU_1.avi\n",
      "Processing video: C:\\Users\\manuv\\Violence-Detection-With-Human-Skeletons\\data\\val\\Fight\\MxkTo5F-nvU_2.avi\n",
      "Processing video: C:\\Users\\manuv\\Violence-Detection-With-Human-Skeletons\\data\\val\\Fight\\MxkTo5F-nvU_3.avi\n"
     ]
    },
    {
     "name": "stderr",
     "output_type": "stream",
     "text": [
      " 85%|██████████████████████████████████████████████████████████████████            | 1686/1989 [02:21<00:15, 20.13it/s]"
     ]
    },
    {
     "name": "stdout",
     "output_type": "stream",
     "text": [
      "Processing video: C:\\Users\\manuv\\Violence-Detection-With-Human-Skeletons\\data\\val\\Fight\\MxkTo5F-nvU_4.avi\n",
      "Processing video: C:\\Users\\manuv\\Violence-Detection-With-Human-Skeletons\\data\\val\\Fight\\nuf-d5GugL0_0.avi\n",
      "Processing video: C:\\Users\\manuv\\Violence-Detection-With-Human-Skeletons\\data\\val\\Fight\\nuf-d5GugL0_1.avi\n",
      "Processing video: C:\\Users\\manuv\\Violence-Detection-With-Human-Skeletons\\data\\val\\Fight\\nuf-d5GugL0_10.avi\n",
      "Processing video: C:\\Users\\manuv\\Violence-Detection-With-Human-Skeletons\\data\\val\\Fight\\nuf-d5GugL0_2.avi\n"
     ]
    },
    {
     "name": "stderr",
     "output_type": "stream",
     "text": [
      " 85%|██████████████████████████████████████████████████████████████████▎           | 1692/1989 [02:22<00:14, 21.14it/s]"
     ]
    },
    {
     "name": "stdout",
     "output_type": "stream",
     "text": [
      "Processing video: C:\\Users\\manuv\\Violence-Detection-With-Human-Skeletons\\data\\val\\Fight\\nuf-d5GugL0_3.avi\n",
      "Processing video: C:\\Users\\manuv\\Violence-Detection-With-Human-Skeletons\\data\\val\\Fight\\nuf-d5GugL0_4.avi\n",
      "Processing video: C:\\Users\\manuv\\Violence-Detection-With-Human-Skeletons\\data\\val\\Fight\\nuf-d5GugL0_5.avi\n",
      "Processing video: C:\\Users\\manuv\\Violence-Detection-With-Human-Skeletons\\data\\val\\Fight\\nuf-d5GugL0_6.avi\n",
      "Processing video: C:\\Users\\manuv\\Violence-Detection-With-Human-Skeletons\\data\\val\\Fight\\nuf-d5GugL0_7.avi\n"
     ]
    },
    {
     "name": "stderr",
     "output_type": "stream",
     "text": [
      " 85%|██████████████████████████████████████████████████████████████████▍           | 1695/1989 [02:22<00:13, 21.87it/s]"
     ]
    },
    {
     "name": "stdout",
     "output_type": "stream",
     "text": [
      "Processing video: C:\\Users\\manuv\\Violence-Detection-With-Human-Skeletons\\data\\val\\Fight\\nuf-d5GugL0_9.avi\n",
      "Processing video: C:\\Users\\manuv\\Violence-Detection-With-Human-Skeletons\\data\\val\\Fight\\nVdn1krnTCQ_0.avi\n",
      "Processing video: C:\\Users\\manuv\\Violence-Detection-With-Human-Skeletons\\data\\val\\Fight\\nVdn1krnTCQ_1.avi\n",
      "Processing video: C:\\Users\\manuv\\Violence-Detection-With-Human-Skeletons\\data\\val\\Fight\\nVdn1krnTCQ_2.avi\n"
     ]
    },
    {
     "name": "stderr",
     "output_type": "stream",
     "text": [
      " 86%|██████████████████████████████████████████████████████████████████▋           | 1701/1989 [02:22<00:14, 20.40it/s]"
     ]
    },
    {
     "name": "stdout",
     "output_type": "stream",
     "text": [
      "Processing video: C:\\Users\\manuv\\Violence-Detection-With-Human-Skeletons\\data\\val\\Fight\\nVdn1krnTCQ_3.avi\n",
      "Processing video: C:\\Users\\manuv\\Violence-Detection-With-Human-Skeletons\\data\\val\\Fight\\nVdn1krnTCQ_4.avi\n",
      "Processing video: C:\\Users\\manuv\\Violence-Detection-With-Human-Skeletons\\data\\val\\Fight\\nVdn1krnTCQ_6.avi\n",
      "Processing video: C:\\Users\\manuv\\Violence-Detection-With-Human-Skeletons\\data\\val\\Fight\\OvDMIkTb4XU_0.avi\n",
      "Processing video: C:\\Users\\manuv\\Violence-Detection-With-Human-Skeletons\\data\\val\\Fight\\OvDMIkTb4XU_1.avi\n"
     ]
    },
    {
     "name": "stderr",
     "output_type": "stream",
     "text": [
      " 86%|██████████████████████████████████████████████████████████████████▊           | 1704/1989 [02:22<00:14, 19.29it/s]"
     ]
    },
    {
     "name": "stdout",
     "output_type": "stream",
     "text": [
      "Processing video: C:\\Users\\manuv\\Violence-Detection-With-Human-Skeletons\\data\\val\\Fight\\OvDMIkTb4XU_2.avi\n",
      "Processing video: C:\\Users\\manuv\\Violence-Detection-With-Human-Skeletons\\data\\val\\Fight\\OvDMIkTb4XU_3.avi\n",
      "Processing video: C:\\Users\\manuv\\Violence-Detection-With-Human-Skeletons\\data\\val\\Fight\\OvDMIkTb4XU_4.avi\n",
      "Processing video: C:\\Users\\manuv\\Violence-Detection-With-Human-Skeletons\\data\\val\\Fight\\Q0v2MB0b_0.avi\n"
     ]
    },
    {
     "name": "stderr",
     "output_type": "stream",
     "text": [
      " 86%|███████████████████████████████████████████████████████████████████           | 1709/1989 [02:23<00:16, 17.49it/s]"
     ]
    },
    {
     "name": "stdout",
     "output_type": "stream",
     "text": [
      "Processing video: C:\\Users\\manuv\\Violence-Detection-With-Human-Skeletons\\data\\val\\Fight\\qaAclucigpY_0.avi\n",
      "Processing video: C:\\Users\\manuv\\Violence-Detection-With-Human-Skeletons\\data\\val\\Fight\\qaAclucigpY_1.avi\n",
      "Processing video: C:\\Users\\manuv\\Violence-Detection-With-Human-Skeletons\\data\\val\\Fight\\qaAclucigpY_2.avi\n"
     ]
    },
    {
     "name": "stderr",
     "output_type": "stream",
     "text": [
      " 86%|███████████████████████████████████████████████████████████████████           | 1711/1989 [02:23<00:16, 16.47it/s]"
     ]
    },
    {
     "name": "stdout",
     "output_type": "stream",
     "text": [
      "Processing video: C:\\Users\\manuv\\Violence-Detection-With-Human-Skeletons\\data\\val\\Fight\\qaAclucigpY_3.avi\n",
      "Processing video: C:\\Users\\manuv\\Violence-Detection-With-Human-Skeletons\\data\\val\\Fight\\Qj3oZsaqNGE_0.avi\n",
      "Processing video: C:\\Users\\manuv\\Violence-Detection-With-Human-Skeletons\\data\\val\\Fight\\Qj3oZsaqNGE_1.avi\n"
     ]
    },
    {
     "name": "stderr",
     "output_type": "stream",
     "text": [
      " 86%|███████████████████████████████████████████████████████████████████▎          | 1715/1989 [02:23<00:19, 14.11it/s]"
     ]
    },
    {
     "name": "stdout",
     "output_type": "stream",
     "text": [
      "Processing video: C:\\Users\\manuv\\Violence-Detection-With-Human-Skeletons\\data\\val\\Fight\\Qtcwz_K2Gvo_0.avi\n",
      "Processing video: C:\\Users\\manuv\\Violence-Detection-With-Human-Skeletons\\data\\val\\Fight\\Qtcwz_K2Gvo_1.avi\n",
      "Processing video: C:\\Users\\manuv\\Violence-Detection-With-Human-Skeletons\\data\\val\\Fight\\RETYTDF_523.avi\n"
     ]
    },
    {
     "name": "stderr",
     "output_type": "stream",
     "text": [
      " 86%|███████████████████████████████████████████████████████████████████▎          | 1718/1989 [02:23<00:18, 14.67it/s]"
     ]
    },
    {
     "name": "stdout",
     "output_type": "stream",
     "text": [
      "Processing video: C:\\Users\\manuv\\Violence-Detection-With-Human-Skeletons\\data\\val\\Fight\\RETYTDF_524.avi\n",
      "Processing video: C:\\Users\\manuv\\Violence-Detection-With-Human-Skeletons\\data\\val\\Fight\\RIXaF_TkLlU_0.avi\n",
      "Processing video: C:\\Users\\manuv\\Violence-Detection-With-Human-Skeletons\\data\\val\\Fight\\RIXaF_TkLlU_1.avi\n"
     ]
    },
    {
     "name": "stderr",
     "output_type": "stream",
     "text": [
      " 86%|███████████████████████████████████████████████████████████████████▍          | 1720/1989 [02:23<00:19, 13.67it/s]"
     ]
    },
    {
     "name": "stdout",
     "output_type": "stream",
     "text": [
      "Processing video: C:\\Users\\manuv\\Violence-Detection-With-Human-Skeletons\\data\\val\\Fight\\RIXaF_TkLlU_2.avi\n",
      "Processing video: C:\\Users\\manuv\\Violence-Detection-With-Human-Skeletons\\data\\val\\Fight\\RIXaF_TkLlU_3.avi\n",
      "Processing video: C:\\Users\\manuv\\Violence-Detection-With-Human-Skeletons\\data\\val\\Fight\\RIXaF_TkLlU_4.avi\n"
     ]
    },
    {
     "name": "stderr",
     "output_type": "stream",
     "text": [
      " 87%|███████████████████████████████████████████████████████████████████▌          | 1724/1989 [02:24<00:19, 13.31it/s]"
     ]
    },
    {
     "name": "stdout",
     "output_type": "stream",
     "text": [
      "Processing video: C:\\Users\\manuv\\Violence-Detection-With-Human-Skeletons\\data\\val\\Fight\\RIXaF_TkLlU_5.avi\n",
      "Processing video: C:\\Users\\manuv\\Violence-Detection-With-Human-Skeletons\\data\\val\\Fight\\RTHTRS_697.avi\n",
      "Processing video: C:\\Users\\manuv\\Violence-Detection-With-Human-Skeletons\\data\\val\\Fight\\RTHTRS_698.avi\n",
      "Processing video: C:\\Users\\manuv\\Violence-Detection-With-Human-Skeletons\\data\\val\\Fight\\RTHTRS_699.avi\n"
     ]
    },
    {
     "name": "stderr",
     "output_type": "stream",
     "text": [
      " 87%|███████████████████████████████████████████████████████████████████▊          | 1729/1989 [02:24<00:14, 17.43it/s]"
     ]
    },
    {
     "name": "stdout",
     "output_type": "stream",
     "text": [
      "Processing video: C:\\Users\\manuv\\Violence-Detection-With-Human-Skeletons\\data\\val\\Fight\\RTHTRS_705.avi\n",
      "Processing video: C:\\Users\\manuv\\Violence-Detection-With-Human-Skeletons\\data\\val\\Fight\\RTHTRS_706.avi\n",
      "Processing video: C:\\Users\\manuv\\Violence-Detection-With-Human-Skeletons\\data\\val\\Fight\\RTHTRS_707.avi\n",
      "Processing video: C:\\Users\\manuv\\Violence-Detection-With-Human-Skeletons\\data\\val\\Fight\\RTHTRS_717.avi\n",
      "Processing video: C:\\Users\\manuv\\Violence-Detection-With-Human-Skeletons\\data\\val\\Fight\\RTHTRS_718.avi\n"
     ]
    },
    {
     "name": "stderr",
     "output_type": "stream",
     "text": [
      " 87%|████████████████████████████████████████████████████████████████████          | 1734/1989 [02:24<00:14, 17.31it/s]"
     ]
    },
    {
     "name": "stdout",
     "output_type": "stream",
     "text": [
      "Processing video: C:\\Users\\manuv\\Violence-Detection-With-Human-Skeletons\\data\\val\\Fight\\RTHTRS_719.avi\n",
      "Processing video: C:\\Users\\manuv\\Violence-Detection-With-Human-Skeletons\\data\\val\\Fight\\RTHTRS_720.avi\n",
      "Processing video: C:\\Users\\manuv\\Violence-Detection-With-Human-Skeletons\\data\\val\\Fight\\Ry5c1PbcIa0_0.avi\n"
     ]
    },
    {
     "name": "stderr",
     "output_type": "stream",
     "text": [
      " 87%|████████████████████████████████████████████████████████████████████          | 1736/1989 [02:24<00:14, 17.85it/s]"
     ]
    },
    {
     "name": "stdout",
     "output_type": "stream",
     "text": [
      "Processing video: C:\\Users\\manuv\\Violence-Detection-With-Human-Skeletons\\data\\val\\Fight\\SDFDSSDF_972.avi\n",
      "Processing video: C:\\Users\\manuv\\Violence-Detection-With-Human-Skeletons\\data\\val\\Fight\\SDFDSSDF_973.avi\n",
      "Processing video: C:\\Users\\manuv\\Violence-Detection-With-Human-Skeletons\\data\\val\\Fight\\SDFDSSDF_974.avi\n",
      "Processing video: C:\\Users\\manuv\\Violence-Detection-With-Human-Skeletons\\data\\val\\Fight\\SDFDSSDF_976.avi\n"
     ]
    },
    {
     "name": "stderr",
     "output_type": "stream",
     "text": [
      " 88%|████████████████████████████████████████████████████████████████████▎         | 1741/1989 [02:25<00:14, 17.71it/s]"
     ]
    },
    {
     "name": "stdout",
     "output_type": "stream",
     "text": [
      "Processing video: C:\\Users\\manuv\\Violence-Detection-With-Human-Skeletons\\data\\val\\Fight\\SDFDSSDF_977.avi\n",
      "Processing video: C:\\Users\\manuv\\Violence-Detection-With-Human-Skeletons\\data\\val\\Fight\\SDFDSSDF_978.avi\n",
      "Processing video: C:\\Users\\manuv\\Violence-Detection-With-Human-Skeletons\\data\\val\\Fight\\SJRnWfHAx_E_0.avi\n",
      "Processing video: C:\\Users\\manuv\\Violence-Detection-With-Human-Skeletons\\data\\val\\Fight\\SJRnWfHAx_E_1.avi\n"
     ]
    },
    {
     "name": "stderr",
     "output_type": "stream",
     "text": [
      " 88%|████████████████████████████████████████████████████████████████████▎         | 1743/1989 [02:25<00:14, 17.10it/s]"
     ]
    },
    {
     "name": "stdout",
     "output_type": "stream",
     "text": [
      "Processing video: C:\\Users\\manuv\\Violence-Detection-With-Human-Skeletons\\data\\val\\Fight\\SJRnWfHAx_E_2.avi\n",
      "Processing video: C:\\Users\\manuv\\Violence-Detection-With-Human-Skeletons\\data\\val\\Fight\\SJRnWfHAx_E_4.avi\n",
      "Processing video: C:\\Users\\manuv\\Violence-Detection-With-Human-Skeletons\\data\\val\\Fight\\tf_X7GtOGyE_0.avi\n"
     ]
    },
    {
     "name": "stderr",
     "output_type": "stream",
     "text": [
      " 88%|████████████████████████████████████████████████████████████████████▌         | 1747/1989 [02:25<00:16, 14.68it/s]"
     ]
    },
    {
     "name": "stdout",
     "output_type": "stream",
     "text": [
      "Processing video: C:\\Users\\manuv\\Violence-Detection-With-Human-Skeletons\\data\\val\\Fight\\tf_X7GtOGyE_1.avi\n",
      "Processing video: C:\\Users\\manuv\\Violence-Detection-With-Human-Skeletons\\data\\val\\Fight\\tf_X7GtOGyE_2.avi\n",
      "Processing video: C:\\Users\\manuv\\Violence-Detection-With-Human-Skeletons\\data\\val\\Fight\\tf_X7GtOGyE_3.avi\n",
      "Processing video: C:\\Users\\manuv\\Violence-Detection-With-Human-Skeletons\\data\\val\\Fight\\trtrhrt_1039.avi\n"
     ]
    },
    {
     "name": "stderr",
     "output_type": "stream",
     "text": [
      " 88%|████████████████████████████████████████████████████████████████████▋         | 1751/1989 [02:25<00:18, 13.02it/s]"
     ]
    },
    {
     "name": "stdout",
     "output_type": "stream",
     "text": [
      "Processing video: C:\\Users\\manuv\\Violence-Detection-With-Human-Skeletons\\data\\val\\Fight\\trtrhrt_1040.avi\n",
      "Processing video: C:\\Users\\manuv\\Violence-Detection-With-Human-Skeletons\\data\\val\\Fight\\trtrhrt_1048.avi\n"
     ]
    },
    {
     "name": "stderr",
     "output_type": "stream",
     "text": [
      " 88%|████████████████████████████████████████████████████████████████████▋         | 1753/1989 [02:26<00:19, 12.14it/s]"
     ]
    },
    {
     "name": "stdout",
     "output_type": "stream",
     "text": [
      "Processing video: C:\\Users\\manuv\\Violence-Detection-With-Human-Skeletons\\data\\val\\Fight\\trtrhrt_1049.avi\n",
      "Processing video: C:\\Users\\manuv\\Violence-Detection-With-Human-Skeletons\\data\\val\\Fight\\trtrhrt_1050.avi\n",
      "Processing video: C:\\Users\\manuv\\Violence-Detection-With-Human-Skeletons\\data\\val\\Fight\\trtrhrt_1053.avi\n",
      "Processing video: C:\\Users\\manuv\\Violence-Detection-With-Human-Skeletons\\data\\val\\Fight\\trtrhrt_1054.avi\n"
     ]
    },
    {
     "name": "stderr",
     "output_type": "stream",
     "text": [
      " 88%|████████████████████████████████████████████████████████████████████▉         | 1757/1989 [02:26<00:20, 11.32it/s]"
     ]
    },
    {
     "name": "stdout",
     "output_type": "stream",
     "text": [
      "Processing video: C:\\Users\\manuv\\Violence-Detection-With-Human-Skeletons\\data\\val\\Fight\\TYRFDVD_1104.avi\n",
      "Processing video: C:\\Users\\manuv\\Violence-Detection-With-Human-Skeletons\\data\\val\\Fight\\TYRFDVD_1105.avi\n",
      "Processing video: C:\\Users\\manuv\\Violence-Detection-With-Human-Skeletons\\data\\val\\Fight\\TYRFDVD_1106.avi\n",
      "Processing video: C:\\Users\\manuv\\Violence-Detection-With-Human-Skeletons\\data\\val\\Fight\\TYRFDVD_1109.avi\n"
     ]
    },
    {
     "name": "stderr",
     "output_type": "stream",
     "text": [
      " 89%|█████████████████████████████████████████████████████████████████████         | 1761/1989 [02:26<00:20, 10.94it/s]"
     ]
    },
    {
     "name": "stdout",
     "output_type": "stream",
     "text": [
      "Processing video: C:\\Users\\manuv\\Violence-Detection-With-Human-Skeletons\\data\\val\\Fight\\TYRFDVD_1110.avi\n",
      "Processing video: C:\\Users\\manuv\\Violence-Detection-With-Human-Skeletons\\data\\val\\Fight\\TYRFDVD_1112.avi\n",
      "Processing video: C:\\Users\\manuv\\Violence-Detection-With-Human-Skeletons\\data\\val\\Fight\\TYRFDVD_1113.avi\n"
     ]
    },
    {
     "name": "stderr",
     "output_type": "stream",
     "text": [
      " 89%|█████████████████████████████████████████████████████████████████████▎        | 1766/1989 [02:27<00:14, 15.20it/s]"
     ]
    },
    {
     "name": "stdout",
     "output_type": "stream",
     "text": [
      "Processing video: C:\\Users\\manuv\\Violence-Detection-With-Human-Skeletons\\data\\val\\Fight\\v4dhdnsxiX4_0.avi\n",
      "Processing video: C:\\Users\\manuv\\Violence-Detection-With-Human-Skeletons\\data\\val\\Fight\\v4dhdnsxiX4_1.avi\n",
      "Processing video: C:\\Users\\manuv\\Violence-Detection-With-Human-Skeletons\\data\\val\\Fight\\v4dhdnsxiX4_2.avi\n",
      "Processing video: C:\\Users\\manuv\\Violence-Detection-With-Human-Skeletons\\data\\val\\Fight\\v4dhdnsxiX4_3.avi\n",
      "Processing video: C:\\Users\\manuv\\Violence-Detection-With-Human-Skeletons\\data\\val\\Fight\\Wq0BuA8GM84_0.avi\n",
      "Processing video: C:\\Users\\manuv\\Violence-Detection-With-Human-Skeletons\\data\\val\\Fight\\Xcd0v-KhKL4_0.avi\n"
     ]
    },
    {
     "name": "stderr",
     "output_type": "stream",
     "text": [
      " 89%|█████████████████████████████████████████████████████████████████████▎        | 1769/1989 [02:27<00:13, 15.86it/s]"
     ]
    },
    {
     "name": "stdout",
     "output_type": "stream",
     "text": [
      "Processing video: C:\\Users\\manuv\\Violence-Detection-With-Human-Skeletons\\data\\val\\Fight\\xDjgfhGt-YA_0.avi\n",
      "Processing video: C:\\Users\\manuv\\Violence-Detection-With-Human-Skeletons\\data\\val\\Fight\\XM0NI7ZmwWM_0.avi\n"
     ]
    },
    {
     "name": "stderr",
     "output_type": "stream",
     "text": [
      " 89%|█████████████████████████████████████████████████████████████████████▍        | 1771/1989 [02:27<00:15, 14.42it/s]"
     ]
    },
    {
     "name": "stdout",
     "output_type": "stream",
     "text": [
      "Processing video: C:\\Users\\manuv\\Violence-Detection-With-Human-Skeletons\\data\\val\\Fight\\XM0NI7ZmwWM_1.avi\n",
      "Processing video: C:\\Users\\manuv\\Violence-Detection-With-Human-Skeletons\\data\\val\\Fight\\XM0NI7ZmwWM_2.avi\n",
      "Processing video: C:\\Users\\manuv\\Violence-Detection-With-Human-Skeletons\\data\\val\\Fight\\XM0NI7ZmwWM_3.avi\n"
     ]
    },
    {
     "name": "stderr",
     "output_type": "stream",
     "text": [
      " 89%|█████████████████████████████████████████████████████████████████████▌        | 1775/1989 [02:27<00:14, 15.17it/s]"
     ]
    },
    {
     "name": "stdout",
     "output_type": "stream",
     "text": [
      "Processing video: C:\\Users\\manuv\\Violence-Detection-With-Human-Skeletons\\data\\val\\Fight\\YDOJvzChqSg_0.avi\n",
      "Processing video: C:\\Users\\manuv\\Violence-Detection-With-Human-Skeletons\\data\\val\\Fight\\YDOJvzChqSg_1.avi\n",
      "Processing video: C:\\Users\\manuv\\Violence-Detection-With-Human-Skeletons\\data\\val\\Fight\\YDOJvzChqSg_2.avi\n",
      "Processing video: C:\\Users\\manuv\\Violence-Detection-With-Human-Skeletons\\data\\val\\Fight\\YDOJvzChqSg_3.avi\n"
     ]
    },
    {
     "name": "stderr",
     "output_type": "stream",
     "text": [
      " 89%|█████████████████████████████████████████████████████████████████████▋        | 1778/1989 [02:27<00:12, 16.91it/s]"
     ]
    },
    {
     "name": "stdout",
     "output_type": "stream",
     "text": [
      "Processing video: C:\\Users\\manuv\\Violence-Detection-With-Human-Skeletons\\data\\val\\Fight\\YDOJvzChqSg_4.avi\n",
      "Processing video: C:\\Users\\manuv\\Violence-Detection-With-Human-Skeletons\\data\\val\\Fight\\y_vX9FtjLaQ_0.avi\n",
      "Processing video: C:\\Users\\manuv\\Violence-Detection-With-Human-Skeletons\\data\\val\\Fight\\y_vX9FtjLaQ_1.avi\n"
     ]
    },
    {
     "name": "stderr",
     "output_type": "stream",
     "text": [
      " 90%|█████████████████████████████████████████████████████████████████████▉        | 1782/1989 [02:28<00:15, 13.14it/s]"
     ]
    },
    {
     "name": "stdout",
     "output_type": "stream",
     "text": [
      "Processing video: C:\\Users\\manuv\\Violence-Detection-With-Human-Skeletons\\data\\val\\Fight\\y_vX9FtjLaQ_2.avi\n",
      "Processing video: C:\\Users\\manuv\\Violence-Detection-With-Human-Skeletons\\data\\val\\Fight\\y_vX9FtjLaQ_3.avi\n"
     ]
    },
    {
     "name": "stderr",
     "output_type": "stream",
     "text": [
      " 90%|█████████████████████████████████████████████████████████████████████▉        | 1784/1989 [02:28<00:16, 12.27it/s]"
     ]
    },
    {
     "name": "stdout",
     "output_type": "stream",
     "text": [
      "Processing video: C:\\Users\\manuv\\Violence-Detection-With-Human-Skeletons\\data\\val\\Fight\\y_vX9FtjLaQ_4.avi\n",
      "Processing video: C:\\Users\\manuv\\Violence-Detection-With-Human-Skeletons\\data\\val\\Fight\\y_vX9FtjLaQ_5.avi\n"
     ]
    },
    {
     "name": "stderr",
     "output_type": "stream",
     "text": [
      " 90%|██████████████████████████████████████████████████████████████████████        | 1786/1989 [02:28<00:17, 11.36it/s]"
     ]
    },
    {
     "name": "stdout",
     "output_type": "stream",
     "text": [
      "Processing video: C:\\Users\\manuv\\Violence-Detection-With-Human-Skeletons\\data\\val\\Fight\\y_vX9FtjLaQ_6.avi\n",
      "Processing video: C:\\Users\\manuv\\Violence-Detection-With-Human-Skeletons\\data\\val\\Fight\\zOqs7Oh9oDM_0.avi\n"
     ]
    },
    {
     "name": "stderr",
     "output_type": "stream",
     "text": [
      " 90%|██████████████████████████████████████████████████████████████████████        | 1788/1989 [02:28<00:17, 11.71it/s]"
     ]
    },
    {
     "name": "stdout",
     "output_type": "stream",
     "text": [
      "Processing video: C:\\Users\\manuv\\Violence-Detection-With-Human-Skeletons\\data\\val\\Fight\\zOqs7Oh9oDM_1.avi\n",
      "Processing video: C:\\Users\\manuv\\Violence-Detection-With-Human-Skeletons\\data\\val\\Fight\\zOqs7Oh9oDM_2.avi\n",
      "Processing video: C:\\Users\\manuv\\Violence-Detection-With-Human-Skeletons\\data\\val\\Fight\\zOqs7Oh9oDM_3.avi\n"
     ]
    },
    {
     "name": "stderr",
     "output_type": "stream",
     "text": [
      " 90%|██████████████████████████████████████████████████████████████████████▏       | 1790/1989 [02:28<00:15, 12.65it/s]"
     ]
    },
    {
     "name": "stdout",
     "output_type": "stream",
     "text": [
      "Processing video: C:\\Users\\manuv\\Violence-Detection-With-Human-Skeletons\\data\\val\\NonFight\\10uSOcwS_0.avi\n",
      "Processing video: C:\\Users\\manuv\\Violence-Detection-With-Human-Skeletons\\data\\val\\NonFight\\1AURh0Wj_0.avi\n",
      "Processing video: C:\\Users\\manuv\\Violence-Detection-With-Human-Skeletons\\data\\val\\NonFight\\1MVS2QPWbHc_0.avi\n"
     ]
    },
    {
     "name": "stderr",
     "output_type": "stream",
     "text": [
      " 90%|██████████████████████████████████████████████████████████████████████▎       | 1794/1989 [02:29<00:15, 12.72it/s]"
     ]
    },
    {
     "name": "stdout",
     "output_type": "stream",
     "text": [
      "Processing video: C:\\Users\\manuv\\Violence-Detection-With-Human-Skeletons\\data\\val\\NonFight\\1MVS2QPWbHc_1.avi\n",
      "Processing video: C:\\Users\\manuv\\Violence-Detection-With-Human-Skeletons\\data\\val\\NonFight\\1W8hsVvyKt4_0.avi\n",
      "Processing video: C:\\Users\\manuv\\Violence-Detection-With-Human-Skeletons\\data\\val\\NonFight\\1W8hsVvyKt4_1.avi\n"
     ]
    },
    {
     "name": "stderr",
     "output_type": "stream",
     "text": [
      " 90%|██████████████████████████████████████████████████████████████████████▍       | 1796/1989 [02:29<00:14, 13.08it/s]"
     ]
    },
    {
     "name": "stdout",
     "output_type": "stream",
     "text": [
      "Processing video: C:\\Users\\manuv\\Violence-Detection-With-Human-Skeletons\\data\\val\\NonFight\\1W8hsVvyKt4_2.avi\n",
      "Processing video: C:\\Users\\manuv\\Violence-Detection-With-Human-Skeletons\\data\\val\\NonFight\\1W8hsVvyKt4_3.avi\n",
      "Processing video: C:\\Users\\manuv\\Violence-Detection-With-Human-Skeletons\\data\\val\\NonFight\\2lrARl7utL4_0.avi\n"
     ]
    },
    {
     "name": "stderr",
     "output_type": "stream",
     "text": [
      " 90%|██████████████████████████████████████████████████████████████████████▌       | 1800/1989 [02:29<00:15, 12.53it/s]"
     ]
    },
    {
     "name": "stdout",
     "output_type": "stream",
     "text": [
      "Processing video: C:\\Users\\manuv\\Violence-Detection-With-Human-Skeletons\\data\\val\\NonFight\\2lrARl7utL4_1.avi\n",
      "Processing video: C:\\Users\\manuv\\Violence-Detection-With-Human-Skeletons\\data\\val\\NonFight\\2lrARl7utL4_2.avi\n",
      "Processing video: C:\\Users\\manuv\\Violence-Detection-With-Human-Skeletons\\data\\val\\NonFight\\2qFnVnnZ_0.avi\n"
     ]
    },
    {
     "name": "stderr",
     "output_type": "stream",
     "text": [
      " 91%|██████████████████████████████████████████████████████████████████████▋       | 1803/1989 [02:29<00:12, 15.34it/s]"
     ]
    },
    {
     "name": "stdout",
     "output_type": "stream",
     "text": [
      "Processing video: C:\\Users\\manuv\\Violence-Detection-With-Human-Skeletons\\data\\val\\NonFight\\32wXo9Dt_0.avi\n",
      "Processing video: C:\\Users\\manuv\\Violence-Detection-With-Human-Skeletons\\data\\val\\NonFight\\39BFeYnbu-I_0.avi\n",
      "Processing video: C:\\Users\\manuv\\Violence-Detection-With-Human-Skeletons\\data\\val\\NonFight\\4I1DGWsh_0.avi\n",
      "Processing video: C:\\Users\\manuv\\Violence-Detection-With-Human-Skeletons\\data\\val\\NonFight\\4p2iGvo8_0.avi\n",
      "Processing video: C:\\Users\\manuv\\Violence-Detection-With-Human-Skeletons\\data\\val\\NonFight\\66U2c3YMjOI_0.avi\n"
     ]
    },
    {
     "name": "stderr",
     "output_type": "stream",
     "text": [
      " 91%|██████████████████████████████████████████████████████████████████████▉       | 1808/1989 [02:30<00:11, 15.56it/s]"
     ]
    },
    {
     "name": "stdout",
     "output_type": "stream",
     "text": [
      "Processing video: C:\\Users\\manuv\\Violence-Detection-With-Human-Skeletons\\data\\val\\NonFight\\66U2c3YMjOI_1.avi\n",
      "Processing video: C:\\Users\\manuv\\Violence-Detection-With-Human-Skeletons\\data\\val\\NonFight\\6doZoiaG9PM_0.avi\n",
      "Processing video: C:\\Users\\manuv\\Violence-Detection-With-Human-Skeletons\\data\\val\\NonFight\\6doZoiaG9PM_1.avi\n"
     ]
    },
    {
     "name": "stderr",
     "output_type": "stream",
     "text": [
      " 91%|███████████████████████████████████████████████████████████████████████       | 1812/1989 [02:30<00:11, 15.46it/s]"
     ]
    },
    {
     "name": "stdout",
     "output_type": "stream",
     "text": [
      "Processing video: C:\\Users\\manuv\\Violence-Detection-With-Human-Skeletons\\data\\val\\NonFight\\6doZoiaG9PM_2.avi\n",
      "Processing video: C:\\Users\\manuv\\Violence-Detection-With-Human-Skeletons\\data\\val\\NonFight\\6doZoiaG9PM_3.avi\n",
      "Processing video: C:\\Users\\manuv\\Violence-Detection-With-Human-Skeletons\\data\\val\\NonFight\\6Rl7q_kXYbg_0.avi\n",
      "Processing video: C:\\Users\\manuv\\Violence-Detection-With-Human-Skeletons\\data\\val\\NonFight\\7emxm3za_0.avi\n"
     ]
    },
    {
     "name": "stderr",
     "output_type": "stream",
     "text": [
      " 91%|███████████████████████████████████████████████████████████████████████▏      | 1815/1989 [02:30<00:10, 17.13it/s]"
     ]
    },
    {
     "name": "stdout",
     "output_type": "stream",
     "text": [
      "Processing video: C:\\Users\\manuv\\Violence-Detection-With-Human-Skeletons\\data\\val\\NonFight\\7gLKFV5voOg_0.avi\n",
      "Processing video: C:\\Users\\manuv\\Violence-Detection-With-Human-Skeletons\\data\\val\\NonFight\\8m3onRfr_0.avi\n",
      "Processing video: C:\\Users\\manuv\\Violence-Detection-With-Human-Skeletons\\data\\val\\NonFight\\8s3rES1a_0.avi\n",
      "Processing video: C:\\Users\\manuv\\Violence-Detection-With-Human-Skeletons\\data\\val\\NonFight\\8SmT9rE9_0.avi\n",
      "Processing video: C:\\Users\\manuv\\Violence-Detection-With-Human-Skeletons\\data\\val\\NonFight\\8tWVjrUW_0.avi\n"
     ]
    },
    {
     "name": "stderr",
     "output_type": "stream",
     "text": [
      " 92%|███████████████████████████████████████████████████████████████████████▎      | 1820/1989 [02:30<00:09, 17.38it/s]"
     ]
    },
    {
     "name": "stdout",
     "output_type": "stream",
     "text": [
      "Processing video: C:\\Users\\manuv\\Violence-Detection-With-Human-Skeletons\\data\\val\\NonFight\\9JxNZtUK_0.avi\n",
      "Processing video: C:\\Users\\manuv\\Violence-Detection-With-Human-Skeletons\\data\\val\\NonFight\\9kly-mpQczg_0.avi\n",
      "Processing video: C:\\Users\\manuv\\Violence-Detection-With-Human-Skeletons\\data\\val\\NonFight\\9kly-mpQczg_1.avi\n"
     ]
    },
    {
     "name": "stderr",
     "output_type": "stream",
     "text": [
      " 92%|███████████████████████████████████████████████████████████████████████▍      | 1822/1989 [02:30<00:10, 16.66it/s]"
     ]
    },
    {
     "name": "stdout",
     "output_type": "stream",
     "text": [
      "Processing video: C:\\Users\\manuv\\Violence-Detection-With-Human-Skeletons\\data\\val\\NonFight\\A7FCl8G35Cs_0.avi\n",
      "Processing video: C:\\Users\\manuv\\Violence-Detection-With-Human-Skeletons\\data\\val\\NonFight\\A7FCl8G35Cs_1.avi\n",
      "Processing video: C:\\Users\\manuv\\Violence-Detection-With-Human-Skeletons\\data\\val\\NonFight\\Assault006_x264_0.avi\n"
     ]
    },
    {
     "name": "stderr",
     "output_type": "stream",
     "text": [
      " 92%|███████████████████████████████████████████████████████████████████████▋      | 1827/1989 [02:31<00:09, 17.04it/s]"
     ]
    },
    {
     "name": "stdout",
     "output_type": "stream",
     "text": [
      "Processing video: C:\\Users\\manuv\\Violence-Detection-With-Human-Skeletons\\data\\val\\NonFight\\Assault006_x264_1.avi\n",
      "Processing video: C:\\Users\\manuv\\Violence-Detection-With-Human-Skeletons\\data\\val\\NonFight\\aZxUVVqk_0.avi\n",
      "Processing video: C:\\Users\\manuv\\Violence-Detection-With-Human-Skeletons\\data\\val\\NonFight\\BOnEkkm1_0.avi\n",
      "Processing video: C:\\Users\\manuv\\Violence-Detection-With-Human-Skeletons\\data\\val\\NonFight\\Bp3wCVsS_0.avi\n",
      "Processing video: C:\\Users\\manuv\\Violence-Detection-With-Human-Skeletons\\data\\val\\NonFight\\bW2vHhYbzHM_0.avi\n"
     ]
    },
    {
     "name": "stderr",
     "output_type": "stream",
     "text": [
      " 92%|███████████████████████████████████████████████████████████████████████▊      | 1831/1989 [02:31<00:09, 17.42it/s]"
     ]
    },
    {
     "name": "stdout",
     "output_type": "stream",
     "text": [
      "Processing video: C:\\Users\\manuv\\Violence-Detection-With-Human-Skeletons\\data\\val\\NonFight\\bW2vHhYbzHM_1.avi\n",
      "Processing video: C:\\Users\\manuv\\Violence-Detection-With-Human-Skeletons\\data\\val\\NonFight\\BySljls4_0.avi\n",
      "Processing video: C:\\Users\\manuv\\Violence-Detection-With-Human-Skeletons\\data\\val\\NonFight\\cpFWuHXF_0.avi\n",
      "Processing video: C:\\Users\\manuv\\Violence-Detection-With-Human-Skeletons\\data\\val\\NonFight\\CrBTbDcb_0.avi\n"
     ]
    },
    {
     "name": "stderr",
     "output_type": "stream",
     "text": [
      " 92%|████████████████████████████████████████████████████████████████████████      | 1837/1989 [02:31<00:07, 19.07it/s]"
     ]
    },
    {
     "name": "stdout",
     "output_type": "stream",
     "text": [
      "Processing video: C:\\Users\\manuv\\Violence-Detection-With-Human-Skeletons\\data\\val\\NonFight\\Cw0HuNI5_0.avi\n",
      "Processing video: C:\\Users\\manuv\\Violence-Detection-With-Human-Skeletons\\data\\val\\NonFight\\cw8fPfUL_0.avi\n",
      "Processing video: C:\\Users\\manuv\\Violence-Detection-With-Human-Skeletons\\data\\val\\NonFight\\DeCoZoey_0.avi\n",
      "Processing video: C:\\Users\\manuv\\Violence-Detection-With-Human-Skeletons\\data\\val\\NonFight\\e8jli13nLaM_0.avi\n"
     ]
    },
    {
     "name": "stderr",
     "output_type": "stream",
     "text": [
      " 93%|████████████████████████████████████████████████████████████████████████▏     | 1840/1989 [02:31<00:07, 20.57it/s]"
     ]
    },
    {
     "name": "stdout",
     "output_type": "stream",
     "text": [
      "Processing video: C:\\Users\\manuv\\Violence-Detection-With-Human-Skeletons\\data\\val\\NonFight\\E9SvEiNt_0.avi\n",
      "Processing video: C:\\Users\\manuv\\Violence-Detection-With-Human-Skeletons\\data\\val\\NonFight\\EB08Cq4t_0.avi\n",
      "Processing video: C:\\Users\\manuv\\Violence-Detection-With-Human-Skeletons\\data\\val\\NonFight\\eb4Oant1_0.avi\n",
      "Processing video: C:\\Users\\manuv\\Violence-Detection-With-Human-Skeletons\\data\\val\\NonFight\\EFv961C5RgY_0.avi\n",
      "Processing video: C:\\Users\\manuv\\Violence-Detection-With-Human-Skeletons\\data\\val\\NonFight\\egQvmVL2_0.avi\n"
     ]
    },
    {
     "name": "stderr",
     "output_type": "stream",
     "text": [
      " 93%|████████████████████████████████████████████████████████████████████████▎     | 1843/1989 [02:32<00:07, 19.15it/s]"
     ]
    },
    {
     "name": "stdout",
     "output_type": "stream",
     "text": [
      "Processing video: C:\\Users\\manuv\\Violence-Detection-With-Human-Skeletons\\data\\val\\NonFight\\etyiEs3j8x8_0.avi\n",
      "Processing video: C:\\Users\\manuv\\Violence-Detection-With-Human-Skeletons\\data\\val\\NonFight\\etyiEs3j8x8_1.avi\n",
      "Processing video: C:\\Users\\manuv\\Violence-Detection-With-Human-Skeletons\\data\\val\\NonFight\\etyiEs3j8x8_2.avi\n"
     ]
    },
    {
     "name": "stderr",
     "output_type": "stream",
     "text": [
      " 93%|████████████████████████████████████████████████████████████████████████▍     | 1848/1989 [02:32<00:07, 17.97it/s]"
     ]
    },
    {
     "name": "stdout",
     "output_type": "stream",
     "text": [
      "Processing video: C:\\Users\\manuv\\Violence-Detection-With-Human-Skeletons\\data\\val\\NonFight\\F6kgeh23_0.avi\n",
      "Processing video: C:\\Users\\manuv\\Violence-Detection-With-Human-Skeletons\\data\\val\\NonFight\\Fds7C6sp_0.avi\n",
      "Processing video: C:\\Users\\manuv\\Violence-Detection-With-Human-Skeletons\\data\\val\\NonFight\\fGyFpyjd_0.avi\n",
      "Processing video: C:\\Users\\manuv\\Violence-Detection-With-Human-Skeletons\\data\\val\\NonFight\\fO2vb61DcUk_0.avi\n"
     ]
    },
    {
     "name": "stderr",
     "output_type": "stream",
     "text": [
      " 93%|████████████████████████████████████████████████████████████████████████▋     | 1853/1989 [02:32<00:07, 18.82it/s]"
     ]
    },
    {
     "name": "stdout",
     "output_type": "stream",
     "text": [
      "Processing video: C:\\Users\\manuv\\Violence-Detection-With-Human-Skeletons\\data\\val\\NonFight\\fO2vb61DcUk_1.avi\n",
      "Processing video: C:\\Users\\manuv\\Violence-Detection-With-Human-Skeletons\\data\\val\\NonFight\\FpDZIe2z_0.avi\n",
      "Processing video: C:\\Users\\manuv\\Violence-Detection-With-Human-Skeletons\\data\\val\\NonFight\\Fwhi4UNI_0.avi\n",
      "Processing video: C:\\Users\\manuv\\Violence-Detection-With-Human-Skeletons\\data\\val\\NonFight\\g7fqR4gn_0.avi\n"
     ]
    },
    {
     "name": "stderr",
     "output_type": "stream",
     "text": [
      " 93%|████████████████████████████████████████████████████████████████████████▊     | 1856/1989 [02:32<00:06, 19.49it/s]"
     ]
    },
    {
     "name": "stdout",
     "output_type": "stream",
     "text": [
      "Processing video: C:\\Users\\manuv\\Violence-Detection-With-Human-Skeletons\\data\\val\\NonFight\\g8SVNUCm_0.avi\n",
      "Processing video: C:\\Users\\manuv\\Violence-Detection-With-Human-Skeletons\\data\\val\\NonFight\\GCgD8AkV_0.avi\n",
      "Processing video: C:\\Users\\manuv\\Violence-Detection-With-Human-Skeletons\\data\\val\\NonFight\\gJV3TuKF_0.avi\n",
      "Processing video: C:\\Users\\manuv\\Violence-Detection-With-Human-Skeletons\\data\\val\\NonFight\\GXvqyqYi_0.avi\n",
      "Processing video: C:\\Users\\manuv\\Violence-Detection-With-Human-Skeletons\\data\\val\\NonFight\\GYvqfFzN_0.avi\n"
     ]
    },
    {
     "name": "stderr",
     "output_type": "stream",
     "text": [
      " 93%|████████████████████████████████████████████████████████████████████████▉     | 1859/1989 [02:32<00:06, 19.93it/s]"
     ]
    },
    {
     "name": "stdout",
     "output_type": "stream",
     "text": [
      "Processing video: C:\\Users\\manuv\\Violence-Detection-With-Human-Skeletons\\data\\val\\NonFight\\I-QiUMPTWNE_0.avi\n",
      "Processing video: C:\\Users\\manuv\\Violence-Detection-With-Human-Skeletons\\data\\val\\NonFight\\I-QiUMPTWNE_1.avi\n",
      "Processing video: C:\\Users\\manuv\\Violence-Detection-With-Human-Skeletons\\data\\val\\NonFight\\I-QiUMPTWNE_2.avi\n",
      "Processing video: C:\\Users\\manuv\\Violence-Detection-With-Human-Skeletons\\data\\val\\NonFight\\I3rTHE3L_0.avi\n"
     ]
    },
    {
     "name": "stderr",
     "output_type": "stream",
     "text": [
      " 94%|█████████████████████████████████████████████████████████████████████████▏    | 1865/1989 [02:33<00:06, 19.00it/s]"
     ]
    },
    {
     "name": "stdout",
     "output_type": "stream",
     "text": [
      "Processing video: C:\\Users\\manuv\\Violence-Detection-With-Human-Skeletons\\data\\val\\NonFight\\I9OYGpUd_0.avi\n",
      "Processing video: C:\\Users\\manuv\\Violence-Detection-With-Human-Skeletons\\data\\val\\NonFight\\iE9hzgQD_0.avi\n",
      "Processing video: C:\\Users\\manuv\\Violence-Detection-With-Human-Skeletons\\data\\val\\NonFight\\iJ5Q1tar_0.avi\n",
      "Processing video: C:\\Users\\manuv\\Violence-Detection-With-Human-Skeletons\\data\\val\\NonFight\\IMA4zYs83Lo_0.avi\n"
     ]
    },
    {
     "name": "stderr",
     "output_type": "stream",
     "text": [
      " 94%|█████████████████████████████████████████████████████████████████████████▏    | 1867/1989 [02:33<00:06, 18.75it/s]"
     ]
    },
    {
     "name": "stdout",
     "output_type": "stream",
     "text": [
      "Processing video: C:\\Users\\manuv\\Violence-Detection-With-Human-Skeletons\\data\\val\\NonFight\\IvimSdBV_0.avi\n",
      "Processing video: C:\\Users\\manuv\\Violence-Detection-With-Human-Skeletons\\data\\val\\NonFight\\JECBfnp2ZXc_0.avi\n",
      "Processing video: C:\\Users\\manuv\\Violence-Detection-With-Human-Skeletons\\data\\val\\NonFight\\JECBfnp2ZXc_1.avi\n"
     ]
    },
    {
     "name": "stderr",
     "output_type": "stream",
     "text": [
      " 94%|█████████████████████████████████████████████████████████████████████████▎    | 1871/1989 [02:33<00:06, 17.07it/s]"
     ]
    },
    {
     "name": "stdout",
     "output_type": "stream",
     "text": [
      "Processing video: C:\\Users\\manuv\\Violence-Detection-With-Human-Skeletons\\data\\val\\NonFight\\JECBfnp2ZXc_2.avi\n",
      "Processing video: C:\\Users\\manuv\\Violence-Detection-With-Human-Skeletons\\data\\val\\NonFight\\JOMXfA1R_0.avi\n",
      "Processing video: C:\\Users\\manuv\\Violence-Detection-With-Human-Skeletons\\data\\val\\NonFight\\jpYrguiW_0.avi\n",
      "Processing video: C:\\Users\\manuv\\Violence-Detection-With-Human-Skeletons\\data\\val\\NonFight\\K4qpMWJS_0.avi\n"
     ]
    },
    {
     "name": "stderr",
     "output_type": "stream",
     "text": [
      " 94%|█████████████████████████████████████████████████████████████████████████▌    | 1876/1989 [02:33<00:05, 19.23it/s]"
     ]
    },
    {
     "name": "stdout",
     "output_type": "stream",
     "text": [
      "Processing video: C:\\Users\\manuv\\Violence-Detection-With-Human-Skeletons\\data\\val\\NonFight\\kApoSGPK_0.avi\n",
      "Processing video: C:\\Users\\manuv\\Violence-Detection-With-Human-Skeletons\\data\\val\\NonFight\\kMgCk8Ku_0.avi\n",
      "Processing video: C:\\Users\\manuv\\Violence-Detection-With-Human-Skeletons\\data\\val\\NonFight\\l82NDOvk_0.avi\n",
      "Processing video: C:\\Users\\manuv\\Violence-Detection-With-Human-Skeletons\\data\\val\\NonFight\\LKdiIccO_0.avi\n",
      "Processing video: C:\\Users\\manuv\\Violence-Detection-With-Human-Skeletons\\data\\val\\NonFight\\LoQZojhn_0.avi\n",
      "Processing video: C:\\Users\\manuv\\Violence-Detection-With-Human-Skeletons\\data\\val\\NonFight\\LruY67tu_0.avi\n"
     ]
    },
    {
     "name": "stderr",
     "output_type": "stream",
     "text": [
      " 95%|█████████████████████████████████████████████████████████████████████████▊    | 1882/1989 [02:34<00:04, 22.47it/s]"
     ]
    },
    {
     "name": "stdout",
     "output_type": "stream",
     "text": [
      "Processing video: C:\\Users\\manuv\\Violence-Detection-With-Human-Skeletons\\data\\val\\NonFight\\LtfqEsod_0.avi\n",
      "Processing video: C:\\Users\\manuv\\Violence-Detection-With-Human-Skeletons\\data\\val\\NonFight\\MrEU15Ug_0.avi\n",
      "Processing video: C:\\Users\\manuv\\Violence-Detection-With-Human-Skeletons\\data\\val\\NonFight\\mwuiYEBdkJs_0.avi\n",
      "Processing video: C:\\Users\\manuv\\Violence-Detection-With-Human-Skeletons\\data\\val\\NonFight\\mwuiYEBdkJs_1.avi\n",
      "Processing video: C:\\Users\\manuv\\Violence-Detection-With-Human-Skeletons\\data\\val\\NonFight\\MxkTo5F-nvU_0.avi\n"
     ]
    },
    {
     "name": "stderr",
     "output_type": "stream",
     "text": [
      " 95%|█████████████████████████████████████████████████████████████████████████▉    | 1885/1989 [02:34<00:04, 21.57it/s]"
     ]
    },
    {
     "name": "stdout",
     "output_type": "stream",
     "text": [
      "Processing video: C:\\Users\\manuv\\Violence-Detection-With-Human-Skeletons\\data\\val\\NonFight\\myaBOqJ3_0.avi\n",
      "Processing video: C:\\Users\\manuv\\Violence-Detection-With-Human-Skeletons\\data\\val\\NonFight\\N8M1mmW9_0.avi\n",
      "Processing video: C:\\Users\\manuv\\Violence-Detection-With-Human-Skeletons\\data\\val\\NonFight\\NeyOxUHJ_0.avi\n",
      "Processing video: C:\\Users\\manuv\\Violence-Detection-With-Human-Skeletons\\data\\val\\NonFight\\ngv36FBY_0.avi\n"
     ]
    },
    {
     "name": "stderr",
     "output_type": "stream",
     "text": [
      " 95%|██████████████████████████████████████████████████████████████████████████▏   | 1891/1989 [02:34<00:04, 21.39it/s]"
     ]
    },
    {
     "name": "stdout",
     "output_type": "stream",
     "text": [
      "Processing video: C:\\Users\\manuv\\Violence-Detection-With-Human-Skeletons\\data\\val\\NonFight\\Nlopikk0zhE_0.avi\n",
      "Processing video: C:\\Users\\manuv\\Violence-Detection-With-Human-Skeletons\\data\\val\\NonFight\\NnUOjff0_0.avi\n",
      "Processing video: C:\\Users\\manuv\\Violence-Detection-With-Human-Skeletons\\data\\val\\NonFight\\NoUdd8wq_0.avi\n",
      "Processing video: C:\\Users\\manuv\\Violence-Detection-With-Human-Skeletons\\data\\val\\NonFight\\NQpYodM6_0.avi\n",
      "Processing video: C:\\Users\\manuv\\Violence-Detection-With-Human-Skeletons\\data\\val\\NonFight\\nTsOksk7_0.avi\n"
     ]
    },
    {
     "name": "stderr",
     "output_type": "stream",
     "text": [
      " 95%|██████████████████████████████████████████████████████████████████████████▍   | 1897/1989 [02:34<00:04, 22.47it/s]"
     ]
    },
    {
     "name": "stdout",
     "output_type": "stream",
     "text": [
      "Processing video: C:\\Users\\manuv\\Violence-Detection-With-Human-Skeletons\\data\\val\\NonFight\\nuf-d5GugL0_0.avi\n",
      "Processing video: C:\\Users\\manuv\\Violence-Detection-With-Human-Skeletons\\data\\val\\NonFight\\nuf-d5GugL0_1.avi\n",
      "Processing video: C:\\Users\\manuv\\Violence-Detection-With-Human-Skeletons\\data\\val\\NonFight\\nuf-d5GugL0_2.avi\n",
      "Processing video: C:\\Users\\manuv\\Violence-Detection-With-Human-Skeletons\\data\\val\\NonFight\\nVdn1krnTCQ_0.avi\n",
      "Processing video: C:\\Users\\manuv\\Violence-Detection-With-Human-Skeletons\\data\\val\\NonFight\\nVdn1krnTCQ_1.avi\n",
      "Processing video: C:\\Users\\manuv\\Violence-Detection-With-Human-Skeletons\\data\\val\\NonFight\\nVdn1krnTCQ_2.avi\n"
     ]
    },
    {
     "name": "stderr",
     "output_type": "stream",
     "text": [
      " 96%|██████████████████████████████████████████████████████████████████████████▋   | 1903/1989 [02:35<00:03, 21.91it/s]"
     ]
    },
    {
     "name": "stdout",
     "output_type": "stream",
     "text": [
      "Processing video: C:\\Users\\manuv\\Violence-Detection-With-Human-Skeletons\\data\\val\\NonFight\\NW4ndzCa_0.avi\n",
      "Processing video: C:\\Users\\manuv\\Violence-Detection-With-Human-Skeletons\\data\\val\\NonFight\\NWIc3Yat_0.avi\n",
      "Processing video: C:\\Users\\manuv\\Violence-Detection-With-Human-Skeletons\\data\\val\\NonFight\\NWqRgoGh_0.avi\n",
      "Processing video: C:\\Users\\manuv\\Violence-Detection-With-Human-Skeletons\\data\\val\\NonFight\\NYvOWjLU_0.avi\n"
     ]
    },
    {
     "name": "stderr",
     "output_type": "stream",
     "text": [
      " 96%|██████████████████████████████████████████████████████████████████████████▋   | 1906/1989 [02:35<00:03, 22.40it/s]"
     ]
    },
    {
     "name": "stdout",
     "output_type": "stream",
     "text": [
      "Processing video: C:\\Users\\manuv\\Violence-Detection-With-Human-Skeletons\\data\\val\\NonFight\\O2rd3LTv_0.avi\n",
      "Processing video: C:\\Users\\manuv\\Violence-Detection-With-Human-Skeletons\\data\\val\\NonFight\\Ob0YCDgS_0.avi\n",
      "Processing video: C:\\Users\\manuv\\Violence-Detection-With-Human-Skeletons\\data\\val\\NonFight\\ojZVUz7i_0.avi\n",
      "Processing video: C:\\Users\\manuv\\Violence-Detection-With-Human-Skeletons\\data\\val\\NonFight\\oXeSTCLT_0.avi\n",
      "Processing video: C:\\Users\\manuv\\Violence-Detection-With-Human-Skeletons\\data\\val\\NonFight\\PaTrwJbs_0.avi\n"
     ]
    },
    {
     "name": "stderr",
     "output_type": "stream",
     "text": [
      " 96%|██████████████████████████████████████████████████████████████████████████▊   | 1909/1989 [02:35<00:03, 21.97it/s]"
     ]
    },
    {
     "name": "stdout",
     "output_type": "stream",
     "text": [
      "Processing video: C:\\Users\\manuv\\Violence-Detection-With-Human-Skeletons\\data\\val\\NonFight\\PL8idmS7_0.avi\n",
      "Processing video: C:\\Users\\manuv\\Violence-Detection-With-Human-Skeletons\\data\\val\\NonFight\\PNgE-OKjhgU_0.avi\n",
      "Processing video: C:\\Users\\manuv\\Violence-Detection-With-Human-Skeletons\\data\\val\\NonFight\\PNgE-OKjhgU_1.avi\n"
     ]
    },
    {
     "name": "stderr",
     "output_type": "stream",
     "text": [
      " 96%|██████████████████████████████████████████████████████████████████████████▉   | 1912/1989 [02:35<00:04, 18.43it/s]"
     ]
    },
    {
     "name": "stdout",
     "output_type": "stream",
     "text": [
      "Processing video: C:\\Users\\manuv\\Violence-Detection-With-Human-Skeletons\\data\\val\\NonFight\\q4jlVJRb_0.avi\n",
      "Processing video: C:\\Users\\manuv\\Violence-Detection-With-Human-Skeletons\\data\\val\\NonFight\\qaAclucigpY_0.avi\n",
      "Processing video: C:\\Users\\manuv\\Violence-Detection-With-Human-Skeletons\\data\\val\\NonFight\\qaAclucigpY_1.avi\n"
     ]
    },
    {
     "name": "stderr",
     "output_type": "stream",
     "text": [
      " 96%|███████████████████████████████████████████████████████████████████████████▏  | 1916/1989 [02:35<00:04, 16.97it/s]"
     ]
    },
    {
     "name": "stdout",
     "output_type": "stream",
     "text": [
      "Processing video: C:\\Users\\manuv\\Violence-Detection-With-Human-Skeletons\\data\\val\\NonFight\\qaAclucigpY_2.avi\n",
      "Processing video: C:\\Users\\manuv\\Violence-Detection-With-Human-Skeletons\\data\\val\\NonFight\\qFfqTQm0_0.avi\n",
      "Processing video: C:\\Users\\manuv\\Violence-Detection-With-Human-Skeletons\\data\\val\\NonFight\\Qj3oZsaqNGE_0.avi\n"
     ]
    },
    {
     "name": "stderr",
     "output_type": "stream",
     "text": [
      " 96%|███████████████████████████████████████████████████████████████████████████▏  | 1918/1989 [02:35<00:04, 16.63it/s]"
     ]
    },
    {
     "name": "stdout",
     "output_type": "stream",
     "text": [
      "Processing video: C:\\Users\\manuv\\Violence-Detection-With-Human-Skeletons\\data\\val\\NonFight\\QRJFLxqK_0.avi\n",
      "Processing video: C:\\Users\\manuv\\Violence-Detection-With-Human-Skeletons\\data\\val\\NonFight\\qyRJeYN5_0.avi\n",
      "Processing video: C:\\Users\\manuv\\Violence-Detection-With-Human-Skeletons\\data\\val\\NonFight\\r0mVR4J6_0.avi\n",
      "Processing video: C:\\Users\\manuv\\Violence-Detection-With-Human-Skeletons\\data\\val\\NonFight\\RIXaF_TkLlU_0.avi\n"
     ]
    },
    {
     "name": "stderr",
     "output_type": "stream",
     "text": [
      " 97%|███████████████████████████████████████████████████████████████████████████▍  | 1923/1989 [02:36<00:04, 14.99it/s]"
     ]
    },
    {
     "name": "stdout",
     "output_type": "stream",
     "text": [
      "Processing video: C:\\Users\\manuv\\Violence-Detection-With-Human-Skeletons\\data\\val\\NonFight\\RIXaF_TkLlU_1.avi\n",
      "Processing video: C:\\Users\\manuv\\Violence-Detection-With-Human-Skeletons\\data\\val\\NonFight\\RIXaF_TkLlU_2.avi\n",
      "Processing video: C:\\Users\\manuv\\Violence-Detection-With-Human-Skeletons\\data\\val\\NonFight\\rJbh1niy_0.avi\n"
     ]
    },
    {
     "name": "stderr",
     "output_type": "stream",
     "text": [
      " 97%|███████████████████████████████████████████████████████████████████████████▌  | 1926/1989 [02:36<00:03, 17.21it/s]"
     ]
    },
    {
     "name": "stdout",
     "output_type": "stream",
     "text": [
      "Processing video: C:\\Users\\manuv\\Violence-Detection-With-Human-Skeletons\\data\\val\\NonFight\\RQt37bnC_0.avi\n",
      "Processing video: C:\\Users\\manuv\\Violence-Detection-With-Human-Skeletons\\data\\val\\NonFight\\rtSWit6k_0.avi\n",
      "Processing video: C:\\Users\\manuv\\Violence-Detection-With-Human-Skeletons\\data\\val\\NonFight\\rwg8hp5X_0.avi\n",
      "Processing video: C:\\Users\\manuv\\Violence-Detection-With-Human-Skeletons\\data\\val\\NonFight\\Ry5c1PbcIa0_0.avi\n"
     ]
    },
    {
     "name": "stderr",
     "output_type": "stream",
     "text": [
      " 97%|███████████████████████████████████████████████████████████████████████████▋  | 1931/1989 [02:36<00:03, 17.48it/s]"
     ]
    },
    {
     "name": "stdout",
     "output_type": "stream",
     "text": [
      "Processing video: C:\\Users\\manuv\\Violence-Detection-With-Human-Skeletons\\data\\val\\NonFight\\S8jXc3sP_0.avi\n",
      "Processing video: C:\\Users\\manuv\\Violence-Detection-With-Human-Skeletons\\data\\val\\NonFight\\scznszmE_0.avi\n",
      "Processing video: C:\\Users\\manuv\\Violence-Detection-With-Human-Skeletons\\data\\val\\NonFight\\SJRnWfHAx_E_0.avi\n",
      "Processing video: C:\\Users\\manuv\\Violence-Detection-With-Human-Skeletons\\data\\val\\NonFight\\SJRnWfHAx_E_1.avi\n"
     ]
    },
    {
     "name": "stderr",
     "output_type": "stream",
     "text": [
      " 97%|███████████████████████████████████████████████████████████████████████████▊  | 1933/1989 [02:36<00:03, 15.00it/s]"
     ]
    },
    {
     "name": "stdout",
     "output_type": "stream",
     "text": [
      "Processing video: C:\\Users\\manuv\\Violence-Detection-With-Human-Skeletons\\data\\val\\NonFight\\SJRnWfHAx_E_2.avi\n",
      "Processing video: C:\\Users\\manuv\\Violence-Detection-With-Human-Skeletons\\data\\val\\NonFight\\tf_X7GtOGyE_0.avi\n",
      "Processing video: C:\\Users\\manuv\\Violence-Detection-With-Human-Skeletons\\data\\val\\NonFight\\tf_X7GtOGyE_1.avi\n",
      "Processing video: C:\\Users\\manuv\\Violence-Detection-With-Human-Skeletons\\data\\val\\NonFight\\tf_X7GtOGyE_2.avi\n"
     ]
    },
    {
     "name": "stderr",
     "output_type": "stream",
     "text": [
      " 97%|████████████████████████████████████████████████████████████████████████████  | 1939/1989 [02:37<00:02, 18.88it/s]"
     ]
    },
    {
     "name": "stdout",
     "output_type": "stream",
     "text": [
      "Processing video: C:\\Users\\manuv\\Violence-Detection-With-Human-Skeletons\\data\\val\\NonFight\\tivF4CAg_0.avi\n",
      "Processing video: C:\\Users\\manuv\\Violence-Detection-With-Human-Skeletons\\data\\val\\NonFight\\TP6mtOzL_0.avi\n",
      "Processing video: C:\\Users\\manuv\\Violence-Detection-With-Human-Skeletons\\data\\val\\NonFight\\tSk5CEXB_0.avi\n",
      "Processing video: C:\\Users\\manuv\\Violence-Detection-With-Human-Skeletons\\data\\val\\NonFight\\twBrsDhF_0.avi\n",
      "Processing video: C:\\Users\\manuv\\Violence-Detection-With-Human-Skeletons\\data\\val\\NonFight\\u-VcErKk6Qs_0.avi\n"
     ]
    },
    {
     "name": "stderr",
     "output_type": "stream",
     "text": [
      " 98%|████████████████████████████████████████████████████████████████████████████▏ | 1944/1989 [02:37<00:02, 20.05it/s]"
     ]
    },
    {
     "name": "stdout",
     "output_type": "stream",
     "text": [
      "Processing video: C:\\Users\\manuv\\Violence-Detection-With-Human-Skeletons\\data\\val\\NonFight\\UoS3KEYq_0.avi\n",
      "Processing video: C:\\Users\\manuv\\Violence-Detection-With-Human-Skeletons\\data\\val\\NonFight\\utRmPckr_0.avi\n",
      "Processing video: C:\\Users\\manuv\\Violence-Detection-With-Human-Skeletons\\data\\val\\NonFight\\uZLLdl2P_0.avi\n",
      "Processing video: C:\\Users\\manuv\\Violence-Detection-With-Human-Skeletons\\data\\val\\NonFight\\v1Sb6NhU_0.avi\n",
      "Processing video: C:\\Users\\manuv\\Violence-Detection-With-Human-Skeletons\\data\\val\\NonFight\\v4dhdnsxiX4_0.avi\n"
     ]
    },
    {
     "name": "stderr",
     "output_type": "stream",
     "text": [
      " 98%|████████████████████████████████████████████████████████████████████████████▍ | 1950/1989 [02:37<00:01, 19.79it/s]"
     ]
    },
    {
     "name": "stdout",
     "output_type": "stream",
     "text": [
      "Processing video: C:\\Users\\manuv\\Violence-Detection-With-Human-Skeletons\\data\\val\\NonFight\\v4dhdnsxiX4_1.avi\n",
      "Processing video: C:\\Users\\manuv\\Violence-Detection-With-Human-Skeletons\\data\\val\\NonFight\\v4dhdnsxiX4_2.avi\n",
      "Processing video: C:\\Users\\manuv\\Violence-Detection-With-Human-Skeletons\\data\\val\\NonFight\\vAV3vIGr_0.avi\n",
      "Processing video: C:\\Users\\manuv\\Violence-Detection-With-Human-Skeletons\\data\\val\\NonFight\\vDeu44Su_0.avi\n"
     ]
    },
    {
     "name": "stderr",
     "output_type": "stream",
     "text": [
      " 98%|████████████████████████████████████████████████████████████████████████████▌ | 1953/1989 [02:37<00:01, 20.80it/s]"
     ]
    },
    {
     "name": "stdout",
     "output_type": "stream",
     "text": [
      "Processing video: C:\\Users\\manuv\\Violence-Detection-With-Human-Skeletons\\data\\val\\NonFight\\VF8M3gXp_0.avi\n",
      "Processing video: C:\\Users\\manuv\\Violence-Detection-With-Human-Skeletons\\data\\val\\NonFight\\VGKvz9qZ_0.avi\n",
      "Processing video: C:\\Users\\manuv\\Violence-Detection-With-Human-Skeletons\\data\\val\\NonFight\\VIPpAkyG_0.avi\n",
      "Processing video: C:\\Users\\manuv\\Violence-Detection-With-Human-Skeletons\\data\\val\\NonFight\\vKUjLaXO_0.avi\n",
      "Processing video: C:\\Users\\manuv\\Violence-Detection-With-Human-Skeletons\\data\\val\\NonFight\\VtIQbKvy_0.avi\n"
     ]
    },
    {
     "name": "stderr",
     "output_type": "stream",
     "text": [
      " 98%|████████████████████████████████████████████████████████████████████████████▊ | 1959/1989 [02:38<00:01, 21.48it/s]"
     ]
    },
    {
     "name": "stdout",
     "output_type": "stream",
     "text": [
      "Processing video: C:\\Users\\manuv\\Violence-Detection-With-Human-Skeletons\\data\\val\\NonFight\\VTOPSZvF_0.avi\n",
      "Processing video: C:\\Users\\manuv\\Violence-Detection-With-Human-Skeletons\\data\\val\\NonFight\\VVQBImyG_0.avi\n",
      "Processing video: C:\\Users\\manuv\\Violence-Detection-With-Human-Skeletons\\data\\val\\NonFight\\vXGRa5D6_0.avi\n",
      "Processing video: C:\\Users\\manuv\\Violence-Detection-With-Human-Skeletons\\data\\val\\NonFight\\VzHfmJeI_0.avi\n"
     ]
    },
    {
     "name": "stderr",
     "output_type": "stream",
     "text": [
      " 99%|████████████████████████████████████████████████████████████████████████████▉ | 1962/1989 [02:38<00:01, 21.30it/s]"
     ]
    },
    {
     "name": "stdout",
     "output_type": "stream",
     "text": [
      "Processing video: C:\\Users\\manuv\\Violence-Detection-With-Human-Skeletons\\data\\val\\NonFight\\w6VytllR_0.avi\n",
      "Processing video: C:\\Users\\manuv\\Violence-Detection-With-Human-Skeletons\\data\\val\\NonFight\\wMcODEtzJIA_0.avi\n",
      "Processing video: C:\\Users\\manuv\\Violence-Detection-With-Human-Skeletons\\data\\val\\NonFight\\wMcODEtzJIA_1.avi\n",
      "Processing video: C:\\Users\\manuv\\Violence-Detection-With-Human-Skeletons\\data\\val\\NonFight\\WPXtCPPS_0.avi\n",
      "Processing video: C:\\Users\\manuv\\Violence-Detection-With-Human-Skeletons\\data\\val\\NonFight\\Wq0BuA8GM84_0.avi\n"
     ]
    },
    {
     "name": "stderr",
     "output_type": "stream",
     "text": [
      " 99%|█████████████████████████████████████████████████████████████████████████████ | 1965/1989 [02:38<00:01, 21.56it/s]"
     ]
    },
    {
     "name": "stdout",
     "output_type": "stream",
     "text": [
      "Processing video: C:\\Users\\manuv\\Violence-Detection-With-Human-Skeletons\\data\\val\\NonFight\\Wq0BuA8GM84_1.avi\n",
      "Processing video: C:\\Users\\manuv\\Violence-Detection-With-Human-Skeletons\\data\\val\\NonFight\\wyLoweAn_9Q_0.avi\n",
      "Processing video: C:\\Users\\manuv\\Violence-Detection-With-Human-Skeletons\\data\\val\\NonFight\\wyLoweAn_9Q_1.avi\n"
     ]
    },
    {
     "name": "stderr",
     "output_type": "stream",
     "text": [
      " 99%|█████████████████████████████████████████████████████████████████████████████▎| 1970/1989 [02:38<00:01, 17.43it/s]"
     ]
    },
    {
     "name": "stdout",
     "output_type": "stream",
     "text": [
      "Processing video: C:\\Users\\manuv\\Violence-Detection-With-Human-Skeletons\\data\\val\\NonFight\\Xcd0v-KhKL4_0.avi\n",
      "Processing video: C:\\Users\\manuv\\Violence-Detection-With-Human-Skeletons\\data\\val\\NonFight\\xRbCHA5YTi8_0.avi\n",
      "Processing video: C:\\Users\\manuv\\Violence-Detection-With-Human-Skeletons\\data\\val\\NonFight\\xV69l7Vj_0.avi\n",
      "Processing video: C:\\Users\\manuv\\Violence-Detection-With-Human-Skeletons\\data\\val\\NonFight\\y2pGPMqikJg_0.avi\n"
     ]
    },
    {
     "name": "stderr",
     "output_type": "stream",
     "text": [
      " 99%|█████████████████████████████████████████████████████████████████████████████▍| 1974/1989 [02:39<00:00, 17.22it/s]"
     ]
    },
    {
     "name": "stdout",
     "output_type": "stream",
     "text": [
      "Processing video: C:\\Users\\manuv\\Violence-Detection-With-Human-Skeletons\\data\\val\\NonFight\\y2pGPMqikJg_1.avi\n",
      "Processing video: C:\\Users\\manuv\\Violence-Detection-With-Human-Skeletons\\data\\val\\NonFight\\YDOJvzChqSg_0.avi\n",
      "Processing video: C:\\Users\\manuv\\Violence-Detection-With-Human-Skeletons\\data\\val\\NonFight\\Yf55ftZR_0.avi\n",
      "Processing video: C:\\Users\\manuv\\Violence-Detection-With-Human-Skeletons\\data\\val\\NonFight\\yFaADLZw_0.avi\n"
     ]
    },
    {
     "name": "stderr",
     "output_type": "stream",
     "text": [
      "100%|█████████████████████████████████████████████████████████████████████████████▋| 1980/1989 [02:39<00:00, 22.01it/s]"
     ]
    },
    {
     "name": "stdout",
     "output_type": "stream",
     "text": [
      "Processing video: C:\\Users\\manuv\\Violence-Detection-With-Human-Skeletons\\data\\val\\NonFight\\YL1qlr23_0.avi\n",
      "Processing video: C:\\Users\\manuv\\Violence-Detection-With-Human-Skeletons\\data\\val\\NonFight\\Yma07mlW_0.avi\n",
      "Processing video: C:\\Users\\manuv\\Violence-Detection-With-Human-Skeletons\\data\\val\\NonFight\\yN11pFfP_0.avi\n",
      "Processing video: C:\\Users\\manuv\\Violence-Detection-With-Human-Skeletons\\data\\val\\NonFight\\YukOkfIj_0.avi\n",
      "Processing video: C:\\Users\\manuv\\Violence-Detection-With-Human-Skeletons\\data\\val\\NonFight\\YYCGcBuE_0.avi\n",
      "Processing video: C:\\Users\\manuv\\Violence-Detection-With-Human-Skeletons\\data\\val\\NonFight\\ZCa5f4yq_0.avi\n"
     ]
    },
    {
     "name": "stderr",
     "output_type": "stream",
     "text": [
      "100%|█████████████████████████████████████████████████████████████████████████████▊| 1983/1989 [02:39<00:00, 21.65it/s]"
     ]
    },
    {
     "name": "stdout",
     "output_type": "stream",
     "text": [
      "Processing video: C:\\Users\\manuv\\Violence-Detection-With-Human-Skeletons\\data\\val\\NonFight\\ZCUy99AN_0.avi\n",
      "Processing video: C:\\Users\\manuv\\Violence-Detection-With-Human-Skeletons\\data\\val\\NonFight\\zGBzk5SeJOw_0.avi\n",
      "Processing video: C:\\Users\\manuv\\Violence-Detection-With-Human-Skeletons\\data\\val\\NonFight\\zGBzk5SeJOw_1.avi\n",
      "Processing video: C:\\Users\\manuv\\Violence-Detection-With-Human-Skeletons\\data\\val\\NonFight\\zMbmPG71_0.avi\n"
     ]
    },
    {
     "name": "stderr",
     "output_type": "stream",
     "text": [
      "100%|█████████████████████████████████████████████████████████████████████████████▉| 1986/1989 [02:39<00:00, 18.73it/s]"
     ]
    },
    {
     "name": "stdout",
     "output_type": "stream",
     "text": [
      "Processing video: C:\\Users\\manuv\\Violence-Detection-With-Human-Skeletons\\data\\val\\NonFight\\zOqs7Oh9oDM_0.avi\n",
      "Processing video: C:\\Users\\manuv\\Violence-Detection-With-Human-Skeletons\\data\\val\\NonFight\\zsvJyWXp_0.avi\n",
      "Processing video: C:\\Users\\manuv\\Violence-Detection-With-Human-Skeletons\\data\\val\\NonFight\\zWevuNTR_0.avi\n",
      "Processing video: C:\\Users\\manuv\\Violence-Detection-With-Human-Skeletons\\data\\val\\NonFight\\ZwhC7Kyg_0.avi\n"
     ]
    },
    {
     "name": "stderr",
     "output_type": "stream",
     "text": [
      "100%|██████████████████████████████████████████████████████████████████████████████| 1989/1989 [02:39<00:00, 12.45it/s]\n"
     ]
    }
   ],
   "source": [
    "#Process video and apply openpose\n",
    "\n",
    "\n",
    "# Loop through all video paths and process them\n",
    "for video_path in tqdm.tqdm(videos):  # Using tqdm for progress tracking\n",
    "    print(f\"Processing video: {video_path}\")\n",
    "    \n",
    "    # Apply gamma correction if GAMMA > 0\n",
    "    if GAMMA > 0:\n",
    "        process_gamma(video_path)\n",
    "\n",
    "    # Set the path for the gamma-corrected video if GAMMA > 0\n",
    "    video_gamma = video_path.replace('original_data', 'gamma_data') if GAMMA > 0 else video_path\n",
    "    \n",
    "    # Set the path for the OpenPose output video\n",
    "    video_save_path = video_path.replace('original_data', 'openpose_gamma')\n",
    "\n",
    "    # TODO: use OpenPose Python API for faster processing (currently using shell command)\n",
    "    # This command runs OpenPose on the video to detect human poses and saves the results to a new video file\n",
    "    os.system(f'cd openpose && ./build/examples/openpose/openpose.bin --video ../{video_gamma[:-4]+\".avi\"} --display 0 --write_video ../{video_save_path[:-4]+\".avi\"} --disable_blending > /dev/null')\n"
   ]
  },
  {
   "cell_type": "code",
   "execution_count": null,
   "id": "e4b6f3ea-2561-4dfb-8481-7b2b742425a1",
   "metadata": {},
   "outputs": [],
   "source": []
  }
 ],
 "metadata": {
  "kernelspec": {
   "display_name": "Python 3 (ipykernel)",
   "language": "python",
   "name": "python3"
  },
  "language_info": {
   "codemirror_mode": {
    "name": "ipython",
    "version": 3
   },
   "file_extension": ".py",
   "mimetype": "text/x-python",
   "name": "python",
   "nbconvert_exporter": "python",
   "pygments_lexer": "ipython3",
   "version": "3.9.22"
  }
 },
 "nbformat": 4,
 "nbformat_minor": 5
}
