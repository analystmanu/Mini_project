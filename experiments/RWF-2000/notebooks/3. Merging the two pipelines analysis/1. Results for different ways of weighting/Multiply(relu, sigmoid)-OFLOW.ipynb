{
 "cells": [
  {
   "cell_type": "markdown",
   "metadata": {
    "_cell_guid": "b1076dfc-b9ad-4769-8c92-a6c4dae69d19",
    "_uuid": "8f2839f25d086af736a60e9eeb907d3b93b6e0e5"
   },
   "source": [
    "Openpose (+gamma) without background and optical flow (farneback) as input. Multiplication as combination"
   ]
  },
  {
   "cell_type": "code",
   "execution_count": 1,
   "metadata": {
    "execution": {
     "iopub.execute_input": "2022-03-11T13:19:25.977498Z",
     "iopub.status.busy": "2022-03-11T13:19:25.977059Z",
     "iopub.status.idle": "2022-03-11T13:19:25.981746Z",
     "shell.execute_reply": "2022-03-11T13:19:25.980719Z",
     "shell.execute_reply.started": "2022-03-11T13:19:25.977465Z"
    }
   },
   "outputs": [],
   "source": [
    "# Use output of OpenPose with or without background\n",
    "BACKGROUND = False\n",
    "# Paths to videos for training\n",
    "PATHS = [\"../../../datasets/optical-flow/opencv/farneback\", f\"../../../datasets/openpose_processed/gamma/{'' if BACKGROUND else 'no_'}back\"]"
   ]
  },
  {
   "cell_type": "code",
   "execution_count": 2,
   "metadata": {
    "execution": {
     "iopub.execute_input": "2022-03-11T13:19:25.98401Z",
     "iopub.status.busy": "2022-03-11T13:19:25.983753Z",
     "iopub.status.idle": "2022-03-11T13:19:25.991894Z",
     "shell.execute_reply": "2022-03-11T13:19:25.991105Z",
     "shell.execute_reply.started": "2022-03-11T13:19:25.983972Z"
    }
   },
   "outputs": [],
   "source": [
    "import tensorflow as tf"
   ]
  },
  {
   "cell_type": "code",
   "execution_count": 3,
   "metadata": {
    "pycharm": {
     "name": "#%%\n"
    }
   },
   "outputs": [
    {
     "name": "stderr",
     "output_type": "stream",
     "text": [
      "2022-05-13 13:50:52.809236: I tensorflow/stream_executor/cuda/cuda_gpu_executor.cc:936] successful NUMA node read from SysFS had negative value (-1), but there must be at least one NUMA node, so returning NUMA node zero\n",
      "2022-05-13 13:50:52.810645: I tensorflow/stream_executor/cuda/cuda_gpu_executor.cc:936] successful NUMA node read from SysFS had negative value (-1), but there must be at least one NUMA node, so returning NUMA node zero\n",
      "2022-05-13 13:50:52.811756: I tensorflow/stream_executor/cuda/cuda_gpu_executor.cc:936] successful NUMA node read from SysFS had negative value (-1), but there must be at least one NUMA node, so returning NUMA node zero\n",
      "2022-05-13 13:50:52.817390: I tensorflow/stream_executor/cuda/cuda_gpu_executor.cc:936] successful NUMA node read from SysFS had negative value (-1), but there must be at least one NUMA node, so returning NUMA node zero\n",
      "2022-05-13 13:50:52.818806: I tensorflow/stream_executor/cuda/cuda_gpu_executor.cc:936] successful NUMA node read from SysFS had negative value (-1), but there must be at least one NUMA node, so returning NUMA node zero\n",
      "2022-05-13 13:50:52.819841: I tensorflow/stream_executor/cuda/cuda_gpu_executor.cc:936] successful NUMA node read from SysFS had negative value (-1), but there must be at least one NUMA node, so returning NUMA node zero\n",
      "2022-05-13 13:50:52.820274: I tensorflow/stream_executor/cuda/cuda_gpu_executor.cc:936] successful NUMA node read from SysFS had negative value (-1), but there must be at least one NUMA node, so returning NUMA node zero\n",
      "2022-05-13 13:50:52.821631: I tensorflow/stream_executor/cuda/cuda_gpu_executor.cc:936] successful NUMA node read from SysFS had negative value (-1), but there must be at least one NUMA node, so returning NUMA node zero\n",
      "2022-05-13 13:50:52.822643: I tensorflow/stream_executor/cuda/cuda_gpu_executor.cc:936] successful NUMA node read from SysFS had negative value (-1), but there must be at least one NUMA node, so returning NUMA node zero\n"
     ]
    }
   ],
   "source": [
    "!export TF_FORCE_GPU_ALLOW_GROWTH=True\n",
    "gpus = tf.config.list_physical_devices('GPU')\n",
    "if gpus:\n",
    "    # Currently, memory growth needs to be the same across GPUs\n",
    "    for gpu in gpus:\n",
    "        tf.config.experimental.set_memory_growth(gpu, True)\n",
    "    tf.config.set_visible_devices(gpus[1:], 'GPU')"
   ]
  },
  {
   "cell_type": "markdown",
   "metadata": {},
   "source": [
    "Set seed"
   ]
  },
  {
   "cell_type": "code",
   "execution_count": 4,
   "metadata": {
    "execution": {
     "iopub.execute_input": "2022-03-11T13:19:25.99373Z",
     "iopub.status.busy": "2022-03-11T13:19:25.993435Z",
     "iopub.status.idle": "2022-03-11T13:19:26.016866Z",
     "shell.execute_reply": "2022-03-11T13:19:26.016121Z",
     "shell.execute_reply.started": "2022-03-11T13:19:25.993694Z"
    }
   },
   "outputs": [],
   "source": [
    "SEED = 0\n",
    "import random\n",
    "import numpy as np\n",
    "random.seed(SEED)\n",
    "np.random.seed(SEED)\n",
    "tf.random.set_seed(SEED)"
   ]
  },
  {
   "cell_type": "markdown",
   "metadata": {},
   "source": [
    "# Load data"
   ]
  },
  {
   "cell_type": "code",
   "execution_count": 5,
   "metadata": {
    "execution": {
     "iopub.execute_input": "2022-03-11T13:19:26.020522Z",
     "iopub.status.busy": "2022-03-11T13:19:26.019963Z",
     "iopub.status.idle": "2022-03-11T13:19:26.026099Z",
     "shell.execute_reply": "2022-03-11T13:19:26.025371Z",
     "shell.execute_reply.started": "2022-03-11T13:19:26.020483Z"
    }
   },
   "outputs": [],
   "source": [
    "import numpy as np\n",
    "import cv2"
   ]
  },
  {
   "cell_type": "code",
   "execution_count": 6,
   "metadata": {
    "execution": {
     "iopub.execute_input": "2022-03-11T13:19:26.029742Z",
     "iopub.status.busy": "2022-03-11T13:19:26.029354Z",
     "iopub.status.idle": "2022-03-11T13:19:26.044202Z",
     "shell.execute_reply": "2022-03-11T13:19:26.042228Z",
     "shell.execute_reply.started": "2022-03-11T13:19:26.029704Z"
    }
   },
   "outputs": [],
   "source": [
    "ORIGINAL_FRAMES_PER_VIDEO = 150 - 1\n",
    "FRAMES_PER_VIDEO = 50\n",
    "VIDEO_WIDTH, VIDEO_HEIGHT = 100, 100\n",
    "N_CHANNELS = 3\n",
    "\n",
    "def load_videos(video_IDs: list, video_frames: int = FRAMES_PER_VIDEO, video_width: int = VIDEO_WIDTH, video_height: int = VIDEO_HEIGHT,\n",
    "                video_channels: int = N_CHANNELS, dtype = np.float32, normalize: bool = False) -> tuple:\n",
    "    videos = np.empty((len(video_IDs), video_frames, video_height, video_width, video_channels), dtype=dtype)\n",
    "\n",
    "    # Indexes of frames to be kept to comply with video_frames\n",
    "    frames_idx = set(np.round(np.linspace(0, ORIGINAL_FRAMES_PER_VIDEO - 1, video_frames)).astype(int))\n",
    "\n",
    "    for i, video_ID in enumerate(video_IDs):\n",
    "        cap = cv2.VideoCapture(video_ID)\n",
    "        frames = []\n",
    "        index = 0\n",
    "        while True:\n",
    "            ret, frame = cap.read()\n",
    "            if not ret:\n",
    "                break\n",
    "            if index in frames_idx:\n",
    "                frame = cv2.resize(frame, (video_width, video_height)).astype(dtype)\n",
    "                if normalize:\n",
    "                    frame /= 255.0\n",
    "                frames.append(frame)\n",
    "            index += 1\n",
    "        cap.release()\n",
    "\n",
    "        videos[i,] = np.array(frames)\n",
    "\n",
    "    return videos"
   ]
  },
  {
   "cell_type": "markdown",
   "metadata": {},
   "source": [
    "DataGenerator class to load videos per batch, in case all videos do not fit in memory"
   ]
  },
  {
   "cell_type": "code",
   "execution_count": 7,
   "metadata": {
    "execution": {
     "iopub.execute_input": "2022-03-11T13:19:26.045807Z",
     "iopub.status.busy": "2022-03-11T13:19:26.045605Z",
     "iopub.status.idle": "2022-03-11T13:19:26.059732Z",
     "shell.execute_reply": "2022-03-11T13:19:26.058897Z",
     "shell.execute_reply.started": "2022-03-11T13:19:26.045781Z"
    }
   },
   "outputs": [],
   "source": [
    "import gc\n",
    "from tensorflow.keras import backend as K\n",
    "\n",
    "class DataGenerator(tf.keras.utils.Sequence):\n",
    "    def __init__(self, video_IDs: list, video_labels: dict, batch_size: int, paths: list = [''], video_width: int = VIDEO_WIDTH, video_height: int = VIDEO_HEIGHT,\n",
    "                video_frames: int = FRAMES_PER_VIDEO, video_channels: int = N_CHANNELS, dtype = np.float32, normalize: bool = False, shuffle: bool = True):\n",
    "        self.video_IDs = video_IDs\n",
    "        self.video_labels = video_labels\n",
    "        self.batch_size = batch_size\n",
    "        self.paths = paths\n",
    "        self.video_width = video_width\n",
    "        self.video_height = video_height\n",
    "        self.video_frames = video_frames\n",
    "        self.video_channels = video_channels\n",
    "        self.dtype = dtype\n",
    "        self.normalize = normalize\n",
    "        self.shuffle = shuffle\n",
    "\n",
    "    def __len__(self):\n",
    "        return len(self.video_IDs) // self.batch_size\n",
    "\n",
    "    def __getitem__(self, idx):\n",
    "        batch_IDs = self.video_IDs[idx*self.batch_size:(idx+1)*self.batch_size]\n",
    "        input_videos = []\n",
    "        \n",
    "        for index, path in enumerate(self.paths):\n",
    "            batch_IDs_full_path = [path+ID for ID in batch_IDs]\n",
    "\n",
    "            videos = load_videos(batch_IDs_full_path, self.video_frames, self.video_width, \n",
    "                                         self.video_height, self.video_channels, self.dtype, self.normalize)\n",
    "            \n",
    "            input_videos.append(videos)\n",
    "        \n",
    "        labels = np.array([self.video_labels[ID] for ID in batch_IDs])\n",
    "                    \n",
    "        return input_videos, labels\n",
    "            \n",
    "    \n",
    "    def on_epoch_end(self):\n",
    "        'Updates indexes after each epoch'\n",
    "        if self.shuffle:\n",
    "            np.random.shuffle(self.video_IDs)\n",
    "        # Clear memory after epochs\n",
    "        gc.collect()\n",
    "        #K.clear_session()"
   ]
  },
  {
   "cell_type": "markdown",
   "metadata": {},
   "source": [
    "## Videos to load"
   ]
  },
  {
   "cell_type": "code",
   "execution_count": 8,
   "metadata": {},
   "outputs": [],
   "source": [
    "def get_slug_from_path(path):\n",
    "    \"\"\"\n",
    "    Function to get slug from path\n",
    "    slug must contain /train or /val because there are repeated names\n",
    "    \"\"\"\n",
    "    # Try train index first\n",
    "    index = path.rfind('/train/')\n",
    "    if index == -1:\n",
    "        index = path.rfind('/val/')\n",
    "    return path[index:]"
   ]
  },
  {
   "cell_type": "code",
   "execution_count": 9,
   "metadata": {
    "execution": {
     "iopub.execute_input": "2022-03-11T13:19:26.062131Z",
     "iopub.status.busy": "2022-03-11T13:19:26.06193Z",
     "iopub.status.idle": "2022-03-11T13:19:26.085657Z",
     "shell.execute_reply": "2022-03-11T13:19:26.084932Z",
     "shell.execute_reply.started": "2022-03-11T13:19:26.062105Z"
    }
   },
   "outputs": [],
   "source": [
    "import glob\n",
    "\n",
    "train_video_IDs = [get_slug_from_path(path) for path in glob.glob(PATHS[0]+'/train/*/*')]\n",
    "test_video_IDs = [get_slug_from_path(path) for path in glob.glob(PATHS[0]+'/val/*/*')]\n",
    "\n",
    "train_video_labels = {video: 0 if 'NonFight' in video else 1 for video in train_video_IDs}\n",
    "test_video_labels = {video: 0 if 'NonFight' in video else 1 for video in test_video_IDs}\n",
    "\n",
    "\n",
    "train_generator = DataGenerator(train_video_IDs, train_video_labels, batch_size=10, paths=PATHS)\n",
    "test_generator = DataGenerator(test_video_IDs, test_video_labels, batch_size=10, paths=PATHS)"
   ]
  },
  {
   "cell_type": "markdown",
   "metadata": {},
   "source": [
    "# ConvLSTM"
   ]
  },
  {
   "cell_type": "code",
   "execution_count": 10,
   "metadata": {},
   "outputs": [
    {
     "name": "stdout",
     "output_type": "stream",
     "text": [
      "Model: \"model\"\n",
      "__________________________________________________________________________________________________\n",
      " Layer (type)                   Output Shape         Param #     Connected to                     \n",
      "==================================================================================================\n",
      " input_1 (InputLayer)           [(None, 50, 100, 10  0           []                               \n",
      "                                0, 3)]                                                            \n",
      "                                                                                                  \n",
      " input_2 (InputLayer)           [(None, 50, 100, 10  0           []                               \n",
      "                                0, 3)]                                                            \n",
      "                                                                                                  \n",
      " batch_normalization (BatchNorm  (None, 50, 100, 100  12         ['input_1[0][0]']                \n",
      " alization)                     , 3)                                                              \n",
      "                                                                                                  \n",
      " time_distributed_1 (TimeDistri  (None, 50, 98, 98,   84         ['input_2[0][0]']                \n",
      " buted)                         3)                                                                \n",
      "                                                                                                  \n",
      " time_distributed (TimeDistribu  (None, 50, 98, 98,   84         ['batch_normalization[0][0]']    \n",
      " ted)                           3)                                                                \n",
      "                                                                                                  \n",
      " multiply (Multiply)            (None, 50, 98, 98,   0           ['time_distributed_1[0][0]',     \n",
      "                                3)                                'time_distributed[0][0]']       \n",
      "                                                                                                  \n",
      " conv_lstm2d (ConvLSTM2D)       (None, 96, 96, 32)   40448       ['multiply[0][0]']               \n",
      "                                                                                                  \n",
      " global_average_pooling2d (Glob  (None, 32)          0           ['conv_lstm2d[0][0]']            \n",
      " alAveragePooling2D)                                                                              \n",
      "                                                                                                  \n",
      " dense (Dense)                  (None, 128)          4224        ['global_average_pooling2d[0][0]'\n",
      "                                                                 ]                                \n",
      "                                                                                                  \n",
      " dense_1 (Dense)                (None, 16)           2064        ['dense[0][0]']                  \n",
      "                                                                                                  \n",
      " dense_2 (Dense)                (None, 1)            17          ['dense_1[0][0]']                \n",
      "                                                                                                  \n",
      "==================================================================================================\n",
      "Total params: 46,933\n",
      "Trainable params: 46,927\n",
      "Non-trainable params: 6\n",
      "__________________________________________________________________________________________________\n"
     ]
    },
    {
     "name": "stderr",
     "output_type": "stream",
     "text": [
      "2022-05-13 13:50:52.882015: I tensorflow/core/platform/cpu_feature_guard.cc:151] This TensorFlow binary is optimized with oneAPI Deep Neural Network Library (oneDNN) to use the following CPU instructions in performance-critical operations:  AVX2 FMA\n",
      "To enable them in other operations, rebuild TensorFlow with the appropriate compiler flags.\n",
      "2022-05-13 13:50:53.106927: I tensorflow/stream_executor/cuda/cuda_gpu_executor.cc:936] successful NUMA node read from SysFS had negative value (-1), but there must be at least one NUMA node, so returning NUMA node zero\n",
      "2022-05-13 13:50:53.107986: I tensorflow/stream_executor/cuda/cuda_gpu_executor.cc:936] successful NUMA node read from SysFS had negative value (-1), but there must be at least one NUMA node, so returning NUMA node zero\n",
      "2022-05-13 13:50:53.108409: I tensorflow/stream_executor/cuda/cuda_gpu_executor.cc:936] successful NUMA node read from SysFS had negative value (-1), but there must be at least one NUMA node, so returning NUMA node zero\n",
      "2022-05-13 13:50:53.109396: I tensorflow/stream_executor/cuda/cuda_gpu_executor.cc:936] successful NUMA node read from SysFS had negative value (-1), but there must be at least one NUMA node, so returning NUMA node zero\n",
      "2022-05-13 13:50:53.109798: I tensorflow/stream_executor/cuda/cuda_gpu_executor.cc:936] successful NUMA node read from SysFS had negative value (-1), but there must be at least one NUMA node, so returning NUMA node zero\n",
      "2022-05-13 13:50:53.110781: I tensorflow/stream_executor/cuda/cuda_gpu_executor.cc:936] successful NUMA node read from SysFS had negative value (-1), but there must be at least one NUMA node, so returning NUMA node zero\n",
      "2022-05-13 13:50:53.754003: I tensorflow/stream_executor/cuda/cuda_gpu_executor.cc:936] successful NUMA node read from SysFS had negative value (-1), but there must be at least one NUMA node, so returning NUMA node zero\n",
      "2022-05-13 13:50:53.755068: I tensorflow/stream_executor/cuda/cuda_gpu_executor.cc:936] successful NUMA node read from SysFS had negative value (-1), but there must be at least one NUMA node, so returning NUMA node zero\n",
      "2022-05-13 13:50:53.755491: I tensorflow/stream_executor/cuda/cuda_gpu_executor.cc:936] successful NUMA node read from SysFS had negative value (-1), but there must be at least one NUMA node, so returning NUMA node zero\n",
      "2022-05-13 13:50:53.756482: I tensorflow/stream_executor/cuda/cuda_gpu_executor.cc:936] successful NUMA node read from SysFS had negative value (-1), but there must be at least one NUMA node, so returning NUMA node zero\n",
      "2022-05-13 13:50:53.756891: I tensorflow/stream_executor/cuda/cuda_gpu_executor.cc:936] successful NUMA node read from SysFS had negative value (-1), but there must be at least one NUMA node, so returning NUMA node zero\n",
      "2022-05-13 13:50:53.757878: I tensorflow/core/common_runtime/gpu/gpu_device.cc:1525] Created device /job:localhost/replica:0/task:0/device:GPU:0 with 25607 MB memory:  -> device: 1, name: NVIDIA A100 80GB PCIe, pci bus id: 0000:61:00.0, compute capability: 8.0\n",
      "2022-05-13 13:50:53.758234: I tensorflow/stream_executor/cuda/cuda_gpu_executor.cc:936] successful NUMA node read from SysFS had negative value (-1), but there must be at least one NUMA node, so returning NUMA node zero\n",
      "2022-05-13 13:50:53.758661: I tensorflow/core/common_runtime/gpu/gpu_device.cc:1525] Created device /job:localhost/replica:0/task:0/device:GPU:1 with 2009 MB memory:  -> device: 2, name: NVIDIA T1000, pci bus id: 0000:41:00.0, compute capability: 7.5\n"
     ]
    }
   ],
   "source": [
    "inputs_oflow = tf.keras.layers.Input(shape=(FRAMES_PER_VIDEO, VIDEO_HEIGHT, VIDEO_WIDTH, N_CHANNELS))\n",
    "inputs_openpose = tf.keras.layers.Input(shape=(FRAMES_PER_VIDEO, VIDEO_HEIGHT, VIDEO_WIDTH, N_CHANNELS))\n",
    "\n",
    "# This is strictly needed for the model to work due to the nature of OFlow\n",
    "# If not, 0.5 constant accuracy\n",
    "inputs_oflow_norm = tf.keras.layers.BatchNormalization()(inputs_oflow)\n",
    "convolutional_layer_oflow = tf.keras.layers.Conv2D(filters=3, kernel_size=(3,3), activation='sigmoid')\n",
    "inputs_oflow_time_info_weight = tf.keras.layers.TimeDistributed(convolutional_layer_oflow)(inputs_oflow_norm)\n",
    "\n",
    "convolutional_layer_openpose = tf.keras.layers.Conv2D(filters=3, kernel_size=(3,3), activation='relu')\n",
    "inputs_openpose_soft = tf.keras.layers.TimeDistributed(convolutional_layer_openpose)(inputs_openpose)\n",
    "\n",
    "inputs_weighted = tf.keras.layers.Multiply()([inputs_openpose_soft, inputs_oflow_time_info_weight])\n",
    "\n",
    "x = tf.keras.layers.ConvLSTM2D(filters=32, kernel_size=(3, 3), return_sequences=False, data_format='channels_last', activation='tanh')(inputs_weighted)\n",
    "\n",
    "x = tf.keras.layers.GlobalAveragePooling2D(data_format='channels_last')(x)\n",
    "\n",
    "x = tf.keras.layers.Dense(units=128, activation='relu')(x)\n",
    "x = tf.keras.layers.Dense(units=16, activation='relu')(x)\n",
    "outputs = tf.keras.layers.Dense(units=1, activation='sigmoid')(x)\n",
    "\n",
    "model = tf.keras.Model([inputs_oflow, inputs_openpose], outputs)\n",
    "model.compile(optimizer='adam', loss='binary_crossentropy', metrics=['accuracy'])\n",
    "\n",
    "model.summary()"
   ]
  },
  {
   "cell_type": "code",
   "execution_count": 11,
   "metadata": {
    "execution": {
     "iopub.execute_input": "2022-03-11T13:19:26.225669Z",
     "iopub.status.busy": "2022-03-11T13:19:26.225387Z",
     "iopub.status.idle": "2022-03-11T14:02:30.18049Z",
     "shell.execute_reply": "2022-03-11T14:02:30.177368Z",
     "shell.execute_reply.started": "2022-03-11T13:19:26.225631Z"
    },
    "pycharm": {
     "is_executing": true
    }
   },
   "outputs": [
    {
     "name": "stdout",
     "output_type": "stream",
     "text": [
      "Epoch 1/30\n"
     ]
    },
    {
     "name": "stderr",
     "output_type": "stream",
     "text": [
      "2022-05-13 13:50:59.765672: I tensorflow/stream_executor/cuda/cuda_dnn.cc:368] Loaded cuDNN version 8303\n",
      "2022-05-13 13:51:00.679577: W tensorflow/stream_executor/gpu/asm_compiler.cc:111] *** WARNING *** You are using ptxas 10.1.243, which is older than 11.1. ptxas before 11.1 is known to miscompile XLA code, leading to incorrect results or invalid-address errors.\n",
      "\n",
      "You may not need to update to CUDA 11.1; cherry-picking the ptxas binary is often sufficient.\n",
      "2022-05-13 13:51:00.680803: W tensorflow/stream_executor/gpu/asm_compiler.cc:230] Falling back to the CUDA driver for PTX compilation; ptxas does not support CC 8.0\n",
      "2022-05-13 13:51:00.680833: W tensorflow/stream_executor/gpu/asm_compiler.cc:233] Used ptxas at ptxas\n",
      "2022-05-13 13:51:00.680943: W tensorflow/stream_executor/gpu/redzone_allocator.cc:314] UNIMPLEMENTED: ptxas ptxas too old. Falling back to the driver to compile.\n",
      "Relying on driver to perform ptx compilation. \n",
      "Modify $PATH to customize ptxas location.\n",
      "This message will be only logged once.\n",
      "2022-05-13 13:51:00.960722: I tensorflow/stream_executor/cuda/cuda_blas.cc:1786] TensorFloat-32 will be used for the matrix multiplication. This will only be logged once.\n"
     ]
    },
    {
     "name": "stdout",
     "output_type": "stream",
     "text": [
      "160/160 - 340s - loss: 0.6853 - accuracy: 0.5719 - val_loss: 0.6074 - val_accuracy: 0.7075 - 340s/epoch - 2s/step\n",
      "Epoch 2/30\n",
      "160/160 - 336s - loss: 0.5905 - accuracy: 0.6819 - val_loss: 0.5250 - val_accuracy: 0.7300 - 336s/epoch - 2s/step\n",
      "Epoch 3/30\n",
      "160/160 - 336s - loss: 0.5468 - accuracy: 0.7169 - val_loss: 0.4702 - val_accuracy: 0.7625 - 336s/epoch - 2s/step\n",
      "Epoch 4/30\n",
      "160/160 - 334s - loss: 0.5026 - accuracy: 0.7581 - val_loss: 0.4421 - val_accuracy: 0.7975 - 334s/epoch - 2s/step\n",
      "Epoch 5/30\n",
      "160/160 - 337s - loss: 0.4944 - accuracy: 0.7556 - val_loss: 0.4200 - val_accuracy: 0.7875 - 337s/epoch - 2s/step\n",
      "Epoch 6/30\n",
      "160/160 - 335s - loss: 0.4642 - accuracy: 0.7844 - val_loss: 0.4251 - val_accuracy: 0.8025 - 335s/epoch - 2s/step\n",
      "Epoch 7/30\n",
      "160/160 - 334s - loss: 0.4735 - accuracy: 0.7756 - val_loss: 0.3970 - val_accuracy: 0.8025 - 334s/epoch - 2s/step\n",
      "Epoch 8/30\n",
      "160/160 - 334s - loss: 0.4571 - accuracy: 0.7875 - val_loss: 0.3885 - val_accuracy: 0.8125 - 334s/epoch - 2s/step\n",
      "Epoch 9/30\n",
      "160/160 - 332s - loss: 0.4491 - accuracy: 0.8044 - val_loss: 0.4090 - val_accuracy: 0.8175 - 332s/epoch - 2s/step\n",
      "Epoch 10/30\n",
      "160/160 - 329s - loss: 0.4325 - accuracy: 0.8100 - val_loss: 0.4051 - val_accuracy: 0.8175 - 329s/epoch - 2s/step\n",
      "Epoch 11/30\n",
      "160/160 - 333s - loss: 0.4291 - accuracy: 0.8125 - val_loss: 0.3973 - val_accuracy: 0.8075 - 333s/epoch - 2s/step\n",
      "Epoch 12/30\n",
      "160/160 - 332s - loss: 0.4206 - accuracy: 0.8169 - val_loss: 0.3753 - val_accuracy: 0.8300 - 332s/epoch - 2s/step\n",
      "Epoch 13/30\n",
      "160/160 - 331s - loss: 0.4119 - accuracy: 0.8194 - val_loss: 0.4140 - val_accuracy: 0.7950 - 331s/epoch - 2s/step\n",
      "Epoch 14/30\n",
      "160/160 - 332s - loss: 0.3984 - accuracy: 0.8275 - val_loss: 0.3830 - val_accuracy: 0.8150 - 332s/epoch - 2s/step\n",
      "Epoch 15/30\n",
      "160/160 - 329s - loss: 0.4012 - accuracy: 0.8256 - val_loss: 0.3789 - val_accuracy: 0.8325 - 329s/epoch - 2s/step\n",
      "Epoch 16/30\n",
      "160/160 - 330s - loss: 0.3963 - accuracy: 0.8325 - val_loss: 0.4058 - val_accuracy: 0.8025 - 330s/epoch - 2s/step\n",
      "Epoch 17/30\n",
      "160/160 - 332s - loss: 0.4103 - accuracy: 0.8244 - val_loss: 0.4047 - val_accuracy: 0.8150 - 332s/epoch - 2s/step\n",
      "Epoch 18/30\n",
      "160/160 - 332s - loss: 0.3818 - accuracy: 0.8413 - val_loss: 0.3968 - val_accuracy: 0.8225 - 332s/epoch - 2s/step\n",
      "Epoch 19/30\n",
      "160/160 - 332s - loss: 0.3807 - accuracy: 0.8319 - val_loss: 0.3687 - val_accuracy: 0.8400 - 332s/epoch - 2s/step\n",
      "Epoch 20/30\n",
      "160/160 - 333s - loss: 0.3922 - accuracy: 0.8275 - val_loss: 0.3670 - val_accuracy: 0.8325 - 333s/epoch - 2s/step\n",
      "Epoch 21/30\n",
      "160/160 - 332s - loss: 0.3767 - accuracy: 0.8438 - val_loss: 0.3951 - val_accuracy: 0.8325 - 332s/epoch - 2s/step\n",
      "Epoch 22/30\n",
      "160/160 - 331s - loss: 0.3710 - accuracy: 0.8481 - val_loss: 0.3822 - val_accuracy: 0.8300 - 331s/epoch - 2s/step\n",
      "Epoch 23/30\n",
      "160/160 - 332s - loss: 0.3816 - accuracy: 0.8394 - val_loss: 0.3800 - val_accuracy: 0.8300 - 332s/epoch - 2s/step\n",
      "Epoch 24/30\n",
      "160/160 - 331s - loss: 0.3767 - accuracy: 0.8344 - val_loss: 0.3686 - val_accuracy: 0.8400 - 331s/epoch - 2s/step\n",
      "Epoch 25/30\n",
      "160/160 - 330s - loss: 0.3593 - accuracy: 0.8475 - val_loss: 0.4015 - val_accuracy: 0.8125 - 330s/epoch - 2s/step\n",
      "Epoch 26/30\n",
      "160/160 - 331s - loss: 0.3681 - accuracy: 0.8494 - val_loss: 0.3566 - val_accuracy: 0.8475 - 331s/epoch - 2s/step\n",
      "Epoch 27/30\n",
      "160/160 - 333s - loss: 0.3555 - accuracy: 0.8587 - val_loss: 0.4041 - val_accuracy: 0.8325 - 333s/epoch - 2s/step\n",
      "Epoch 28/30\n",
      "160/160 - 333s - loss: 0.3675 - accuracy: 0.8406 - val_loss: 0.3594 - val_accuracy: 0.8525 - 333s/epoch - 2s/step\n",
      "Epoch 29/30\n",
      "160/160 - 331s - loss: 0.3560 - accuracy: 0.8525 - val_loss: 0.3692 - val_accuracy: 0.8475 - 331s/epoch - 2s/step\n",
      "Epoch 30/30\n",
      "160/160 - 331s - loss: 0.3523 - accuracy: 0.8556 - val_loss: 0.3630 - val_accuracy: 0.8400 - 331s/epoch - 2s/step\n"
     ]
    }
   ],
   "source": [
    "history = model.fit(train_generator, epochs=30, validation_data=test_generator, verbose=2)"
   ]
  },
  {
   "cell_type": "markdown",
   "metadata": {},
   "source": [
    "# Model performance"
   ]
  },
  {
   "cell_type": "code",
   "execution_count": 12,
   "metadata": {
    "execution": {
     "iopub.status.busy": "2022-03-11T14:02:30.183078Z",
     "iopub.status.idle": "2022-03-11T14:02:30.185057Z",
     "shell.execute_reply": "2022-03-11T14:02:30.184854Z",
     "shell.execute_reply.started": "2022-03-11T14:02:30.184829Z"
    },
    "pycharm": {
     "is_executing": true
    }
   },
   "outputs": [
    {
     "data": {
      "image/png": "[encoded data removed]",
      "text/plain": [
       "<Figure size 432x288 with 1 Axes>"
      ]
     },
     "metadata": {
      "needs_background": "light"
     },
     "output_type": "display_data"
    },
    {
     "data": {
      "image/png": "[encoded data removed]",
      "text/plain": [
       "<Figure size 432x288 with 1 Axes>"
      ]
     },
     "metadata": {
      "needs_background": "light"
     },
     "output_type": "display_data"
    }
   ],
   "source": [
    "import matplotlib.pyplot as plt\n",
    "# summarize history for accuracy\n",
    "plt.plot(history.history['accuracy'])\n",
    "plt.plot(history.history['val_accuracy'])\n",
    "plt.title('model accuracy')\n",
    "plt.ylabel('accuracy')\n",
    "plt.xlabel('epoch')\n",
    "plt.legend(['train', 'test'], loc='upper left')\n",
    "plt.show()\n",
    "# summarize history for loss\n",
    "plt.plot(history.history['loss'])\n",
    "plt.plot(history.history['val_loss'])\n",
    "plt.title('model loss')\n",
    "plt.ylabel('loss')\n",
    "plt.xlabel('epoch')\n",
    "plt.legend(['train', 'test'], loc='upper left')\n",
    "plt.show()"
   ]
  },
  {
   "cell_type": "markdown",
   "metadata": {},
   "source": [
    "# Save perfomance metrics"
   ]
  },
  {
   "cell_type": "code",
   "execution_count": 13,
   "metadata": {},
   "outputs": [],
   "source": [
    "import os\n",
    "import ipynbname\n",
    "import json\n",
    "from keras.utils.layer_utils import count_params\n",
    "\n",
    "current_directory = os.getcwd() + '/'\n",
    "results_directory = current_directory.replace('notebooks', 'results_summary')\n",
    "\n",
    "experiment_name = ipynbname.name()\n",
    "\n",
    "# Save history as json\n",
    "with open(results_directory + experiment_name + '.json', 'w') as f:\n",
    "    json.dump(history.history, f)\n",
    "    \n",
    "# Compute max val_accuracy and number of trainable params and append to stats\n",
    "max_val_acc = max(history.history['val_accuracy'])\n",
    "trainable_params = count_params(model.trainable_weights)\n",
    "\n",
    "# Store value in latex table format\n",
    "acc_string = f'{experiment_name} & {max_val_acc:.2%}'.replace('%', '\\%')\n",
    "acc_params_string = acc_string + f' & {trainable_params}'\n",
    "\n",
    "with open(results_directory + 'acc.dat', 'a') as f:\n",
    "    f.write(acc_string + ' \\\\\\ \\n')\n",
    "    \n",
    "with open(results_directory + 'acc_params.dat', 'a') as f:\n",
    "    f.write(acc_params_string + ' \\\\\\ \\n')"
   ]
  }
 ],
 "metadata": {
  "kernelspec": {
   "display_name": "tfg-info-env",
   "language": "python",
   "name": "tfg-info-env"
  },
  "language_info": {
   "codemirror_mode": {
    "name": "ipython",
    "version": 3
   },
   "file_extension": ".py",
   "mimetype": "text/x-python",
   "name": "python",
   "nbconvert_exporter": "python",
   "pygments_lexer": "ipython3",
   "version": "3.9.7"
  }
 },
 "nbformat": 4,
 "nbformat_minor": 4
}
