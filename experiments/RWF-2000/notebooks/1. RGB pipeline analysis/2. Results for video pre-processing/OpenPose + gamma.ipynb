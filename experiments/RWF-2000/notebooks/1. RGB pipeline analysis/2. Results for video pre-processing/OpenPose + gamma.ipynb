{
 "cells": [
  {
   "cell_type": "markdown",
   "metadata": {
    "_cell_guid": "b1076dfc-b9ad-4769-8c92-a6c4dae69d19",
    "_uuid": "8f2839f25d086af736a60e9eeb907d3b93b6e0e5"
   },
   "source": [
    "Gamma correction before OpenPose. Then Openpose without background videos as input"
   ]
  },
  {
   "cell_type": "code",
   "execution_count": 1,
   "metadata": {
    "execution": {
     "iopub.execute_input": "2022-03-11T13:19:25.977498Z",
     "iopub.status.busy": "2022-03-11T13:19:25.977059Z",
     "iopub.status.idle": "2022-03-11T13:19:25.981746Z",
     "shell.execute_reply": "2022-03-11T13:19:25.980719Z",
     "shell.execute_reply.started": "2022-03-11T13:19:25.977465Z"
    }
   },
   "outputs": [],
   "source": [
    "# Use output of OpenPose with or without background\n",
    "BACKGROUND = False\n",
    "# Paths to videos for training\n",
    "PATH = f\"../../../datasets/openpose_processed/gamma/{'' if BACKGROUND else 'no_'}back\""
   ]
  },
  {
   "cell_type": "code",
   "execution_count": 2,
   "metadata": {
    "execution": {
     "iopub.execute_input": "2022-03-11T13:19:25.98401Z",
     "iopub.status.busy": "2022-03-11T13:19:25.983753Z",
     "iopub.status.idle": "2022-03-11T13:19:25.991894Z",
     "shell.execute_reply": "2022-03-11T13:19:25.991105Z",
     "shell.execute_reply.started": "2022-03-11T13:19:25.983972Z"
    }
   },
   "outputs": [],
   "source": [
    "import tensorflow as tf"
   ]
  },
  {
   "cell_type": "code",
   "execution_count": 3,
   "metadata": {
    "pycharm": {
     "name": "#%%\n"
    }
   },
   "outputs": [
    {
     "name": "stderr",
     "output_type": "stream",
     "text": [
      "2022-05-14 11:59:05.798768: I tensorflow/stream_executor/cuda/cuda_gpu_executor.cc:936] successful NUMA node read from SysFS had negative value (-1), but there must be at least one NUMA node, so returning NUMA node zero\n",
      "2022-05-14 11:59:05.800822: I tensorflow/stream_executor/cuda/cuda_gpu_executor.cc:936] successful NUMA node read from SysFS had negative value (-1), but there must be at least one NUMA node, so returning NUMA node zero\n",
      "2022-05-14 11:59:05.801831: I tensorflow/stream_executor/cuda/cuda_gpu_executor.cc:936] successful NUMA node read from SysFS had negative value (-1), but there must be at least one NUMA node, so returning NUMA node zero\n",
      "2022-05-14 11:59:05.807117: I tensorflow/stream_executor/cuda/cuda_gpu_executor.cc:936] successful NUMA node read from SysFS had negative value (-1), but there must be at least one NUMA node, so returning NUMA node zero\n",
      "2022-05-14 11:59:05.809216: I tensorflow/stream_executor/cuda/cuda_gpu_executor.cc:936] successful NUMA node read from SysFS had negative value (-1), but there must be at least one NUMA node, so returning NUMA node zero\n",
      "2022-05-14 11:59:05.810243: I tensorflow/stream_executor/cuda/cuda_gpu_executor.cc:936] successful NUMA node read from SysFS had negative value (-1), but there must be at least one NUMA node, so returning NUMA node zero\n",
      "2022-05-14 11:59:05.810682: I tensorflow/stream_executor/cuda/cuda_gpu_executor.cc:936] successful NUMA node read from SysFS had negative value (-1), but there must be at least one NUMA node, so returning NUMA node zero\n",
      "2022-05-14 11:59:05.812700: I tensorflow/stream_executor/cuda/cuda_gpu_executor.cc:936] successful NUMA node read from SysFS had negative value (-1), but there must be at least one NUMA node, so returning NUMA node zero\n",
      "2022-05-14 11:59:05.813709: I tensorflow/stream_executor/cuda/cuda_gpu_executor.cc:936] successful NUMA node read from SysFS had negative value (-1), but there must be at least one NUMA node, so returning NUMA node zero\n"
     ]
    }
   ],
   "source": [
    "!export TF_FORCE_GPU_ALLOW_GROWTH=True\n",
    "gpus = tf.config.list_physical_devices('GPU')\n",
    "if gpus:\n",
    "    # Currently, memory growth needs to be the same across GPUs\n",
    "    for gpu in gpus:\n",
    "        tf.config.experimental.set_memory_growth(gpu, True)\n",
    "    tf.config.set_visible_devices(gpus[1:], 'GPU')"
   ]
  },
  {
   "cell_type": "markdown",
   "metadata": {},
   "source": [
    "Set seed"
   ]
  },
  {
   "cell_type": "code",
   "execution_count": 4,
   "metadata": {
    "execution": {
     "iopub.execute_input": "2022-03-11T13:19:25.99373Z",
     "iopub.status.busy": "2022-03-11T13:19:25.993435Z",
     "iopub.status.idle": "2022-03-11T13:19:26.016866Z",
     "shell.execute_reply": "2022-03-11T13:19:26.016121Z",
     "shell.execute_reply.started": "2022-03-11T13:19:25.993694Z"
    }
   },
   "outputs": [],
   "source": [
    "SEED = 0\n",
    "import random\n",
    "import numpy as np\n",
    "random.seed(SEED)\n",
    "np.random.seed(SEED)\n",
    "tf.random.set_seed(SEED)"
   ]
  },
  {
   "cell_type": "markdown",
   "metadata": {},
   "source": [
    "# Load data"
   ]
  },
  {
   "cell_type": "code",
   "execution_count": 5,
   "metadata": {
    "execution": {
     "iopub.execute_input": "2022-03-11T13:19:26.020522Z",
     "iopub.status.busy": "2022-03-11T13:19:26.019963Z",
     "iopub.status.idle": "2022-03-11T13:19:26.026099Z",
     "shell.execute_reply": "2022-03-11T13:19:26.025371Z",
     "shell.execute_reply.started": "2022-03-11T13:19:26.020483Z"
    }
   },
   "outputs": [],
   "source": [
    "import numpy as np\n",
    "import cv2"
   ]
  },
  {
   "cell_type": "code",
   "execution_count": 6,
   "metadata": {
    "execution": {
     "iopub.execute_input": "2022-03-11T13:19:26.029742Z",
     "iopub.status.busy": "2022-03-11T13:19:26.029354Z",
     "iopub.status.idle": "2022-03-11T13:19:26.044202Z",
     "shell.execute_reply": "2022-03-11T13:19:26.042228Z",
     "shell.execute_reply.started": "2022-03-11T13:19:26.029704Z"
    }
   },
   "outputs": [],
   "source": [
    "ORIGINAL_FRAMES_PER_VIDEO = 150\n",
    "FRAMES_PER_VIDEO = 50\n",
    "VIDEO_WIDTH, VIDEO_HEIGHT = 100, 100\n",
    "N_CHANNELS = 3\n",
    "\n",
    "def load_videos(video_IDs: list, video_labels: dict, video_frames: int = FRAMES_PER_VIDEO, video_width: int = VIDEO_WIDTH, video_height: int = VIDEO_HEIGHT,\n",
    "                video_channels: int = N_CHANNELS, dtype = np.float32, normalize: bool = False) -> tuple:\n",
    "    videos = np.empty((len(video_IDs), video_frames, video_height, video_width, video_channels), dtype=dtype)\n",
    "    labels = np.empty((len(video_IDs),), dtype=np.int8)\n",
    "\n",
    "    # Indexes of frames to be kept to comply with video_frames\n",
    "    frames_idx = set(np.round(np.linspace(0, ORIGINAL_FRAMES_PER_VIDEO - 1, video_frames)).astype(int))\n",
    "\n",
    "    for i, video_ID in enumerate(video_IDs):\n",
    "        cap = cv2.VideoCapture(video_ID)\n",
    "        frames = []\n",
    "        index = 0\n",
    "        while True:\n",
    "            ret, frame = cap.read()\n",
    "            if not ret:\n",
    "                break\n",
    "            if index in frames_idx:\n",
    "                frame = cv2.resize(frame, (video_width, video_height)).astype(dtype)\n",
    "                if normalize:\n",
    "                    frame /= 255.0\n",
    "                frames.append(frame)\n",
    "            index += 1\n",
    "        cap.release()\n",
    "\n",
    "        videos[i,] = np.array(frames)\n",
    "        labels[i] = video_labels[video_ID]\n",
    "\n",
    "    return videos, labels"
   ]
  },
  {
   "cell_type": "markdown",
   "metadata": {},
   "source": [
    "DataGenerator class to load videos per batch, in case all videos do not fit in memory"
   ]
  },
  {
   "cell_type": "code",
   "execution_count": 7,
   "metadata": {
    "execution": {
     "iopub.execute_input": "2022-03-11T13:19:26.045807Z",
     "iopub.status.busy": "2022-03-11T13:19:26.045605Z",
     "iopub.status.idle": "2022-03-11T13:19:26.059732Z",
     "shell.execute_reply": "2022-03-11T13:19:26.058897Z",
     "shell.execute_reply.started": "2022-03-11T13:19:26.045781Z"
    }
   },
   "outputs": [],
   "source": [
    "import gc\n",
    "from tensorflow.keras import backend as K\n",
    "\n",
    "class DataGenerator(tf.keras.utils.Sequence):\n",
    "    def __init__(self, video_IDs: list, video_labels: dict, batch_size: int, video_width: int = VIDEO_WIDTH, video_height: int = VIDEO_HEIGHT,\n",
    "                video_frames: int = FRAMES_PER_VIDEO, video_channels: int = N_CHANNELS, dtype = np.float32, normalize: bool = False, shuffle: bool = True):\n",
    "        self.video_IDs = video_IDs\n",
    "        self.video_labels = video_labels\n",
    "        self.batch_size = batch_size\n",
    "        self.video_width = video_width\n",
    "        self.video_height = video_height\n",
    "        self.video_frames = video_frames\n",
    "        self.video_channels = video_channels\n",
    "        self.dtype = dtype\n",
    "        self.normalize = normalize\n",
    "        self.shuffle = shuffle\n",
    "\n",
    "    def __len__(self):\n",
    "        return len(self.video_IDs) // self.batch_size\n",
    "\n",
    "    def __getitem__(self, idx):\n",
    "        bacth_IDs = self.video_IDs[idx*self.batch_size:(idx+1)*self.batch_size]\n",
    "\n",
    "        return load_videos(bacth_IDs, self.video_labels, self.video_frames, self.video_width, self.video_height, self.video_channels, self.dtype, self.normalize)\n",
    "    \n",
    "    def on_epoch_end(self):\n",
    "        'Updates indexes after each epoch'\n",
    "        if self.shuffle:\n",
    "            np.random.shuffle(self.video_IDs)\n",
    "        # Clear memory after epochs\n",
    "        gc.collect()\n",
    "        #K.clear_session()"
   ]
  },
  {
   "cell_type": "markdown",
   "metadata": {},
   "source": [
    "## Videos to load"
   ]
  },
  {
   "cell_type": "code",
   "execution_count": 8,
   "metadata": {
    "execution": {
     "iopub.execute_input": "2022-03-11T13:19:26.062131Z",
     "iopub.status.busy": "2022-03-11T13:19:26.06193Z",
     "iopub.status.idle": "2022-03-11T13:19:26.085657Z",
     "shell.execute_reply": "2022-03-11T13:19:26.084932Z",
     "shell.execute_reply.started": "2022-03-11T13:19:26.062105Z"
    }
   },
   "outputs": [],
   "source": [
    "import glob\n",
    "\n",
    "train_video_IDs = glob.glob(f\"{PATH}/train/*/*\")\n",
    "train_video_labels = {video: 0 if 'NonFight' in video else 1 for video in train_video_IDs}\n",
    "test_video_IDs = glob.glob(f\"{PATH}/val/*/*\")\n",
    "test_video_labels = {video: 0 if 'NonFight' in video else 1 for video in test_video_IDs}\n",
    "\n",
    "train_generator = DataGenerator(train_video_IDs, train_video_labels, batch_size=10)\n",
    "test_generator = DataGenerator(test_video_IDs, test_video_labels, batch_size=10)"
   ]
  },
  {
   "cell_type": "markdown",
   "metadata": {},
   "source": [
    "# ConvLSTM"
   ]
  },
  {
   "cell_type": "code",
   "execution_count": 9,
   "metadata": {
    "execution": {
     "iopub.execute_input": "2022-03-11T13:19:26.087766Z",
     "iopub.status.busy": "2022-03-11T13:19:26.087254Z",
     "iopub.status.idle": "2022-03-11T13:19:26.223842Z",
     "shell.execute_reply": "2022-03-11T13:19:26.223066Z",
     "shell.execute_reply.started": "2022-03-11T13:19:26.087727Z"
    }
   },
   "outputs": [
    {
     "name": "stderr",
     "output_type": "stream",
     "text": [
      "2022-05-14 11:59:05.868314: I tensorflow/core/platform/cpu_feature_guard.cc:151] This TensorFlow binary is optimized with oneAPI Deep Neural Network Library (oneDNN) to use the following CPU instructions in performance-critical operations:  AVX2 FMA\n",
      "To enable them in other operations, rebuild TensorFlow with the appropriate compiler flags.\n",
      "2022-05-14 11:59:06.077552: I tensorflow/stream_executor/cuda/cuda_gpu_executor.cc:936] successful NUMA node read from SysFS had negative value (-1), but there must be at least one NUMA node, so returning NUMA node zero\n",
      "2022-05-14 11:59:06.078582: I tensorflow/stream_executor/cuda/cuda_gpu_executor.cc:936] successful NUMA node read from SysFS had negative value (-1), but there must be at least one NUMA node, so returning NUMA node zero\n",
      "2022-05-14 11:59:06.079005: I tensorflow/stream_executor/cuda/cuda_gpu_executor.cc:936] successful NUMA node read from SysFS had negative value (-1), but there must be at least one NUMA node, so returning NUMA node zero\n",
      "2022-05-14 11:59:06.079984: I tensorflow/stream_executor/cuda/cuda_gpu_executor.cc:936] successful NUMA node read from SysFS had negative value (-1), but there must be at least one NUMA node, so returning NUMA node zero\n",
      "2022-05-14 11:59:06.080398: I tensorflow/stream_executor/cuda/cuda_gpu_executor.cc:936] successful NUMA node read from SysFS had negative value (-1), but there must be at least one NUMA node, so returning NUMA node zero\n",
      "2022-05-14 11:59:06.081389: I tensorflow/stream_executor/cuda/cuda_gpu_executor.cc:936] successful NUMA node read from SysFS had negative value (-1), but there must be at least one NUMA node, so returning NUMA node zero\n",
      "2022-05-14 11:59:06.824740: I tensorflow/stream_executor/cuda/cuda_gpu_executor.cc:936] successful NUMA node read from SysFS had negative value (-1), but there must be at least one NUMA node, so returning NUMA node zero\n",
      "2022-05-14 11:59:06.825812: I tensorflow/stream_executor/cuda/cuda_gpu_executor.cc:936] successful NUMA node read from SysFS had negative value (-1), but there must be at least one NUMA node, so returning NUMA node zero\n",
      "2022-05-14 11:59:06.826212: I tensorflow/stream_executor/cuda/cuda_gpu_executor.cc:936] successful NUMA node read from SysFS had negative value (-1), but there must be at least one NUMA node, so returning NUMA node zero\n",
      "2022-05-14 11:59:06.827177: I tensorflow/stream_executor/cuda/cuda_gpu_executor.cc:936] successful NUMA node read from SysFS had negative value (-1), but there must be at least one NUMA node, so returning NUMA node zero\n",
      "2022-05-14 11:59:06.827594: I tensorflow/stream_executor/cuda/cuda_gpu_executor.cc:936] successful NUMA node read from SysFS had negative value (-1), but there must be at least one NUMA node, so returning NUMA node zero\n",
      "2022-05-14 11:59:06.828578: I tensorflow/core/common_runtime/gpu/gpu_device.cc:1525] Created device /job:localhost/replica:0/task:0/device:GPU:0 with 25603 MB memory:  -> device: 1, name: NVIDIA A100 80GB PCIe, pci bus id: 0000:61:00.0, compute capability: 8.0\n",
      "2022-05-14 11:59:06.828891: I tensorflow/stream_executor/cuda/cuda_gpu_executor.cc:936] successful NUMA node read from SysFS had negative value (-1), but there must be at least one NUMA node, so returning NUMA node zero\n",
      "2022-05-14 11:59:06.829273: I tensorflow/core/common_runtime/gpu/gpu_device.cc:1525] Created device /job:localhost/replica:0/task:0/device:GPU:1 with 2009 MB memory:  -> device: 2, name: NVIDIA T1000, pci bus id: 0000:41:00.0, compute capability: 7.5\n"
     ]
    },
    {
     "name": "stdout",
     "output_type": "stream",
     "text": [
      "Model: \"model\"\n",
      "_________________________________________________________________\n",
      " Layer (type)                Output Shape              Param #   \n",
      "=================================================================\n",
      " input_1 (InputLayer)        [(None, 50, 100, 100, 3)  0         \n",
      "                             ]                                   \n",
      "                                                                 \n",
      " conv_lstm2d (ConvLSTM2D)    (None, 98, 98, 32)        40448     \n",
      "                                                                 \n",
      " depthwise_conv2d (Depthwise  (None, 96, 96, 64)       640       \n",
      " Conv2D)                                                         \n",
      "                                                                 \n",
      " global_average_pooling2d (G  (None, 64)               0         \n",
      " lobalAveragePooling2D)                                          \n",
      "                                                                 \n",
      " dense (Dense)               (None, 128)               8320      \n",
      "                                                                 \n",
      " dense_1 (Dense)             (None, 16)                2064      \n",
      "                                                                 \n",
      " dense_2 (Dense)             (None, 1)                 17        \n",
      "                                                                 \n",
      "=================================================================\n",
      "Total params: 51,489\n",
      "Trainable params: 51,489\n",
      "Non-trainable params: 0\n",
      "_________________________________________________________________\n"
     ]
    }
   ],
   "source": [
    "inputs = tf.keras.layers.Input(shape=(FRAMES_PER_VIDEO, VIDEO_HEIGHT, VIDEO_WIDTH, N_CHANNELS))\n",
    "\n",
    "x = tf.keras.layers.ConvLSTM2D(filters=32, kernel_size=(3, 3), return_sequences=False, data_format='channels_last', activation='tanh')(inputs)\n",
    "\n",
    "x = tf.keras.layers.DepthwiseConv2D(kernel_size=(3, 3), depth_multiplier=2, activation='relu', data_format='channels_last')(x)\n",
    "\n",
    "x = tf.keras.layers.GlobalAveragePooling2D(data_format='channels_last')(x)\n",
    "\n",
    "x = tf.keras.layers.Dense(units=128, activation='relu')(x)\n",
    "x = tf.keras.layers.Dense(units=16, activation='relu')(x)\n",
    "outputs = tf.keras.layers.Dense(units=1, activation='sigmoid')(x)\n",
    "\n",
    "model = tf.keras.Model(inputs, outputs)\n",
    "model.compile(optimizer='adam', loss='binary_crossentropy', metrics=['accuracy'])\n",
    "\n",
    "model.summary()"
   ]
  },
  {
   "cell_type": "code",
   "execution_count": 10,
   "metadata": {
    "execution": {
     "iopub.execute_input": "2022-03-11T13:19:26.225669Z",
     "iopub.status.busy": "2022-03-11T13:19:26.225387Z",
     "iopub.status.idle": "2022-03-11T14:02:30.18049Z",
     "shell.execute_reply": "2022-03-11T14:02:30.177368Z",
     "shell.execute_reply.started": "2022-03-11T13:19:26.225631Z"
    },
    "pycharm": {
     "is_executing": true
    }
   },
   "outputs": [
    {
     "name": "stdout",
     "output_type": "stream",
     "text": [
      "Epoch 1/30\n"
     ]
    },
    {
     "name": "stderr",
     "output_type": "stream",
     "text": [
      "2022-05-14 11:59:12.292534: I tensorflow/stream_executor/cuda/cuda_dnn.cc:368] Loaded cuDNN version 8303\n",
      "2022-05-14 11:59:13.495268: W tensorflow/stream_executor/gpu/asm_compiler.cc:111] *** WARNING *** You are using ptxas 10.1.243, which is older than 11.1. ptxas before 11.1 is known to miscompile XLA code, leading to incorrect results or invalid-address errors.\n",
      "\n",
      "You may not need to update to CUDA 11.1; cherry-picking the ptxas binary is often sufficient.\n",
      "2022-05-14 11:59:13.496993: W tensorflow/stream_executor/gpu/asm_compiler.cc:230] Falling back to the CUDA driver for PTX compilation; ptxas does not support CC 8.0\n",
      "2022-05-14 11:59:13.497020: W tensorflow/stream_executor/gpu/asm_compiler.cc:233] Used ptxas at ptxas\n",
      "2022-05-14 11:59:13.497139: W tensorflow/stream_executor/gpu/redzone_allocator.cc:314] UNIMPLEMENTED: ptxas ptxas too old. Falling back to the driver to compile.\n",
      "Relying on driver to perform ptx compilation. \n",
      "Modify $PATH to customize ptxas location.\n",
      "This message will be only logged once.\n",
      "2022-05-14 11:59:13.789011: I tensorflow/stream_executor/cuda/cuda_blas.cc:1786] TensorFloat-32 will be used for the matrix multiplication. This will only be logged once.\n"
     ]
    },
    {
     "name": "stdout",
     "output_type": "stream",
     "text": [
      "160/160 - 214s - loss: 0.6926 - accuracy: 0.5231 - val_loss: 0.6902 - val_accuracy: 0.5000 - 214s/epoch - 1s/step\n",
      "Epoch 2/30\n",
      "160/160 - 207s - loss: 0.6872 - accuracy: 0.5425 - val_loss: 0.6385 - val_accuracy: 0.7150 - 207s/epoch - 1s/step\n",
      "Epoch 3/30\n",
      "160/160 - 208s - loss: 0.5805 - accuracy: 0.7119 - val_loss: 0.5053 - val_accuracy: 0.7500 - 208s/epoch - 1s/step\n",
      "Epoch 4/30\n",
      "160/160 - 208s - loss: 0.5220 - accuracy: 0.7400 - val_loss: 0.4683 - val_accuracy: 0.7950 - 208s/epoch - 1s/step\n",
      "Epoch 5/30\n",
      "160/160 - 209s - loss: 0.5034 - accuracy: 0.7469 - val_loss: 0.4493 - val_accuracy: 0.8025 - 209s/epoch - 1s/step\n",
      "Epoch 6/30\n",
      "160/160 - 208s - loss: 0.4628 - accuracy: 0.7763 - val_loss: 0.4263 - val_accuracy: 0.7975 - 208s/epoch - 1s/step\n",
      "Epoch 7/30\n",
      "160/160 - 209s - loss: 0.4714 - accuracy: 0.7869 - val_loss: 0.4103 - val_accuracy: 0.8100 - 209s/epoch - 1s/step\n",
      "Epoch 8/30\n",
      "160/160 - 210s - loss: 0.4427 - accuracy: 0.7925 - val_loss: 0.3872 - val_accuracy: 0.8200 - 210s/epoch - 1s/step\n",
      "Epoch 9/30\n",
      "160/160 - 211s - loss: 0.4348 - accuracy: 0.8100 - val_loss: 0.4027 - val_accuracy: 0.8250 - 211s/epoch - 1s/step\n",
      "Epoch 10/30\n",
      "160/160 - 213s - loss: 0.4185 - accuracy: 0.8119 - val_loss: 0.4173 - val_accuracy: 0.8225 - 213s/epoch - 1s/step\n",
      "Epoch 11/30\n",
      "160/160 - 209s - loss: 0.4184 - accuracy: 0.8094 - val_loss: 0.3849 - val_accuracy: 0.8350 - 209s/epoch - 1s/step\n",
      "Epoch 12/30\n",
      "160/160 - 208s - loss: 0.4007 - accuracy: 0.8206 - val_loss: 0.3978 - val_accuracy: 0.8325 - 208s/epoch - 1s/step\n",
      "Epoch 13/30\n",
      "160/160 - 207s - loss: 0.3918 - accuracy: 0.8250 - val_loss: 0.3960 - val_accuracy: 0.8350 - 207s/epoch - 1s/step\n",
      "Epoch 14/30\n",
      "160/160 - 212s - loss: 0.3809 - accuracy: 0.8325 - val_loss: 0.3697 - val_accuracy: 0.8500 - 212s/epoch - 1s/step\n",
      "Epoch 15/30\n",
      "160/160 - 209s - loss: 0.3795 - accuracy: 0.8450 - val_loss: 0.3674 - val_accuracy: 0.8475 - 209s/epoch - 1s/step\n",
      "Epoch 16/30\n",
      "160/160 - 207s - loss: 0.3628 - accuracy: 0.8425 - val_loss: 0.3673 - val_accuracy: 0.8550 - 207s/epoch - 1s/step\n",
      "Epoch 17/30\n",
      "160/160 - 208s - loss: 0.3699 - accuracy: 0.8475 - val_loss: 0.3955 - val_accuracy: 0.8450 - 208s/epoch - 1s/step\n",
      "Epoch 18/30\n",
      "160/160 - 208s - loss: 0.3528 - accuracy: 0.8531 - val_loss: 0.4868 - val_accuracy: 0.7950 - 208s/epoch - 1s/step\n",
      "Epoch 19/30\n",
      "160/160 - 209s - loss: 0.3723 - accuracy: 0.8475 - val_loss: 0.3793 - val_accuracy: 0.8350 - 209s/epoch - 1s/step\n",
      "Epoch 20/30\n",
      "160/160 - 211s - loss: 0.3473 - accuracy: 0.8569 - val_loss: 0.3694 - val_accuracy: 0.8425 - 211s/epoch - 1s/step\n",
      "Epoch 21/30\n",
      "160/160 - 209s - loss: 0.3630 - accuracy: 0.8487 - val_loss: 0.4195 - val_accuracy: 0.8175 - 209s/epoch - 1s/step\n",
      "Epoch 22/30\n",
      "160/160 - 210s - loss: 0.3363 - accuracy: 0.8625 - val_loss: 0.3726 - val_accuracy: 0.8475 - 210s/epoch - 1s/step\n",
      "Epoch 23/30\n",
      "160/160 - 211s - loss: 0.3344 - accuracy: 0.8606 - val_loss: 0.3831 - val_accuracy: 0.8300 - 211s/epoch - 1s/step\n",
      "Epoch 24/30\n",
      "160/160 - 211s - loss: 0.3338 - accuracy: 0.8631 - val_loss: 0.3837 - val_accuracy: 0.8425 - 211s/epoch - 1s/step\n",
      "Epoch 25/30\n",
      "160/160 - 211s - loss: 0.3291 - accuracy: 0.8625 - val_loss: 0.3785 - val_accuracy: 0.8450 - 211s/epoch - 1s/step\n",
      "Epoch 26/30\n",
      "160/160 - 210s - loss: 0.3277 - accuracy: 0.8669 - val_loss: 0.3562 - val_accuracy: 0.8550 - 210s/epoch - 1s/step\n",
      "Epoch 27/30\n",
      "160/160 - 208s - loss: 0.3069 - accuracy: 0.8756 - val_loss: 0.3834 - val_accuracy: 0.8550 - 208s/epoch - 1s/step\n",
      "Epoch 28/30\n",
      "160/160 - 208s - loss: 0.3084 - accuracy: 0.8763 - val_loss: 0.3717 - val_accuracy: 0.8300 - 208s/epoch - 1s/step\n",
      "Epoch 29/30\n",
      "160/160 - 208s - loss: 0.3087 - accuracy: 0.8694 - val_loss: 0.3778 - val_accuracy: 0.8475 - 208s/epoch - 1s/step\n",
      "Epoch 30/30\n",
      "160/160 - 208s - loss: 0.3052 - accuracy: 0.8813 - val_loss: 0.3547 - val_accuracy: 0.8525 - 208s/epoch - 1s/step\n"
     ]
    }
   ],
   "source": [
    "history = model.fit(train_generator, epochs=30, validation_data=test_generator, verbose=2)"
   ]
  },
  {
   "cell_type": "markdown",
   "metadata": {},
   "source": [
    "# Model performance"
   ]
  },
  {
   "cell_type": "code",
   "execution_count": 11,
   "metadata": {
    "execution": {
     "iopub.status.busy": "2022-03-11T14:02:30.183078Z",
     "iopub.status.idle": "2022-03-11T14:02:30.185057Z",
     "shell.execute_reply": "2022-03-11T14:02:30.184854Z",
     "shell.execute_reply.started": "2022-03-11T14:02:30.184829Z"
    },
    "pycharm": {
     "is_executing": true
    }
   },
   "outputs": [
    {
     "data": {
      "image/png": "[encoded data removed]",
      "text/plain": [
       "<Figure size 432x288 with 1 Axes>"
      ]
     },
     "metadata": {
      "needs_background": "light"
     },
     "output_type": "display_data"
    },
    {
     "data": {
      "image/png": "[encoded data removed]",
      "text/plain": [
       "<Figure size 432x288 with 1 Axes>"
      ]
     },
     "metadata": {
      "needs_background": "light"
     },
     "output_type": "display_data"
    }
   ],
   "source": [
    "import matplotlib.pyplot as plt\n",
    "# summarize history for accuracy\n",
    "plt.plot(history.history['accuracy'])\n",
    "plt.plot(history.history['val_accuracy'])\n",
    "plt.title('model accuracy')\n",
    "plt.ylabel('accuracy')\n",
    "plt.xlabel('epoch')\n",
    "plt.legend(['train', 'test'], loc='upper left')\n",
    "plt.show()\n",
    "# summarize history for loss\n",
    "plt.plot(history.history['loss'])\n",
    "plt.plot(history.history['val_loss'])\n",
    "plt.title('model loss')\n",
    "plt.ylabel('loss')\n",
    "plt.xlabel('epoch')\n",
    "plt.legend(['train', 'test'], loc='upper left')\n",
    "plt.show()"
   ]
  },
  {
   "cell_type": "markdown",
   "metadata": {},
   "source": [
    "# Save perfomance metrics"
   ]
  },
  {
   "cell_type": "code",
   "execution_count": 12,
   "metadata": {},
   "outputs": [],
   "source": [
    "import os\n",
    "import ipynbname\n",
    "import json\n",
    "from keras.utils.layer_utils import count_params\n",
    "\n",
    "current_directory = os.getcwd() + '/'\n",
    "results_directory = current_directory.replace('notebooks', 'results_summary')\n",
    "\n",
    "experiment_name = ipynbname.name()\n",
    "\n",
    "# Save history as json\n",
    "with open(results_directory + experiment_name + '.json', 'w') as f:\n",
    "    json.dump(history.history, f)\n",
    "    \n",
    "# Compute max val_accuracy and number of trainable params and append to stats\n",
    "max_val_acc = max(history.history['val_accuracy'])\n",
    "trainable_params = count_params(model.trainable_weights)\n",
    "\n",
    "# Store value in latex table format\n",
    "acc_string = f'{experiment_name} & {max_val_acc:.2%}'.replace('%', '\\%')\n",
    "acc_params_string = acc_string + f' & {trainable_params}'\n",
    "\n",
    "with open(results_directory + 'acc.dat', 'a') as f:\n",
    "    f.write(acc_string + ' \\\\\\ \\n')\n",
    "    \n",
    "with open(results_directory + 'acc_params.dat', 'a') as f:\n",
    "    f.write(acc_params_string + ' \\\\\\ \\n')"
   ]
  }
 ],
 "metadata": {
  "kernelspec": {
   "display_name": "tfg-info-env",
   "language": "python",
   "name": "tfg-info-env"
  },
  "language_info": {
   "codemirror_mode": {
    "name": "ipython",
    "version": 3
   },
   "file_extension": ".py",
   "mimetype": "text/x-python",
   "name": "python",
   "nbconvert_exporter": "python",
   "pygments_lexer": "ipython3",
   "version": "3.9.7"
  }
 },
 "nbformat": 4,
 "nbformat_minor": 4
}
